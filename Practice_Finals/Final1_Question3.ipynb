{
 "cells": [
  {
   "cell_type": "code",
   "execution_count": 1,
   "metadata": {},
   "outputs": [],
   "source": [
    "from gurobipy import GRB\n",
    "import gurobipy as gb\n",
    "import pandas as pd\n",
    "import numpy as np"
   ]
  },
  {
   "cell_type": "code",
   "execution_count": 2,
   "metadata": {},
   "outputs": [
    {
     "name": "stdout",
     "output_type": "stream",
     "text": [
      "Set parameter Username\n",
      "Academic license - for non-commercial use only - expires 2025-01-15\n"
     ]
    }
   ],
   "source": [
    "# Create the optimization model\n",
    "question_3_model = gb.Model(\"Question 1: Tree Program\")"
   ]
  },
  {
   "cell_type": "code",
   "execution_count": 3,
   "metadata": {},
   "outputs": [],
   "source": [
    "means_df = pd.read_csv(r\"C:\\Users\\gabri\\Downloads\\Means.csv\")\n",
    "covariance_df = pd.read_csv(r\"C:\\Users\\gabri\\Downloads\\Covariances.csv\", index_col=0)"
   ]
  },
  {
   "cell_type": "code",
   "execution_count": 4,
   "metadata": {},
   "outputs": [
    {
     "data": {
      "text/html": [
       "<div>\n",
       "<style scoped>\n",
       "    .dataframe tbody tr th:only-of-type {\n",
       "        vertical-align: middle;\n",
       "    }\n",
       "\n",
       "    .dataframe tbody tr th {\n",
       "        vertical-align: top;\n",
       "    }\n",
       "\n",
       "    .dataframe thead th {\n",
       "        text-align: right;\n",
       "    }\n",
       "</style>\n",
       "<table border=\"1\" class=\"dataframe\">\n",
       "  <thead>\n",
       "    <tr style=\"text-align: right;\">\n",
       "      <th></th>\n",
       "      <th>Stocks</th>\n",
       "      <th>Returns</th>\n",
       "    </tr>\n",
       "  </thead>\n",
       "  <tbody>\n",
       "    <tr>\n",
       "      <th>0</th>\n",
       "      <td>A2M</td>\n",
       "      <td>0.066438</td>\n",
       "    </tr>\n",
       "    <tr>\n",
       "      <th>1</th>\n",
       "      <td>AGL</td>\n",
       "      <td>-0.018699</td>\n",
       "    </tr>\n",
       "    <tr>\n",
       "      <th>2</th>\n",
       "      <td>ALL</td>\n",
       "      <td>0.012841</td>\n",
       "    </tr>\n",
       "    <tr>\n",
       "      <th>3</th>\n",
       "      <td>ALQ</td>\n",
       "      <td>-0.009821</td>\n",
       "    </tr>\n",
       "    <tr>\n",
       "      <th>4</th>\n",
       "      <td>ALU</td>\n",
       "      <td>0.044228</td>\n",
       "    </tr>\n",
       "    <tr>\n",
       "      <th>...</th>\n",
       "      <td>...</td>\n",
       "      <td>...</td>\n",
       "    </tr>\n",
       "    <tr>\n",
       "      <th>95</th>\n",
       "      <td>WOR</td>\n",
       "      <td>-0.057237</td>\n",
       "    </tr>\n",
       "    <tr>\n",
       "      <th>96</th>\n",
       "      <td>WOW</td>\n",
       "      <td>0.030355</td>\n",
       "    </tr>\n",
       "    <tr>\n",
       "      <th>97</th>\n",
       "      <td>WPL</td>\n",
       "      <td>-0.058911</td>\n",
       "    </tr>\n",
       "    <tr>\n",
       "      <th>98</th>\n",
       "      <td>WTC</td>\n",
       "      <td>0.019536</td>\n",
       "    </tr>\n",
       "    <tr>\n",
       "      <th>99</th>\n",
       "      <td>XRO</td>\n",
       "      <td>0.069312</td>\n",
       "    </tr>\n",
       "  </tbody>\n",
       "</table>\n",
       "<p>100 rows × 2 columns</p>\n",
       "</div>"
      ],
      "text/plain": [
       "   Stocks   Returns\n",
       "0     A2M  0.066438\n",
       "1     AGL -0.018699\n",
       "2     ALL  0.012841\n",
       "3     ALQ -0.009821\n",
       "4     ALU  0.044228\n",
       "..    ...       ...\n",
       "95    WOR -0.057237\n",
       "96    WOW  0.030355\n",
       "97    WPL -0.058911\n",
       "98    WTC  0.019536\n",
       "99    XRO  0.069312\n",
       "\n",
       "[100 rows x 2 columns]"
      ]
     },
     "execution_count": 4,
     "metadata": {},
     "output_type": "execute_result"
    }
   ],
   "source": [
    "means_df"
   ]
  },
  {
   "cell_type": "code",
   "execution_count": 5,
   "metadata": {},
   "outputs": [],
   "source": [
    "m = means_df['Returns'].values"
   ]
  },
  {
   "cell_type": "code",
   "execution_count": 6,
   "metadata": {},
   "outputs": [
    {
     "data": {
      "text/plain": [
       "array([ 0.06643759, -0.01869864,  0.01284085, -0.00982134,  0.04422764,\n",
       "       -0.00213081,  0.00835844, -0.06447371,  0.01935866, -0.04165944,\n",
       "        0.02038486,  0.12337145,  0.01986451,  0.03070179, -0.02866642,\n",
       "        0.01925893, -0.05186182, -0.00130632, -0.07952512, -0.07039353,\n",
       "       -0.00937933, -0.02277838,  0.01345796,  0.02459195, -0.01283913,\n",
       "        0.00852561, -0.07536683, -0.00029726, -0.06923383,  0.00707476,\n",
       "        0.04405371, -0.062886  ,  0.05555431, -0.00149424, -0.04064443,\n",
       "        0.01606242,  0.03720774, -0.08259068, -0.01248083,  0.01538557,\n",
       "       -0.0326215 , -0.13017466,  0.14103165,  0.10498104,  0.01357185,\n",
       "       -0.03360361, -0.04122691,  0.01229761, -0.01135473,  0.05148132,\n",
       "        0.00490477, -0.0579058 ,  0.04033114,  0.03088468,  0.00163557,\n",
       "        0.08856627, -0.00025828,  0.01603317, -0.02366805, -0.04259911,\n",
       "        0.01826203,  0.03367747, -0.0347282 , -0.00080773, -0.11069387,\n",
       "       -0.04159582, -0.00931234, -0.0043509 ,  0.008758  , -0.00193634,\n",
       "        0.02905145,  0.05531605, -0.06415304,  0.03689303, -0.09023542,\n",
       "       -0.00747933, -0.02869447, -0.06333128,  0.01672359, -0.00628205,\n",
       "       -0.03229708,  0.01204429, -0.03348201, -0.03512745,  0.00034657,\n",
       "        0.00600086, -0.05642109,  0.01467453,  0.01382029,  0.01289533,\n",
       "       -0.0313435 , -0.09580539, -0.02930305, -0.04992983,  0.0125325 ,\n",
       "       -0.05723744,  0.0303555 , -0.05891071,  0.01953585,  0.06931243])"
      ]
     },
     "execution_count": 6,
     "metadata": {},
     "output_type": "execute_result"
    }
   ],
   "source": [
    "m"
   ]
  },
  {
   "cell_type": "code",
   "execution_count": 7,
   "metadata": {},
   "outputs": [
    {
     "data": {
      "text/html": [
       "<div>\n",
       "<style scoped>\n",
       "    .dataframe tbody tr th:only-of-type {\n",
       "        vertical-align: middle;\n",
       "    }\n",
       "\n",
       "    .dataframe tbody tr th {\n",
       "        vertical-align: top;\n",
       "    }\n",
       "\n",
       "    .dataframe thead th {\n",
       "        text-align: right;\n",
       "    }\n",
       "</style>\n",
       "<table border=\"1\" class=\"dataframe\">\n",
       "  <thead>\n",
       "    <tr style=\"text-align: right;\">\n",
       "      <th></th>\n",
       "      <th>A2M</th>\n",
       "      <th>AGL</th>\n",
       "      <th>ALL</th>\n",
       "      <th>ALQ</th>\n",
       "      <th>ALU</th>\n",
       "      <th>ALX</th>\n",
       "      <th>AMC</th>\n",
       "      <th>AMP</th>\n",
       "      <th>ANN</th>\n",
       "      <th>ANZ</th>\n",
       "      <th>...</th>\n",
       "      <th>TWE</th>\n",
       "      <th>VCX</th>\n",
       "      <th>VEA</th>\n",
       "      <th>WBC</th>\n",
       "      <th>WES</th>\n",
       "      <th>WOR</th>\n",
       "      <th>WOW</th>\n",
       "      <th>WPL</th>\n",
       "      <th>WTC</th>\n",
       "      <th>XRO</th>\n",
       "    </tr>\n",
       "  </thead>\n",
       "  <tbody>\n",
       "    <tr>\n",
       "      <th>A2M</th>\n",
       "      <td>0.002535</td>\n",
       "      <td>0.000047</td>\n",
       "      <td>0.000333</td>\n",
       "      <td>0.000471</td>\n",
       "      <td>0.001126</td>\n",
       "      <td>0.000178</td>\n",
       "      <td>0.000356</td>\n",
       "      <td>0.000371</td>\n",
       "      <td>0.000061</td>\n",
       "      <td>0.000104</td>\n",
       "      <td>...</td>\n",
       "      <td>0.000712</td>\n",
       "      <td>0.000111</td>\n",
       "      <td>0.000340</td>\n",
       "      <td>-0.000003</td>\n",
       "      <td>0.000138</td>\n",
       "      <td>0.000119</td>\n",
       "      <td>0.000235</td>\n",
       "      <td>0.000128</td>\n",
       "      <td>-0.000373</td>\n",
       "      <td>0.000278</td>\n",
       "    </tr>\n",
       "    <tr>\n",
       "      <th>AGL</th>\n",
       "      <td>0.000047</td>\n",
       "      <td>0.000859</td>\n",
       "      <td>0.000511</td>\n",
       "      <td>0.000825</td>\n",
       "      <td>0.000458</td>\n",
       "      <td>0.000647</td>\n",
       "      <td>0.000352</td>\n",
       "      <td>0.000455</td>\n",
       "      <td>0.000389</td>\n",
       "      <td>0.000548</td>\n",
       "      <td>...</td>\n",
       "      <td>0.000277</td>\n",
       "      <td>0.000903</td>\n",
       "      <td>0.000395</td>\n",
       "      <td>0.000517</td>\n",
       "      <td>0.000469</td>\n",
       "      <td>0.000957</td>\n",
       "      <td>0.000308</td>\n",
       "      <td>0.000773</td>\n",
       "      <td>0.000568</td>\n",
       "      <td>0.000469</td>\n",
       "    </tr>\n",
       "    <tr>\n",
       "      <th>ALL</th>\n",
       "      <td>0.000333</td>\n",
       "      <td>0.000511</td>\n",
       "      <td>0.003992</td>\n",
       "      <td>0.001779</td>\n",
       "      <td>0.001167</td>\n",
       "      <td>0.001545</td>\n",
       "      <td>0.000354</td>\n",
       "      <td>0.001108</td>\n",
       "      <td>0.001634</td>\n",
       "      <td>0.001652</td>\n",
       "      <td>...</td>\n",
       "      <td>0.000346</td>\n",
       "      <td>0.002292</td>\n",
       "      <td>0.001387</td>\n",
       "      <td>0.001337</td>\n",
       "      <td>0.001100</td>\n",
       "      <td>0.003276</td>\n",
       "      <td>0.000048</td>\n",
       "      <td>0.002452</td>\n",
       "      <td>0.002184</td>\n",
       "      <td>0.001891</td>\n",
       "    </tr>\n",
       "    <tr>\n",
       "      <th>ALQ</th>\n",
       "      <td>0.000471</td>\n",
       "      <td>0.000825</td>\n",
       "      <td>0.001779</td>\n",
       "      <td>0.002427</td>\n",
       "      <td>0.001438</td>\n",
       "      <td>0.001337</td>\n",
       "      <td>0.000876</td>\n",
       "      <td>0.001191</td>\n",
       "      <td>0.000973</td>\n",
       "      <td>0.001145</td>\n",
       "      <td>...</td>\n",
       "      <td>0.000682</td>\n",
       "      <td>0.001629</td>\n",
       "      <td>0.001054</td>\n",
       "      <td>0.000922</td>\n",
       "      <td>0.000773</td>\n",
       "      <td>0.002441</td>\n",
       "      <td>0.000558</td>\n",
       "      <td>0.001906</td>\n",
       "      <td>0.001309</td>\n",
       "      <td>0.001177</td>\n",
       "    </tr>\n",
       "    <tr>\n",
       "      <th>ALU</th>\n",
       "      <td>0.001126</td>\n",
       "      <td>0.000458</td>\n",
       "      <td>0.001167</td>\n",
       "      <td>0.001438</td>\n",
       "      <td>0.003722</td>\n",
       "      <td>0.001045</td>\n",
       "      <td>0.000627</td>\n",
       "      <td>0.000603</td>\n",
       "      <td>0.000869</td>\n",
       "      <td>0.000854</td>\n",
       "      <td>...</td>\n",
       "      <td>0.000639</td>\n",
       "      <td>0.000916</td>\n",
       "      <td>0.000613</td>\n",
       "      <td>0.000623</td>\n",
       "      <td>0.000804</td>\n",
       "      <td>0.001366</td>\n",
       "      <td>0.000458</td>\n",
       "      <td>0.001235</td>\n",
       "      <td>0.002530</td>\n",
       "      <td>0.001009</td>\n",
       "    </tr>\n",
       "    <tr>\n",
       "      <th>...</th>\n",
       "      <td>...</td>\n",
       "      <td>...</td>\n",
       "      <td>...</td>\n",
       "      <td>...</td>\n",
       "      <td>...</td>\n",
       "      <td>...</td>\n",
       "      <td>...</td>\n",
       "      <td>...</td>\n",
       "      <td>...</td>\n",
       "      <td>...</td>\n",
       "      <td>...</td>\n",
       "      <td>...</td>\n",
       "      <td>...</td>\n",
       "      <td>...</td>\n",
       "      <td>...</td>\n",
       "      <td>...</td>\n",
       "      <td>...</td>\n",
       "      <td>...</td>\n",
       "      <td>...</td>\n",
       "      <td>...</td>\n",
       "      <td>...</td>\n",
       "    </tr>\n",
       "    <tr>\n",
       "      <th>WOR</th>\n",
       "      <td>0.000119</td>\n",
       "      <td>0.000957</td>\n",
       "      <td>0.003276</td>\n",
       "      <td>0.002441</td>\n",
       "      <td>0.001366</td>\n",
       "      <td>0.001810</td>\n",
       "      <td>0.000524</td>\n",
       "      <td>0.001459</td>\n",
       "      <td>0.001770</td>\n",
       "      <td>0.001673</td>\n",
       "      <td>...</td>\n",
       "      <td>0.001123</td>\n",
       "      <td>0.002961</td>\n",
       "      <td>0.002069</td>\n",
       "      <td>0.001429</td>\n",
       "      <td>0.001139</td>\n",
       "      <td>0.005151</td>\n",
       "      <td>0.000404</td>\n",
       "      <td>0.003046</td>\n",
       "      <td>0.002498</td>\n",
       "      <td>0.002273</td>\n",
       "    </tr>\n",
       "    <tr>\n",
       "      <th>WOW</th>\n",
       "      <td>0.000235</td>\n",
       "      <td>0.000308</td>\n",
       "      <td>0.000048</td>\n",
       "      <td>0.000558</td>\n",
       "      <td>0.000458</td>\n",
       "      <td>0.000362</td>\n",
       "      <td>0.000252</td>\n",
       "      <td>0.000433</td>\n",
       "      <td>0.000225</td>\n",
       "      <td>0.000335</td>\n",
       "      <td>...</td>\n",
       "      <td>0.000610</td>\n",
       "      <td>0.000609</td>\n",
       "      <td>0.000276</td>\n",
       "      <td>0.000373</td>\n",
       "      <td>0.000400</td>\n",
       "      <td>0.000404</td>\n",
       "      <td>0.000845</td>\n",
       "      <td>0.000432</td>\n",
       "      <td>0.000821</td>\n",
       "      <td>0.000534</td>\n",
       "    </tr>\n",
       "    <tr>\n",
       "      <th>WPL</th>\n",
       "      <td>0.000128</td>\n",
       "      <td>0.000773</td>\n",
       "      <td>0.002452</td>\n",
       "      <td>0.001906</td>\n",
       "      <td>0.001235</td>\n",
       "      <td>0.001494</td>\n",
       "      <td>0.000828</td>\n",
       "      <td>0.001381</td>\n",
       "      <td>0.001204</td>\n",
       "      <td>0.001379</td>\n",
       "      <td>...</td>\n",
       "      <td>0.000673</td>\n",
       "      <td>0.001997</td>\n",
       "      <td>0.001247</td>\n",
       "      <td>0.001173</td>\n",
       "      <td>0.000971</td>\n",
       "      <td>0.003046</td>\n",
       "      <td>0.000432</td>\n",
       "      <td>0.002523</td>\n",
       "      <td>0.001854</td>\n",
       "      <td>0.001560</td>\n",
       "    </tr>\n",
       "    <tr>\n",
       "      <th>WTC</th>\n",
       "      <td>-0.000373</td>\n",
       "      <td>0.000568</td>\n",
       "      <td>0.002184</td>\n",
       "      <td>0.001309</td>\n",
       "      <td>0.002530</td>\n",
       "      <td>0.001387</td>\n",
       "      <td>0.000453</td>\n",
       "      <td>-0.000508</td>\n",
       "      <td>0.001295</td>\n",
       "      <td>0.000643</td>\n",
       "      <td>...</td>\n",
       "      <td>0.001120</td>\n",
       "      <td>0.001541</td>\n",
       "      <td>0.000535</td>\n",
       "      <td>0.000627</td>\n",
       "      <td>0.000745</td>\n",
       "      <td>0.002498</td>\n",
       "      <td>0.000821</td>\n",
       "      <td>0.001854</td>\n",
       "      <td>0.008444</td>\n",
       "      <td>0.002213</td>\n",
       "    </tr>\n",
       "    <tr>\n",
       "      <th>XRO</th>\n",
       "      <td>0.000278</td>\n",
       "      <td>0.000469</td>\n",
       "      <td>0.001891</td>\n",
       "      <td>0.001177</td>\n",
       "      <td>0.001009</td>\n",
       "      <td>0.000824</td>\n",
       "      <td>-0.000094</td>\n",
       "      <td>0.000785</td>\n",
       "      <td>0.001043</td>\n",
       "      <td>0.000626</td>\n",
       "      <td>...</td>\n",
       "      <td>0.000609</td>\n",
       "      <td>0.001486</td>\n",
       "      <td>0.001115</td>\n",
       "      <td>0.000470</td>\n",
       "      <td>0.000853</td>\n",
       "      <td>0.002273</td>\n",
       "      <td>0.000534</td>\n",
       "      <td>0.001560</td>\n",
       "      <td>0.002213</td>\n",
       "      <td>0.002553</td>\n",
       "    </tr>\n",
       "  </tbody>\n",
       "</table>\n",
       "<p>100 rows × 100 columns</p>\n",
       "</div>"
      ],
      "text/plain": [
       "          A2M       AGL       ALL       ALQ       ALU       ALX       AMC   \n",
       "A2M  0.002535  0.000047  0.000333  0.000471  0.001126  0.000178  0.000356  \\\n",
       "AGL  0.000047  0.000859  0.000511  0.000825  0.000458  0.000647  0.000352   \n",
       "ALL  0.000333  0.000511  0.003992  0.001779  0.001167  0.001545  0.000354   \n",
       "ALQ  0.000471  0.000825  0.001779  0.002427  0.001438  0.001337  0.000876   \n",
       "ALU  0.001126  0.000458  0.001167  0.001438  0.003722  0.001045  0.000627   \n",
       "..        ...       ...       ...       ...       ...       ...       ...   \n",
       "WOR  0.000119  0.000957  0.003276  0.002441  0.001366  0.001810  0.000524   \n",
       "WOW  0.000235  0.000308  0.000048  0.000558  0.000458  0.000362  0.000252   \n",
       "WPL  0.000128  0.000773  0.002452  0.001906  0.001235  0.001494  0.000828   \n",
       "WTC -0.000373  0.000568  0.002184  0.001309  0.002530  0.001387  0.000453   \n",
       "XRO  0.000278  0.000469  0.001891  0.001177  0.001009  0.000824 -0.000094   \n",
       "\n",
       "          AMP       ANN       ANZ  ...       TWE       VCX       VEA   \n",
       "A2M  0.000371  0.000061  0.000104  ...  0.000712  0.000111  0.000340  \\\n",
       "AGL  0.000455  0.000389  0.000548  ...  0.000277  0.000903  0.000395   \n",
       "ALL  0.001108  0.001634  0.001652  ...  0.000346  0.002292  0.001387   \n",
       "ALQ  0.001191  0.000973  0.001145  ...  0.000682  0.001629  0.001054   \n",
       "ALU  0.000603  0.000869  0.000854  ...  0.000639  0.000916  0.000613   \n",
       "..        ...       ...       ...  ...       ...       ...       ...   \n",
       "WOR  0.001459  0.001770  0.001673  ...  0.001123  0.002961  0.002069   \n",
       "WOW  0.000433  0.000225  0.000335  ...  0.000610  0.000609  0.000276   \n",
       "WPL  0.001381  0.001204  0.001379  ...  0.000673  0.001997  0.001247   \n",
       "WTC -0.000508  0.001295  0.000643  ...  0.001120  0.001541  0.000535   \n",
       "XRO  0.000785  0.001043  0.000626  ...  0.000609  0.001486  0.001115   \n",
       "\n",
       "          WBC       WES       WOR       WOW       WPL       WTC       XRO  \n",
       "A2M -0.000003  0.000138  0.000119  0.000235  0.000128 -0.000373  0.000278  \n",
       "AGL  0.000517  0.000469  0.000957  0.000308  0.000773  0.000568  0.000469  \n",
       "ALL  0.001337  0.001100  0.003276  0.000048  0.002452  0.002184  0.001891  \n",
       "ALQ  0.000922  0.000773  0.002441  0.000558  0.001906  0.001309  0.001177  \n",
       "ALU  0.000623  0.000804  0.001366  0.000458  0.001235  0.002530  0.001009  \n",
       "..        ...       ...       ...       ...       ...       ...       ...  \n",
       "WOR  0.001429  0.001139  0.005151  0.000404  0.003046  0.002498  0.002273  \n",
       "WOW  0.000373  0.000400  0.000404  0.000845  0.000432  0.000821  0.000534  \n",
       "WPL  0.001173  0.000971  0.003046  0.000432  0.002523  0.001854  0.001560  \n",
       "WTC  0.000627  0.000745  0.002498  0.000821  0.001854  0.008444  0.002213  \n",
       "XRO  0.000470  0.000853  0.002273  0.000534  0.001560  0.002213  0.002553  \n",
       "\n",
       "[100 rows x 100 columns]"
      ]
     },
     "execution_count": 7,
     "metadata": {},
     "output_type": "execute_result"
    }
   ],
   "source": [
    "covariance_df"
   ]
  },
  {
   "cell_type": "code",
   "execution_count": 8,
   "metadata": {},
   "outputs": [],
   "source": [
    "x = question_3_model.addVars(100, lb=0, vtype=GRB.CONTINUOUS, name=\"Assets\")\n",
    "question_3_model.setObjective(gb.quicksum(covariance_df.iloc[i,j]*x[i]*x[j] for i in range(100) for j in range(100)), GRB.MINIMIZE)"
   ]
  },
  {
   "cell_type": "code",
   "execution_count": 9,
   "metadata": {},
   "outputs": [
    {
     "data": {
      "text/plain": [
       "<gurobi.Constr *Awaiting Model Update*>"
      ]
     },
     "execution_count": 9,
     "metadata": {},
     "output_type": "execute_result"
    }
   ],
   "source": [
    "question_3_model.addConstr(gb.quicksum(m[i]*x[i] for i in range(100)) >= 0.08, \"Expected Return Constraint\")"
   ]
  },
  {
   "cell_type": "code",
   "execution_count": 10,
   "metadata": {},
   "outputs": [
    {
     "data": {
      "text/plain": [
       "<gurobi.Constr *Awaiting Model Update*>"
      ]
     },
     "execution_count": 10,
     "metadata": {},
     "output_type": "execute_result"
    }
   ],
   "source": [
    "question_3_model.addConstr(gb.quicksum(x[i] for i in range(10)) - gb.quicksum(x[i] for i in range(90,100)) <= 0.005, \"Difference Constraint 1\")\n",
    "question_3_model.addConstr(gb.quicksum(x[i] for i in range(90,100)) - gb.quicksum(x[i] for i in range(10)) <= 0.005, \"Difference Constraint 2\")"
   ]
  },
  {
   "cell_type": "code",
   "execution_count": 11,
   "metadata": {},
   "outputs": [
    {
     "data": {
      "text/plain": [
       "<gurobi.Constr *Awaiting Model Update*>"
      ]
     },
     "execution_count": 11,
     "metadata": {},
     "output_type": "execute_result"
    }
   ],
   "source": [
    "question_3_model.addConstr(gb.quicksum(x[i] for i in range(10,30)) >= 2 * (gb.quicksum(x[i] for i in range(70,90))), \"Double Constraint\")"
   ]
  },
  {
   "cell_type": "code",
   "execution_count": 12,
   "metadata": {},
   "outputs": [
    {
     "data": {
      "text/plain": [
       "<gurobi.Constr *Awaiting Model Update*>"
      ]
     },
     "execution_count": 12,
     "metadata": {},
     "output_type": "execute_result"
    }
   ],
   "source": [
    "question_3_model.addConstr(gb.quicksum(x[i] for i in range(40,60)) <= 0.65 * (gb.quicksum(x[i] for i in range(100))), \"65% Constraint\")"
   ]
  },
  {
   "cell_type": "code",
   "execution_count": 13,
   "metadata": {},
   "outputs": [
    {
     "data": {
      "text/plain": [
       "<gurobi.Constr *Awaiting Model Update*>"
      ]
     },
     "execution_count": 13,
     "metadata": {},
     "output_type": "execute_result"
    }
   ],
   "source": [
    "question_3_model.addConstr(gb.quicksum(x[i] for i in range(60,70)) >= 0.10 * (gb.quicksum(x[i] for i in range(100))), \"10% Constraint\")"
   ]
  },
  {
   "cell_type": "code",
   "execution_count": 14,
   "metadata": {},
   "outputs": [
    {
     "data": {
      "text/plain": [
       "<gurobi.Constr *Awaiting Model Update*>"
      ]
     },
     "execution_count": 14,
     "metadata": {},
     "output_type": "execute_result"
    }
   ],
   "source": [
    "question_3_model.addConstr(gb.quicksum(x[i] for i in range(100)) == 1, \"Adding to 100% Constraint\")"
   ]
  },
  {
   "cell_type": "code",
   "execution_count": 15,
   "metadata": {},
   "outputs": [
    {
     "name": "stdout",
     "output_type": "stream",
     "text": [
      "Gurobi Optimizer version 11.0.0 build v11.0.0rc2 (win64 - Windows 11+.0 (22631.2))\n",
      "\n",
      "CPU model: Intel(R) Core(TM) i7-8750H CPU @ 2.20GHz, instruction set [SSE2|AVX|AVX2]\n",
      "Thread count: 6 physical cores, 12 logical processors, using up to 12 threads\n",
      "\n",
      "Optimize a model with 7 rows, 100 columns and 480 nonzeros\n",
      "Model fingerprint: 0xf038f613\n",
      "Model has 5050 quadratic objective terms\n",
      "Coefficient statistics:\n",
      "  Matrix range     [3e-04, 2e+00]\n",
      "  Objective range  [0e+00, 0e+00]\n",
      "  QObjective range [2e-06, 3e-02]\n",
      "  Bounds range     [0e+00, 0e+00]\n",
      "  RHS range        [5e-03, 1e+00]\n",
      "Presolve removed 1 rows and 0 columns\n",
      "Presolve time: 0.05s\n",
      "Presolved: 6 rows, 101 columns, 461 nonzeros\n",
      "Presolved model has 5050 quadratic objective terms\n",
      "Ordering time: 0.00s\n",
      "\n",
      "Barrier statistics:\n",
      " Free vars  : 63\n",
      " AA' NZ     : 2.345e+03\n",
      " Factor NZ  : 2.415e+03\n",
      " Factor Ops : 1.119e+05 (less than 1 second per iteration)\n",
      " Threads    : 1\n",
      "\n",
      "                  Objective                Residual\n",
      "Iter       Primal          Dual         Primal    Dual     Compl     Time\n",
      "   0   6.00524157e-14 -3.90625000e-02  1.00e+05 4.04e-06  1.00e+06     0s\n",
      "   1   1.49554493e+02 -1.53200075e+02  4.60e+03 1.86e-07  4.75e+04     0s\n",
      "   2   3.97883100e-01 -4.28920722e+00  2.82e+01 1.14e-09  3.04e+02     0s\n",
      "   3   4.26628653e-03 -3.49793549e+00  5.89e-01 2.38e-11  1.43e+01     0s\n",
      "   4   5.57083327e-03 -1.28715078e+00  2.92e-02 1.18e-12  3.35e+00     0s\n",
      "   5   2.95635157e-03 -2.15956090e-01  2.92e-08 4.26e-14  5.29e-01     0s\n",
      "   6   2.36972871e-03 -2.88010104e-03  2.48e-10 7.99e-15  1.27e-02     0s\n",
      "   7   9.06476774e-04 -1.30476378e-03  1.33e-15 1.33e-15  5.34e-03     0s\n",
      "   8   4.95488255e-04 -7.50860940e-05  2.14e-14 1.44e-15  1.38e-03     0s\n",
      "   9   4.02694034e-04  2.96649295e-04  8.85e-15 2.22e-16  2.56e-04     0s\n",
      "  10   3.59845801e-04  3.01510330e-04  1.64e-14 1.11e-16  1.41e-04     0s\n",
      "  11   3.42042513e-04  3.35257285e-04  6.53e-14 6.94e-17  1.64e-05     0s\n",
      "  12   3.38132483e-04  3.37118258e-04  1.87e-14 1.39e-16  2.45e-06     0s\n",
      "  13   3.37323413e-04  3.37320447e-04  1.05e-13 1.67e-16  7.16e-09     0s\n",
      "\n",
      "Barrier solved model in 13 iterations and 0.14 seconds (0.01 work units)\n",
      "Optimal objective 3.37323413e-04\n",
      "\n"
     ]
    }
   ],
   "source": [
    "# Optimally solve the problem\n",
    "question_3_model.optimize()"
   ]
  },
  {
   "cell_type": "code",
   "execution_count": 16,
   "metadata": {},
   "outputs": [
    {
     "name": "stdout",
     "output_type": "stream",
     "text": [
      "Risk:  0.0003373\n"
     ]
    }
   ],
   "source": [
    "# Value of the objective function\n",
    "print(\"Risk: \", round(question_3_model.objVal,7))"
   ]
  },
  {
   "cell_type": "code",
   "execution_count": 17,
   "metadata": {},
   "outputs": [
    {
     "name": "stdout",
     "output_type": "stream",
     "text": [
      "\n",
      "    Variable            X \n",
      "-------------------------\n",
      "  Assets[12]    0.0525433 \n",
      "  Assets[30]    0.0998936 \n",
      "  Assets[32]    0.0616118 \n",
      "  Assets[36]    0.0107942 \n",
      "  Assets[42]     0.162924 \n",
      "  Assets[43]      0.40387 \n",
      "  Assets[52]    0.0674086 \n",
      "  Assets[53]  1.61389e-06 \n",
      "  Assets[57]    0.0146785 \n",
      "  Assets[60]    0.0465736 \n",
      "  Assets[61]    0.0329681 \n",
      "  Assets[63]   0.00826713 \n",
      "  Assets[68]    0.0121907 \n",
      "  Assets[71]  2.98121e-05 \n",
      "  Assets[81]  1.01269e-06 \n",
      "  Assets[89]    0.0262402 \n",
      "None\n"
     ]
    }
   ],
   "source": [
    "# Print the decision variables\n",
    "print(question_3_model.printAttr('X'))"
   ]
  },
  {
   "cell_type": "code",
   "execution_count": 18,
   "metadata": {},
   "outputs": [
    {
     "data": {
      "text/plain": [
       "{0: 9.41587003569223e-08,\n",
       " 1: 2.5718595023875563e-08,\n",
       " 2: 4.5824304361141515e-08,\n",
       " 3: 1.5773735128893888e-08,\n",
       " 4: 3.914506984553125e-08,\n",
       " 5: 2.2863062917032886e-08,\n",
       " 6: 3.1841860089252785e-08,\n",
       " 7: 1.1936578557852684e-08,\n",
       " 8: 9.91966496075139e-08,\n",
       " 9: 1.9713111652265998e-08,\n",
       " 10: 6.642303211692064e-08,\n",
       " 11: 2.8272099222199524e-08,\n",
       " 12: 0.0525432966739561,\n",
       " 13: 7.208792500413929e-08,\n",
       " 14: 2.0841584319441478e-08,\n",
       " 15: 8.920015149693609e-07,\n",
       " 16: 2.8936982050975664e-08,\n",
       " 17: 1.942275572848289e-08,\n",
       " 18: 1.248418833797389e-08,\n",
       " 19: 4.461556468603791e-08,\n",
       " 20: 1.5481792400358718e-08,\n",
       " 21: 2.072436275060813e-08,\n",
       " 22: 6.168767691719899e-08,\n",
       " 23: 4.8522275745739726e-08,\n",
       " 24: 4.095565659425056e-08,\n",
       " 25: 5.0555870748845945e-08,\n",
       " 26: 1.073083569136767e-08,\n",
       " 27: 2.233118619375204e-08,\n",
       " 28: 1.5852732676988738e-08,\n",
       " 29: 9.341255980059961e-08,\n",
       " 30: 0.09989356703976442,\n",
       " 31: 1.3921995092189629e-08,\n",
       " 32: 0.06161183270934838,\n",
       " 33: 2.5369939419806587e-08,\n",
       " 34: 1.727373622816129e-08,\n",
       " 35: 3.1651761906079486e-08,\n",
       " 36: 0.010794240848313473,\n",
       " 37: 1.0985342543082756e-08,\n",
       " 38: 2.452145540462504e-08,\n",
       " 39: 4.118779475786844e-08,\n",
       " 40: 2.2786147992072788e-08,\n",
       " 41: 8.641779314479032e-09,\n",
       " 42: 0.16292413605352707,\n",
       " 43: 0.40386969126882594,\n",
       " 44: 4.688519713424362e-08,\n",
       " 45: 2.947349162262509e-08,\n",
       " 46: 1.5888617961087447e-08,\n",
       " 47: 5.3689233506789365e-08,\n",
       " 48: 2.496043459756313e-08,\n",
       " 49: 2.3456571528075043e-08,\n",
       " 50: 2.622539644978812e-08,\n",
       " 51: 1.41230632275587e-08,\n",
       " 52: 0.06740859161214444,\n",
       " 53: 1.6138917558344585e-06,\n",
       " 54: 3.190922232310946e-08,\n",
       " 55: 2.3947154791127554e-08,\n",
       " 56: 2.5480419487663362e-08,\n",
       " 57: 0.014678529945638681,\n",
       " 58: 1.743183309474296e-08,\n",
       " 59: 3.211189029617758e-08,\n",
       " 60: 0.046573598205386806,\n",
       " 61: 0.03296810298222153,\n",
       " 62: 2.198483382707039e-08,\n",
       " 63: 0.008267125696886467,\n",
       " 64: 1.027395884265835e-08,\n",
       " 65: 2.447302743348862e-08,\n",
       " 66: 3.358092064682e-08,\n",
       " 67: 1.3970084847770225e-07,\n",
       " 68: 0.012190698990740306,\n",
       " 69: 2.8269231935448206e-07,\n",
       " 70: 2.472495188364461e-08,\n",
       " 71: 2.9812055074389214e-05,\n",
       " 72: 9.225436385966866e-09,\n",
       " 73: 5.0212664599405565e-08,\n",
       " 74: 1.0431239766733657e-08,\n",
       " 75: 2.002317825785274e-08,\n",
       " 76: 1.623149764897818e-08,\n",
       " 77: 1.2426515245096418e-08,\n",
       " 78: 1.2868586100095078e-07,\n",
       " 79: 5.1144504231243277e-08,\n",
       " 80: 1.877797358967233e-08,\n",
       " 81: 1.0126854458943492e-06,\n",
       " 82: 1.2188557046149278e-08,\n",
       " 83: 1.9219751191799526e-08,\n",
       " 84: 1.6303905629255097e-08,\n",
       " 85: 3.0399000234509045e-08,\n",
       " 86: 1.768427114936078e-08,\n",
       " 87: 3.526673871691148e-08,\n",
       " 88: 4.0264639108430816e-08,\n",
       " 89: 0.02624024854450211,\n",
       " 90: 1.732590689818398e-08,\n",
       " 91: 1.0475051303839578e-08,\n",
       " 92: 2.500758859352845e-08,\n",
       " 93: 2.1949634488905727e-08,\n",
       " 94: 7.737461214901947e-08,\n",
       " 95: 1.189293644169681e-08,\n",
       " 96: 4.876254573342914e-08,\n",
       " 97: 1.3028602250125351e-08,\n",
       " 98: 2.7717905418233327e-08,\n",
       " 99: 8.791024331980622e-08}"
      ]
     },
     "execution_count": 18,
     "metadata": {},
     "output_type": "execute_result"
    }
   ],
   "source": [
    "assets_picked = question_3_model.getAttr('X', x)\n",
    "assets_picked"
   ]
  },
  {
   "cell_type": "code",
   "execution_count": 19,
   "metadata": {},
   "outputs": [
    {
     "name": "stderr",
     "output_type": "stream",
     "text": [
      "C:\\Users\\gabri\\AppData\\Local\\Temp\\ipykernel_16808\\3854250165.py:1: DeprecationWarning: Calling quicksum on a tupledict is deprecated, use .sum() instead.\n",
      "  gb.quicksum(assets_picked)\n"
     ]
    },
    {
     "data": {
      "text/plain": [
       "<gurobi.LinExpr: 0.9999999999998946>"
      ]
     },
     "execution_count": 19,
     "metadata": {},
     "output_type": "execute_result"
    }
   ],
   "source": [
    "gb.quicksum(assets_picked)"
   ]
  },
  {
   "cell_type": "code",
   "execution_count": 20,
   "metadata": {},
   "outputs": [
    {
     "name": "stdout",
     "output_type": "stream",
     "text": [
      "8.000000192396932\n"
     ]
    }
   ],
   "source": [
    "optimal_return = gb.quicksum(m[i] * assets_picked[i] for i in range (100))\n",
    "print(optimal_return*100)"
   ]
  },
  {
   "cell_type": "code",
   "execution_count": null,
   "metadata": {},
   "outputs": [],
   "source": []
  }
 ],
 "metadata": {
  "kernelspec": {
   "display_name": "Python 3",
   "language": "python",
   "name": "python3"
  },
  "language_info": {
   "codemirror_mode": {
    "name": "ipython",
    "version": 3
   },
   "file_extension": ".py",
   "mimetype": "text/x-python",
   "name": "python",
   "nbconvert_exporter": "python",
   "pygments_lexer": "ipython3",
   "version": "3.11.3"
  }
 },
 "nbformat": 4,
 "nbformat_minor": 2
}
