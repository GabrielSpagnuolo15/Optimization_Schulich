{
 "cells": [
  {
   "cell_type": "code",
   "execution_count": 218,
   "metadata": {},
   "outputs": [],
   "source": [
    "from gurobipy import GRB\n",
    "import gurobipy as gb\n",
    "import pandas as pd\n",
    "import numpy as np"
   ]
  },
  {
   "cell_type": "code",
   "execution_count": 219,
   "metadata": {},
   "outputs": [],
   "source": [
    "# Create the optimization model\n",
    "question_3_model = gb.Model(\"Question 1: Tree Program\")"
   ]
  },
  {
   "cell_type": "code",
   "execution_count": 220,
   "metadata": {},
   "outputs": [],
   "source": [
    "means_df = pd.read_csv(r\"C:\\Users\\gabri\\Downloads\\Means.csv\")\n",
    "covariance_df = pd.read_csv(r\"C:\\Users\\gabri\\Downloads\\Covariances.csv\", index_col=0)"
   ]
  },
  {
   "cell_type": "code",
   "execution_count": 221,
   "metadata": {},
   "outputs": [
    {
     "data": {
      "text/html": [
       "<div>\n",
       "<style scoped>\n",
       "    .dataframe tbody tr th:only-of-type {\n",
       "        vertical-align: middle;\n",
       "    }\n",
       "\n",
       "    .dataframe tbody tr th {\n",
       "        vertical-align: top;\n",
       "    }\n",
       "\n",
       "    .dataframe thead th {\n",
       "        text-align: right;\n",
       "    }\n",
       "</style>\n",
       "<table border=\"1\" class=\"dataframe\">\n",
       "  <thead>\n",
       "    <tr style=\"text-align: right;\">\n",
       "      <th></th>\n",
       "      <th>Stocks</th>\n",
       "      <th>Returns</th>\n",
       "    </tr>\n",
       "  </thead>\n",
       "  <tbody>\n",
       "    <tr>\n",
       "      <th>0</th>\n",
       "      <td>A2M</td>\n",
       "      <td>0.066438</td>\n",
       "    </tr>\n",
       "    <tr>\n",
       "      <th>1</th>\n",
       "      <td>AGL</td>\n",
       "      <td>-0.018699</td>\n",
       "    </tr>\n",
       "    <tr>\n",
       "      <th>2</th>\n",
       "      <td>ALL</td>\n",
       "      <td>0.012841</td>\n",
       "    </tr>\n",
       "    <tr>\n",
       "      <th>3</th>\n",
       "      <td>ALQ</td>\n",
       "      <td>-0.009821</td>\n",
       "    </tr>\n",
       "    <tr>\n",
       "      <th>4</th>\n",
       "      <td>ALU</td>\n",
       "      <td>0.044228</td>\n",
       "    </tr>\n",
       "    <tr>\n",
       "      <th>...</th>\n",
       "      <td>...</td>\n",
       "      <td>...</td>\n",
       "    </tr>\n",
       "    <tr>\n",
       "      <th>95</th>\n",
       "      <td>WOR</td>\n",
       "      <td>-0.057237</td>\n",
       "    </tr>\n",
       "    <tr>\n",
       "      <th>96</th>\n",
       "      <td>WOW</td>\n",
       "      <td>0.030355</td>\n",
       "    </tr>\n",
       "    <tr>\n",
       "      <th>97</th>\n",
       "      <td>WPL</td>\n",
       "      <td>-0.058911</td>\n",
       "    </tr>\n",
       "    <tr>\n",
       "      <th>98</th>\n",
       "      <td>WTC</td>\n",
       "      <td>0.019536</td>\n",
       "    </tr>\n",
       "    <tr>\n",
       "      <th>99</th>\n",
       "      <td>XRO</td>\n",
       "      <td>0.069312</td>\n",
       "    </tr>\n",
       "  </tbody>\n",
       "</table>\n",
       "<p>100 rows × 2 columns</p>\n",
       "</div>"
      ],
      "text/plain": [
       "   Stocks   Returns\n",
       "0     A2M  0.066438\n",
       "1     AGL -0.018699\n",
       "2     ALL  0.012841\n",
       "3     ALQ -0.009821\n",
       "4     ALU  0.044228\n",
       "..    ...       ...\n",
       "95    WOR -0.057237\n",
       "96    WOW  0.030355\n",
       "97    WPL -0.058911\n",
       "98    WTC  0.019536\n",
       "99    XRO  0.069312\n",
       "\n",
       "[100 rows x 2 columns]"
      ]
     },
     "execution_count": 221,
     "metadata": {},
     "output_type": "execute_result"
    }
   ],
   "source": [
    "means_df"
   ]
  },
  {
   "cell_type": "code",
   "execution_count": 222,
   "metadata": {},
   "outputs": [],
   "source": [
    "m = means_df['Returns'].values"
   ]
  },
  {
   "cell_type": "code",
   "execution_count": 223,
   "metadata": {},
   "outputs": [
    {
     "data": {
      "text/plain": [
       "array([ 0.06643759, -0.01869864,  0.01284085, -0.00982134,  0.04422764,\n",
       "       -0.00213081,  0.00835844, -0.06447371,  0.01935866, -0.04165944,\n",
       "        0.02038486,  0.12337145,  0.01986451,  0.03070179, -0.02866642,\n",
       "        0.01925893, -0.05186182, -0.00130632, -0.07952512, -0.07039353,\n",
       "       -0.00937933, -0.02277838,  0.01345796,  0.02459195, -0.01283913,\n",
       "        0.00852561, -0.07536683, -0.00029726, -0.06923383,  0.00707476,\n",
       "        0.04405371, -0.062886  ,  0.05555431, -0.00149424, -0.04064443,\n",
       "        0.01606242,  0.03720774, -0.08259068, -0.01248083,  0.01538557,\n",
       "       -0.0326215 , -0.13017466,  0.14103165,  0.10498104,  0.01357185,\n",
       "       -0.03360361, -0.04122691,  0.01229761, -0.01135473,  0.05148132,\n",
       "        0.00490477, -0.0579058 ,  0.04033114,  0.03088468,  0.00163557,\n",
       "        0.08856627, -0.00025828,  0.01603317, -0.02366805, -0.04259911,\n",
       "        0.01826203,  0.03367747, -0.0347282 , -0.00080773, -0.11069387,\n",
       "       -0.04159582, -0.00931234, -0.0043509 ,  0.008758  , -0.00193634,\n",
       "        0.02905145,  0.05531605, -0.06415304,  0.03689303, -0.09023542,\n",
       "       -0.00747933, -0.02869447, -0.06333128,  0.01672359, -0.00628205,\n",
       "       -0.03229708,  0.01204429, -0.03348201, -0.03512745,  0.00034657,\n",
       "        0.00600086, -0.05642109,  0.01467453,  0.01382029,  0.01289533,\n",
       "       -0.0313435 , -0.09580539, -0.02930305, -0.04992983,  0.0125325 ,\n",
       "       -0.05723744,  0.0303555 , -0.05891071,  0.01953585,  0.06931243])"
      ]
     },
     "execution_count": 223,
     "metadata": {},
     "output_type": "execute_result"
    }
   ],
   "source": [
    "m"
   ]
  },
  {
   "cell_type": "code",
   "execution_count": 224,
   "metadata": {},
   "outputs": [
    {
     "data": {
      "text/html": [
       "<div>\n",
       "<style scoped>\n",
       "    .dataframe tbody tr th:only-of-type {\n",
       "        vertical-align: middle;\n",
       "    }\n",
       "\n",
       "    .dataframe tbody tr th {\n",
       "        vertical-align: top;\n",
       "    }\n",
       "\n",
       "    .dataframe thead th {\n",
       "        text-align: right;\n",
       "    }\n",
       "</style>\n",
       "<table border=\"1\" class=\"dataframe\">\n",
       "  <thead>\n",
       "    <tr style=\"text-align: right;\">\n",
       "      <th></th>\n",
       "      <th>A2M</th>\n",
       "      <th>AGL</th>\n",
       "      <th>ALL</th>\n",
       "      <th>ALQ</th>\n",
       "      <th>ALU</th>\n",
       "      <th>ALX</th>\n",
       "      <th>AMC</th>\n",
       "      <th>AMP</th>\n",
       "      <th>ANN</th>\n",
       "      <th>ANZ</th>\n",
       "      <th>...</th>\n",
       "      <th>TWE</th>\n",
       "      <th>VCX</th>\n",
       "      <th>VEA</th>\n",
       "      <th>WBC</th>\n",
       "      <th>WES</th>\n",
       "      <th>WOR</th>\n",
       "      <th>WOW</th>\n",
       "      <th>WPL</th>\n",
       "      <th>WTC</th>\n",
       "      <th>XRO</th>\n",
       "    </tr>\n",
       "  </thead>\n",
       "  <tbody>\n",
       "    <tr>\n",
       "      <th>A2M</th>\n",
       "      <td>0.002535</td>\n",
       "      <td>0.000047</td>\n",
       "      <td>0.000333</td>\n",
       "      <td>0.000471</td>\n",
       "      <td>0.001126</td>\n",
       "      <td>0.000178</td>\n",
       "      <td>0.000356</td>\n",
       "      <td>0.000371</td>\n",
       "      <td>0.000061</td>\n",
       "      <td>0.000104</td>\n",
       "      <td>...</td>\n",
       "      <td>0.000712</td>\n",
       "      <td>0.000111</td>\n",
       "      <td>0.000340</td>\n",
       "      <td>-0.000003</td>\n",
       "      <td>0.000138</td>\n",
       "      <td>0.000119</td>\n",
       "      <td>0.000235</td>\n",
       "      <td>0.000128</td>\n",
       "      <td>-0.000373</td>\n",
       "      <td>0.000278</td>\n",
       "    </tr>\n",
       "    <tr>\n",
       "      <th>AGL</th>\n",
       "      <td>0.000047</td>\n",
       "      <td>0.000859</td>\n",
       "      <td>0.000511</td>\n",
       "      <td>0.000825</td>\n",
       "      <td>0.000458</td>\n",
       "      <td>0.000647</td>\n",
       "      <td>0.000352</td>\n",
       "      <td>0.000455</td>\n",
       "      <td>0.000389</td>\n",
       "      <td>0.000548</td>\n",
       "      <td>...</td>\n",
       "      <td>0.000277</td>\n",
       "      <td>0.000903</td>\n",
       "      <td>0.000395</td>\n",
       "      <td>0.000517</td>\n",
       "      <td>0.000469</td>\n",
       "      <td>0.000957</td>\n",
       "      <td>0.000308</td>\n",
       "      <td>0.000773</td>\n",
       "      <td>0.000568</td>\n",
       "      <td>0.000469</td>\n",
       "    </tr>\n",
       "    <tr>\n",
       "      <th>ALL</th>\n",
       "      <td>0.000333</td>\n",
       "      <td>0.000511</td>\n",
       "      <td>0.003992</td>\n",
       "      <td>0.001779</td>\n",
       "      <td>0.001167</td>\n",
       "      <td>0.001545</td>\n",
       "      <td>0.000354</td>\n",
       "      <td>0.001108</td>\n",
       "      <td>0.001634</td>\n",
       "      <td>0.001652</td>\n",
       "      <td>...</td>\n",
       "      <td>0.000346</td>\n",
       "      <td>0.002292</td>\n",
       "      <td>0.001387</td>\n",
       "      <td>0.001337</td>\n",
       "      <td>0.001100</td>\n",
       "      <td>0.003276</td>\n",
       "      <td>0.000048</td>\n",
       "      <td>0.002452</td>\n",
       "      <td>0.002184</td>\n",
       "      <td>0.001891</td>\n",
       "    </tr>\n",
       "    <tr>\n",
       "      <th>ALQ</th>\n",
       "      <td>0.000471</td>\n",
       "      <td>0.000825</td>\n",
       "      <td>0.001779</td>\n",
       "      <td>0.002427</td>\n",
       "      <td>0.001438</td>\n",
       "      <td>0.001337</td>\n",
       "      <td>0.000876</td>\n",
       "      <td>0.001191</td>\n",
       "      <td>0.000973</td>\n",
       "      <td>0.001145</td>\n",
       "      <td>...</td>\n",
       "      <td>0.000682</td>\n",
       "      <td>0.001629</td>\n",
       "      <td>0.001054</td>\n",
       "      <td>0.000922</td>\n",
       "      <td>0.000773</td>\n",
       "      <td>0.002441</td>\n",
       "      <td>0.000558</td>\n",
       "      <td>0.001906</td>\n",
       "      <td>0.001309</td>\n",
       "      <td>0.001177</td>\n",
       "    </tr>\n",
       "    <tr>\n",
       "      <th>ALU</th>\n",
       "      <td>0.001126</td>\n",
       "      <td>0.000458</td>\n",
       "      <td>0.001167</td>\n",
       "      <td>0.001438</td>\n",
       "      <td>0.003722</td>\n",
       "      <td>0.001045</td>\n",
       "      <td>0.000627</td>\n",
       "      <td>0.000603</td>\n",
       "      <td>0.000869</td>\n",
       "      <td>0.000854</td>\n",
       "      <td>...</td>\n",
       "      <td>0.000639</td>\n",
       "      <td>0.000916</td>\n",
       "      <td>0.000613</td>\n",
       "      <td>0.000623</td>\n",
       "      <td>0.000804</td>\n",
       "      <td>0.001366</td>\n",
       "      <td>0.000458</td>\n",
       "      <td>0.001235</td>\n",
       "      <td>0.002530</td>\n",
       "      <td>0.001009</td>\n",
       "    </tr>\n",
       "    <tr>\n",
       "      <th>...</th>\n",
       "      <td>...</td>\n",
       "      <td>...</td>\n",
       "      <td>...</td>\n",
       "      <td>...</td>\n",
       "      <td>...</td>\n",
       "      <td>...</td>\n",
       "      <td>...</td>\n",
       "      <td>...</td>\n",
       "      <td>...</td>\n",
       "      <td>...</td>\n",
       "      <td>...</td>\n",
       "      <td>...</td>\n",
       "      <td>...</td>\n",
       "      <td>...</td>\n",
       "      <td>...</td>\n",
       "      <td>...</td>\n",
       "      <td>...</td>\n",
       "      <td>...</td>\n",
       "      <td>...</td>\n",
       "      <td>...</td>\n",
       "      <td>...</td>\n",
       "    </tr>\n",
       "    <tr>\n",
       "      <th>WOR</th>\n",
       "      <td>0.000119</td>\n",
       "      <td>0.000957</td>\n",
       "      <td>0.003276</td>\n",
       "      <td>0.002441</td>\n",
       "      <td>0.001366</td>\n",
       "      <td>0.001810</td>\n",
       "      <td>0.000524</td>\n",
       "      <td>0.001459</td>\n",
       "      <td>0.001770</td>\n",
       "      <td>0.001673</td>\n",
       "      <td>...</td>\n",
       "      <td>0.001123</td>\n",
       "      <td>0.002961</td>\n",
       "      <td>0.002069</td>\n",
       "      <td>0.001429</td>\n",
       "      <td>0.001139</td>\n",
       "      <td>0.005151</td>\n",
       "      <td>0.000404</td>\n",
       "      <td>0.003046</td>\n",
       "      <td>0.002498</td>\n",
       "      <td>0.002273</td>\n",
       "    </tr>\n",
       "    <tr>\n",
       "      <th>WOW</th>\n",
       "      <td>0.000235</td>\n",
       "      <td>0.000308</td>\n",
       "      <td>0.000048</td>\n",
       "      <td>0.000558</td>\n",
       "      <td>0.000458</td>\n",
       "      <td>0.000362</td>\n",
       "      <td>0.000252</td>\n",
       "      <td>0.000433</td>\n",
       "      <td>0.000225</td>\n",
       "      <td>0.000335</td>\n",
       "      <td>...</td>\n",
       "      <td>0.000610</td>\n",
       "      <td>0.000609</td>\n",
       "      <td>0.000276</td>\n",
       "      <td>0.000373</td>\n",
       "      <td>0.000400</td>\n",
       "      <td>0.000404</td>\n",
       "      <td>0.000845</td>\n",
       "      <td>0.000432</td>\n",
       "      <td>0.000821</td>\n",
       "      <td>0.000534</td>\n",
       "    </tr>\n",
       "    <tr>\n",
       "      <th>WPL</th>\n",
       "      <td>0.000128</td>\n",
       "      <td>0.000773</td>\n",
       "      <td>0.002452</td>\n",
       "      <td>0.001906</td>\n",
       "      <td>0.001235</td>\n",
       "      <td>0.001494</td>\n",
       "      <td>0.000828</td>\n",
       "      <td>0.001381</td>\n",
       "      <td>0.001204</td>\n",
       "      <td>0.001379</td>\n",
       "      <td>...</td>\n",
       "      <td>0.000673</td>\n",
       "      <td>0.001997</td>\n",
       "      <td>0.001247</td>\n",
       "      <td>0.001173</td>\n",
       "      <td>0.000971</td>\n",
       "      <td>0.003046</td>\n",
       "      <td>0.000432</td>\n",
       "      <td>0.002523</td>\n",
       "      <td>0.001854</td>\n",
       "      <td>0.001560</td>\n",
       "    </tr>\n",
       "    <tr>\n",
       "      <th>WTC</th>\n",
       "      <td>-0.000373</td>\n",
       "      <td>0.000568</td>\n",
       "      <td>0.002184</td>\n",
       "      <td>0.001309</td>\n",
       "      <td>0.002530</td>\n",
       "      <td>0.001387</td>\n",
       "      <td>0.000453</td>\n",
       "      <td>-0.000508</td>\n",
       "      <td>0.001295</td>\n",
       "      <td>0.000643</td>\n",
       "      <td>...</td>\n",
       "      <td>0.001120</td>\n",
       "      <td>0.001541</td>\n",
       "      <td>0.000535</td>\n",
       "      <td>0.000627</td>\n",
       "      <td>0.000745</td>\n",
       "      <td>0.002498</td>\n",
       "      <td>0.000821</td>\n",
       "      <td>0.001854</td>\n",
       "      <td>0.008444</td>\n",
       "      <td>0.002213</td>\n",
       "    </tr>\n",
       "    <tr>\n",
       "      <th>XRO</th>\n",
       "      <td>0.000278</td>\n",
       "      <td>0.000469</td>\n",
       "      <td>0.001891</td>\n",
       "      <td>0.001177</td>\n",
       "      <td>0.001009</td>\n",
       "      <td>0.000824</td>\n",
       "      <td>-0.000094</td>\n",
       "      <td>0.000785</td>\n",
       "      <td>0.001043</td>\n",
       "      <td>0.000626</td>\n",
       "      <td>...</td>\n",
       "      <td>0.000609</td>\n",
       "      <td>0.001486</td>\n",
       "      <td>0.001115</td>\n",
       "      <td>0.000470</td>\n",
       "      <td>0.000853</td>\n",
       "      <td>0.002273</td>\n",
       "      <td>0.000534</td>\n",
       "      <td>0.001560</td>\n",
       "      <td>0.002213</td>\n",
       "      <td>0.002553</td>\n",
       "    </tr>\n",
       "  </tbody>\n",
       "</table>\n",
       "<p>100 rows × 100 columns</p>\n",
       "</div>"
      ],
      "text/plain": [
       "          A2M       AGL       ALL       ALQ       ALU       ALX       AMC   \n",
       "A2M  0.002535  0.000047  0.000333  0.000471  0.001126  0.000178  0.000356  \\\n",
       "AGL  0.000047  0.000859  0.000511  0.000825  0.000458  0.000647  0.000352   \n",
       "ALL  0.000333  0.000511  0.003992  0.001779  0.001167  0.001545  0.000354   \n",
       "ALQ  0.000471  0.000825  0.001779  0.002427  0.001438  0.001337  0.000876   \n",
       "ALU  0.001126  0.000458  0.001167  0.001438  0.003722  0.001045  0.000627   \n",
       "..        ...       ...       ...       ...       ...       ...       ...   \n",
       "WOR  0.000119  0.000957  0.003276  0.002441  0.001366  0.001810  0.000524   \n",
       "WOW  0.000235  0.000308  0.000048  0.000558  0.000458  0.000362  0.000252   \n",
       "WPL  0.000128  0.000773  0.002452  0.001906  0.001235  0.001494  0.000828   \n",
       "WTC -0.000373  0.000568  0.002184  0.001309  0.002530  0.001387  0.000453   \n",
       "XRO  0.000278  0.000469  0.001891  0.001177  0.001009  0.000824 -0.000094   \n",
       "\n",
       "          AMP       ANN       ANZ  ...       TWE       VCX       VEA   \n",
       "A2M  0.000371  0.000061  0.000104  ...  0.000712  0.000111  0.000340  \\\n",
       "AGL  0.000455  0.000389  0.000548  ...  0.000277  0.000903  0.000395   \n",
       "ALL  0.001108  0.001634  0.001652  ...  0.000346  0.002292  0.001387   \n",
       "ALQ  0.001191  0.000973  0.001145  ...  0.000682  0.001629  0.001054   \n",
       "ALU  0.000603  0.000869  0.000854  ...  0.000639  0.000916  0.000613   \n",
       "..        ...       ...       ...  ...       ...       ...       ...   \n",
       "WOR  0.001459  0.001770  0.001673  ...  0.001123  0.002961  0.002069   \n",
       "WOW  0.000433  0.000225  0.000335  ...  0.000610  0.000609  0.000276   \n",
       "WPL  0.001381  0.001204  0.001379  ...  0.000673  0.001997  0.001247   \n",
       "WTC -0.000508  0.001295  0.000643  ...  0.001120  0.001541  0.000535   \n",
       "XRO  0.000785  0.001043  0.000626  ...  0.000609  0.001486  0.001115   \n",
       "\n",
       "          WBC       WES       WOR       WOW       WPL       WTC       XRO  \n",
       "A2M -0.000003  0.000138  0.000119  0.000235  0.000128 -0.000373  0.000278  \n",
       "AGL  0.000517  0.000469  0.000957  0.000308  0.000773  0.000568  0.000469  \n",
       "ALL  0.001337  0.001100  0.003276  0.000048  0.002452  0.002184  0.001891  \n",
       "ALQ  0.000922  0.000773  0.002441  0.000558  0.001906  0.001309  0.001177  \n",
       "ALU  0.000623  0.000804  0.001366  0.000458  0.001235  0.002530  0.001009  \n",
       "..        ...       ...       ...       ...       ...       ...       ...  \n",
       "WOR  0.001429  0.001139  0.005151  0.000404  0.003046  0.002498  0.002273  \n",
       "WOW  0.000373  0.000400  0.000404  0.000845  0.000432  0.000821  0.000534  \n",
       "WPL  0.001173  0.000971  0.003046  0.000432  0.002523  0.001854  0.001560  \n",
       "WTC  0.000627  0.000745  0.002498  0.000821  0.001854  0.008444  0.002213  \n",
       "XRO  0.000470  0.000853  0.002273  0.000534  0.001560  0.002213  0.002553  \n",
       "\n",
       "[100 rows x 100 columns]"
      ]
     },
     "execution_count": 224,
     "metadata": {},
     "output_type": "execute_result"
    }
   ],
   "source": [
    "covariance_df"
   ]
  },
  {
   "cell_type": "code",
   "execution_count": 225,
   "metadata": {},
   "outputs": [],
   "source": [
    "x = question_3_model.addVars(100, lb=0, vtype=GRB.CONTINUOUS, name=\"Assets\")\n",
    "question_3_model.setObjective(gb.quicksum(covariance_df.iloc[i,j]*x[i]*x[j] for i in range(100) for j in range(100)), GRB.MINIMIZE)"
   ]
  },
  {
   "cell_type": "code",
   "execution_count": 226,
   "metadata": {},
   "outputs": [
    {
     "data": {
      "text/plain": [
       "<gurobi.Constr *Awaiting Model Update*>"
      ]
     },
     "execution_count": 226,
     "metadata": {},
     "output_type": "execute_result"
    }
   ],
   "source": [
    "question_3_model.addConstr(gb.quicksum(m[i]*x[i] for i in range(100)) >= 0.08, \"Expected Return Constraint\")"
   ]
  },
  {
   "cell_type": "code",
   "execution_count": 227,
   "metadata": {},
   "outputs": [
    {
     "data": {
      "text/plain": [
       "<gurobi.Constr *Awaiting Model Update*>"
      ]
     },
     "execution_count": 227,
     "metadata": {},
     "output_type": "execute_result"
    }
   ],
   "source": [
    "question_3_model.addConstr(gb.quicksum(x[i] for i in range(10)) - gb.quicksum(x[i] for i in range(90,100)) <= 0.005, \"Difference Constraint 1\")\n",
    "question_3_model.addConstr(gb.quicksum(x[i] for i in range(90,100)) - gb.quicksum(x[i] for i in range(10)) <= 0.005, \"Difference Constraint 2\")"
   ]
  },
  {
   "cell_type": "code",
   "execution_count": 228,
   "metadata": {},
   "outputs": [
    {
     "data": {
      "text/plain": [
       "<gurobi.Constr *Awaiting Model Update*>"
      ]
     },
     "execution_count": 228,
     "metadata": {},
     "output_type": "execute_result"
    }
   ],
   "source": [
    "question_3_model.addConstr(gb.quicksum(x[i] for i in range(10,30)) >= 2 * (gb.quicksum(x[i] for i in range(70,90))), \"Double Constraint\")"
   ]
  },
  {
   "cell_type": "code",
   "execution_count": 229,
   "metadata": {},
   "outputs": [
    {
     "data": {
      "text/plain": [
       "<gurobi.Constr *Awaiting Model Update*>"
      ]
     },
     "execution_count": 229,
     "metadata": {},
     "output_type": "execute_result"
    }
   ],
   "source": [
    "question_3_model.addConstr(gb.quicksum(x[i] for i in range(40,60)) <= 0.65 * (gb.quicksum(x[i] for i in range(100))), \"65% Constraint\")"
   ]
  },
  {
   "cell_type": "code",
   "execution_count": 230,
   "metadata": {},
   "outputs": [
    {
     "data": {
      "text/plain": [
       "<gurobi.Constr *Awaiting Model Update*>"
      ]
     },
     "execution_count": 230,
     "metadata": {},
     "output_type": "execute_result"
    }
   ],
   "source": [
    "question_3_model.addConstr(gb.quicksum(x[i] for i in range(61,70)) >= 0.10 * (gb.quicksum(x[i] for i in range(100))), \"10% Constraint\")"
   ]
  },
  {
   "cell_type": "code",
   "execution_count": 231,
   "metadata": {},
   "outputs": [
    {
     "data": {
      "text/plain": [
       "<gurobi.Constr *Awaiting Model Update*>"
      ]
     },
     "execution_count": 231,
     "metadata": {},
     "output_type": "execute_result"
    }
   ],
   "source": [
    "question_3_model.addConstr(gb.quicksum(x[i] for i in range(100)) == 1, \"Adding to 100% Constraint\")"
   ]
  },
  {
   "cell_type": "code",
   "execution_count": 232,
   "metadata": {},
   "outputs": [
    {
     "name": "stdout",
     "output_type": "stream",
     "text": [
      "Gurobi Optimizer version 11.0.0 build v11.0.0rc2 (win64 - Windows 11+.0 (22631.2))\n",
      "\n",
      "CPU model: Intel(R) Core(TM) i7-8750H CPU @ 2.20GHz, instruction set [SSE2|AVX|AVX2]\n",
      "Thread count: 6 physical cores, 12 logical processors, using up to 12 threads\n",
      "\n",
      "Optimize a model with 7 rows, 100 columns and 480 nonzeros\n",
      "Model fingerprint: 0x6016ddf1\n",
      "Model has 5050 quadratic objective terms\n",
      "Coefficient statistics:\n",
      "  Matrix range     [3e-04, 2e+00]\n",
      "  Objective range  [0e+00, 0e+00]\n",
      "  QObjective range [2e-06, 3e-02]\n",
      "  Bounds range     [0e+00, 0e+00]\n",
      "  RHS range        [5e-03, 1e+00]\n",
      "Presolve removed 1 rows and 0 columns\n",
      "Presolve time: 0.01s\n",
      "Presolved: 6 rows, 101 columns, 461 nonzeros\n",
      "Presolved model has 5050 quadratic objective terms\n",
      "Ordering time: 0.00s\n",
      "\n",
      "Barrier statistics:\n",
      " Free vars  : 63\n",
      " AA' NZ     : 2.345e+03\n",
      " Factor NZ  : 2.415e+03\n",
      " Factor Ops : 1.119e+05 (less than 1 second per iteration)\n",
      " Threads    : 1\n",
      "\n",
      "                  Objective                Residual\n",
      "Iter       Primal          Dual         Primal    Dual     Compl     Time\n",
      "   0   6.12188200e-14 -3.90625000e-02  1.00e+05 4.07e-06  1.00e+06     0s\n",
      "   1   1.40552090e+02 -1.44179526e+02  4.63e+03 1.89e-07  4.77e+04     0s\n",
      "   2   3.25584690e-01 -4.19738794e+00  2.40e+01 9.76e-10  2.59e+02     0s\n",
      "   3   4.41577823e-03 -3.42329783e+00  4.87e-01 1.98e-11  1.30e+01     0s\n",
      "   4   5.52036179e-03 -1.17608600e+00  2.82e-02 1.15e-12  3.06e+00     0s\n",
      "   5   2.74523686e-03 -2.18968172e-01  2.82e-08 1.11e-16  5.35e-01     0s\n",
      "   6   2.26239780e-03 -2.57480407e-03  2.16e-10 1.07e-14  1.17e-02     0s\n",
      "   7   8.94705502e-04 -1.06320322e-03  3.05e-16 8.88e-16  4.73e-03     0s\n",
      "   8   4.91802329e-04  8.31039686e-05  9.31e-15 1.55e-15  9.87e-04     0s\n",
      "   9   3.98571491e-04  2.25883002e-04  1.44e-14 3.89e-16  4.17e-04     0s\n",
      "  10   3.60150488e-04  3.31735256e-04  1.20e-14 2.22e-16  6.86e-05     0s\n",
      "  11   3.44210965e-04  3.37296250e-04  2.19e-14 1.67e-16  1.67e-05     0s\n",
      "  12   3.40149223e-04  3.38896708e-04  1.41e-14 6.92e-17  3.02e-06     0s\n",
      "  13   3.39153509e-04  3.39148502e-04  1.77e-14 2.22e-16  1.21e-08     0s\n",
      "  14   3.39151856e-04  3.39151818e-04  1.08e-12 1.11e-16  9.26e-11     0s\n",
      "\n",
      "Barrier solved model in 14 iterations and 0.03 seconds (0.01 work units)\n",
      "Optimal objective 3.39151856e-04\n",
      "\n"
     ]
    }
   ],
   "source": [
    "# Optimally solve the problem\n",
    "question_3_model.optimize()"
   ]
  },
  {
   "cell_type": "code",
   "execution_count": 233,
   "metadata": {},
   "outputs": [
    {
     "name": "stdout",
     "output_type": "stream",
     "text": [
      "Risk:  0.0003392\n"
     ]
    }
   ],
   "source": [
    "# Value of the objective function\n",
    "print(\"Risk: \", round(question_3_model.objVal,7))"
   ]
  },
  {
   "cell_type": "code",
   "execution_count": 234,
   "metadata": {},
   "outputs": [
    {
     "name": "stdout",
     "output_type": "stream",
     "text": [
      "\n",
      "    Variable            X \n",
      "-------------------------\n",
      "  Assets[12]    0.0415604 \n",
      "  Assets[30]    0.0991488 \n",
      "  Assets[32]    0.0698225 \n",
      "  Assets[36]    0.0229315 \n",
      "  Assets[42]     0.163335 \n",
      "  Assets[43]     0.403079 \n",
      "  Assets[52]    0.0550607 \n",
      "  Assets[57]    0.0242821 \n",
      "  Assets[61]    0.0533402 \n",
      "  Assets[63]    0.0375941 \n",
      "  Assets[68]   0.00906569 \n",
      "  Assets[89]    0.0207802 \n",
      "None\n"
     ]
    }
   ],
   "source": [
    "# Print the decision variables\n",
    "print(question_3_model.printAttr('X'))"
   ]
  },
  {
   "cell_type": "code",
   "execution_count": 235,
   "metadata": {},
   "outputs": [
    {
     "data": {
      "text/plain": [
       "{0: 2.850651767372392e-10,\n",
       " 1: 3.234184375182888e-11,\n",
       " 2: 5.755833574247699e-11,\n",
       " 3: 1.9441875339812274e-11,\n",
       " 4: 5.574621965897872e-11,\n",
       " 5: 2.973227740202782e-11,\n",
       " 6: 3.930181550739794e-11,\n",
       " 7: 1.482513300511786e-11,\n",
       " 8: 1.3474287984865604e-10,\n",
       " 9: 2.4402236721190974e-11,\n",
       " 10: 8.686735440841866e-11,\n",
       " 11: 3.2268176813352546e-11,\n",
       " 12: 0.04156035824341309,\n",
       " 13: 9.798086386240552e-11,\n",
       " 14: 2.4912555965483947e-11,\n",
       " 15: 5.722902331994001e-10,\n",
       " 16: 3.923015549248353e-11,\n",
       " 17: 2.3865248540375265e-11,\n",
       " 18: 1.5002410922229696e-11,\n",
       " 19: 8.393037501246877e-11,\n",
       " 20: 1.9363062244101925e-11,\n",
       " 21: 3.36754142912768e-11,\n",
       " 22: 7.840224330941822e-11,\n",
       " 23: 5.835245001592516e-11,\n",
       " 24: 4.761262810278675e-11,\n",
       " 25: 6.273227226736475e-11,\n",
       " 26: 1.2766782096899829e-11,\n",
       " 27: 2.8503491243054445e-11,\n",
       " 28: 2.0643018467091072e-11,\n",
       " 29: 1.1138528124737764e-10,\n",
       " 30: 0.0991487544813183,\n",
       " 31: 1.6623169614660132e-11,\n",
       " 32: 0.06982253574665208,\n",
       " 33: 2.9886615764657446e-11,\n",
       " 34: 2.104744157043405e-11,\n",
       " 35: 3.766233587931637e-11,\n",
       " 36: 0.02293146770527764,\n",
       " 37: 1.3438143198250715e-11,\n",
       " 38: 3.1309184501028894e-11,\n",
       " 39: 6.312344926333854e-11,\n",
       " 40: 4.434419401825081e-11,\n",
       " 41: 1.3278939357934564e-11,\n",
       " 42: 0.16333468087300806,\n",
       " 43: 0.4030792519872719,\n",
       " 44: 9.945189489089236e-11,\n",
       " 45: 6.725342089955321e-11,\n",
       " 46: 3.1058875617835e-11,\n",
       " 47: 1.0274141757321185e-10,\n",
       " 48: 5.162159333414639e-11,\n",
       " 49: 3.013226584245185e-11,\n",
       " 50: 5.161520338921291e-11,\n",
       " 51: 2.5989070808400328e-11,\n",
       " 52: 0.05506070653656597,\n",
       " 53: 1.7131859862739336e-09,\n",
       " 54: 5.666251493844352e-11,\n",
       " 55: 2.9464850036170866e-11,\n",
       " 56: 5.0792138900987166e-11,\n",
       " 57: 0.02428205965744924,\n",
       " 58: 3.1585294468092386e-11,\n",
       " 59: 5.726177885563485e-11,\n",
       " 60: 5.972081093295754e-11,\n",
       " 61: 0.053340229936232476,\n",
       " 62: 2.7438466440207212e-11,\n",
       " 63: 0.03759408195424751,\n",
       " 64: 1.442361407728097e-11,\n",
       " 65: 2.895115480996256e-11,\n",
       " 66: 5.59857375768575e-11,\n",
       " 67: 2.8511214462411424e-10,\n",
       " 68: 0.009065686047482353,\n",
       " 69: 1.696280368047013e-09,\n",
       " 70: 3.0080562227697454e-11,\n",
       " 71: 3.7205212831164946e-10,\n",
       " 72: 1.1245823400577061e-11,\n",
       " 73: 6.745036941499802e-11,\n",
       " 74: 1.2776348964276098e-11,\n",
       " 75: 2.3763053604574007e-11,\n",
       " 76: 2.012580506383088e-11,\n",
       " 77: 1.5120507410187502e-11,\n",
       " 78: 1.4788043802558937e-10,\n",
       " 79: 6.901520114016296e-11,\n",
       " 80: 2.261564274699287e-11,\n",
       " 81: 1.8978373493403418e-09,\n",
       " 82: 1.5035199963446994e-11,\n",
       " 83: 2.3871817866607814e-11,\n",
       " 84: 1.952084646016971e-11,\n",
       " 85: 3.832215282096981e-11,\n",
       " 86: 2.171867208708781e-11,\n",
       " 87: 4.503673100030889e-11,\n",
       " 88: 5.2700952551862454e-11,\n",
       " 89: 0.02078017648341587,\n",
       " 90: 2.2311668620301505e-11,\n",
       " 91: 1.2817622644985395e-11,\n",
       " 92: 4.053671492357874e-11,\n",
       " 93: 2.5854153907944026e-11,\n",
       " 94: 8.705636141512552e-11,\n",
       " 95: 1.546628880589568e-11,\n",
       " 96: 9.476932900465418e-11,\n",
       " 97: 1.7854429197100428e-11,\n",
       " 98: 3.492482381555802e-11,\n",
       " 99: 1.0867302215056951e-10}"
      ]
     },
     "execution_count": 235,
     "metadata": {},
     "output_type": "execute_result"
    }
   ],
   "source": [
    "assets_picked = question_3_model.getAttr('X', x)\n",
    "assets_picked"
   ]
  },
  {
   "cell_type": "code",
   "execution_count": 236,
   "metadata": {},
   "outputs": [
    {
     "name": "stderr",
     "output_type": "stream",
     "text": [
      "C:\\Users\\gabri\\AppData\\Local\\Temp\\ipykernel_1568\\3854250165.py:1: DeprecationWarning: Calling quicksum on a tupledict is deprecated, use .sum() instead.\n",
      "  gb.quicksum(assets_picked)\n"
     ]
    },
    {
     "data": {
      "text/plain": [
       "<gurobi.LinExpr: 0.9999999999991525>"
      ]
     },
     "execution_count": 236,
     "metadata": {},
     "output_type": "execute_result"
    }
   ],
   "source": [
    "gb.quicksum(assets_picked)"
   ]
  },
  {
   "cell_type": "code",
   "execution_count": 237,
   "metadata": {},
   "outputs": [
    {
     "name": "stdout",
     "output_type": "stream",
     "text": [
      "8.000000000280208\n"
     ]
    }
   ],
   "source": [
    "optimal_return = gb.quicksum(m[i] * assets_picked[i] for i in range (100))\n",
    "print(optimal_return*100)"
   ]
  },
  {
   "cell_type": "code",
   "execution_count": null,
   "metadata": {},
   "outputs": [],
   "source": []
  }
 ],
 "metadata": {
  "kernelspec": {
   "display_name": "Python 3",
   "language": "python",
   "name": "python3"
  },
  "language_info": {
   "codemirror_mode": {
    "name": "ipython",
    "version": 3
   },
   "file_extension": ".py",
   "mimetype": "text/x-python",
   "name": "python",
   "nbconvert_exporter": "python",
   "pygments_lexer": "ipython3",
   "version": "3.11.3"
  }
 },
 "nbformat": 4,
 "nbformat_minor": 2
}
