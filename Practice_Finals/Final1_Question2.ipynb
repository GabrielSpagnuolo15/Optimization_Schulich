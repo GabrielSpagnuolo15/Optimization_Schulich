{
 "cells": [
  {
   "cell_type": "code",
   "execution_count": 25,
   "metadata": {},
   "outputs": [],
   "source": [
    "from gurobipy import GRB\n",
    "import gurobipy as gb\n",
    "import pandas as pd\n",
    "import numpy as np"
   ]
  },
  {
   "cell_type": "code",
   "execution_count": 26,
   "metadata": {},
   "outputs": [],
   "source": [
    "# Create the optimization model\n",
    "model = gb.Model(\"Question 2: Puff\")"
   ]
  },
  {
   "cell_type": "code",
   "execution_count": 27,
   "metadata": {},
   "outputs": [],
   "source": [
    "max_demand_regular = [72, 70, 123, 93, 51, 41]\n",
    "slope_regular = [15, 12, 13, 8, 20, 42]\n",
    "max_demand_jelly = [66, 76, 116, 86, 56, 46]\n",
    "slope_jelly = [14, 13, 11, 8, 24, 28]"
   ]
  },
  {
   "cell_type": "code",
   "execution_count": 28,
   "metadata": {},
   "outputs": [],
   "source": [
    "p_regular = model.addVars(6, lb=0, vtype=GRB.CONTINUOUS, name=\"Regular Price\")\n",
    "p_jelly = model.addVars(6, lb=0, vtype=GRB.CONTINUOUS, name=\"Jelly Price\")\n",
    "model.setObjective(gb.quicksum(((p_regular[i] - (2*0.33))*(max_demand_regular[i] - slope_regular[i]*p_regular[i])) + ((p_jelly[i] - (2*0.46))*(max_demand_jelly[i] - slope_jelly[i]*p_jelly[i])) for i in range(6)), GRB.MAXIMIZE)"
   ]
  },
  {
   "cell_type": "code",
   "execution_count": 29,
   "metadata": {},
   "outputs": [],
   "source": [
    "# Price Constraint\n",
    "for n in range(2):  \n",
    "    model.addConstr(p_regular[n] <= p_regular[n + 1], f\"Regular Price Constraint {n}\")\n",
    "\n",
    "for n in range(2):  \n",
    "    model.addConstr(p_jelly[n] <= p_jelly[n + 1], f\"Jelly Price Constraint {n}\")"
   ]
  },
  {
   "cell_type": "code",
   "execution_count": 30,
   "metadata": {},
   "outputs": [],
   "source": [
    "# Price Constraint\n",
    "for n in range(2,5):  \n",
    "    model.addConstr(p_regular[n] >= p_regular[n + 1], f\"Regular Price Constraint {n}\")\n",
    "\n",
    "for n in range(2,5):  \n",
    "    model.addConstr(p_jelly[n] >= p_jelly[n + 1], f\"Jelly Price Constraint {n}\")"
   ]
  },
  {
   "cell_type": "code",
   "execution_count": 31,
   "metadata": {},
   "outputs": [
    {
     "data": {
      "text/plain": [
       "<gurobi.Constr *Awaiting Model Update*>"
      ]
     },
     "execution_count": 31,
     "metadata": {},
     "output_type": "execute_result"
    }
   ],
   "source": [
    "model.addConstr(gb.quicksum(max_demand_regular[i] - (slope_regular[i]*p_regular[i]) for i in range(6)) <= (222/2), \"Regular Supply Constraint\")\n",
    "\n",
    "model.addConstr(gb.quicksum(max_demand_jelly[i] - slope_jelly[i]*p_jelly[i] for i in range(6)) <= (274/2), \"Jelly Supply Constraint\")"
   ]
  },
  {
   "cell_type": "code",
   "execution_count": 32,
   "metadata": {},
   "outputs": [],
   "source": [
    "for i in range(6):\n",
    "    model.addConstr(max_demand_regular[i] - (slope_regular[i]*p_regular[i]) >= 0, \"Regular Supply Constraint\")\n",
    "\n",
    "for i in range(6):\n",
    "    model.addConstr(max_demand_jelly[i] - slope_jelly[i]*p_jelly[i] >= 0, \"Jelly Supply Constraint\")"
   ]
  },
  {
   "cell_type": "code",
   "execution_count": 33,
   "metadata": {},
   "outputs": [],
   "source": [
    "for n in range(6):  \n",
    "    model.addConstr(1.05*p_regular[n] <= p_jelly[n], \"5% Constraint\")"
   ]
  },
  {
   "cell_type": "code",
   "execution_count": 34,
   "metadata": {},
   "outputs": [],
   "source": [
    "for n in range(6):  \n",
    "    model.addConstr(p_regular[n] <= (2*2.99), \"Real-Life Regular Constraint\")\n",
    "\n",
    "for n in range(6):  \n",
    "    model.addConstr(p_jelly[n] <= (2*3.49), \"Real-Life Regular Constraint\")"
   ]
  },
  {
   "cell_type": "code",
   "execution_count": 35,
   "metadata": {},
   "outputs": [
    {
     "name": "stdout",
     "output_type": "stream",
     "text": [
      "Gurobi Optimizer version 11.0.0 build v11.0.0rc2 (win64 - Windows 11+.0 (22631.2))\n",
      "\n",
      "CPU model: Intel(R) Core(TM) i7-8750H CPU @ 2.20GHz, instruction set [SSE2|AVX|AVX2]\n",
      "Thread count: 6 physical cores, 12 logical processors, using up to 12 threads\n",
      "\n",
      "Optimize a model with 42 rows, 12 columns and 68 nonzeros\n",
      "Model fingerprint: 0x081ca51e\n",
      "Model has 12 quadratic objective terms\n",
      "Coefficient statistics:\n",
      "  Matrix range     [1e+00, 4e+01]\n",
      "  Objective range  [6e+01, 1e+02]\n",
      "  QObjective range [2e+01, 8e+01]\n",
      "  Bounds range     [0e+00, 0e+00]\n",
      "  RHS range        [6e+00, 3e+02]\n",
      "Presolve removed 27 rows and 0 columns\n",
      "Presolve time: 0.00s\n",
      "Presolved: 15 rows, 12 columns, 38 nonzeros\n",
      "Presolved model has 12 quadratic objective terms\n",
      "Ordering time: 0.00s\n",
      "\n",
      "Barrier statistics:\n",
      " AA' NZ     : 3.700e+01\n",
      " Factor NZ  : 1.200e+02\n",
      " Factor Ops : 1.240e+03 (less than 1 second per iteration)\n",
      " Threads    : 1\n",
      "\n",
      "                  Objective                Residual\n",
      "Iter       Primal          Dual         Primal    Dual     Compl     Time\n",
      "   0  -2.24316880e+08  2.27655249e+08  1.00e+03 9.23e+02  8.71e+05     0s\n",
      "   1  -2.27299752e+07  2.56926663e+07  4.64e+02 2.15e+02  2.13e+05     0s\n",
      "   2  -1.51988309e+03  3.06318903e+06  3.99e+00 3.38e+00  4.66e+03     0s\n",
      "   3   9.40769363e+02  1.44850021e+06  5.02e-01 2.34e-01  8.12e+02     0s\n",
      "   4   9.76333184e+02  2.91716636e+05  3.39e-02 1.61e-02  1.28e+02     0s\n",
      "   5   9.83969324e+02  1.66444224e+04  2.74e-04 5.48e-04  6.32e+00     0s\n",
      "   6   9.84517644e+02  1.11226400e+03  0.00e+00 3.54e-06  5.12e-02     0s\n",
      "   7   1.02149078e+03  1.06070103e+03  0.00e+00 5.20e-08  1.57e-02     0s\n",
      "   8   1.02730491e+03  1.02826038e+03  0.00e+00 5.28e-14  3.83e-04     0s\n",
      "   9   1.02794532e+03  1.02794934e+03  0.00e+00 2.22e-16  1.61e-06     0s\n",
      "  10   1.02794850e+03  1.02794851e+03  0.00e+00 9.99e-16  1.61e-09     0s\n",
      "\n",
      "Barrier solved model in 10 iterations and 0.02 seconds (0.00 work units)\n",
      "Optimal objective 1.02794850e+03\n",
      "\n"
     ]
    }
   ],
   "source": [
    "# Solve our model\n",
    "model.optimize()"
   ]
  },
  {
   "cell_type": "code",
   "execution_count": 36,
   "metadata": {},
   "outputs": [
    {
     "name": "stdout",
     "output_type": "stream",
     "text": [
      "Profit:  1027.95\n"
     ]
    }
   ],
   "source": [
    "# Value of the objective function\n",
    "print(\"Profit: \", round(model.objVal,2))"
   ]
  },
  {
   "cell_type": "code",
   "execution_count": 37,
   "metadata": {},
   "outputs": [
    {
     "name": "stdout",
     "output_type": "stream",
     "text": [
      "\n",
      "    Variable            X \n",
      "-------------------------\n",
      "Regular Price[0]       4.4898 \n",
      "Regular Price[1]      5.05238 \n",
      "Regular Price[2]         5.98 \n",
      "Regular Price[3]         5.98 \n",
      "Regular Price[4]      2.22222 \n",
      "Regular Price[5]      0.97619 \n",
      "Jelly Price[0]      4.71429 \n",
      "Jelly Price[1]        5.305 \n",
      "Jelly Price[2]        6.279 \n",
      "Jelly Price[3]        6.279 \n",
      "Jelly Price[4]      2.33333 \n",
      "Jelly Price[5]      1.28143 \n",
      "None\n"
     ]
    }
   ],
   "source": [
    "# Print the decision variables\n",
    "print(model.printAttr('X'))"
   ]
  },
  {
   "cell_type": "code",
   "execution_count": null,
   "metadata": {},
   "outputs": [],
   "source": []
  }
 ],
 "metadata": {
  "kernelspec": {
   "display_name": "Python 3",
   "language": "python",
   "name": "python3"
  },
  "language_info": {
   "codemirror_mode": {
    "name": "ipython",
    "version": 3
   },
   "file_extension": ".py",
   "mimetype": "text/x-python",
   "name": "python",
   "nbconvert_exporter": "python",
   "pygments_lexer": "ipython3",
   "version": "3.11.3"
  }
 },
 "nbformat": 4,
 "nbformat_minor": 2
}
