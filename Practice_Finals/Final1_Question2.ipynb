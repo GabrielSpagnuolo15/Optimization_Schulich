{
 "cells": [
  {
   "cell_type": "code",
   "execution_count": 91,
   "metadata": {},
   "outputs": [],
   "source": [
    "from gurobipy import GRB\n",
    "import gurobipy as gb\n",
    "import pandas as pd\n",
    "import numpy as np"
   ]
  },
  {
   "cell_type": "code",
   "execution_count": 92,
   "metadata": {},
   "outputs": [],
   "source": [
    "# Create the optimization model\n",
    "model = gb.Model(\"Question 2: Puff\")"
   ]
  },
  {
   "cell_type": "code",
   "execution_count": 93,
   "metadata": {},
   "outputs": [],
   "source": [
    "max_demand_regular = [72, 70, 123, 93, 51, 41]\n",
    "slope_regular = [15, 12, 13, 8, 20, 42]\n",
    "max_demand_jelly = [66, 76, 116, 86, 56, 46]\n",
    "slope_jelly = [14, 13, 11, 8, 24, 28]"
   ]
  },
  {
   "cell_type": "code",
   "execution_count": 94,
   "metadata": {},
   "outputs": [],
   "source": [
    "p_regular = model.addVars(6, lb=0, vtype=GRB.CONTINUOUS, name=\"Regular Price\")\n",
    "p_jelly = model.addVars(6, lb=0, vtype=GRB.CONTINUOUS, name=\"Jelly Price\")\n",
    "model.setObjective(gb.quicksum(((p_regular[i] - (2*0.33))*(max_demand_regular[i] - slope_regular[i]*p_regular[i])) + ((p_jelly[i] - (2*0.46))*(max_demand_jelly[i] - slope_jelly[i]*p_jelly[i])) for i in range(6)), GRB.MAXIMIZE)"
   ]
  },
  {
   "cell_type": "code",
   "execution_count": 95,
   "metadata": {},
   "outputs": [],
   "source": [
    "# Price Constraint\n",
    "for n in range(2):  \n",
    "    model.addConstr(p_regular[n] <= p_regular[n + 1], f\"Regular Price Constraint {n}\")\n",
    "\n",
    "for n in range(2):  \n",
    "    model.addConstr(p_jelly[n] <= p_jelly[n + 1], f\"Jelly Price Constraint {n}\")"
   ]
  },
  {
   "cell_type": "code",
   "execution_count": 96,
   "metadata": {},
   "outputs": [],
   "source": [
    "# Price Constraint\n",
    "for n in range(2,5):  \n",
    "    model.addConstr(p_regular[n] >= p_regular[n + 1], f\"Regular Price Constraint {n}\")\n",
    "\n",
    "for n in range(2,5):  \n",
    "    model.addConstr(p_jelly[n] >= p_jelly[n + 1], f\"Jelly Price Constraint {n}\")"
   ]
  },
  {
   "cell_type": "code",
   "execution_count": 97,
   "metadata": {},
   "outputs": [
    {
     "data": {
      "text/plain": [
       "<gurobi.Constr *Awaiting Model Update*>"
      ]
     },
     "execution_count": 97,
     "metadata": {},
     "output_type": "execute_result"
    }
   ],
   "source": [
    "model.addConstr(gb.quicksum(max_demand_regular[i] - (slope_regular[i]*p_regular[i]) for i in range(6)) <= (222/2), \"Regular Supply Constraint\")\n",
    "model.addConstr(gb.quicksum(max_demand_regular[i] - (slope_regular[i]*p_regular[i]) for i in range(6)) >= (0), \"Regular Supply Constraint\")\n",
    "\n",
    "model.addConstr(gb.quicksum(max_demand_jelly[i] - slope_jelly[i]*p_jelly[i] for i in range(6)) <= (274/2), \"Jelly Supply Constraint\")\n",
    "model.addConstr(gb.quicksum(max_demand_jelly[i] - slope_jelly[i]*p_jelly[i] for i in range(6)) >= (0), \"Jelly Supply Constraint\")"
   ]
  },
  {
   "cell_type": "code",
   "execution_count": 98,
   "metadata": {},
   "outputs": [],
   "source": [
    "#for n in range(6):  \n",
    "    #model.addConstr(1.05*p_regular[n] <= p_jelly[n], \"5% Constraint\")"
   ]
  },
  {
   "cell_type": "code",
   "execution_count": 99,
   "metadata": {},
   "outputs": [
    {
     "name": "stdout",
     "output_type": "stream",
     "text": [
      "Gurobi Optimizer version 11.0.0 build v11.0.0rc2 (win64 - Windows 11+.0 (22631.2))\n",
      "\n",
      "CPU model: Intel(R) Core(TM) i7-8750H CPU @ 2.20GHz, instruction set [SSE2|AVX|AVX2]\n",
      "Thread count: 6 physical cores, 12 logical processors, using up to 12 threads\n",
      "\n",
      "Optimize a model with 14 rows, 12 columns and 44 nonzeros\n",
      "Model fingerprint: 0x69a2f00d\n",
      "Model has 12 quadratic objective terms\n",
      "Coefficient statistics:\n",
      "  Matrix range     [1e+00, 4e+01]\n",
      "  Objective range  [6e+01, 1e+02]\n",
      "  QObjective range [2e+01, 8e+01]\n",
      "  Bounds range     [0e+00, 0e+00]\n",
      "  RHS range        [3e+02, 5e+02]\n",
      "Presolve removed 2 rows and 0 columns\n",
      "Presolve time: 0.01s\n",
      "Presolved: 12 rows, 14 columns, 34 nonzeros\n",
      "Presolved model has 12 quadratic objective terms\n",
      "Ordering time: 0.00s\n",
      "\n",
      "Barrier statistics:\n",
      " AA' NZ     : 1.800e+01\n",
      " Factor NZ  : 4.200e+01\n",
      " Factor Ops : 1.820e+02 (less than 1 second per iteration)\n",
      " Threads    : 1\n",
      "\n",
      "                  Objective                Residual\n",
      "Iter       Primal          Dual         Primal    Dual     Compl     Time\n",
      "   0  -2.24504957e+08  2.26218589e+08  4.31e+03 0.00e+00  1.00e+06     0s\n",
      "   1  -2.88969406e+07  3.20331786e+07  9.00e+02 2.27e-13  2.29e+05     0s\n",
      "   2  -1.18100195e+05  4.99378176e+06  3.94e+01 2.27e-13  1.36e+04     0s\n",
      "   3  -5.24293202e+03  2.90685875e+06  3.94e-05 1.14e-13  1.75e+03     0s\n",
      "   4  -5.07571575e+03  2.43935368e+04  2.94e-07 1.47e-13  1.77e+01     0s\n",
      "   5  -3.42978050e+02  6.50678983e+03  2.93e-13 2.66e-15  4.12e+00     0s\n",
      "   6   9.26469839e+02  1.98607082e+03  1.78e-15 8.88e-16  6.37e-01     0s\n",
      "   7   1.14668711e+03  1.25039855e+03  0.00e+00 4.44e-16  6.23e-02     0s\n",
      "   8   1.16857737e+03  1.17367786e+03  0.00e+00 4.44e-16  3.07e-03     0s\n",
      "   9   1.17058958e+03  1.17095732e+03  1.78e-15 4.44e-16  2.21e-04     0s\n",
      "  10   1.17079617e+03  1.17084066e+03  1.78e-15 2.22e-16  2.67e-05     0s\n",
      "  11   1.17083026e+03  1.17083255e+03  3.55e-15 4.44e-16  1.38e-06     0s\n",
      "  12   1.17083241e+03  1.17083241e+03  0.00e+00 4.44e-16  2.30e-09     0s\n",
      "\n",
      "Barrier solved model in 12 iterations and 0.03 seconds (0.00 work units)\n",
      "Optimal objective 1.17083241e+03\n",
      "\n"
     ]
    }
   ],
   "source": [
    "# Solve our model\n",
    "model.optimize()"
   ]
  },
  {
   "cell_type": "code",
   "execution_count": 100,
   "metadata": {},
   "outputs": [
    {
     "name": "stdout",
     "output_type": "stream",
     "text": [
      "Profit:  1170.83\n"
     ]
    }
   ],
   "source": [
    "# Value of the objective function\n",
    "print(\"Profit: \", round(model.objVal,2))"
   ]
  },
  {
   "cell_type": "code",
   "execution_count": 101,
   "metadata": {},
   "outputs": [
    {
     "name": "stdout",
     "output_type": "stream",
     "text": [
      "\n",
      "    Variable            X \n",
      "-------------------------\n",
      "Regular Price[0]      3.43636 \n",
      "Regular Price[1]      3.95303 \n",
      "Regular Price[2]      6.17922 \n",
      "Regular Price[3]      6.17922 \n",
      "Regular Price[4]      2.31136 \n",
      "Regular Price[5]      1.52446 \n",
      "Jelly Price[0]      3.23469 \n",
      "Jelly Price[1]      3.80063 \n",
      "Jelly Price[2]      6.19334 \n",
      "Jelly Price[3]      6.19334 \n",
      "Jelly Price[4]      2.04422 \n",
      "Jelly Price[5]      1.69898 \n",
      "None\n"
     ]
    }
   ],
   "source": [
    "# Print the decision variables\n",
    "print(model.printAttr('X'))"
   ]
  },
  {
   "cell_type": "code",
   "execution_count": null,
   "metadata": {},
   "outputs": [],
   "source": []
  }
 ],
 "metadata": {
  "kernelspec": {
   "display_name": "Python 3",
   "language": "python",
   "name": "python3"
  },
  "language_info": {
   "codemirror_mode": {
    "name": "ipython",
    "version": 3
   },
   "file_extension": ".py",
   "mimetype": "text/x-python",
   "name": "python",
   "nbconvert_exporter": "python",
   "pygments_lexer": "ipython3",
   "version": "3.11.3"
  }
 },
 "nbformat": 4,
 "nbformat_minor": 2
}
