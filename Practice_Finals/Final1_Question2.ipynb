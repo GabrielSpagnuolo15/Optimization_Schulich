{
 "cells": [
  {
   "cell_type": "code",
   "execution_count": 102,
   "metadata": {},
   "outputs": [],
   "source": [
    "from gurobipy import GRB\n",
    "import gurobipy as gb\n",
    "import pandas as pd\n",
    "import numpy as np"
   ]
  },
  {
   "cell_type": "code",
   "execution_count": 103,
   "metadata": {},
   "outputs": [],
   "source": [
    "# Create the optimization model\n",
    "model = gb.Model(\"Question 2: Puff\")"
   ]
  },
  {
   "cell_type": "code",
   "execution_count": 104,
   "metadata": {},
   "outputs": [],
   "source": [
    "max_demand_regular = [72, 70, 123, 93, 51, 41]\n",
    "slope_regular = [15, 12, 13, 8, 20, 42]\n",
    "max_demand_jelly = [66, 76, 116, 86, 56, 46]\n",
    "slope_jelly = [14, 13, 11, 8, 24, 28]"
   ]
  },
  {
   "cell_type": "code",
   "execution_count": 105,
   "metadata": {},
   "outputs": [],
   "source": [
    "p_regular = model.addVars(6, lb=0, vtype=GRB.CONTINUOUS, name=\"Regular Price\")\n",
    "p_jelly = model.addVars(6, lb=0, vtype=GRB.CONTINUOUS, name=\"Jelly Price\")\n",
    "model.setObjective(gb.quicksum(((p_regular[i] - (2*0.33))*(max_demand_regular[i] - slope_regular[i]*p_regular[i])) + ((p_jelly[i] - (2*0.46))*(max_demand_jelly[i] - slope_jelly[i]*p_jelly[i])) for i in range(6)), GRB.MAXIMIZE)"
   ]
  },
  {
   "cell_type": "code",
   "execution_count": 106,
   "metadata": {},
   "outputs": [],
   "source": [
    "# Price Constraint\n",
    "for n in range(2):  \n",
    "    model.addConstr(p_regular[n] <= p_regular[n + 1], f\"Regular Price Constraint {n}\")\n",
    "\n",
    "for n in range(2):  \n",
    "    model.addConstr(p_jelly[n] <= p_jelly[n + 1], f\"Jelly Price Constraint {n}\")"
   ]
  },
  {
   "cell_type": "code",
   "execution_count": 107,
   "metadata": {},
   "outputs": [],
   "source": [
    "# Price Constraint\n",
    "for n in range(2,5):  \n",
    "    model.addConstr(p_regular[n] >= p_regular[n + 1], f\"Regular Price Constraint {n}\")\n",
    "\n",
    "for n in range(2,5):  \n",
    "    model.addConstr(p_jelly[n] >= p_jelly[n + 1], f\"Jelly Price Constraint {n}\")"
   ]
  },
  {
   "cell_type": "code",
   "execution_count": 108,
   "metadata": {},
   "outputs": [
    {
     "data": {
      "text/plain": [
       "<gurobi.Constr *Awaiting Model Update*>"
      ]
     },
     "execution_count": 108,
     "metadata": {},
     "output_type": "execute_result"
    }
   ],
   "source": [
    "model.addConstr(gb.quicksum(max_demand_regular[i] - (slope_regular[i]*p_regular[i]) for i in range(6)) <= (222/2), \"Regular Supply Constraint\")\n",
    "model.addConstr(gb.quicksum(max_demand_regular[i] - (slope_regular[i]*p_regular[i]) for i in range(6)) >= (0), \"Regular Supply Constraint\")\n",
    "\n",
    "model.addConstr(gb.quicksum(max_demand_jelly[i] - slope_jelly[i]*p_jelly[i] for i in range(6)) <= (274/2), \"Jelly Supply Constraint\")\n",
    "model.addConstr(gb.quicksum(max_demand_jelly[i] - slope_jelly[i]*p_jelly[i] for i in range(6)) >= (0), \"Jelly Supply Constraint\")"
   ]
  },
  {
   "cell_type": "code",
   "execution_count": 109,
   "metadata": {},
   "outputs": [],
   "source": [
    "#for n in range(6):  \n",
    "    #model.addConstr(1.05*p_regular[n] <= p_jelly[n], \"5% Constraint\")"
   ]
  },
  {
   "cell_type": "code",
   "execution_count": 110,
   "metadata": {},
   "outputs": [
    {
     "name": "stdout",
     "output_type": "stream",
     "text": [
      "Gurobi Optimizer version 11.0.0 build v11.0.0rc2 (win64 - Windows 11+.0 (22631.2))\n",
      "\n",
      "CPU model: Intel(R) Core(TM) i7-8750H CPU @ 2.20GHz, instruction set [SSE2|AVX|AVX2]\n",
      "Thread count: 6 physical cores, 12 logical processors, using up to 12 threads\n",
      "\n",
      "Optimize a model with 20 rows, 12 columns and 56 nonzeros\n",
      "Model fingerprint: 0x8827141c\n",
      "Model has 12 quadratic objective terms\n",
      "Coefficient statistics:\n",
      "  Matrix range     [1e+00, 4e+01]\n",
      "  Objective range  [6e+01, 1e+02]\n",
      "  QObjective range [2e+01, 8e+01]\n",
      "  Bounds range     [0e+00, 0e+00]\n",
      "  RHS range        [3e+02, 5e+02]\n",
      "Presolve removed 2 rows and 0 columns\n",
      "Presolve time: 0.01s\n",
      "Presolved: 18 rows, 14 columns, 46 nonzeros\n",
      "Presolved model has 12 quadratic objective terms\n",
      "Ordering time: 0.00s\n",
      "\n",
      "Barrier statistics:\n",
      " AA' NZ     : 5.000e+01\n",
      " Factor NZ  : 1.710e+02\n",
      " Factor Ops : 2.109e+03 (less than 1 second per iteration)\n",
      " Threads    : 1\n",
      "\n",
      "                  Objective                Residual\n",
      "Iter       Primal          Dual         Primal    Dual     Compl     Time\n",
      "   0  -2.24491574e+08  2.26205206e+08  4.31e+03 0.00e+00  1.00e+06     0s\n",
      "   1  -4.11460454e+07  4.43585507e+07  1.26e+03 2.27e-13  3.23e+05     0s\n",
      "   2  -3.72882865e+05  5.37603933e+06  5.81e+01 3.07e-12  1.84e+04     0s\n",
      "   3  -2.04443121e+04  3.50072322e+06  4.97e+00 6.82e-13  2.75e+03     0s\n",
      "   4  -7.70655382e+03  1.27188173e+06  6.86e-02 2.84e-13  6.31e+02     0s\n",
      "   5  -7.03043425e+03  2.74594635e+04  1.22e-03 3.98e-13  1.68e+01     0s\n",
      "   6   2.36263351e+02  1.82897452e+04  1.22e-09 0.00e+00  8.82e+00     0s\n",
      "   7   6.14744799e+02  2.79948298e+03  1.37e-10 2.22e-15  1.07e+00     0s\n",
      "   8   1.03374095e+03  1.52989926e+03  1.78e-15 6.66e-16  2.42e-01     0s\n",
      "   9   1.13560898e+03  1.17060628e+03  1.78e-15 2.22e-16  1.71e-02     0s\n",
      "  10   1.14825704e+03  1.15006996e+03  0.00e+00 4.44e-16  8.85e-04     0s\n",
      "  11   1.14911222e+03  1.14912648e+03  0.00e+00 4.44e-16  6.96e-06     0s\n",
      "  12   1.14912476e+03  1.14912478e+03  1.78e-15 4.44e-16  6.95e-09     0s\n",
      "\n",
      "Barrier solved model in 12 iterations and 0.02 seconds (0.00 work units)\n",
      "Optimal objective 1.14912476e+03\n",
      "\n"
     ]
    }
   ],
   "source": [
    "# Solve our model\n",
    "model.optimize()"
   ]
  },
  {
   "cell_type": "code",
   "execution_count": 111,
   "metadata": {},
   "outputs": [
    {
     "name": "stdout",
     "output_type": "stream",
     "text": [
      "Profit:  1149.12\n"
     ]
    }
   ],
   "source": [
    "# Value of the objective function\n",
    "print(\"Profit: \", round(model.objVal,2))"
   ]
  },
  {
   "cell_type": "code",
   "execution_count": 112,
   "metadata": {},
   "outputs": [
    {
     "name": "stdout",
     "output_type": "stream",
     "text": [
      "\n",
      "    Variable            X \n",
      "-------------------------\n",
      "Regular Price[0]      3.33244 \n",
      "Regular Price[1]      3.81231 \n",
      "Regular Price[2]      6.12294 \n",
      "Regular Price[3]      6.12294 \n",
      "Regular Price[4]      2.12024 \n",
      "Regular Price[5]      1.72093 \n",
      "Jelly Price[0]      3.49906 \n",
      "Jelly Price[1]      4.00292 \n",
      "Jelly Price[2]      6.42909 \n",
      "Jelly Price[3]      6.42909 \n",
      "Jelly Price[4]      2.22625 \n",
      "Jelly Price[5]      1.80698 \n",
      "None\n"
     ]
    }
   ],
   "source": [
    "# Print the decision variables\n",
    "print(model.printAttr('X'))"
   ]
  },
  {
   "cell_type": "code",
   "execution_count": null,
   "metadata": {},
   "outputs": [],
   "source": []
  }
 ],
 "metadata": {
  "kernelspec": {
   "display_name": "Python 3",
   "language": "python",
   "name": "python3"
  },
  "language_info": {
   "codemirror_mode": {
    "name": "ipython",
    "version": 3
   },
   "file_extension": ".py",
   "mimetype": "text/x-python",
   "name": "python",
   "nbconvert_exporter": "python",
   "pygments_lexer": "ipython3",
   "version": "3.11.3"
  }
 },
 "nbformat": 4,
 "nbformat_minor": 2
}
