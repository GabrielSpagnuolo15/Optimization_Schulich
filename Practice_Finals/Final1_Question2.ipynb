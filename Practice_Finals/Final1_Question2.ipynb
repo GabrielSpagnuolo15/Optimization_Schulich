{
 "cells": [
  {
   "cell_type": "code",
   "execution_count": 58,
   "metadata": {},
   "outputs": [],
   "source": [
    "from gurobipy import GRB\n",
    "import gurobipy as gb\n",
    "import pandas as pd\n",
    "import numpy as np"
   ]
  },
  {
   "cell_type": "code",
   "execution_count": 59,
   "metadata": {},
   "outputs": [],
   "source": [
    "# Create the optimization model\n",
    "model = gb.Model(\"Question 2: Puff\")"
   ]
  },
  {
   "cell_type": "code",
   "execution_count": 60,
   "metadata": {},
   "outputs": [],
   "source": [
    "max_demand_regular = [72, 70, 123, 93, 51, 41]\n",
    "slope_regular = [15, 12, 13, 8, 20, 42]\n",
    "max_demand_jelly = [66, 76, 116, 86, 56, 46]\n",
    "slope_jelly = [14, 13, 11, 8, 24, 28]"
   ]
  },
  {
   "cell_type": "code",
   "execution_count": 61,
   "metadata": {},
   "outputs": [],
   "source": [
    "p_regular = model.addVars(6, lb=0, vtype=GRB.CONTINUOUS, name=\"Regular Price\")\n",
    "p_jelly = model.addVars(6, lb=0, vtype=GRB.CONTINUOUS, name=\"Jelly Price\")\n",
    "model.setObjective(gb.quicksum((p_regular[i] - (2*0.33))*(max_demand_regular[i] - slope_regular[i]*p_regular[i]) + (p_jelly[i] - (2*0.46))*(max_demand_jelly[i] - slope_jelly[i]*p_jelly[i]) for i in range(6)), GRB.MAXIMIZE)"
   ]
  },
  {
   "cell_type": "code",
   "execution_count": 62,
   "metadata": {},
   "outputs": [],
   "source": [
    "# Price Constraint\n",
    "for n in range(2):  \n",
    "    model.addConstr(p_regular[n] <= p_regular[n + 1], f\"Regular Price Constraint {n}\")\n",
    "\n",
    "for n in range(2):  \n",
    "    model.addConstr(p_jelly[n] <= p_jelly[n + 1], f\"Jelly Price Constraint {n}\")"
   ]
  },
  {
   "cell_type": "code",
   "execution_count": 63,
   "metadata": {},
   "outputs": [],
   "source": [
    "# Price Constraint\n",
    "for n in range(2,5):  \n",
    "    model.addConstr(p_regular[n] >= p_regular[n + 1], f\"Regular Price Constraint {n}\")\n",
    "\n",
    "for n in range(2,5):  \n",
    "    model.addConstr(p_jelly[n] >= p_jelly[n + 1], f\"Jelly Price Constraint {n}\")"
   ]
  },
  {
   "cell_type": "code",
   "execution_count": 64,
   "metadata": {},
   "outputs": [
    {
     "data": {
      "text/plain": [
       "<gurobi.Constr *Awaiting Model Update*>"
      ]
     },
     "execution_count": 64,
     "metadata": {},
     "output_type": "execute_result"
    }
   ],
   "source": [
    "model.addConstr(gb.quicksum(slope_regular[i]*p_regular[i] for i in range(6)) <= (222/2), \"Regular Supply Constraint\")\n",
    "model.addConstr(gb.quicksum(slope_regular[i]*p_regular[i] for i in range(6)) >= (0), \"Regular Supply Constraint\")\n",
    "\n",
    "model.addConstr(gb.quicksum(slope_jelly[i]*p_jelly[i] for i in range(6)) <= (274/2), \"Jelly Supply Constraint\")\n",
    "model.addConstr(gb.quicksum(slope_jelly[i]*p_jelly[i] for i in range(6)) >= (0), \"Jelly Supply Constraint\")"
   ]
  },
  {
   "cell_type": "code",
   "execution_count": 65,
   "metadata": {},
   "outputs": [],
   "source": [
    "for n in range(6):  \n",
    "    model.addConstr(1.05*p_regular[n] <= p_jelly[n], \"5% Constraint\")"
   ]
  },
  {
   "cell_type": "code",
   "execution_count": 66,
   "metadata": {},
   "outputs": [
    {
     "name": "stdout",
     "output_type": "stream",
     "text": [
      "Gurobi Optimizer version 11.0.0 build v11.0.0rc2 (win64 - Windows 11+.0 (22631.2))\n",
      "\n",
      "CPU model: Intel(R) Core(TM) i7-8750H CPU @ 2.20GHz, instruction set [SSE2|AVX|AVX2]\n",
      "Thread count: 6 physical cores, 12 logical processors, using up to 12 threads\n",
      "\n",
      "Optimize a model with 20 rows, 12 columns and 56 nonzeros\n",
      "Model fingerprint: 0x75a9ef6d\n",
      "Model has 12 quadratic objective terms\n",
      "Coefficient statistics:\n",
      "  Matrix range     [1e+00, 4e+01]\n",
      "  Objective range  [6e+01, 1e+02]\n",
      "  QObjective range [2e+01, 8e+01]\n",
      "  Bounds range     [0e+00, 0e+00]\n",
      "  RHS range        [1e+02, 1e+02]\n",
      "Presolve removed 2 rows and 0 columns\n",
      "Presolve time: 0.01s\n",
      "Presolved: 18 rows, 12 columns, 44 nonzeros\n",
      "Presolved model has 12 quadratic objective terms\n",
      "Ordering time: 0.00s\n",
      "\n",
      "Barrier statistics:\n",
      " AA' NZ     : 5.000e+01\n",
      " Factor NZ  : 1.710e+02\n",
      " Factor Ops : 2.109e+03 (less than 1 second per iteration)\n",
      " Threads    : 1\n",
      "\n",
      "                  Objective                Residual\n",
      "Iter       Primal          Dual         Primal    Dual     Compl     Time\n",
      "   0  -2.23603844e+08  2.24819257e+08  3.31e+03 0.00e+00  1.00e+06     0s\n",
      "   1  -3.05294392e+07  3.17603582e+07  9.92e+02 2.27e-13  2.61e+05     0s\n",
      "   2  -1.63028964e+05  1.75298909e+06  5.97e+01 5.68e-14  2.23e+04     0s\n",
      "   3   4.16440179e+02  1.45774741e+06  1.29e-01 0.00e+00  9.17e+02     0s\n",
      "   4   3.88799201e+02  2.44312366e+05  6.14e-03 1.19e-13  1.30e+02     0s\n",
      "   5   3.90074831e+02  3.70392821e+03  0.00e+00 0.00e+00  1.73e+00     0s\n",
      "   6   5.56879581e+02  1.43991741e+03  0.00e+00 0.00e+00  4.60e-01     0s\n",
      "   7   7.94901756e+02  1.03509659e+03  0.00e+00 2.22e-16  1.25e-01     0s\n",
      "   8   8.31581791e+02  8.59947449e+02  0.00e+00 2.22e-16  1.48e-02     0s\n",
      "   9   8.39281847e+02  8.43936588e+02  0.00e+00 2.22e-16  2.42e-03     0s\n",
      "  10   8.41052478e+02  8.41451718e+02  0.00e+00 0.00e+00  2.08e-04     0s\n",
      "  11   8.41268292e+02  8.41284426e+02  0.00e+00 2.29e-16  8.40e-06     0s\n",
      "  12   8.41282565e+02  8.41282614e+02  0.00e+00 2.50e-16  2.58e-08     0s\n",
      "  13   8.41282612e+02  8.41282612e+02  0.00e+00 2.29e-16  2.58e-11     0s\n",
      "\n",
      "Barrier solved model in 13 iterations and 0.02 seconds (0.00 work units)\n",
      "Optimal objective 8.41282612e+02\n",
      "\n"
     ]
    }
   ],
   "source": [
    "# Solve our model\n",
    "model.optimize()"
   ]
  },
  {
   "cell_type": "code",
   "execution_count": 67,
   "metadata": {},
   "outputs": [
    {
     "name": "stdout",
     "output_type": "stream",
     "text": [
      "Profit:  841.28\n"
     ]
    }
   ],
   "source": [
    "# Value of the objective function\n",
    "print(\"Profit: \", round(model.objVal,2))"
   ]
  },
  {
   "cell_type": "code",
   "execution_count": 68,
   "metadata": {},
   "outputs": [
    {
     "name": "stdout",
     "output_type": "stream",
     "text": [
      "\n",
      "    Variable            X \n",
      "-------------------------\n",
      "Regular Price[0]     0.983333 \n",
      "Regular Price[1]          1.5 \n",
      "Regular Price[2]      3.72619 \n",
      "Regular Price[3]      3.72619 \n",
      "Jelly Price[0]      1.45714 \n",
      "Jelly Price[1]      2.02308 \n",
      "Jelly Price[2]      4.41579 \n",
      "Jelly Price[3]      4.41579 \n",
      "Jelly Price[4]     0.266667 \n",
      "None\n"
     ]
    }
   ],
   "source": [
    "# Print the decision variables\n",
    "print(model.printAttr('X'))"
   ]
  },
  {
   "cell_type": "code",
   "execution_count": null,
   "metadata": {},
   "outputs": [],
   "source": []
  }
 ],
 "metadata": {
  "kernelspec": {
   "display_name": "Python 3",
   "language": "python",
   "name": "python3"
  },
  "language_info": {
   "codemirror_mode": {
    "name": "ipython",
    "version": 3
   },
   "file_extension": ".py",
   "mimetype": "text/x-python",
   "name": "python",
   "nbconvert_exporter": "python",
   "pygments_lexer": "ipython3",
   "version": "3.11.3"
  }
 },
 "nbformat": 4,
 "nbformat_minor": 2
}
