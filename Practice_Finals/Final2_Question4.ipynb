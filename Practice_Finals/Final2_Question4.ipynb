{
 "cells": [
  {
   "cell_type": "code",
   "execution_count": 30,
   "metadata": {},
   "outputs": [],
   "source": [
    "from gurobipy import GRB\n",
    "import gurobipy as gb\n",
    "import pandas as pd\n",
    "import numpy as np"
   ]
  },
  {
   "cell_type": "code",
   "execution_count": 31,
   "metadata": {},
   "outputs": [],
   "source": [
    "# Create the optimization model\n",
    "question_4_model = gb.Model(\"Question 4: Charging\")"
   ]
  },
  {
   "cell_type": "code",
   "execution_count": 32,
   "metadata": {},
   "outputs": [],
   "source": [
    "x = question_4_model.addVars(30, lb=0, vtype=GRB.BINARY, name=\"Sites Company 1\")\n",
    "y = question_4_model.addVars(30, lb=0, vtype=GRB.INTEGER, name=\"Units\")\n",
    "z = question_4_model.addVars(30, lb=0, vtype=GRB.BINARY, name=\"Sites Company 2\")"
   ]
  },
  {
   "cell_type": "code",
   "execution_count": 33,
   "metadata": {},
   "outputs": [],
   "source": [
    "fixed_cost_1 = gb.quicksum(2500000*x[i] for i in range(30))\n",
    "fixed_cost_2 = gb.quicksum(2500000*z[i] for i in range(30))\n",
    "variable_cost = gb.quicksum(150000*y[i] for i in range(30))\n",
    "question_4_model.setObjective(fixed_cost_1 + fixed_cost_2 + variable_cost, GRB.MINIMIZE)"
   ]
  },
  {
   "cell_type": "code",
   "execution_count": 34,
   "metadata": {},
   "outputs": [
    {
     "data": {
      "text/plain": [
       "<gurobi.Constr *Awaiting Model Update*>"
      ]
     },
     "execution_count": 34,
     "metadata": {},
     "output_type": "execute_result"
    }
   ],
   "source": [
    "question_4_model.addConstr(gb.quicksum(x[i]+z[i] for i in range(30)) >= 14, \"Min Sites Constraint Both Companies\")"
   ]
  },
  {
   "cell_type": "code",
   "execution_count": 35,
   "metadata": {},
   "outputs": [],
   "source": [
    "for i in range(30):\n",
    "    question_4_model.addConstr(y[i] <= 18*x[i], \"Max Unit Constraint Company 1\")\n",
    "\n",
    "for i in range(30):\n",
    "    question_4_model.addConstr(y[i] <= 18*z[i], \"Max Unit Constraint Company 2\")"
   ]
  },
  {
   "cell_type": "code",
   "execution_count": 36,
   "metadata": {},
   "outputs": [
    {
     "data": {
      "text/plain": [
       "<gurobi.Constr *Awaiting Model Update*>"
      ]
     },
     "execution_count": 36,
     "metadata": {},
     "output_type": "execute_result"
    }
   ],
   "source": [
    "question_4_model.addConstr(x[1] <= x[29], \"c Constraint Company 1\")"
   ]
  },
  {
   "cell_type": "code",
   "execution_count": 37,
   "metadata": {},
   "outputs": [
    {
     "data": {
      "text/plain": [
       "<gurobi.Constr *Awaiting Model Update*>"
      ]
     },
     "execution_count": 37,
     "metadata": {},
     "output_type": "execute_result"
    }
   ],
   "source": [
    "question_4_model.addConstr(z[1] <= z[29], \"c Constraint Company 2\")"
   ]
  },
  {
   "cell_type": "code",
   "execution_count": 38,
   "metadata": {},
   "outputs": [
    {
     "data": {
      "text/plain": [
       "<gurobi.Constr *Awaiting Model Update*>"
      ]
     },
     "execution_count": 38,
     "metadata": {},
     "output_type": "execute_result"
    }
   ],
   "source": [
    "question_4_model.addConstr(x[7] <= 1 - x[20], \"d Constraint Company 1\")"
   ]
  },
  {
   "cell_type": "code",
   "execution_count": 39,
   "metadata": {},
   "outputs": [
    {
     "data": {
      "text/plain": [
       "<gurobi.Constr *Awaiting Model Update*>"
      ]
     },
     "execution_count": 39,
     "metadata": {},
     "output_type": "execute_result"
    }
   ],
   "source": [
    "question_4_model.addConstr(z[2] + z[10] + z[16] + z[18] + z[22] == 4, \"e Constraint Company 2\")"
   ]
  },
  {
   "cell_type": "code",
   "execution_count": 40,
   "metadata": {},
   "outputs": [
    {
     "data": {
      "text/plain": [
       "<gurobi.Constr *Awaiting Model Update*>"
      ]
     },
     "execution_count": 40,
     "metadata": {},
     "output_type": "execute_result"
    }
   ],
   "source": [
    "question_4_model.addConstr(x[11] + z[11] + x[14] + z[14] + x[17] + z[17] >= 1, \"f Constraint Both Companies\")"
   ]
  },
  {
   "cell_type": "code",
   "execution_count": 41,
   "metadata": {},
   "outputs": [
    {
     "data": {
      "text/plain": [
       "<gurobi.Constr *Awaiting Model Update*>"
      ]
     },
     "execution_count": 41,
     "metadata": {},
     "output_type": "execute_result"
    }
   ],
   "source": [
    "question_4_model.addConstr(3*x[0] <= x[25] + x[26] + x[27], \"g Constraint Company 1\")"
   ]
  },
  {
   "cell_type": "code",
   "execution_count": 42,
   "metadata": {},
   "outputs": [
    {
     "data": {
      "text/plain": [
       "<gurobi.Constr *Awaiting Model Update*>"
      ]
     },
     "execution_count": 42,
     "metadata": {},
     "output_type": "execute_result"
    }
   ],
   "source": [
    "question_4_model.addConstr(y[13] == y[21], \"h Constraint Units\")"
   ]
  },
  {
   "cell_type": "code",
   "execution_count": 43,
   "metadata": {},
   "outputs": [],
   "source": [
    "for i in range(30):\n",
    "    question_4_model.addConstr(x[i] + z[i] <= 1, \"Only 1 Company Constraint\")"
   ]
  },
  {
   "cell_type": "code",
   "execution_count": 44,
   "metadata": {},
   "outputs": [
    {
     "name": "stdout",
     "output_type": "stream",
     "text": [
      "Gurobi Optimizer version 11.0.0 build v11.0.0rc2 (win64 - Windows 11+.0 (22631.2))\n",
      "\n",
      "CPU model: Intel(R) Core(TM) i7-8750H CPU @ 2.20GHz, instruction set [SSE2|AVX|AVX2]\n",
      "Thread count: 6 physical cores, 12 logical processors, using up to 12 threads\n",
      "\n",
      "Optimize a model with 98 rows, 90 columns and 263 nonzeros\n",
      "Model fingerprint: 0xd24b44d1\n",
      "Variable types: 0 continuous, 90 integer (60 binary)\n",
      "Coefficient statistics:\n",
      "  Matrix range     [1e+00, 2e+01]\n",
      "  Objective range  [2e+05, 3e+06]\n",
      "  Bounds range     [1e+00, 1e+00]\n",
      "  RHS range        [1e+00, 1e+01]\n",
      "Found heuristic solution: objective 3.500000e+07\n",
      "Presolve removed 98 rows and 90 columns\n",
      "Presolve time: 0.00s\n",
      "Presolve: All rows and columns removed\n",
      "\n",
      "Explored 0 nodes (0 simplex iterations) in 0.01 seconds (0.00 work units)\n",
      "Thread count was 1 (of 12 available processors)\n",
      "\n",
      "Solution count 1: 3.5e+07 \n",
      "\n",
      "Optimal solution found (tolerance 1.00e-04)\n",
      "Best objective 3.500000000000e+07, best bound 3.500000000000e+07, gap 0.0000%\n"
     ]
    }
   ],
   "source": [
    "# Optimally solve the problem\n",
    "question_4_model.optimize()"
   ]
  },
  {
   "cell_type": "code",
   "execution_count": 45,
   "metadata": {},
   "outputs": [
    {
     "name": "stdout",
     "output_type": "stream",
     "text": [
      "Cost:  35000000.0\n"
     ]
    }
   ],
   "source": [
    "# Value of the objective function\n",
    "print(\"Cost: \", round(question_4_model.objVal,2))"
   ]
  },
  {
   "cell_type": "code",
   "execution_count": 46,
   "metadata": {},
   "outputs": [
    {
     "name": "stdout",
     "output_type": "stream",
     "text": [
      "\n",
      "    Variable            X \n",
      "-------------------------\n",
      "Sites Company 1[3]            1 \n",
      "Sites Company 1[4]            1 \n",
      "Sites Company 1[5]            1 \n",
      "Sites Company 1[8]            1 \n",
      "Sites Company 1[9]            1 \n",
      "Sites Company 1[27]            1 \n",
      "Sites Company 1[28]            1 \n",
      "Sites Company 2[10]            1 \n",
      "Sites Company 2[12]            1 \n",
      "Sites Company 2[13]            1 \n",
      "Sites Company 2[14]            1 \n",
      "Sites Company 2[16]            1 \n",
      "Sites Company 2[18]            1 \n",
      "Sites Company 2[22]            1 \n",
      "None\n"
     ]
    }
   ],
   "source": [
    "# Print the decision variables\n",
    "print(question_4_model.printAttr('X'))"
   ]
  }
 ],
 "metadata": {
  "kernelspec": {
   "display_name": "Python 3",
   "language": "python",
   "name": "python3"
  },
  "language_info": {
   "codemirror_mode": {
    "name": "ipython",
    "version": 3
   },
   "file_extension": ".py",
   "mimetype": "text/x-python",
   "name": "python",
   "nbconvert_exporter": "python",
   "pygments_lexer": "ipython3",
   "version": "3.11.3"
  }
 },
 "nbformat": 4,
 "nbformat_minor": 2
}
