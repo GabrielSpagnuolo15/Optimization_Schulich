{
 "cells": [
  {
   "cell_type": "code",
   "execution_count": 138,
   "metadata": {},
   "outputs": [],
   "source": [
    "from gurobipy import GRB\n",
    "import gurobipy as gb\n",
    "import pandas as pd\n",
    "import numpy as np"
   ]
  },
  {
   "cell_type": "code",
   "execution_count": 139,
   "metadata": {},
   "outputs": [],
   "source": [
    "# Create the optimization model\n",
    "question_1_model = gb.Model(\"Question 1: Toronto City Hall\")"
   ]
  },
  {
   "cell_type": "code",
   "execution_count": 140,
   "metadata": {},
   "outputs": [],
   "source": [
    "x = question_1_model.addVars(15, lb=0, vtype=GRB.BINARY, name=\"Sites\")\n",
    "y = question_1_model.addVars(15, 44, lb=0, vtype=GRB.CONTINUOUS, name=\"Kilograms\")"
   ]
  },
  {
   "cell_type": "code",
   "execution_count": 141,
   "metadata": {},
   "outputs": [],
   "source": [
    "fixed = gb.quicksum((500000*x[i]) for i in range(15))\n",
    "variable = gb.quicksum(((((i+1)/2) * (11 - ((n+1)/4)))*y[i,n]) for i in range(15) for n in range(44))\n",
    "question_1_model.setObjective(fixed + variable, GRB.MINIMIZE)"
   ]
  },
  {
   "cell_type": "code",
   "execution_count": 142,
   "metadata": {},
   "outputs": [],
   "source": [
    "for i in range(15):\n",
    "    question_1_model.addConstr(gb.quicksum(y[i,n] for n in range(44)) <= 4500*x[i], \"Max kg Constraint\")"
   ]
  },
  {
   "cell_type": "code",
   "execution_count": 143,
   "metadata": {},
   "outputs": [],
   "source": [
    "for n in range(44):\n",
    "    question_1_model.addConstr(gb.quicksum(y[i,n] for i in range(15)) >= 500, \"Min kg Constraint\")"
   ]
  },
  {
   "cell_type": "code",
   "execution_count": 144,
   "metadata": {},
   "outputs": [
    {
     "data": {
      "text/plain": [
       "<gurobi.Constr *Awaiting Model Update*>"
      ]
     },
     "execution_count": 144,
     "metadata": {},
     "output_type": "execute_result"
    }
   ],
   "source": [
    "question_1_model.addConstr(gb.quicksum(x[i] for i in range(15)) >= 8, \"Open Storage Sites Constraint\")"
   ]
  },
  {
   "cell_type": "code",
   "execution_count": 145,
   "metadata": {},
   "outputs": [
    {
     "data": {
      "text/plain": [
       "<gurobi.Constr *Awaiting Model Update*>"
      ]
     },
     "execution_count": 145,
     "metadata": {},
     "output_type": "execute_result"
    }
   ],
   "source": [
    "question_1_model.addConstr(x[1] + x[3] + x[5] + x[7] + x[9] + x[11] <= 3, \"At Most Storage Sites Constraint\")"
   ]
  },
  {
   "cell_type": "code",
   "execution_count": 146,
   "metadata": {},
   "outputs": [
    {
     "data": {
      "text/plain": [
       "<gurobi.Constr *Awaiting Model Update*>"
      ]
     },
     "execution_count": 146,
     "metadata": {},
     "output_type": "execute_result"
    }
   ],
   "source": [
    "question_1_model.addConstr(x[6] <= x[12], \"Must Storage Sites Constraint\")"
   ]
  },
  {
   "cell_type": "code",
   "execution_count": 147,
   "metadata": {},
   "outputs": [
    {
     "data": {
      "text/plain": [
       "<gurobi.Constr *Awaiting Model Update*>"
      ]
     },
     "execution_count": 147,
     "metadata": {},
     "output_type": "execute_result"
    }
   ],
   "source": [
    "question_1_model.addConstr(x[0] + x[4] + x[13] == 2, \"Equal Storage Sites Constraint\")"
   ]
  },
  {
   "cell_type": "code",
   "execution_count": 148,
   "metadata": {},
   "outputs": [],
   "source": [
    "for i in [1]:\n",
    "    for j in [11]:\n",
    "        question_1_model.addConstr(x[i] <= 1 - (x[j]), \"Second Last Constraint\")"
   ]
  },
  {
   "cell_type": "code",
   "execution_count": 149,
   "metadata": {},
   "outputs": [
    {
     "data": {
      "text/plain": [
       "<gurobi.Constr *Awaiting Model Update*>"
      ]
     },
     "execution_count": 149,
     "metadata": {},
     "output_type": "execute_result"
    }
   ],
   "source": [
    "question_1_model.addConstr(3*x[2] <= x[1] + x[8] + x[10], \"Last Constraint\")"
   ]
  },
  {
   "cell_type": "code",
   "execution_count": 150,
   "metadata": {},
   "outputs": [
    {
     "name": "stdout",
     "output_type": "stream",
     "text": [
      "Gurobi Optimizer version 11.0.0 build v11.0.0rc2 (win64 - Windows 11+.0 (22631.2))\n",
      "\n",
      "CPU model: Intel(R) Core(TM) i7-8750H CPU @ 2.20GHz, instruction set [SSE2|AVX|AVX2]\n",
      "Thread count: 6 physical cores, 12 logical processors, using up to 12 threads\n",
      "\n",
      "Optimize a model with 65 rows, 675 columns and 1367 nonzeros\n",
      "Model fingerprint: 0xc1e3f590\n",
      "Variable types: 660 continuous, 15 integer (15 binary)\n",
      "Coefficient statistics:\n",
      "  Matrix range     [1e+00, 5e+03]\n",
      "  Objective range  [1e-01, 5e+05]\n",
      "  Bounds range     [1e+00, 1e+00]\n",
      "  RHS range        [1e+00, 5e+02]\n",
      "Found heuristic solution: objective 5224500.0000\n",
      "Presolve time: 0.00s\n",
      "Presolved: 65 rows, 675 columns, 1364 nonzeros\n",
      "Found heuristic solution: objective 4715000.0000\n",
      "Variable types: 660 continuous, 15 integer (15 binary)\n",
      "\n",
      "Root relaxation: objective 4.126875e+06, 124 iterations, 0.00 seconds (0.00 work units)\n",
      "\n",
      "    Nodes    |    Current Node    |     Objective Bounds      |     Work\n",
      " Expl Unexpl |  Obj  Depth IntInf | Incumbent    BestBd   Gap | It/Node Time\n",
      "\n",
      "     0     0 4126875.00    0    2 4715000.00 4126875.00  12.5%     -    0s\n",
      "H    0     0                    4131875.0000 4126875.00  0.12%     -    0s\n",
      "H    0     0                    4131250.0000 4126875.00  0.11%     -    0s\n",
      "H    0     0                    4126875.0000 4126875.00  0.00%     -    0s\n",
      "\n",
      "Cutting planes:\n",
      "  MIR: 2\n",
      "  Flow cover: 7\n",
      "\n",
      "Explored 1 nodes (124 simplex iterations) in 0.37 seconds (0.01 work units)\n",
      "Thread count was 12 (of 12 available processors)\n",
      "\n",
      "Solution count 3: 4.12688e+06 4.715e+06 5.2245e+06 \n",
      "\n",
      "Optimal solution found (tolerance 1.00e-04)\n",
      "Best objective 4.126875000000e+06, best bound 4.126875000000e+06, gap 0.0000%\n"
     ]
    }
   ],
   "source": [
    "# Optimally solve the problem\n",
    "question_1_model.optimize()"
   ]
  },
  {
   "cell_type": "code",
   "execution_count": 151,
   "metadata": {},
   "outputs": [
    {
     "name": "stdout",
     "output_type": "stream",
     "text": [
      "Cost:  4126875.0\n"
     ]
    }
   ],
   "source": [
    "# Value of the objective function\n",
    "print(\"Cost: \", round(question_1_model.objVal,2))"
   ]
  },
  {
   "cell_type": "code",
   "execution_count": 152,
   "metadata": {},
   "outputs": [
    {
     "name": "stdout",
     "output_type": "stream",
     "text": [
      "\n",
      "    Variable            X \n",
      "-------------------------\n",
      "    Sites[0]            1 \n",
      "    Sites[1]            1 \n",
      "    Sites[2]            1 \n",
      "    Sites[3]            1 \n",
      "    Sites[4]            1 \n",
      "    Sites[5]            1 \n",
      "    Sites[8]            1 \n",
      "   Sites[10]            1 \n",
      "Kilograms[0,0]          500 \n",
      "Kilograms[0,1]          500 \n",
      "Kilograms[0,2]          500 \n",
      "Kilograms[0,3]          500 \n",
      "Kilograms[0,4]          500 \n",
      "Kilograms[0,5]          500 \n",
      "Kilograms[0,6]          500 \n",
      "Kilograms[0,7]          500 \n",
      "Kilograms[0,8]          500 \n",
      "Kilograms[1,9]          500 \n",
      "Kilograms[1,10]          500 \n",
      "Kilograms[1,11]          500 \n",
      "Kilograms[1,12]          500 \n",
      "Kilograms[1,13]          500 \n",
      "Kilograms[1,14]          500 \n",
      "Kilograms[1,15]          500 \n",
      "Kilograms[1,16]          500 \n",
      "Kilograms[1,17]          500 \n",
      "Kilograms[2,18]          500 \n",
      "Kilograms[2,19]          500 \n",
      "Kilograms[2,20]          500 \n",
      "Kilograms[2,21]          500 \n",
      "Kilograms[2,22]          500 \n",
      "Kilograms[2,23]          500 \n",
      "Kilograms[2,24]          500 \n",
      "Kilograms[2,25]          500 \n",
      "Kilograms[2,26]          500 \n",
      "Kilograms[3,27]          500 \n",
      "Kilograms[3,28]          500 \n",
      "Kilograms[3,29]          500 \n",
      "Kilograms[3,30]          500 \n",
      "Kilograms[3,31]          500 \n",
      "Kilograms[3,32]          500 \n",
      "Kilograms[3,33]          500 \n",
      "Kilograms[3,34]          500 \n",
      "Kilograms[3,35]          500 \n",
      "Kilograms[4,36]          500 \n",
      "Kilograms[4,37]          500 \n",
      "Kilograms[4,38]          500 \n",
      "Kilograms[4,39]          500 \n",
      "Kilograms[4,40]          500 \n",
      "Kilograms[4,41]          500 \n",
      "Kilograms[4,42]          500 \n",
      "Kilograms[4,43]         1000 \n",
      "Kilograms[5,43]         4500 \n",
      "Kilograms[8,43]         4500 \n",
      "Kilograms[10,43]         4500 \n",
      "None\n"
     ]
    }
   ],
   "source": [
    "# Print the decision variables\n",
    "print(question_1_model.printAttr('X'))"
   ]
  },
  {
   "cell_type": "code",
   "execution_count": null,
   "metadata": {},
   "outputs": [],
   "source": []
  }
 ],
 "metadata": {
  "kernelspec": {
   "display_name": "Python 3",
   "language": "python",
   "name": "python3"
  },
  "language_info": {
   "codemirror_mode": {
    "name": "ipython",
    "version": 3
   },
   "file_extension": ".py",
   "mimetype": "text/x-python",
   "name": "python",
   "nbconvert_exporter": "python",
   "pygments_lexer": "ipython3",
   "version": "3.11.3"
  }
 },
 "nbformat": 4,
 "nbformat_minor": 2
}
