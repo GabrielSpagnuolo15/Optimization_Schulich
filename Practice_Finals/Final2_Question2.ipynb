{
 "cells": [
  {
   "cell_type": "code",
   "execution_count": 144,
   "metadata": {},
   "outputs": [],
   "source": [
    "from gurobipy import GRB\n",
    "import gurobipy as gb\n",
    "import pandas as pd\n",
    "import numpy as np"
   ]
  },
  {
   "cell_type": "code",
   "execution_count": 145,
   "metadata": {},
   "outputs": [],
   "source": [
    "# Create the optimization model\n",
    "question_2_model = gb.Model(\"Question 2: Quayside\")"
   ]
  },
  {
   "cell_type": "code",
   "execution_count": 146,
   "metadata": {},
   "outputs": [],
   "source": [
    "x = question_2_model.addVars(11, lb=0, vtype=GRB.BINARY, name=\"Apartment A\")\n",
    "y = question_2_model.addVars(11, lb=0, vtype=GRB.BINARY, name=\"Apartment B\")\n",
    "z = question_2_model.addVars(11, lb=0, vtype=GRB.INTEGER, name=\"Units\")"
   ]
  },
  {
   "cell_type": "code",
   "execution_count": 147,
   "metadata": {},
   "outputs": [],
   "source": [
    "total_cost = gb.quicksum((10000000*(i+1))*x[i] + (10000000*(11 - (i+1)))*y[i] + 50000*z[i] for i in range(11))\n",
    "question_2_model.setObjective(total_cost, GRB.MINIMIZE)"
   ]
  },
  {
   "cell_type": "code",
   "execution_count": 148,
   "metadata": {},
   "outputs": [
    {
     "data": {
      "text/plain": [
       "<gurobi.Constr *Awaiting Model Update*>"
      ]
     },
     "execution_count": 148,
     "metadata": {},
     "output_type": "execute_result"
    }
   ],
   "source": [
    "question_2_model.addConstr(gb.quicksum((x[i] + y[i]) for i in range(11)) >= 4, \"Minimum Sites\")"
   ]
  },
  {
   "cell_type": "code",
   "execution_count": 149,
   "metadata": {},
   "outputs": [
    {
     "data": {
      "text/plain": [
       "<gurobi.Constr *Awaiting Model Update*>"
      ]
     },
     "execution_count": 149,
     "metadata": {},
     "output_type": "execute_result"
    }
   ],
   "source": [
    "question_2_model.addConstr(gb.quicksum((x[i] + y[i]) for i in range(11)) <= 9, \"Max Sites\")"
   ]
  },
  {
   "cell_type": "code",
   "execution_count": 150,
   "metadata": {},
   "outputs": [],
   "source": [
    "for i in range(11):\n",
    "    question_2_model.addConstr(z[i] >= (175*x[i] + 210*y[i]), \"Min Units\")"
   ]
  },
  {
   "cell_type": "code",
   "execution_count": 151,
   "metadata": {},
   "outputs": [],
   "source": [
    "for i in range(11):\n",
    "    question_2_model.addConstr(z[i] <= (245*x[i] + 305*y[i]), \"Max Units\")"
   ]
  },
  {
   "cell_type": "code",
   "execution_count": 152,
   "metadata": {},
   "outputs": [],
   "source": [
    "#for i in range(11):\n",
    "    #question_2_model.addConstr(z[i] >= 210*y[i], \"Min B Units\")"
   ]
  },
  {
   "cell_type": "code",
   "execution_count": 153,
   "metadata": {},
   "outputs": [],
   "source": [
    "#for i in range(11):\n",
    "    #question_2_model.addConstr(z[i] <= 305*y[i], \"Max B Units\")"
   ]
  },
  {
   "cell_type": "code",
   "execution_count": 154,
   "metadata": {},
   "outputs": [
    {
     "data": {
      "text/plain": [
       "<gurobi.Constr *Awaiting Model Update*>"
      ]
     },
     "execution_count": 154,
     "metadata": {},
     "output_type": "execute_result"
    }
   ],
   "source": [
    "question_2_model.addConstr(gb.quicksum(z[i] for i in range(11)) >= 2400, \"Min Units\")"
   ]
  },
  {
   "cell_type": "code",
   "execution_count": 155,
   "metadata": {},
   "outputs": [
    {
     "data": {
      "text/plain": [
       "<gurobi.Constr *Awaiting Model Update*>"
      ]
     },
     "execution_count": 155,
     "metadata": {},
     "output_type": "execute_result"
    }
   ],
   "source": [
    "question_2_model.addConstr(x[3] + y[3] <= x[6] + y[6], \"5) constraint\")"
   ]
  },
  {
   "cell_type": "code",
   "execution_count": 156,
   "metadata": {},
   "outputs": [
    {
     "data": {
      "text/plain": [
       "<gurobi.Constr *Awaiting Model Update*>"
      ]
     },
     "execution_count": 156,
     "metadata": {},
     "output_type": "execute_result"
    }
   ],
   "source": [
    "question_2_model.addConstr(x[4] <= y[5], \"6) constraint\")"
   ]
  },
  {
   "cell_type": "code",
   "execution_count": 157,
   "metadata": {},
   "outputs": [],
   "source": [
    "for i in range(11):\n",
    "    question_2_model.addConstr(x[i] + y[i] <= 1, \"Only 1 Apartment constraint\")"
   ]
  },
  {
   "cell_type": "code",
   "execution_count": 158,
   "metadata": {},
   "outputs": [
    {
     "name": "stdout",
     "output_type": "stream",
     "text": [
      "Gurobi Optimizer version 11.0.0 build v11.0.0rc2 (win64 - Windows 11+.0 (22631.2))\n",
      "\n",
      "CPU model: Intel(R) Core(TM) i7-8750H CPU @ 2.20GHz, instruction set [SSE2|AVX|AVX2]\n",
      "Thread count: 6 physical cores, 12 logical processors, using up to 12 threads\n",
      "\n",
      "Optimize a model with 38 rows, 33 columns and 149 nonzeros\n",
      "Model fingerprint: 0xfa42617b\n",
      "Variable types: 0 continuous, 33 integer (22 binary)\n",
      "Coefficient statistics:\n",
      "  Matrix range     [1e+00, 3e+02]\n",
      "  Objective range  [5e+04, 1e+08]\n",
      "  Bounds range     [1e+00, 1e+00]\n",
      "  RHS range        [1e+00, 2e+03]\n",
      "Found heuristic solution: objective 4.600000e+08\n",
      "Presolve time: 0.00s\n",
      "Presolved: 38 rows, 33 columns, 149 nonzeros\n",
      "Variable types: 0 continuous, 33 integer (22 binary)\n",
      "Found heuristic solution: objective 4.000000e+08\n",
      "\n",
      "Root relaxation: objective 3.028571e+08, 16 iterations, 0.00 seconds (0.00 work units)\n",
      "\n",
      "    Nodes    |    Current Node    |     Objective Bounds      |     Work\n",
      " Expl Unexpl |  Obj  Depth IntInf | Incumbent    BestBd   Gap | It/Node Time\n",
      "\n",
      "     0     0 3.0286e+08    0    1 4.0000e+08 3.0286e+08  24.3%     -    0s\n",
      "H    0     0                    3.200000e+08 3.0286e+08  5.36%     -    0s\n",
      "     0     0 3.0714e+08    0    1 3.2000e+08 3.0714e+08  4.02%     -    0s\n",
      "     0     0 3.2000e+08    0    5 3.2000e+08 3.2000e+08  0.00%     -    0s\n",
      "\n",
      "Cutting planes:\n",
      "  Cover: 2\n",
      "  Zero half: 1\n",
      "\n",
      "Explored 1 nodes (19 simplex iterations) in 0.02 seconds (0.00 work units)\n",
      "Thread count was 12 (of 12 available processors)\n",
      "\n",
      "Solution count 3: 3.2e+08 4e+08 4.6e+08 \n",
      "\n",
      "Optimal solution found (tolerance 1.00e-04)\n",
      "Best objective 3.200000000000e+08, best bound 3.200000000000e+08, gap 0.0000%\n"
     ]
    }
   ],
   "source": [
    "# Optimally solve the problem\n",
    "question_2_model.optimize()"
   ]
  },
  {
   "cell_type": "code",
   "execution_count": 159,
   "metadata": {},
   "outputs": [
    {
     "name": "stdout",
     "output_type": "stream",
     "text": [
      "Cost:  320000000.0\n"
     ]
    }
   ],
   "source": [
    "# Value of the objective function\n",
    "print(\"Cost: \", round(question_2_model.objVal,2))"
   ]
  },
  {
   "cell_type": "code",
   "execution_count": 160,
   "metadata": {},
   "outputs": [
    {
     "name": "stdout",
     "output_type": "stream",
     "text": [
      "\n",
      "    Variable            X \n",
      "-------------------------\n",
      "Apartment A[0]            1 \n",
      "Apartment A[1]            1 \n",
      "Apartment A[2]            1 \n",
      "Apartment A[3]            1 \n",
      "Apartment B[6]            1 \n",
      "Apartment B[7]            1 \n",
      "Apartment B[8]            1 \n",
      "Apartment B[9]            1 \n",
      "Apartment B[10]            1 \n",
      "    Units[0]          210 \n",
      "    Units[1]          245 \n",
      "    Units[2]          245 \n",
      "    Units[3]          175 \n",
      "    Units[6]          305 \n",
      "    Units[7]          305 \n",
      "    Units[8]          305 \n",
      "    Units[9]          305 \n",
      "   Units[10]          305 \n",
      "None\n"
     ]
    }
   ],
   "source": [
    "# Print the decision variables\n",
    "print(question_2_model.printAttr('X'))"
   ]
  }
 ],
 "metadata": {
  "kernelspec": {
   "display_name": "Python 3",
   "language": "python",
   "name": "python3"
  },
  "language_info": {
   "codemirror_mode": {
    "name": "ipython",
    "version": 3
   },
   "file_extension": ".py",
   "mimetype": "text/x-python",
   "name": "python",
   "nbconvert_exporter": "python",
   "pygments_lexer": "ipython3",
   "version": "3.11.3"
  }
 },
 "nbformat": 4,
 "nbformat_minor": 2
}
