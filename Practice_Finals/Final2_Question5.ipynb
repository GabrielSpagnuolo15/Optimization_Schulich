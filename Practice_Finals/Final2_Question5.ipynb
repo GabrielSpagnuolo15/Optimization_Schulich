{
 "cells": [
  {
   "cell_type": "code",
   "execution_count": 16,
   "metadata": {},
   "outputs": [],
   "source": [
    "from gurobipy import GRB\n",
    "import gurobipy as gb\n",
    "import pandas as pd\n",
    "import numpy as np"
   ]
  },
  {
   "cell_type": "code",
   "execution_count": 17,
   "metadata": {},
   "outputs": [],
   "source": [
    "# Create the optimization model\n",
    "question_5_model = gb.Model(\"Question 5: Farm Boy\")"
   ]
  },
  {
   "cell_type": "code",
   "execution_count": 18,
   "metadata": {},
   "outputs": [],
   "source": [
    "x = question_5_model.addVars(15, lb=0, vtype=GRB.BINARY, name=\"Sites\")\n",
    "y = question_5_model.addVars(15, lb=0, vtype=GRB.INTEGER, name=\"Square Meter\")"
   ]
  },
  {
   "cell_type": "code",
   "execution_count": 19,
   "metadata": {},
   "outputs": [],
   "source": [
    "fixed_cost = gb.quicksum(2000000*x[i] for i in range(15))\n",
    "variable_cost = gb.quicksum(2*y[i] for i in range(15))\n",
    "question_5_model.setObjective(fixed_cost + variable_cost, GRB.MINIMIZE)"
   ]
  },
  {
   "cell_type": "code",
   "execution_count": 20,
   "metadata": {},
   "outputs": [
    {
     "data": {
      "text/plain": [
       "<gurobi.Constr *Awaiting Model Update*>"
      ]
     },
     "execution_count": 20,
     "metadata": {},
     "output_type": "execute_result"
    }
   ],
   "source": [
    "question_5_model.addConstr(gb.quicksum(x[i] for i in range(15)) >= 8, \"Min Site Constraint\")"
   ]
  },
  {
   "cell_type": "code",
   "execution_count": 21,
   "metadata": {},
   "outputs": [],
   "source": [
    "for i in range(15):\n",
    "    question_5_model.addConstr(y[i] <= 23000*x[i], \"Max Square Meter Constraint\")"
   ]
  },
  {
   "cell_type": "code",
   "execution_count": 22,
   "metadata": {},
   "outputs": [
    {
     "data": {
      "text/plain": [
       "<gurobi.Constr *Awaiting Model Update*>"
      ]
     },
     "execution_count": 22,
     "metadata": {},
     "output_type": "execute_result"
    }
   ],
   "source": [
    "question_5_model.addConstr(gb.quicksum(y[i] for i in range(15)) >= 296000, \"Min Square Meter Constraint\")"
   ]
  },
  {
   "cell_type": "code",
   "execution_count": 23,
   "metadata": {},
   "outputs": [
    {
     "data": {
      "text/plain": [
       "<gurobi.Constr *Awaiting Model Update*>"
      ]
     },
     "execution_count": 23,
     "metadata": {},
     "output_type": "execute_result"
    }
   ],
   "source": [
    "question_5_model.addConstr(3*x[0] <= x[6] + x[11] + x[14], \"c Constraint\")"
   ]
  },
  {
   "cell_type": "code",
   "execution_count": 24,
   "metadata": {},
   "outputs": [
    {
     "data": {
      "text/plain": [
       "<gurobi.Constr *Awaiting Model Update*>"
      ]
     },
     "execution_count": 24,
     "metadata": {},
     "output_type": "execute_result"
    }
   ],
   "source": [
    "question_5_model.addConstr(x[2] + x[4] + x[6] + x[8] + x[10] + x[12] == 4, \"d Constraint\")"
   ]
  },
  {
   "cell_type": "code",
   "execution_count": 25,
   "metadata": {},
   "outputs": [
    {
     "data": {
      "text/plain": [
       "<gurobi.Constr *Awaiting Model Update*>"
      ]
     },
     "execution_count": 25,
     "metadata": {},
     "output_type": "execute_result"
    }
   ],
   "source": [
    "question_5_model.addConstr(x[3] + x[5] + x[7] + x[9] + x[13] >= 2, \"e Constraint\")"
   ]
  },
  {
   "cell_type": "code",
   "execution_count": 26,
   "metadata": {},
   "outputs": [
    {
     "data": {
      "text/plain": [
       "<gurobi.Constr *Awaiting Model Update*>"
      ]
     },
     "execution_count": 26,
     "metadata": {},
     "output_type": "execute_result"
    }
   ],
   "source": [
    "question_5_model.addConstr(x[3] <= x[9], \"f Constraint\")"
   ]
  },
  {
   "cell_type": "code",
   "execution_count": 27,
   "metadata": {},
   "outputs": [
    {
     "data": {
      "text/plain": [
       "<gurobi.Constr *Awaiting Model Update*>"
      ]
     },
     "execution_count": 27,
     "metadata": {},
     "output_type": "execute_result"
    }
   ],
   "source": [
    "question_5_model.addConstr(x[2] + x[12] == 1, \"g Constraint\")"
   ]
  },
  {
   "cell_type": "code",
   "execution_count": 28,
   "metadata": {},
   "outputs": [
    {
     "data": {
      "text/plain": [
       "<gurobi.Constr *Awaiting Model Update*>"
      ]
     },
     "execution_count": 28,
     "metadata": {},
     "output_type": "execute_result"
    }
   ],
   "source": [
    "question_5_model.addConstr(gb.quicksum(y[i] for i in range(5,10)) >= 1.2*(gb.quicksum(y[i] for i in range(5))), \"First h Constraint\")"
   ]
  },
  {
   "cell_type": "code",
   "execution_count": 29,
   "metadata": {},
   "outputs": [
    {
     "data": {
      "text/plain": [
       "<gurobi.Constr *Awaiting Model Update*>"
      ]
     },
     "execution_count": 29,
     "metadata": {},
     "output_type": "execute_result"
    }
   ],
   "source": [
    "question_5_model.addConstr(gb.quicksum(y[i] for i in range(5,10)) <= 3.4*(gb.quicksum(y[i] for i in range(10,15))), \"Second h Constraint\")"
   ]
  },
  {
   "cell_type": "code",
   "execution_count": 30,
   "metadata": {},
   "outputs": [
    {
     "name": "stdout",
     "output_type": "stream",
     "text": [
      "Gurobi Optimizer version 11.0.0 build v11.0.0rc2 (win64 - Windows 11+.0 (22631.2))\n",
      "\n",
      "CPU model: Intel(R) Core(TM) i7-8750H CPU @ 2.20GHz, instruction set [SSE2|AVX|AVX2]\n",
      "Thread count: 6 physical cores, 12 logical processors, using up to 12 threads\n",
      "\n",
      "Optimize a model with 24 rows, 30 columns and 99 nonzeros\n",
      "Model fingerprint: 0x2362e371\n",
      "Variable types: 0 continuous, 30 integer (15 binary)\n",
      "Coefficient statistics:\n",
      "  Matrix range     [1e+00, 2e+04]\n",
      "  Objective range  [2e+00, 2e+06]\n",
      "  Bounds range     [1e+00, 1e+00]\n",
      "  RHS range        [1e+00, 3e+05]\n",
      "Found heuristic solution: objective 2.659200e+07\n",
      "Presolve removed 9 rows and 7 columns\n",
      "Presolve time: 0.00s\n",
      "Presolved: 15 rows, 23 columns, 51 nonzeros\n",
      "Variable types: 0 continuous, 23 integer (10 binary)\n",
      "\n",
      "Root relaxation: objective 2.633113e+07, 29 iterations, 0.00 seconds (0.00 work units)\n",
      "\n",
      "    Nodes    |    Current Node    |     Objective Bounds      |     Work\n",
      " Expl Unexpl |  Obj  Depth IntInf | Incumbent    BestBd   Gap | It/Node Time\n",
      "\n",
      "     0     0 2.6331e+07    0    1 2.6592e+07 2.6331e+07  0.98%     -    0s\n",
      "     0     0 2.6331e+07    0    1 2.6592e+07 2.6331e+07  0.98%     -    0s\n",
      "     0     0 2.6331e+07    0    1 2.6592e+07 2.6331e+07  0.98%     -    0s\n",
      "     0     0 2.6331e+07    0    1 2.6592e+07 2.6331e+07  0.98%     -    0s\n",
      "     0     0 2.6331e+07    0    1 2.6592e+07 2.6331e+07  0.98%     -    0s\n",
      "     0     0 2.6331e+07    0    1 2.6592e+07 2.6331e+07  0.98%     -    0s\n",
      "\n",
      "Explored 1 nodes (34 simplex iterations) in 0.02 seconds (0.00 work units)\n",
      "Thread count was 12 (of 12 available processors)\n",
      "\n",
      "Solution count 1: 2.6592e+07 \n",
      "\n",
      "Optimal solution found (tolerance 1.00e-04)\n",
      "Best objective 2.659200000000e+07, best bound 2.659200000000e+07, gap 0.0000%\n"
     ]
    }
   ],
   "source": [
    "# Optimally solve the problem\n",
    "question_5_model.optimize()"
   ]
  },
  {
   "cell_type": "code",
   "execution_count": 31,
   "metadata": {},
   "outputs": [
    {
     "name": "stdout",
     "output_type": "stream",
     "text": [
      "Cost:  26592000.0\n"
     ]
    }
   ],
   "source": [
    "# Value of the objective function\n",
    "print(\"Cost: \", round(question_5_model.objVal,2))"
   ]
  },
  {
   "cell_type": "code",
   "execution_count": 32,
   "metadata": {},
   "outputs": [
    {
     "name": "stdout",
     "output_type": "stream",
     "text": [
      "\n",
      "    Variable            X \n",
      "-------------------------\n",
      "    Sites[0]            1 \n",
      "    Sites[1]            1 \n",
      "    Sites[2]            1 \n",
      "    Sites[3]            1 \n",
      "    Sites[5]            1 \n",
      "    Sites[6]            1 \n",
      "    Sites[7]            1 \n",
      "    Sites[8]            1 \n",
      "    Sites[9]            1 \n",
      "   Sites[10]            1 \n",
      "   Sites[11]            1 \n",
      "   Sites[13]            1 \n",
      "   Sites[14]            1 \n",
      "Square Meter[0]        20000 \n",
      "Square Meter[1]        23000 \n",
      "Square Meter[2]        23000 \n",
      "Square Meter[3]        23000 \n",
      "Square Meter[5]        23000 \n",
      "Square Meter[6]        23000 \n",
      "Square Meter[7]        23000 \n",
      "Square Meter[8]        23000 \n",
      "Square Meter[9]        23000 \n",
      "Square Meter[10]        23000 \n",
      "Square Meter[11]        23000 \n",
      "Square Meter[13]        23000 \n",
      "Square Meter[14]        23000 \n",
      "None\n"
     ]
    }
   ],
   "source": [
    "# Print the decision variables\n",
    "print(question_5_model.printAttr('X'))"
   ]
  }
 ],
 "metadata": {
  "kernelspec": {
   "display_name": "Python 3",
   "language": "python",
   "name": "python3"
  },
  "language_info": {
   "codemirror_mode": {
    "name": "ipython",
    "version": 3
   },
   "file_extension": ".py",
   "mimetype": "text/x-python",
   "name": "python",
   "nbconvert_exporter": "python",
   "pygments_lexer": "ipython3",
   "version": "3.11.3"
  }
 },
 "nbformat": 4,
 "nbformat_minor": 2
}
