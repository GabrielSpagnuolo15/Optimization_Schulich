{
 "cells": [
  {
   "cell_type": "code",
   "execution_count": 47,
   "metadata": {},
   "outputs": [],
   "source": [
    "from gurobipy import GRB\n",
    "import gurobipy as gb\n",
    "import pandas as pd\n",
    "import numpy as np"
   ]
  },
  {
   "cell_type": "code",
   "execution_count": 48,
   "metadata": {},
   "outputs": [],
   "source": [
    "# Create the optimization model\n",
    "question_6_model = gb.Model(\"Question 6: Green\")"
   ]
  },
  {
   "cell_type": "code",
   "execution_count": 49,
   "metadata": {},
   "outputs": [],
   "source": [
    "x = question_6_model.addVars(20, lb=0, vtype=GRB.BINARY, name=\"Sites\")\n",
    "y = question_6_model.addVars(20, lb=0, vtype=GRB.INTEGER, name=\"Small Panels\")\n",
    "z = question_6_model.addVars(20, lb=0, vtype=GRB.INTEGER, name=\"Large Panels\")"
   ]
  },
  {
   "cell_type": "code",
   "execution_count": 50,
   "metadata": {},
   "outputs": [],
   "source": [
    "fixed_cost = gb.quicksum(3000000*x[i] for i in range(20))\n",
    "variable_cost_1 = gb.quicksum(5000*y[i] for i in range(20))\n",
    "variable_cost_2 = gb.quicksum(25000*y[i] for i in range(20))\n",
    "question_6_model.setObjective(fixed_cost + variable_cost_1 + variable_cost_2, GRB.MINIMIZE)"
   ]
  },
  {
   "cell_type": "code",
   "execution_count": 51,
   "metadata": {},
   "outputs": [
    {
     "data": {
      "text/plain": [
       "<gurobi.Constr *Awaiting Model Update*>"
      ]
     },
     "execution_count": 51,
     "metadata": {},
     "output_type": "execute_result"
    }
   ],
   "source": [
    "question_6_model.addConstr(gb.quicksum(6000*y[i] + 20000*z[i] for i in range(20)) >= 10000000, \"Total Electricity Constraint\")"
   ]
  },
  {
   "cell_type": "code",
   "execution_count": 52,
   "metadata": {},
   "outputs": [],
   "source": [
    "#for i in range(20):\n",
    "    #question_6_model.addConstr(y[i] <= 110*x[i], \"Max Small Panel Capacity Constraint\")\n",
    "\n",
    "#for i in range(20):\n",
    "    #question_6_model.addConstr(z[i] <= (110/3)*x[i], \"Max Large Panel Capacity Constraint\")"
   ]
  },
  {
   "cell_type": "code",
   "execution_count": 53,
   "metadata": {},
   "outputs": [],
   "source": [
    "for i in range(20):\n",
    "    question_6_model.addConstr(y[i] + 3*z[i] <= 110*x[i], \"Max Panel Capacity Constraint\")"
   ]
  },
  {
   "cell_type": "code",
   "execution_count": 54,
   "metadata": {},
   "outputs": [
    {
     "data": {
      "text/plain": [
       "<gurobi.Constr *Awaiting Model Update*>"
      ]
     },
     "execution_count": 54,
     "metadata": {},
     "output_type": "execute_result"
    }
   ],
   "source": [
    "question_6_model.addConstr(x[0] + x[1] + x[2] + x[3] + x[4] == 3, \"1 Constraint\")"
   ]
  },
  {
   "cell_type": "code",
   "execution_count": 55,
   "metadata": {},
   "outputs": [
    {
     "data": {
      "text/plain": [
       "<gurobi.Constr *Awaiting Model Update*>"
      ]
     },
     "execution_count": 55,
     "metadata": {},
     "output_type": "execute_result"
    }
   ],
   "source": [
    "question_6_model.addConstr(x[5] + x[6] + x[7] + x[8] + x[9] <= 4, \"2 Constraint\")"
   ]
  },
  {
   "cell_type": "code",
   "execution_count": 56,
   "metadata": {},
   "outputs": [
    {
     "data": {
      "text/plain": [
       "<gurobi.Constr *Awaiting Model Update*>"
      ]
     },
     "execution_count": 56,
     "metadata": {},
     "output_type": "execute_result"
    }
   ],
   "source": [
    "question_6_model.addConstr(x[10] + x[11] + x[12] + x[13] + x[14] >= 2, \"3 Constraint\")"
   ]
  },
  {
   "cell_type": "code",
   "execution_count": 57,
   "metadata": {},
   "outputs": [],
   "source": [
    "for i in [15]:\n",
    "    for j in range(17,20):\n",
    "        question_6_model.addConstr(x[i] <= 1 - (x[j]), \"Constraint 4\")"
   ]
  },
  {
   "cell_type": "code",
   "execution_count": 58,
   "metadata": {},
   "outputs": [],
   "source": [
    "for i in [16]:\n",
    "    for j in range(17,20):\n",
    "        question_6_model.addConstr(x[i] <= 1 - (x[j]), \"Constraint 5\")"
   ]
  },
  {
   "cell_type": "code",
   "execution_count": 59,
   "metadata": {},
   "outputs": [],
   "source": [
    "for i in range(20):\n",
    "    question_6_model.addConstr(y[i] >= 0.1*z[i], \"Ratio Constraint 1\")"
   ]
  },
  {
   "cell_type": "code",
   "execution_count": 60,
   "metadata": {},
   "outputs": [
    {
     "data": {
      "text/plain": [
       "<gurobi.Constr *Awaiting Model Update*>"
      ]
     },
     "execution_count": 60,
     "metadata": {},
     "output_type": "execute_result"
    }
   ],
   "source": [
    "question_6_model.addConstr(gb.quicksum(y[i] for i in range(20)) >= 0.3*gb.quicksum(y[i] + z[i] for i in range(20)), \"Ratio Constraint 2\")"
   ]
  },
  {
   "cell_type": "code",
   "execution_count": 61,
   "metadata": {},
   "outputs": [
    {
     "name": "stdout",
     "output_type": "stream",
     "text": [
      "Gurobi Optimizer version 11.0.0 build v11.0.0rc2 (win64 - Windows 11+.0 (22631.2))\n",
      "\n",
      "CPU model: Intel(R) Core(TM) i7-8750H CPU @ 2.20GHz, instruction set [SSE2|AVX|AVX2]\n",
      "Thread count: 6 physical cores, 12 logical processors, using up to 12 threads\n",
      "\n",
      "Optimize a model with 51 rows, 60 columns and 207 nonzeros\n",
      "Model fingerprint: 0xd21764e0\n",
      "Variable types: 0 continuous, 60 integer (20 binary)\n",
      "Coefficient statistics:\n",
      "  Matrix range     [1e-01, 2e+04]\n",
      "  Objective range  [3e+04, 3e+06]\n",
      "  Bounds range     [1e+00, 1e+00]\n",
      "  RHS range        [1e+00, 1e+07]\n",
      "Presolve time: 0.00s\n",
      "Presolved: 51 rows, 60 columns, 207 nonzeros\n",
      "Variable types: 0 continuous, 60 integer (20 binary)\n",
      "\n",
      "Root relaxation: objective 4.712313e+07, 77 iterations, 0.00 seconds (0.00 work units)\n",
      "\n",
      "    Nodes    |    Current Node    |     Objective Bounds      |     Work\n",
      " Expl Unexpl |  Obj  Depth IntInf | Incumbent    BestBd   Gap | It/Node Time\n",
      "\n",
      "     0     0 4.7123e+07    0    3          - 4.7123e+07      -     -    0s\n",
      "H    0     0                    4.980000e+07 4.7123e+07  5.38%     -    0s\n",
      "H    0     0                    4.770000e+07 4.7123e+07  1.21%     -    0s\n",
      "     0     0 4.7127e+07    0   17 4.7700e+07 4.7127e+07  1.20%     -    0s\n",
      "     0     0 4.7127e+07    0    6 4.7700e+07 4.7127e+07  1.20%     -    0s\n",
      "     0     0 4.7127e+07    0   19 4.7700e+07 4.7127e+07  1.20%     -    0s\n",
      "     0     0 4.7127e+07    0   11 4.7700e+07 4.7127e+07  1.20%     -    0s\n",
      "     0     0 4.7127e+07    0   11 4.7700e+07 4.7127e+07  1.20%     -    0s\n",
      "     0     0 4.7127e+07    0   10 4.7700e+07 4.7127e+07  1.20%     -    0s\n",
      "     0     0 4.7127e+07    0   10 4.7700e+07 4.7127e+07  1.20%     -    0s\n",
      "     0     0 4.7127e+07    0    3 4.7700e+07 4.7127e+07  1.20%     -    0s\n",
      "     0     0 4.7127e+07    0    5 4.7700e+07 4.7127e+07  1.20%     -    0s\n",
      "     0     0 4.7127e+07    0    9 4.7700e+07 4.7127e+07  1.20%     -    0s\n",
      "     0     0 4.7127e+07    0    7 4.7700e+07 4.7127e+07  1.20%     -    0s\n",
      "     0     0 4.7127e+07    0    7 4.7700e+07 4.7127e+07  1.20%     -    0s\n",
      "     0     0 4.7127e+07    0    7 4.7700e+07 4.7127e+07  1.20%     -    0s\n",
      "     0     2 4.7127e+07    0    7 4.7700e+07 4.7127e+07  1.20%     -    0s\n",
      "\n",
      "Cutting planes:\n",
      "  Learned: 8\n",
      "  Gomory: 1\n",
      "  MIR: 2\n",
      "  Inf proof: 5\n",
      "\n",
      "Explored 40 nodes (479 simplex iterations) in 0.11 seconds (0.02 work units)\n",
      "Thread count was 12 (of 12 available processors)\n",
      "\n",
      "Solution count 2: 4.77e+07 4.98e+07 \n",
      "\n",
      "Optimal solution found (tolerance 1.00e-04)\n",
      "Best objective 4.770000000000e+07, best bound 4.770000000000e+07, gap 0.0000%\n"
     ]
    }
   ],
   "source": [
    "# Optimally solve the problem\n",
    "question_6_model.optimize()"
   ]
  },
  {
   "cell_type": "code",
   "execution_count": 62,
   "metadata": {},
   "outputs": [
    {
     "name": "stdout",
     "output_type": "stream",
     "text": [
      "Cost:  47700000.0\n"
     ]
    }
   ],
   "source": [
    "# Value of the objective function\n",
    "print(\"Cost: \", round(question_6_model.objVal,2))"
   ]
  },
  {
   "cell_type": "code",
   "execution_count": 63,
   "metadata": {},
   "outputs": [
    {
     "name": "stdout",
     "output_type": "stream",
     "text": [
      "\n",
      "    Variable            X \n",
      "-------------------------\n",
      "    Sites[0]            1 \n",
      "    Sites[1]            1 \n",
      "    Sites[2]            1 \n",
      "    Sites[5]            1 \n",
      "    Sites[6]            1 \n",
      "    Sites[7]            1 \n",
      "    Sites[8]            1 \n",
      "   Sites[10]            1 \n",
      "   Sites[11]            1 \n",
      "   Sites[12]            1 \n",
      "   Sites[14]            1 \n",
      "   Sites[17]            1 \n",
      "   Sites[18]            1 \n",
      "   Sites[19]            1 \n",
      "Small Panels[0]            4 \n",
      "Small Panels[1]            5 \n",
      "Small Panels[2]            5 \n",
      "Small Panels[5]            5 \n",
      "Small Panels[6]            5 \n",
      "Small Panels[7]            5 \n",
      "Small Panels[8]            5 \n",
      "Small Panels[10]           21 \n",
      "Small Panels[11]            5 \n",
      "Small Panels[12]            5 \n",
      "Small Panels[14]          110 \n",
      "Small Panels[17]            5 \n",
      "Small Panels[18]            5 \n",
      "Small Panels[19]            5 \n",
      "Large Panels[0]           34 \n",
      "Large Panels[1]           35 \n",
      "Large Panels[2]           35 \n",
      "Large Panels[5]           35 \n",
      "Large Panels[6]           35 \n",
      "Large Panels[7]           35 \n",
      "Large Panels[8]           35 \n",
      "Large Panels[10]           24 \n",
      "Large Panels[11]           35 \n",
      "Large Panels[12]           35 \n",
      "Large Panels[17]           35 \n",
      "Large Panels[18]           35 \n",
      "Large Panels[19]           35 \n",
      "None\n"
     ]
    }
   ],
   "source": [
    "# Print the decision variables\n",
    "print(question_6_model.printAttr('X'))"
   ]
  }
 ],
 "metadata": {
  "kernelspec": {
   "display_name": "Python 3",
   "language": "python",
   "name": "python3"
  },
  "language_info": {
   "codemirror_mode": {
    "name": "ipython",
    "version": 3
   },
   "file_extension": ".py",
   "mimetype": "text/x-python",
   "name": "python",
   "nbconvert_exporter": "python",
   "pygments_lexer": "ipython3",
   "version": "3.11.3"
  }
 },
 "nbformat": 4,
 "nbformat_minor": 2
}
