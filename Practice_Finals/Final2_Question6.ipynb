{
 "cells": [
  {
   "cell_type": "code",
   "execution_count": 1,
   "metadata": {},
   "outputs": [],
   "source": [
    "from gurobipy import GRB\n",
    "import gurobipy as gb\n",
    "import pandas as pd\n",
    "import numpy as np"
   ]
  },
  {
   "cell_type": "code",
   "execution_count": 2,
   "metadata": {},
   "outputs": [
    {
     "name": "stdout",
     "output_type": "stream",
     "text": [
      "Set parameter Username\n",
      "Academic license - for non-commercial use only - expires 2025-01-15\n"
     ]
    }
   ],
   "source": [
    "# Create the optimization model\n",
    "question_6_model = gb.Model(\"Question 6: Green\")"
   ]
  },
  {
   "cell_type": "code",
   "execution_count": 3,
   "metadata": {},
   "outputs": [],
   "source": [
    "x = question_6_model.addVars(20, lb=0, vtype=GRB.BINARY, name=\"Sites\")\n",
    "y = question_6_model.addVars(20, lb=0, vtype=GRB.INTEGER, name=\"Small Panels\")\n",
    "z = question_6_model.addVars(20, lb=0, vtype=GRB.INTEGER, name=\"Large Panels\")"
   ]
  },
  {
   "cell_type": "code",
   "execution_count": 4,
   "metadata": {},
   "outputs": [],
   "source": [
    "fixed_cost = gb.quicksum(3000000*x[i] for i in range(20))\n",
    "variable_cost_1 = gb.quicksum(5000*y[i] for i in range(20))\n",
    "variable_cost_2 = gb.quicksum(25000*z[i] for i in range(20))\n",
    "question_6_model.setObjective(fixed_cost + variable_cost_1 + variable_cost_2, GRB.MINIMIZE)"
   ]
  },
  {
   "cell_type": "code",
   "execution_count": 5,
   "metadata": {},
   "outputs": [
    {
     "data": {
      "text/plain": [
       "<gurobi.Constr *Awaiting Model Update*>"
      ]
     },
     "execution_count": 5,
     "metadata": {},
     "output_type": "execute_result"
    }
   ],
   "source": [
    "question_6_model.addConstr(gb.quicksum(6000*y[i] + 20000*z[i] for i in range(20)) >= 10000000, \"Total Electricity Constraint\")"
   ]
  },
  {
   "cell_type": "code",
   "execution_count": 6,
   "metadata": {},
   "outputs": [],
   "source": [
    "#for i in range(20):\n",
    "    #question_6_model.addConstr(y[i] <= 110*x[i], \"Max Small Panel Capacity Constraint\")\n",
    "\n",
    "#for i in range(20):\n",
    "    #question_6_model.addConstr(z[i] <= (110/3)*x[i], \"Max Large Panel Capacity Constraint\")"
   ]
  },
  {
   "cell_type": "code",
   "execution_count": 7,
   "metadata": {},
   "outputs": [],
   "source": [
    "for i in range(20):\n",
    "    question_6_model.addConstr(y[i] + 3*z[i] <= 110*x[i], \"Max Panel Capacity Constraint\")"
   ]
  },
  {
   "cell_type": "code",
   "execution_count": 8,
   "metadata": {},
   "outputs": [
    {
     "data": {
      "text/plain": [
       "<gurobi.Constr *Awaiting Model Update*>"
      ]
     },
     "execution_count": 8,
     "metadata": {},
     "output_type": "execute_result"
    }
   ],
   "source": [
    "question_6_model.addConstr(x[0] + x[1] + x[2] + x[3] + x[4] == 3, \"1 Constraint\")"
   ]
  },
  {
   "cell_type": "code",
   "execution_count": 9,
   "metadata": {},
   "outputs": [
    {
     "data": {
      "text/plain": [
       "<gurobi.Constr *Awaiting Model Update*>"
      ]
     },
     "execution_count": 9,
     "metadata": {},
     "output_type": "execute_result"
    }
   ],
   "source": [
    "question_6_model.addConstr(x[5] + x[6] + x[7] + x[8] + x[9] <= 4, \"2 Constraint\")"
   ]
  },
  {
   "cell_type": "code",
   "execution_count": 10,
   "metadata": {},
   "outputs": [
    {
     "data": {
      "text/plain": [
       "<gurobi.Constr *Awaiting Model Update*>"
      ]
     },
     "execution_count": 10,
     "metadata": {},
     "output_type": "execute_result"
    }
   ],
   "source": [
    "question_6_model.addConstr(x[10] + x[11] + x[12] + x[13] + x[14] >= 2, \"3 Constraint\")"
   ]
  },
  {
   "cell_type": "code",
   "execution_count": 11,
   "metadata": {},
   "outputs": [],
   "source": [
    "for i in [15]:\n",
    "    for j in range(17,20):\n",
    "        question_6_model.addConstr(x[i] <= 1 - (x[j]), \"Constraint 4\")"
   ]
  },
  {
   "cell_type": "code",
   "execution_count": 12,
   "metadata": {},
   "outputs": [],
   "source": [
    "for i in [16]:\n",
    "    for j in range(17,20):\n",
    "        question_6_model.addConstr(x[i] <= 1 - (x[j]), \"Constraint 5\")"
   ]
  },
  {
   "cell_type": "code",
   "execution_count": 13,
   "metadata": {},
   "outputs": [],
   "source": [
    "for i in range(20):\n",
    "    question_6_model.addConstr(y[i] >= 0.1*z[i], \"Ratio Constraint 1\")"
   ]
  },
  {
   "cell_type": "code",
   "execution_count": 14,
   "metadata": {},
   "outputs": [
    {
     "data": {
      "text/plain": [
       "<gurobi.Constr *Awaiting Model Update*>"
      ]
     },
     "execution_count": 14,
     "metadata": {},
     "output_type": "execute_result"
    }
   ],
   "source": [
    "question_6_model.addConstr(gb.quicksum(y[i] for i in range(20)) >= 0.3*gb.quicksum(y[i] + z[i] for i in range(20)), \"Ratio Constraint 2\")"
   ]
  },
  {
   "cell_type": "code",
   "execution_count": 15,
   "metadata": {},
   "outputs": [
    {
     "name": "stdout",
     "output_type": "stream",
     "text": [
      "Gurobi Optimizer version 11.0.0 build v11.0.0rc2 (win64 - Windows 11+.0 (22631.2))\n",
      "\n",
      "CPU model: Intel(R) Core(TM) i7-8750H CPU @ 2.20GHz, instruction set [SSE2|AVX|AVX2]\n",
      "Thread count: 6 physical cores, 12 logical processors, using up to 12 threads\n",
      "\n",
      "Optimize a model with 51 rows, 60 columns and 207 nonzeros\n",
      "Model fingerprint: 0x3d7d8c46\n",
      "Variable types: 0 continuous, 60 integer (20 binary)\n",
      "Coefficient statistics:\n",
      "  Matrix range     [1e-01, 2e+04]\n",
      "  Objective range  [5e+03, 3e+06]\n",
      "  Bounds range     [1e+00, 1e+00]\n",
      "  RHS range        [1e+00, 1e+07]\n",
      "Presolve time: 0.02s\n",
      "Presolved: 51 rows, 60 columns, 207 nonzeros\n",
      "Variable types: 0 continuous, 60 integer (20 binary)\n",
      "\n",
      "Root relaxation: objective 5.345224e+07, 62 iterations, 0.01 seconds (0.00 work units)\n",
      "\n",
      "    Nodes    |    Current Node    |     Objective Bounds      |     Work\n",
      " Expl Unexpl |  Obj  Depth IntInf | Incumbent    BestBd   Gap | It/Node Time\n",
      "\n",
      "     0     0 5.3452e+07    0    5          - 5.3452e+07      -     -    0s\n",
      "H    0     0                    5.377500e+07 5.3452e+07  0.60%     -    0s\n",
      "H    0     0                    5.370000e+07 5.3452e+07  0.46%     -    0s\n",
      "H    0     0                    5.351000e+07 5.3452e+07  0.11%     -    0s\n",
      "H    0     0                    5.350000e+07 5.3452e+07  0.09%     -    0s\n",
      "     0     0 5.3452e+07    0   32 5.3500e+07 5.3452e+07  0.09%     -    0s\n",
      "     0     0 5.3452e+07    0    7 5.3500e+07 5.3452e+07  0.09%     -    0s\n",
      "     0     0 5.3452e+07    0   17 5.3500e+07 5.3452e+07  0.09%     -    0s\n",
      "     0     0 5.3452e+07    0   13 5.3500e+07 5.3452e+07  0.09%     -    0s\n",
      "     0     0 5.3452e+07    0   15 5.3500e+07 5.3452e+07  0.09%     -    0s\n",
      "     0     0 5.3452e+07    0   14 5.3500e+07 5.3452e+07  0.09%     -    0s\n",
      "     0     0 5.3452e+07    0    5 5.3500e+07 5.3452e+07  0.09%     -    0s\n",
      "     0     0 5.3452e+07    0   10 5.3500e+07 5.3452e+07  0.09%     -    0s\n",
      "     0     0 5.3452e+07    0   10 5.3500e+07 5.3452e+07  0.09%     -    0s\n",
      "     0     0 5.3452e+07    0    8 5.3500e+07 5.3452e+07  0.09%     -    0s\n",
      "     0     0 5.3452e+07    0    1 5.3500e+07 5.3452e+07  0.09%     -    0s\n",
      "     0     0 5.3452e+07    0    7 5.3500e+07 5.3452e+07  0.09%     -    0s\n",
      "     0     0 5.3452e+07    0    7 5.3500e+07 5.3452e+07  0.09%     -    0s\n",
      "     0     2 5.3452e+07    0    7 5.3500e+07 5.3452e+07  0.09%     -    0s\n",
      "\n",
      "Cutting planes:\n",
      "  Learned: 7\n",
      "  Gomory: 3\n",
      "  Cover: 1\n",
      "  MIR: 5\n",
      "  StrongCG: 1\n",
      "  Flow cover: 2\n",
      "  Inf proof: 5\n",
      "\n",
      "Explored 112 nodes (689 simplex iterations) in 0.19 seconds (0.02 work units)\n",
      "Thread count was 12 (of 12 available processors)\n",
      "\n",
      "Solution count 6: 5.35e+07 5.35e+07 5.35e+07 ... 5.3775e+07\n",
      "\n",
      "Optimal solution found (tolerance 1.00e-04)\n",
      "Best objective 5.350000000000e+07, best bound 5.350000000000e+07, gap 0.0000%\n"
     ]
    }
   ],
   "source": [
    "# Optimally solve the problem\n",
    "question_6_model.optimize()"
   ]
  },
  {
   "cell_type": "code",
   "execution_count": 16,
   "metadata": {},
   "outputs": [
    {
     "name": "stdout",
     "output_type": "stream",
     "text": [
      "Cost:  53500000.0\n"
     ]
    }
   ],
   "source": [
    "# Value of the objective function\n",
    "print(\"Cost: \", round(question_6_model.objVal,2))"
   ]
  },
  {
   "cell_type": "code",
   "execution_count": 17,
   "metadata": {},
   "outputs": [
    {
     "name": "stdout",
     "output_type": "stream",
     "text": [
      "\n",
      "    Variable            X \n",
      "-------------------------\n",
      "    Sites[0]            1 \n",
      "    Sites[2]            1 \n",
      "    Sites[3]            1 \n",
      "    Sites[5]            1 \n",
      "    Sites[6]            1 \n",
      "    Sites[8]            1 \n",
      "    Sites[9]            1 \n",
      "   Sites[10]            1 \n",
      "   Sites[11]            1 \n",
      "   Sites[12]            1 \n",
      "   Sites[13]            1 \n",
      "   Sites[14]            1 \n",
      "   Sites[15]            1 \n",
      "   Sites[16]            1 \n",
      "Small Panels[0]            5 \n",
      "Small Panels[2]            5 \n",
      "Small Panels[3]            5 \n",
      "Small Panels[5]           14 \n",
      "Small Panels[6]          110 \n",
      "Small Panels[8]          110 \n",
      "Small Panels[9]            5 \n",
      "Small Panels[10]            5 \n",
      "Small Panels[11]            5 \n",
      "Small Panels[12]          110 \n",
      "Small Panels[13]            5 \n",
      "Small Panels[14]            5 \n",
      "Small Panels[15]            8 \n",
      "Small Panels[16]            8 \n",
      "Large Panels[0]           35 \n",
      "Large Panels[2]           35 \n",
      "Large Panels[3]           35 \n",
      "Large Panels[5]           32 \n",
      "Large Panels[9]           35 \n",
      "Large Panels[10]           35 \n",
      "Large Panels[11]           35 \n",
      "Large Panels[13]           35 \n",
      "Large Panels[14]           35 \n",
      "Large Panels[15]           34 \n",
      "Large Panels[16]           34 \n",
      "None\n"
     ]
    }
   ],
   "source": [
    "# Print the decision variables\n",
    "print(question_6_model.printAttr('X'))"
   ]
  }
 ],
 "metadata": {
  "kernelspec": {
   "display_name": "Python 3",
   "language": "python",
   "name": "python3"
  },
  "language_info": {
   "codemirror_mode": {
    "name": "ipython",
    "version": 3
   },
   "file_extension": ".py",
   "mimetype": "text/x-python",
   "name": "python",
   "nbconvert_exporter": "python",
   "pygments_lexer": "ipython3",
   "version": "3.11.3"
  }
 },
 "nbformat": 4,
 "nbformat_minor": 2
}
