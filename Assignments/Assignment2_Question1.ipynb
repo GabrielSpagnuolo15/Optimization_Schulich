{
 "cells": [
  {
   "cell_type": "code",
   "execution_count": 20,
   "metadata": {},
   "outputs": [],
   "source": [
    "from gurobipy import GRB\n",
    "import gurobipy as gb\n",
    "import pandas as pd\n",
    "import numpy as np\n",
    "import autograd as ag"
   ]
  },
  {
   "cell_type": "code",
   "execution_count": 21,
   "metadata": {},
   "outputs": [],
   "source": [
    "# Create the optimization model\n",
    "model = gb.Model(\"Question 1a): TechEssentials Certain Product Line\")"
   ]
  },
  {
   "cell_type": "code",
   "execution_count": 22,
   "metadata": {},
   "outputs": [],
   "source": [
    "# Read costs from CSV files\n",
    "price_response_df = pd.read_csv(r\"C:\\Users\\gabri\\Downloads\\price_response.csv\")"
   ]
  },
  {
   "cell_type": "code",
   "execution_count": 23,
   "metadata": {},
   "outputs": [
    {
     "data": {
      "text/html": [
       "<div>\n",
       "<style scoped>\n",
       "    .dataframe tbody tr th:only-of-type {\n",
       "        vertical-align: middle;\n",
       "    }\n",
       "\n",
       "    .dataframe tbody tr th {\n",
       "        vertical-align: top;\n",
       "    }\n",
       "\n",
       "    .dataframe thead th {\n",
       "        text-align: right;\n",
       "    }\n",
       "</style>\n",
       "<table border=\"1\" class=\"dataframe\">\n",
       "  <thead>\n",
       "    <tr style=\"text-align: right;\">\n",
       "      <th></th>\n",
       "      <th>Product</th>\n",
       "      <th>Intercept</th>\n",
       "      <th>Sensitivity</th>\n",
       "      <th>Capacity</th>\n",
       "    </tr>\n",
       "  </thead>\n",
       "  <tbody>\n",
       "    <tr>\n",
       "      <th>0</th>\n",
       "      <td>Line 1 Product 1</td>\n",
       "      <td>35234.545786</td>\n",
       "      <td>-45.896450</td>\n",
       "      <td>80020.0</td>\n",
       "    </tr>\n",
       "    <tr>\n",
       "      <th>1</th>\n",
       "      <td>Line 1 Product 2</td>\n",
       "      <td>37790.240832</td>\n",
       "      <td>-8.227794</td>\n",
       "      <td>89666.0</td>\n",
       "    </tr>\n",
       "    <tr>\n",
       "      <th>2</th>\n",
       "      <td>Line 1 Product 3</td>\n",
       "      <td>35675.333217</td>\n",
       "      <td>-7.584436</td>\n",
       "      <td>80638.0</td>\n",
       "    </tr>\n",
       "    <tr>\n",
       "      <th>3</th>\n",
       "      <td>Line 2 Product 1</td>\n",
       "      <td>37041.380378</td>\n",
       "      <td>-9.033166</td>\n",
       "      <td>86740.0</td>\n",
       "    </tr>\n",
       "    <tr>\n",
       "      <th>4</th>\n",
       "      <td>Line 2 Product 2</td>\n",
       "      <td>36846.140386</td>\n",
       "      <td>-4.427869</td>\n",
       "      <td>84050.0</td>\n",
       "    </tr>\n",
       "    <tr>\n",
       "      <th>5</th>\n",
       "      <td>Line 2 Product 3</td>\n",
       "      <td>35827.023747</td>\n",
       "      <td>-2.629060</td>\n",
       "      <td>86565.0</td>\n",
       "    </tr>\n",
       "    <tr>\n",
       "      <th>6</th>\n",
       "      <td>Line 3 Product 1</td>\n",
       "      <td>39414.266325</td>\n",
       "      <td>-2.421484</td>\n",
       "      <td>87051.0</td>\n",
       "    </tr>\n",
       "    <tr>\n",
       "      <th>7</th>\n",
       "      <td>Line 3 Product 2</td>\n",
       "      <td>35991.951460</td>\n",
       "      <td>-4.000512</td>\n",
       "      <td>85156.0</td>\n",
       "    </tr>\n",
       "    <tr>\n",
       "      <th>8</th>\n",
       "      <td>Line 3 Product 3</td>\n",
       "      <td>39313.317031</td>\n",
       "      <td>-2.296622</td>\n",
       "      <td>87588.0</td>\n",
       "    </tr>\n",
       "  </tbody>\n",
       "</table>\n",
       "</div>"
      ],
      "text/plain": [
       "            Product     Intercept  Sensitivity  Capacity\n",
       "0  Line 1 Product 1  35234.545786   -45.896450   80020.0\n",
       "1  Line 1 Product 2  37790.240832    -8.227794   89666.0\n",
       "2  Line 1 Product 3  35675.333217    -7.584436   80638.0\n",
       "3  Line 2 Product 1  37041.380378    -9.033166   86740.0\n",
       "4  Line 2 Product 2  36846.140386    -4.427869   84050.0\n",
       "5  Line 2 Product 3  35827.023747    -2.629060   86565.0\n",
       "6  Line 3 Product 1  39414.266325    -2.421484   87051.0\n",
       "7  Line 3 Product 2  35991.951460    -4.000512   85156.0\n",
       "8  Line 3 Product 3  39313.317031    -2.296622   87588.0"
      ]
     },
     "execution_count": 23,
     "metadata": {},
     "output_type": "execute_result"
    }
   ],
   "source": [
    "price_response_df.head(10)"
   ]
  },
  {
   "cell_type": "code",
   "execution_count": 24,
   "metadata": {},
   "outputs": [],
   "source": [
    "# Extract the \"Intercept\", \"Capacity\", and \"Sensitivity\" column\n",
    "intercept_values = price_response_df['Intercept'].values.reshape(3, -1)\n",
    "product_capacity = price_response_df['Capacity'].values.reshape(3, -1)\n",
    "slope = price_response_df['Sensitivity'].values.reshape(3, -1)"
   ]
  },
  {
   "cell_type": "code",
   "execution_count": 25,
   "metadata": {},
   "outputs": [
    {
     "data": {
      "text/plain": [
       "array([[35234.54578551, 37790.24083214, 35675.33321726],\n",
       "       [37041.38037789, 36846.14038592, 35827.02374655],\n",
       "       [39414.26632457, 35991.95146022, 39313.31703125]])"
      ]
     },
     "execution_count": 25,
     "metadata": {},
     "output_type": "execute_result"
    }
   ],
   "source": [
    "intercept_values"
   ]
  },
  {
   "cell_type": "code",
   "execution_count": 26,
   "metadata": {},
   "outputs": [
    {
     "data": {
      "text/plain": [
       "array([[80020., 89666., 80638.],\n",
       "       [86740., 84050., 86565.],\n",
       "       [87051., 85156., 87588.]])"
      ]
     },
     "execution_count": 26,
     "metadata": {},
     "output_type": "execute_result"
    }
   ],
   "source": [
    "product_capacity"
   ]
  },
  {
   "cell_type": "code",
   "execution_count": 27,
   "metadata": {},
   "outputs": [
    {
     "data": {
      "text/plain": [
       "array([[-45.89644971,  -8.22779417,  -7.58443641],\n",
       "       [ -9.0331664 ,  -4.42786921,  -2.62906002],\n",
       "       [ -2.42148392,  -4.0005124 ,  -2.29662237]])"
      ]
     },
     "execution_count": 27,
     "metadata": {},
     "output_type": "execute_result"
    }
   ],
   "source": [
    "slope"
   ]
  },
  {
   "cell_type": "markdown",
   "metadata": {},
   "source": [
    "# Part a)"
   ]
  },
  {
   "cell_type": "code",
   "execution_count": 28,
   "metadata": {},
   "outputs": [
    {
     "name": "stdout",
     "output_type": "stream",
     "text": [
      "Optimal values:\n",
      "P1: 383.8504532037101\n",
      "P2: 2296.4968098122035\n",
      "Maximized Revenue: 50154983.343558624\n",
      "Lagrange Multipliers: [5.72813245e-08]\n"
     ]
    }
   ],
   "source": [
    "from scipy.optimize import minimize\n",
    "\n",
    "# Objective function (negated for maximization)\n",
    "def objective(p):\n",
    "    p1, p2 = p\n",
    "    return -1 * (p1 * (intercept_values[0,0] + slope[0,0] * p1) + p2 * (intercept_values[0,1] + slope[0,1] * p2))\n",
    "\n",
    "# Constraint functions\n",
    "def constraint1(p):\n",
    "    return p[1] - p[0]\n",
    "\n",
    "def constraint2(p):\n",
    "    return intercept_values[0,0] + slope[0,0] * p[0]\n",
    "\n",
    "def constraint3(p):\n",
    "    return intercept_values[0,1] + slope[0,1] * p[1]\n",
    "\n",
    "# KKT conditions using only constraint1\n",
    "def kkt_conditions(p, lagrange_multipliers):\n",
    "    grad_objective = [-(intercept_values[0,0] + 2 * slope[0,0] * p[0]), -(intercept_values[0,1] + 2 * slope[0,1] * p[1])]\n",
    "    grad_constraint1 = [-1, 1]\n",
    "    \n",
    "    # Stationarity condition\n",
    "    stationarity = [grad_objective[i] + lagrange_multipliers[0] * grad_constraint1[i] for i in range(len(p))]\n",
    "    \n",
    "    # Complementary slackness conditions\n",
    "    complementary_slackness = lagrange_multipliers[0] * constraint1(p)\n",
    "    \n",
    "    # Feasibility conditions\n",
    "    feasibility = constraint1(p)\n",
    "    \n",
    "    return stationarity + [complementary_slackness] + [feasibility]\n",
    "\n",
    "# Initial guess for Lagrange multipliers\n",
    "initial_lagrange_multipliers = [1.0]\n",
    "\n",
    "# Bounds for Lagrange multipliers\n",
    "bounds_lagrange_multipliers = [(0, None)] * len(initial_lagrange_multipliers)\n",
    "\n",
    "# Initial guess\n",
    "initial_guess = [0, 0]\n",
    "\n",
    "# Bounds for variables\n",
    "bounds = [(0, None), (0, None)]  # P1 and P2 are non-negative\n",
    "\n",
    "# Solve using minimize with original objective and constraints\n",
    "result = minimize(objective, initial_guess, bounds=bounds, constraints=[{'type': 'ineq', 'fun': constraint1},\n",
    "                                                                       {'type': 'ineq', 'fun': constraint2},\n",
    "                                                                       {'type': 'ineq', 'fun': constraint3}])\n",
    "\n",
    "# Extract solution\n",
    "p_solution = result.x\n",
    "maximized_profit = -1 * result.fun  # Convert back to positive for interpretation\n",
    "\n",
    "# Now that p_solution is defined, you can use it in the minimize function for Lagrange multipliers\n",
    "\n",
    "result = minimize(lambda lagrange_multipliers: sum([val**2 for val in kkt_conditions(p_solution, lagrange_multipliers)]),\n",
    "                  initial_lagrange_multipliers,\n",
    "                  bounds=bounds_lagrange_multipliers)\n",
    "\n",
    "# Extract Lagrange multipliers solution\n",
    "lagrange_multipliers_solution = result.x\n",
    "\n",
    "print(\"Optimal values:\")\n",
    "print(\"P1:\", p_solution[0])\n",
    "print(\"P2:\", p_solution[1])\n",
    "print(\"Maximized Revenue:\", maximized_profit)\n",
    "print(\"Lagrange Multipliers:\", lagrange_multipliers_solution)"
   ]
  },
  {
   "cell_type": "markdown",
   "metadata": {},
   "source": [
    "# Part b)"
   ]
  },
  {
   "cell_type": "code",
   "execution_count": 29,
   "metadata": {},
   "outputs": [
    {
     "name": "stdout",
     "output_type": "stream",
     "text": [
      "Gurobi Optimizer version 11.0.0 build v11.0.0rc2 (win64 - Windows 11+.0 (22631.2))\n",
      "\n",
      "CPU model: Intel(R) Core(TM) i7-8750H CPU @ 2.20GHz, instruction set [SSE2|AVX|AVX2]\n",
      "Thread count: 6 physical cores, 12 logical processors, using up to 12 threads\n",
      "\n",
      "Optimize a model with 3 rows, 2 columns and 4 nonzeros\n",
      "Model fingerprint: 0x993e9687\n",
      "Model has 2 quadratic objective terms\n",
      "Coefficient statistics:\n",
      "  Matrix range     [1e+00, 5e+01]\n",
      "  Objective range  [4e+04, 4e+04]\n",
      "  QObjective range [2e+01, 9e+01]\n",
      "  Bounds range     [0e+00, 0e+00]\n",
      "  RHS range        [4e+04, 4e+04]\n",
      "Presolve removed 2 rows and 0 columns\n",
      "Presolve time: 0.01s\n",
      "Presolved: 1 rows, 2 columns, 2 nonzeros\n",
      "Presolved model has 2 quadratic objective terms\n",
      "Ordering time: 0.00s\n",
      "\n",
      "Barrier statistics:\n",
      " AA' NZ     : 0.000e+00\n",
      " Factor NZ  : 1.000e+00\n",
      " Factor Ops : 1.000e+00 (less than 1 second per iteration)\n",
      " Threads    : 1\n",
      "\n",
      "                  Objective                Residual\n",
      "Iter       Primal          Dual         Primal    Dual     Compl     Time\n",
      "   0  -2.57192088e+08  1.88361074e+09  8.82e+02 2.92e+02  1.31e+06     0s\n",
      "   1   4.70835123e+07  9.24858776e+08  0.00e+00 2.92e-04  1.71e+05     0s\n",
      "   2   4.85280827e+07  7.34061921e+07  0.00e+00 5.29e-06  4.86e+03     0s\n",
      "   3   5.01514252e+07  5.11105696e+07  0.00e+00 5.29e-12  1.87e+02     0s\n",
      "   4   5.01549833e+07  5.01559414e+07  0.00e+00 1.42e-14  1.87e-01     0s\n",
      "   5   5.01549833e+07  5.01549843e+07  0.00e+00 0.00e+00  1.87e-04     0s\n",
      "   6   5.01549833e+07  5.01549833e+07  0.00e+00 2.84e-14  1.87e-07     0s\n",
      "   7   5.01549833e+07  5.01549833e+07  0.00e+00 5.68e-14  1.88e-10     0s\n",
      "\n",
      "Barrier solved model in 7 iterations and 0.02 seconds (0.00 work units)\n",
      "Optimal objective 5.01549833e+07\n",
      "\n",
      "Final solution: x = 383.8482716083685, y = 2296.4989181320743, Objective = 50154983.343813635\n"
     ]
    }
   ],
   "source": [
    "# Objective function\n",
    "def objective_function(p1, p2):\n",
    "    return p1 * (intercept_values[0,0] + slope[0,0] * p1) + p2 * (intercept_values[0,1] + slope[0,1] * p2)\n",
    "\n",
    "# Projected Gradient Descent with Gurobi\n",
    "def projected_gradient_descent_with_gurobi(learning_rate, threshold):\n",
    "    # Initialize Gurobi model\n",
    "    model = gb.Model(\"projected_gradient_descent\")\n",
    "    \n",
    "    # Decision variables\n",
    "    p1 = model.addVar(lb=0, vtype=GRB.CONTINUOUS, name=\"p1\")\n",
    "    p2 = model.addVar(lb=0, vtype=GRB.CONTINUOUS, name=\"p2\")\n",
    "    \n",
    "    # Objective\n",
    "    obj = p1 * (intercept_values[0,0] + slope[0,0] * p1) + p2 * (intercept_values[0,1] + slope[0,1] * p2)\n",
    "    model.setObjective(obj, GRB.MAXIMIZE)\n",
    "    \n",
    "    # Optimization loop\n",
    "    prev_obj = float('inf')\n",
    "    i = 0\n",
    "    \n",
    "    while True:\n",
    "        # Price Constraint  \n",
    "        model.addConstr(p1 <= p2, f\"Price Constraint {i}\")\n",
    "\n",
    "        model.addConstr(intercept_values[0,0] + slope[0,0]*p1 >= 0, \"Demand Definition Product Line 1 Basic\")\n",
    "        model.addConstr(intercept_values[0,1] + slope[0,1]*p2 >= 0, \"Demand Definition Product Line 1 Advance\")\n",
    "        \n",
    "        # Optimize model\n",
    "        model.optimize()\n",
    "        \n",
    "        # Get current solution\n",
    "        current_p1 = p1.X\n",
    "        current_p2 = p2.X\n",
    "        \n",
    "        # Compute objective function\n",
    "        current_obj = objective_function(current_p1, current_p2)\n",
    "        \n",
    "        # Check convergence\n",
    "        if (current_obj - prev_obj) < threshold:\n",
    "            break\n",
    "        \n",
    "        prev_obj = current_obj\n",
    "        \n",
    "        # Compute gradient\n",
    "        df_dx = intercept_values[0,0] + 2 * slope[0,0] * current_p1\n",
    "        df_dy = intercept_values[0,1] + 2 * slope[0,1] * current_p2\n",
    "        \n",
    "        # Update parameters\n",
    "        current_p1 -= learning_rate * df_dx\n",
    "        current_p2 -= learning_rate * df_dy\n",
    "        \n",
    "        # Set new starting point\n",
    "        p1.Start = current_p1\n",
    "        p2.Start = current_p2\n",
    "        \n",
    "        # Increment iteration counter\n",
    "        i += 1\n",
    "    \n",
    "    return current_p1, current_p2\n",
    "\n",
    "# Hyperparameters\n",
    "learning_rate = 0.001\n",
    "threshold = 1e-6\n",
    "\n",
    "# Run projected gradient descent with Gurobi\n",
    "final_x, final_y = projected_gradient_descent_with_gurobi(learning_rate, threshold)\n",
    "print(f\"Final solution: x = {final_x}, y = {final_y}, Objective = {round(objective_function(final_x, final_y),10)}\")"
   ]
  },
  {
   "cell_type": "markdown",
   "metadata": {},
   "source": [
    "# Part c)"
   ]
  },
  {
   "cell_type": "code",
   "execution_count": 30,
   "metadata": {},
   "outputs": [],
   "source": [
    "# Create the optimization model\n",
    "part_c_model = gb.Model(\"Question 1c): TechEssentials Certain Product Line\")"
   ]
  },
  {
   "cell_type": "code",
   "execution_count": 31,
   "metadata": {},
   "outputs": [],
   "source": [
    "p = part_c_model.addVars(3,3, lb=0, vtype=GRB.CONTINUOUS, name=\"Price\")"
   ]
  },
  {
   "cell_type": "code",
   "execution_count": 32,
   "metadata": {},
   "outputs": [],
   "source": [
    "#Objective Function\n",
    "part_c_model.setObjective(gb.quicksum(p[i,n]*(intercept_values[i,n] + slope[i,n]*p[i,n]) for i in range(3) for n in range(3)), GRB.MAXIMIZE)"
   ]
  },
  {
   "cell_type": "code",
   "execution_count": 33,
   "metadata": {},
   "outputs": [],
   "source": [
    "for i in range(3):\n",
    "    for n in range(3):\n",
    "        part_c_model.addConstr((intercept_values[i,n] + slope[i,n]*p[i,n]) >= 0, \"Demand Lower Bound\")"
   ]
  },
  {
   "cell_type": "code",
   "execution_count": 34,
   "metadata": {},
   "outputs": [],
   "source": [
    "# Price Constraint\n",
    "for n in range(2):  \n",
    "    part_c_model.addConstr(p[0, n] <= p[0, n + 1], f\"Price Constraint {i}\")\n",
    "    part_c_model.addConstr(p[1, n] <= p[1, n + 1], f\"Price Constraint {i}\")\n",
    "    part_c_model.addConstr(p[2, n] <= p[2, n + 1], f\"Price Constraint {i}\")"
   ]
  },
  {
   "cell_type": "code",
   "execution_count": 35,
   "metadata": {},
   "outputs": [],
   "source": [
    "for i in range(3): \n",
    "    for n in range(3): \n",
    "        part_c_model.addConstr((intercept_values[i,n] + slope[i,n]*p[i,n]) <= product_capacity[i,n], \"Max Demand\")"
   ]
  },
  {
   "cell_type": "code",
   "execution_count": 36,
   "metadata": {},
   "outputs": [
    {
     "name": "stdout",
     "output_type": "stream",
     "text": [
      "Gurobi Optimizer version 11.0.0 build v11.0.0rc2 (win64 - Windows 11+.0 (22631.2))\n",
      "\n",
      "CPU model: Intel(R) Core(TM) i7-8750H CPU @ 2.20GHz, instruction set [SSE2|AVX|AVX2]\n",
      "Thread count: 6 physical cores, 12 logical processors, using up to 12 threads\n",
      "\n",
      "Optimize a model with 24 rows, 9 columns and 30 nonzeros\n",
      "Model fingerprint: 0x7c0c1e87\n",
      "Model has 9 quadratic objective terms\n",
      "Coefficient statistics:\n",
      "  Matrix range     [1e+00, 5e+01]\n",
      "  Objective range  [4e+04, 4e+04]\n",
      "  QObjective range [5e+00, 9e+01]\n",
      "  Bounds range     [0e+00, 0e+00]\n",
      "  RHS range        [4e+04, 5e+04]\n",
      "Presolve removed 18 rows and 0 columns\n",
      "Presolve time: 0.01s\n",
      "Presolved: 6 rows, 9 columns, 12 nonzeros\n",
      "Presolved model has 9 quadratic objective terms\n",
      "Ordering time: 0.00s\n",
      "\n",
      "Barrier statistics:\n",
      " AA' NZ     : 3.000e+00\n",
      " Factor NZ  : 9.000e+00\n",
      " Factor Ops : 1.500e+01 (less than 1 second per iteration)\n",
      " Threads    : 1\n",
      "\n",
      "                  Objective                Residual\n",
      "Iter       Primal          Dual         Primal    Dual     Compl     Time\n",
      "   0  -2.46664867e+08  7.94411343e+09  8.88e+02 5.65e+02  1.40e+06     0s\n",
      "   1   6.54979287e+08  2.94549402e+09  0.00e+00 5.65e-04  1.86e+05     0s\n",
      "   2   7.00528563e+08  8.21522546e+08  0.00e+00 1.27e-05  9.85e+03     0s\n",
      "   3   7.16772545e+08  7.23350467e+08  0.00e+00 9.63e-08  5.35e+02     0s\n",
      "   4   7.18322189e+08  7.18505328e+08  0.00e+00 2.27e-13  1.49e+01     0s\n",
      "   5   7.18378050e+08  7.18401860e+08  0.00e+00 1.14e-13  1.94e+00     0s\n",
      "   6   7.18382031e+08  7.18383993e+08  0.00e+00 5.68e-14  1.60e-01     0s\n",
      "   7   7.18382098e+08  7.18382111e+08  0.00e+00 1.14e-13  1.06e-03     0s\n",
      "   8   7.18382098e+08  7.18382098e+08  0.00e+00 0.00e+00  1.06e-06     0s\n",
      "   9   7.18382098e+08  7.18382098e+08  0.00e+00 1.14e-13  1.06e-09     0s\n",
      "\n",
      "Barrier solved model in 9 iterations and 0.02 seconds (0.00 work units)\n",
      "Optimal objective 7.18382098e+08\n",
      "\n"
     ]
    }
   ],
   "source": [
    "# Solve our model\n",
    "part_c_model.optimize()"
   ]
  },
  {
   "cell_type": "code",
   "execution_count": 37,
   "metadata": {},
   "outputs": [
    {
     "name": "stdout",
     "output_type": "stream",
     "text": [
      "Revenue:  718382097.67\n"
     ]
    }
   ],
   "source": [
    "# Value of the objective function\n",
    "print(\"Revenue: \", round(part_c_model.objVal,2))"
   ]
  },
  {
   "cell_type": "code",
   "execution_count": 38,
   "metadata": {},
   "outputs": [
    {
     "name": "stdout",
     "output_type": "stream",
     "text": [
      "\n",
      "    Variable            X \n",
      "-------------------------\n",
      "  Price[0,0]      383.848 \n",
      "  Price[0,1]       2296.5 \n",
      "  Price[0,2]      2351.88 \n",
      "  Price[1,0]       2050.3 \n",
      "  Price[1,1]      4160.71 \n",
      "  Price[1,2]      6813.66 \n",
      "  Price[2,0]      5870.93 \n",
      "  Price[2,1]      5870.93 \n",
      "  Price[2,2]      8558.94 \n",
      "None\n"
     ]
    }
   ],
   "source": [
    "# Print the decision variables\n",
    "print(part_c_model.printAttr('X'))"
   ]
  },
  {
   "cell_type": "markdown",
   "metadata": {},
   "source": [
    "# Part d)"
   ]
  },
  {
   "cell_type": "code",
   "execution_count": 39,
   "metadata": {},
   "outputs": [],
   "source": [
    "# Create the optimization model\n",
    "part_d_model = gb.Model(\"Question 1d): TechEssentials Certain Product Line\")"
   ]
  },
  {
   "cell_type": "code",
   "execution_count": 40,
   "metadata": {},
   "outputs": [],
   "source": [
    "p = part_d_model.addVars(3,3, lb=0, vtype=GRB.CONTINUOUS, name=\"Price\")"
   ]
  },
  {
   "cell_type": "code",
   "execution_count": 41,
   "metadata": {},
   "outputs": [],
   "source": [
    "#Objective Function\n",
    "part_d_model.setObjective(gb.quicksum(p[i,n]*(intercept_values[i][n] + slope[i][n]*p[i,n]) for i in range(3) for n in range(3)), GRB.MAXIMIZE)"
   ]
  },
  {
   "cell_type": "code",
   "execution_count": 42,
   "metadata": {},
   "outputs": [],
   "source": [
    "for i in range(3):\n",
    "    for n in range(3):\n",
    "        part_d_model.addConstr((intercept_values[i][n] + slope[i][n]*p[i,n]) >= 0, \"Demand Lower Bound\")"
   ]
  },
  {
   "cell_type": "code",
   "execution_count": 43,
   "metadata": {},
   "outputs": [],
   "source": [
    "# Price Constraint\n",
    "for n in range(2):  \n",
    "    part_d_model.addConstr(p[0, n] <= p[0, n + 1], f\"Price Constraint {i}\")\n",
    "    part_d_model.addConstr(p[1, n] <= p[1, n + 1], f\"Price Constraint {i}\")\n",
    "    part_d_model.addConstr(p[2, n] <= p[2, n + 1], f\"Price Constraint {i}\")\n",
    "\n",
    "for n in range(2):  \n",
    "    part_d_model.addConstr(p[n, 0] <= p[n + 1, 0], f\"Price Constraint {i}\")\n",
    "    part_d_model.addConstr(p[n, 1] <= p[n + 1, 1], f\"Price Constraint {i}\")\n",
    "    part_d_model.addConstr(p[n, 2] <= p[n + 1, 2], f\"Price Constraint {i}\")\n",
    "\n",
    "#part_d_model.addConstr(p[0, 1] <= p[1, 0], f\"Price Constraint Additional 1\")\n",
    "#part_d_model.addConstr(p[0, 2] <= p[1, 0], f\"Price Constraint Additional 2\")\n",
    "#part_d_model.addConstr(p[1, 1] <= p[2, 0], f\"Price Constraint Additional 3\")\n",
    "#part_d_model.addConstr(p[1, 2] <= p[2, 0], f\"Price Constraint Additional 4\")"
   ]
  },
  {
   "cell_type": "code",
   "execution_count": 44,
   "metadata": {},
   "outputs": [],
   "source": [
    "for i in range(3): \n",
    "    for n in range(3): \n",
    "        part_d_model.addConstr((intercept_values[i,n] + slope[i,n]*p[i,n]) <= product_capacity[i,n], \"Max Demand\")"
   ]
  },
  {
   "cell_type": "code",
   "execution_count": 45,
   "metadata": {},
   "outputs": [
    {
     "name": "stdout",
     "output_type": "stream",
     "text": [
      "Gurobi Optimizer version 11.0.0 build v11.0.0rc2 (win64 - Windows 11+.0 (22631.2))\n",
      "\n",
      "CPU model: Intel(R) Core(TM) i7-8750H CPU @ 2.20GHz, instruction set [SSE2|AVX|AVX2]\n",
      "Thread count: 6 physical cores, 12 logical processors, using up to 12 threads\n",
      "\n",
      "Optimize a model with 30 rows, 9 columns and 42 nonzeros\n",
      "Model fingerprint: 0x4ea948ad\n",
      "Model has 9 quadratic objective terms\n",
      "Coefficient statistics:\n",
      "  Matrix range     [1e+00, 5e+01]\n",
      "  Objective range  [4e+04, 4e+04]\n",
      "  QObjective range [5e+00, 9e+01]\n",
      "  Bounds range     [0e+00, 0e+00]\n",
      "  RHS range        [4e+04, 5e+04]\n",
      "Presolve removed 18 rows and 0 columns\n",
      "Presolve time: 0.01s\n",
      "Presolved: 12 rows, 9 columns, 24 nonzeros\n",
      "Presolved model has 9 quadratic objective terms\n",
      "Ordering time: 0.00s\n",
      "\n",
      "Barrier statistics:\n",
      " AA' NZ     : 2.200e+01\n",
      " Factor NZ  : 7.800e+01\n",
      " Factor Ops : 6.500e+02 (less than 1 second per iteration)\n",
      " Threads    : 1\n",
      "\n",
      "                  Objective                Residual\n",
      "Iter       Primal          Dual         Primal    Dual     Compl     Time\n",
      "   0  -2.32251734e+08  7.86916556e+09  9.87e+02 7.02e+02  1.35e+06     0s\n",
      "   1   6.46602194e+08  3.40523493e+09  0.00e+00 7.02e-04  1.80e+05     0s\n",
      "   2   6.96106134e+08  8.63659542e+08  0.00e+00 2.09e-05  1.09e+04     0s\n",
      "   3   7.17353672e+08  7.23295779e+08  0.00e+00 1.37e-07  3.87e+02     0s\n",
      "   4   7.18341203e+08  7.18488841e+08  0.00e+00 4.01e-12  9.61e+00     0s\n",
      "   5   7.18379583e+08  7.18396773e+08  0.00e+00 1.14e-13  1.12e+00     0s\n",
      "   6   7.18382070e+08  7.18383285e+08  0.00e+00 0.00e+00  7.91e-02     0s\n",
      "   7   7.18382098e+08  7.18382101e+08  0.00e+00 1.14e-13  2.40e-04     0s\n",
      "   8   7.18382098e+08  7.18382098e+08  0.00e+00 1.14e-13  2.40e-07     0s\n",
      "   9   7.18382098e+08  7.18382098e+08  0.00e+00 1.14e-13  2.40e-10     0s\n",
      "\n",
      "Barrier solved model in 9 iterations and 0.02 seconds (0.00 work units)\n",
      "Optimal objective 7.18382098e+08\n",
      "\n"
     ]
    }
   ],
   "source": [
    "# Solve our model\n",
    "part_d_model.optimize()"
   ]
  },
  {
   "cell_type": "code",
   "execution_count": 46,
   "metadata": {},
   "outputs": [
    {
     "name": "stdout",
     "output_type": "stream",
     "text": [
      "Revenue:  718382097.67\n"
     ]
    }
   ],
   "source": [
    "# Value of the objective function\n",
    "print(\"Revenue: \", round(part_d_model.objVal,2))"
   ]
  },
  {
   "cell_type": "code",
   "execution_count": 47,
   "metadata": {},
   "outputs": [
    {
     "name": "stdout",
     "output_type": "stream",
     "text": [
      "\n",
      "    Variable            X \n",
      "-------------------------\n",
      "  Price[0,0]      383.848 \n",
      "  Price[0,1]       2296.5 \n",
      "  Price[0,2]      2351.88 \n",
      "  Price[1,0]       2050.3 \n",
      "  Price[1,1]      4160.71 \n",
      "  Price[1,2]      6813.66 \n",
      "  Price[2,0]      5870.93 \n",
      "  Price[2,1]      5870.93 \n",
      "  Price[2,2]      8558.94 \n",
      "None\n"
     ]
    }
   ],
   "source": [
    "# Print the decision variables\n",
    "print(part_d_model.printAttr('X'))"
   ]
  },
  {
   "cell_type": "code",
   "execution_count": 48,
   "metadata": {},
   "outputs": [
    {
     "data": {
      "text/plain": [
       "array([[ 383.84827161, 2296.49891813, 2351.87766702],\n",
       "       [2050.29879442, 4160.70785608, 6813.65650408],\n",
       "       [5870.9328096 , 5870.9328096 , 8558.94236073]])"
      ]
     },
     "execution_count": 48,
     "metadata": {},
     "output_type": "execute_result"
    }
   ],
   "source": [
    "# Extract values from the tupledict\n",
    "values = [v for v in part_d_model.getAttr('x', p).values()]\n",
    "\n",
    "# Reshape the values\n",
    "price_values = np.array(values).reshape(3, -1)\n",
    "\n",
    "price_values"
   ]
  },
  {
   "cell_type": "code",
   "execution_count": 49,
   "metadata": {},
   "outputs": [
    {
     "data": {
      "text/plain": [
       "[[17617.272892756177, 18895.120416101, 17837.666608596355],\n",
       " [18520.690188945133, 18423.070192958312, 17913.51187327708],\n",
       " [25197.89694029585, 12505.211952096714, 19656.65851562613]]"
      ]
     },
     "execution_count": 49,
     "metadata": {},
     "output_type": "execute_result"
    }
   ],
   "source": [
    "demand = [[intercept_values[i][n] + slope[i][n] * price_values[i][n] for n in range(3)] for i in range(3)]\n",
    "demand"
   ]
  }
 ],
 "metadata": {
  "kernelspec": {
   "display_name": "Python 3",
   "language": "python",
   "name": "python3"
  },
  "language_info": {
   "codemirror_mode": {
    "name": "ipython",
    "version": 3
   },
   "file_extension": ".py",
   "mimetype": "text/x-python",
   "name": "python",
   "nbconvert_exporter": "python",
   "pygments_lexer": "ipython3",
   "version": "3.11.3"
  }
 },
 "nbformat": 4,
 "nbformat_minor": 2
}
