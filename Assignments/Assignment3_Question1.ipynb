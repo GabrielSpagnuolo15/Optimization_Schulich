{
 "cells": [
  {
   "cell_type": "code",
   "execution_count": 2,
   "metadata": {},
   "outputs": [],
   "source": [
    "from gurobipy import GRB\n",
    "import gurobipy as gb\n",
    "import pandas as pd\n",
    "import numpy as np"
   ]
  },
  {
   "cell_type": "code",
   "execution_count": 3,
   "metadata": {},
   "outputs": [
    {
     "name": "stdout",
     "output_type": "stream",
     "text": [
      "Set parameter Username\n",
      "Academic license - for non-commercial use only - expires 2025-01-15\n"
     ]
    }
   ],
   "source": [
    "# Create the optimization model\n",
    "question_1_model = gb.Model(\"Question 1: HealthLink Supplies\")"
   ]
  },
  {
   "cell_type": "code",
   "execution_count": 4,
   "metadata": {},
   "outputs": [],
   "source": [
    "cost_df = pd.read_csv(r\"C:\\Users\\gabri\\Downloads\\costs.csv\")"
   ]
  },
  {
   "cell_type": "code",
   "execution_count": 5,
   "metadata": {},
   "outputs": [
    {
     "data": {
      "text/html": [
       "<div>\n",
       "<style scoped>\n",
       "    .dataframe tbody tr th:only-of-type {\n",
       "        vertical-align: middle;\n",
       "    }\n",
       "\n",
       "    .dataframe tbody tr th {\n",
       "        vertical-align: top;\n",
       "    }\n",
       "\n",
       "    .dataframe thead th {\n",
       "        text-align: right;\n",
       "    }\n",
       "</style>\n",
       "<table border=\"1\" class=\"dataframe\">\n",
       "  <thead>\n",
       "    <tr style=\"text-align: right;\">\n",
       "      <th></th>\n",
       "      <th>Entry</th>\n",
       "      <th>Fixed</th>\n",
       "      <th>Variable</th>\n",
       "    </tr>\n",
       "  </thead>\n",
       "  <tbody>\n",
       "    <tr>\n",
       "      <th>0</th>\n",
       "      <td>1</td>\n",
       "      <td>2490000.0</td>\n",
       "      <td>0.24</td>\n",
       "    </tr>\n",
       "    <tr>\n",
       "      <th>1</th>\n",
       "      <td>2</td>\n",
       "      <td>2480000.0</td>\n",
       "      <td>0.63</td>\n",
       "    </tr>\n",
       "    <tr>\n",
       "      <th>2</th>\n",
       "      <td>3</td>\n",
       "      <td>1300000.0</td>\n",
       "      <td>0.82</td>\n",
       "    </tr>\n",
       "    <tr>\n",
       "      <th>3</th>\n",
       "      <td>4</td>\n",
       "      <td>2220000.0</td>\n",
       "      <td>0.51</td>\n",
       "    </tr>\n",
       "    <tr>\n",
       "      <th>4</th>\n",
       "      <td>5</td>\n",
       "      <td>1280000.0</td>\n",
       "      <td>0.36</td>\n",
       "    </tr>\n",
       "    <tr>\n",
       "      <th>5</th>\n",
       "      <td>6</td>\n",
       "      <td>1590000.0</td>\n",
       "      <td>0.49</td>\n",
       "    </tr>\n",
       "    <tr>\n",
       "      <th>6</th>\n",
       "      <td>7</td>\n",
       "      <td>1330000.0</td>\n",
       "      <td>0.68</td>\n",
       "    </tr>\n",
       "    <tr>\n",
       "      <th>7</th>\n",
       "      <td>8</td>\n",
       "      <td>1980000.0</td>\n",
       "      <td>0.29</td>\n",
       "    </tr>\n",
       "    <tr>\n",
       "      <th>8</th>\n",
       "      <td>9</td>\n",
       "      <td>1090000.0</td>\n",
       "      <td>0.52</td>\n",
       "    </tr>\n",
       "    <tr>\n",
       "      <th>9</th>\n",
       "      <td>10</td>\n",
       "      <td>1370000.0</td>\n",
       "      <td>0.43</td>\n",
       "    </tr>\n",
       "    <tr>\n",
       "      <th>10</th>\n",
       "      <td>11</td>\n",
       "      <td>1260000.0</td>\n",
       "      <td>0.50</td>\n",
       "    </tr>\n",
       "    <tr>\n",
       "      <th>11</th>\n",
       "      <td>12</td>\n",
       "      <td>2950000.0</td>\n",
       "      <td>0.81</td>\n",
       "    </tr>\n",
       "    <tr>\n",
       "      <th>12</th>\n",
       "      <td>13</td>\n",
       "      <td>1190000.0</td>\n",
       "      <td>0.86</td>\n",
       "    </tr>\n",
       "    <tr>\n",
       "      <th>13</th>\n",
       "      <td>14</td>\n",
       "      <td>2810000.0</td>\n",
       "      <td>0.63</td>\n",
       "    </tr>\n",
       "    <tr>\n",
       "      <th>14</th>\n",
       "      <td>15</td>\n",
       "      <td>2200000.0</td>\n",
       "      <td>0.25</td>\n",
       "    </tr>\n",
       "    <tr>\n",
       "      <th>15</th>\n",
       "      <td>16</td>\n",
       "      <td>1790000.0</td>\n",
       "      <td>0.25</td>\n",
       "    </tr>\n",
       "    <tr>\n",
       "      <th>16</th>\n",
       "      <td>17</td>\n",
       "      <td>2330000.0</td>\n",
       "      <td>0.65</td>\n",
       "    </tr>\n",
       "    <tr>\n",
       "      <th>17</th>\n",
       "      <td>18</td>\n",
       "      <td>2320000.0</td>\n",
       "      <td>0.58</td>\n",
       "    </tr>\n",
       "    <tr>\n",
       "      <th>18</th>\n",
       "      <td>19</td>\n",
       "      <td>1770000.0</td>\n",
       "      <td>0.53</td>\n",
       "    </tr>\n",
       "    <tr>\n",
       "      <th>19</th>\n",
       "      <td>20</td>\n",
       "      <td>2430000.0</td>\n",
       "      <td>0.73</td>\n",
       "    </tr>\n",
       "    <tr>\n",
       "      <th>20</th>\n",
       "      <td>21</td>\n",
       "      <td>2310000.0</td>\n",
       "      <td>0.55</td>\n",
       "    </tr>\n",
       "    <tr>\n",
       "      <th>21</th>\n",
       "      <td>22</td>\n",
       "      <td>1100000.0</td>\n",
       "      <td>0.25</td>\n",
       "    </tr>\n",
       "    <tr>\n",
       "      <th>22</th>\n",
       "      <td>23</td>\n",
       "      <td>1960000.0</td>\n",
       "      <td>0.87</td>\n",
       "    </tr>\n",
       "    <tr>\n",
       "      <th>23</th>\n",
       "      <td>24</td>\n",
       "      <td>1970000.0</td>\n",
       "      <td>0.46</td>\n",
       "    </tr>\n",
       "    <tr>\n",
       "      <th>24</th>\n",
       "      <td>25</td>\n",
       "      <td>1550000.0</td>\n",
       "      <td>0.37</td>\n",
       "    </tr>\n",
       "    <tr>\n",
       "      <th>25</th>\n",
       "      <td>26</td>\n",
       "      <td>2110000.0</td>\n",
       "      <td>0.61</td>\n",
       "    </tr>\n",
       "    <tr>\n",
       "      <th>26</th>\n",
       "      <td>27</td>\n",
       "      <td>2580000.0</td>\n",
       "      <td>0.65</td>\n",
       "    </tr>\n",
       "  </tbody>\n",
       "</table>\n",
       "</div>"
      ],
      "text/plain": [
       "    Entry      Fixed  Variable\n",
       "0       1  2490000.0      0.24\n",
       "1       2  2480000.0      0.63\n",
       "2       3  1300000.0      0.82\n",
       "3       4  2220000.0      0.51\n",
       "4       5  1280000.0      0.36\n",
       "5       6  1590000.0      0.49\n",
       "6       7  1330000.0      0.68\n",
       "7       8  1980000.0      0.29\n",
       "8       9  1090000.0      0.52\n",
       "9      10  1370000.0      0.43\n",
       "10     11  1260000.0      0.50\n",
       "11     12  2950000.0      0.81\n",
       "12     13  1190000.0      0.86\n",
       "13     14  2810000.0      0.63\n",
       "14     15  2200000.0      0.25\n",
       "15     16  1790000.0      0.25\n",
       "16     17  2330000.0      0.65\n",
       "17     18  2320000.0      0.58\n",
       "18     19  1770000.0      0.53\n",
       "19     20  2430000.0      0.73\n",
       "20     21  2310000.0      0.55\n",
       "21     22  1100000.0      0.25\n",
       "22     23  1960000.0      0.87\n",
       "23     24  1970000.0      0.46\n",
       "24     25  1550000.0      0.37\n",
       "25     26  2110000.0      0.61\n",
       "26     27  2580000.0      0.65"
      ]
     },
     "execution_count": 5,
     "metadata": {},
     "output_type": "execute_result"
    }
   ],
   "source": [
    "cost_df"
   ]
  },
  {
   "cell_type": "code",
   "execution_count": 6,
   "metadata": {},
   "outputs": [],
   "source": [
    "fixed_costs = cost_df['Fixed'].values\n",
    "variable_costs = cost_df['Variable'].values"
   ]
  },
  {
   "cell_type": "code",
   "execution_count": 7,
   "metadata": {},
   "outputs": [
    {
     "data": {
      "text/plain": [
       "array([2490000., 2480000., 1300000., 2220000., 1280000., 1590000.,\n",
       "       1330000., 1980000., 1090000., 1370000., 1260000., 2950000.,\n",
       "       1190000., 2810000., 2200000., 1790000., 2330000., 2320000.,\n",
       "       1770000., 2430000., 2310000., 1100000., 1960000., 1970000.,\n",
       "       1550000., 2110000., 2580000.])"
      ]
     },
     "execution_count": 7,
     "metadata": {},
     "output_type": "execute_result"
    }
   ],
   "source": [
    "fixed_costs"
   ]
  },
  {
   "cell_type": "code",
   "execution_count": 8,
   "metadata": {},
   "outputs": [
    {
     "data": {
      "text/plain": [
       "array([0.24, 0.63, 0.82, 0.51, 0.36, 0.49, 0.68, 0.29, 0.52, 0.43, 0.5 ,\n",
       "       0.81, 0.86, 0.63, 0.25, 0.25, 0.65, 0.58, 0.53, 0.73, 0.55, 0.25,\n",
       "       0.87, 0.46, 0.37, 0.61, 0.65])"
      ]
     },
     "execution_count": 8,
     "metadata": {},
     "output_type": "execute_result"
    }
   ],
   "source": [
    "variable_costs"
   ]
  },
  {
   "cell_type": "code",
   "execution_count": 9,
   "metadata": {},
   "outputs": [],
   "source": [
    "x = question_1_model.addVars(27, lb=0, vtype=GRB.BINARY, name=\"Sites\")\n",
    "y = question_1_model.addVars(27, lb=0, vtype=GRB.INTEGER, name=\"Supplies\")"
   ]
  },
  {
   "cell_type": "code",
   "execution_count": 10,
   "metadata": {},
   "outputs": [],
   "source": [
    "f = gb.quicksum(fixed_costs[i]*x[i] for i in range(27))\n",
    "c = gb.quicksum(variable_costs[i]*x[i]*y[i] for i in range(27))\n",
    "question_1_model.setObjective(f + c, GRB.MINIMIZE)"
   ]
  },
  {
   "cell_type": "code",
   "execution_count": 11,
   "metadata": {},
   "outputs": [
    {
     "data": {
      "text/plain": [
       "<gurobi.Constr *Awaiting Model Update*>"
      ]
     },
     "execution_count": 11,
     "metadata": {},
     "output_type": "execute_result"
    }
   ],
   "source": [
    "question_1_model.addConstr(gb.quicksum(y[i] for i in range(27)) == 2900000, \"Total Supply Constraint\")"
   ]
  },
  {
   "cell_type": "code",
   "execution_count": 12,
   "metadata": {},
   "outputs": [],
   "source": [
    "for i in range(27):\n",
    "    question_1_model.addConstr(y[i] <= 375000*x[i], \"Max Supply Constraint\")"
   ]
  },
  {
   "cell_type": "code",
   "execution_count": 13,
   "metadata": {},
   "outputs": [],
   "source": [
    "for i in range(27):\n",
    "    question_1_model.addConstr(y[i] >= 175000*x[i], \"Min Supply Constraint\")"
   ]
  },
  {
   "cell_type": "code",
   "execution_count": 14,
   "metadata": {},
   "outputs": [
    {
     "data": {
      "text/plain": [
       "<gurobi.Constr *Awaiting Model Update*>"
      ]
     },
     "execution_count": 14,
     "metadata": {},
     "output_type": "execute_result"
    }
   ],
   "source": [
    "question_1_model.addConstr(gb.quicksum(x[i] for i in range(5,16)) >= 4, \"Location Constraint 1\")"
   ]
  },
  {
   "cell_type": "code",
   "execution_count": 15,
   "metadata": {},
   "outputs": [
    {
     "data": {
      "text/plain": [
       "<gurobi.Constr *Awaiting Model Update*>"
      ]
     },
     "execution_count": 15,
     "metadata": {},
     "output_type": "execute_result"
    }
   ],
   "source": [
    "question_1_model.addConstr(gb.quicksum(x[i] for i in range(1, 27, 2)) <= 6, \"Location Constraint 2\")"
   ]
  },
  {
   "cell_type": "code",
   "execution_count": 16,
   "metadata": {},
   "outputs": [],
   "source": [
    "for i in range(2):\n",
    "    for j in range(5,8):\n",
    "        question_1_model.addConstr(x[i] <= 1 - (x[j]), \"Location Constraint 3\")"
   ]
  },
  {
   "cell_type": "code",
   "execution_count": 17,
   "metadata": {},
   "outputs": [],
   "source": [
    "for i in range(18,22):\n",
    "    for j in [23, 25, 26]:\n",
    "        question_1_model.addConstr(x[i] <= 1 - (x[j]), \"Location Constraint 4\")"
   ]
  },
  {
   "cell_type": "code",
   "execution_count": 18,
   "metadata": {},
   "outputs": [],
   "source": [
    "#for i in range(5):\n",
    "    #question_1_model.addConstr(x[i] <= x[20] + x[21] + x[22] + x[23] + x[24] + x[25] + x[26], \"Location Constraint 5\")"
   ]
  },
  {
   "cell_type": "code",
   "execution_count": 19,
   "metadata": {},
   "outputs": [],
   "source": [
    "for i in range(5):\n",
    "    question_1_model.addConstr(x[i] <= x[20] + x[22] + x[24] + x[26], \"Location Constraint 5\")"
   ]
  },
  {
   "cell_type": "code",
   "execution_count": 20,
   "metadata": {},
   "outputs": [
    {
     "data": {
      "text/plain": [
       "<gurobi.Constr *Awaiting Model Update*>"
      ]
     },
     "execution_count": 20,
     "metadata": {},
     "output_type": "execute_result"
    }
   ],
   "source": [
    "question_1_model.addConstr(gb.quicksum(x[i] for i in range(14)) == gb.quicksum(x[j] for j in range(14,27)), \"Location Constraint 6\")"
   ]
  },
  {
   "cell_type": "code",
   "execution_count": 21,
   "metadata": {},
   "outputs": [
    {
     "data": {
      "text/plain": [
       "<gurobi.Constr *Awaiting Model Update*>"
      ]
     },
     "execution_count": 21,
     "metadata": {},
     "output_type": "execute_result"
    }
   ],
   "source": [
    "question_1_model.addConstr(gb.quicksum(y[i] for i in range(9)) == gb.quicksum(y[j] for j in range(18,27)), \"Supply Constraint 2\")"
   ]
  },
  {
   "cell_type": "code",
   "execution_count": 22,
   "metadata": {},
   "outputs": [
    {
     "name": "stdout",
     "output_type": "stream",
     "text": [
      "Gurobi Optimizer version 11.0.0 build v11.0.0rc2 (win64 - Windows 11+.0 (22631.2))\n",
      "\n",
      "CPU model: Intel(R) Core(TM) i7-8750H CPU @ 2.20GHz, instruction set [SSE2|AVX|AVX2]\n",
      "Thread count: 6 physical cores, 12 logical processors, using up to 12 threads\n",
      "\n",
      "Optimize a model with 82 rows, 54 columns and 265 nonzeros\n",
      "Model fingerprint: 0x27b7692e\n",
      "Model has 27 quadratic objective terms\n",
      "Variable types: 0 continuous, 54 integer (27 binary)\n",
      "Coefficient statistics:\n",
      "  Matrix range     [1e+00, 4e+05]\n",
      "  Objective range  [1e+06, 3e+06]\n",
      "  QObjective range [5e-01, 2e+00]\n",
      "  Bounds range     [1e+00, 1e+00]\n",
      "  RHS range        [1e+00, 3e+06]\n",
      "Found heuristic solution: objective 1.846275e+07\n",
      "Presolve time: 0.02s\n",
      "Presolved: 109 rows, 81 columns, 346 nonzeros\n",
      "Variable types: 0 continuous, 81 integer (27 binary)\n",
      "\n",
      "Root relaxation: objective 1.201633e+07, 40 iterations, 0.00 seconds (0.00 work units)\n",
      "\n",
      "    Nodes    |    Current Node    |     Objective Bounds      |     Work\n",
      " Expl Unexpl |  Obj  Depth IntInf | Incumbent    BestBd   Gap | It/Node Time\n",
      "\n",
      "     0     0 1.2016e+07    0    2 1.8463e+07 1.2016e+07  34.9%     -    0s\n",
      "H    0     0                    1.242300e+07 1.2016e+07  3.27%     -    0s\n",
      "H    0     0                    1.240700e+07 1.2016e+07  3.15%     -    0s\n",
      "     0     0 1.2088e+07    0    5 1.2407e+07 1.2088e+07  2.57%     -    0s\n",
      "     0     0 1.2088e+07    0    2 1.2407e+07 1.2088e+07  2.57%     -    0s\n",
      "     0     0 1.2392e+07    0    5 1.2407e+07 1.2392e+07  0.12%     -    0s\n",
      "     0     0     cutoff    0      1.2407e+07 1.2407e+07  0.00%     -    0s\n",
      "\n",
      "Cutting planes:\n",
      "  Gomory: 3\n",
      "  Flow cover: 1\n",
      "  Network: 1\n",
      "  Relax-and-lift: 1\n",
      "\n",
      "Explored 1 nodes (75 simplex iterations) in 0.08 seconds (0.00 work units)\n",
      "Thread count was 12 (of 12 available processors)\n",
      "\n",
      "Solution count 3: 1.2407e+07 1.2423e+07 1.84628e+07 \n",
      "\n",
      "Optimal solution found (tolerance 1.00e-04)\n",
      "Best objective 1.240700000000e+07, best bound 1.240700000000e+07, gap 0.0000%\n"
     ]
    }
   ],
   "source": [
    "# Optimally solve the problem\n",
    "question_1_model.optimize()"
   ]
  },
  {
   "cell_type": "code",
   "execution_count": 23,
   "metadata": {},
   "outputs": [
    {
     "name": "stdout",
     "output_type": "stream",
     "text": [
      "Cost:  12407000.0\n"
     ]
    }
   ],
   "source": [
    "# Value of the objective function\n",
    "print(\"Cost: \", round(question_1_model.objVal,2))"
   ]
  },
  {
   "cell_type": "code",
   "execution_count": 24,
   "metadata": {},
   "outputs": [
    {
     "name": "stdout",
     "output_type": "stream",
     "text": [
      "\n",
      "    Variable            X \n",
      "-------------------------\n",
      "    Sites[4]            1 \n",
      "    Sites[6]            1 \n",
      "    Sites[8]            1 \n",
      "   Sites[10]            1 \n",
      "   Sites[15]            1 \n",
      "   Sites[18]            1 \n",
      "   Sites[21]            1 \n",
      "   Sites[24]            1 \n",
      " Supplies[4]       375000 \n",
      " Supplies[6]       325000 \n",
      " Supplies[8]       375000 \n",
      "Supplies[10]       375000 \n",
      "Supplies[15]       375000 \n",
      "Supplies[18]       325000 \n",
      "Supplies[21]       375000 \n",
      "Supplies[24]       375000 \n",
      "None\n"
     ]
    }
   ],
   "source": [
    "# Print the decision variables\n",
    "print(question_1_model.printAttr('X'))"
   ]
  }
 ],
 "metadata": {
  "kernelspec": {
   "display_name": "Python 3",
   "language": "python",
   "name": "python3"
  },
  "language_info": {
   "codemirror_mode": {
    "name": "ipython",
    "version": 3
   },
   "file_extension": ".py",
   "mimetype": "text/x-python",
   "name": "python",
   "nbconvert_exporter": "python",
   "pygments_lexer": "ipython3",
   "version": "3.11.3"
  }
 },
 "nbformat": 4,
 "nbformat_minor": 2
}
