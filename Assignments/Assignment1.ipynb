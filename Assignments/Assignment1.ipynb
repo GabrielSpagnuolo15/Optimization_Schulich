{
 "cells": [
  {
   "cell_type": "markdown",
   "metadata": {},
   "source": [
    "# Question 1"
   ]
  },
  {
   "cell_type": "code",
   "execution_count": 1522,
   "metadata": {},
   "outputs": [],
   "source": [
    "from gurobipy import GRB\n",
    "import gurobipy as gb\n",
    "import pandas as pd\n",
    "import numpy as np"
   ]
  },
  {
   "cell_type": "code",
   "execution_count": 1523,
   "metadata": {},
   "outputs": [],
   "source": [
    "# Create the optimization model\n",
    "model = gb.Model(\"Question 1: Canola Oil\")"
   ]
  },
  {
   "cell_type": "code",
   "execution_count": 1524,
   "metadata": {},
   "outputs": [],
   "source": [
    "# Read costs from CSV files\n",
    "direct_shipping_costs_df = pd.read_csv(r\"C:\\Users\\gabri\\Downloads\\Cost_Production_to_Refinement.csv\")\n",
    "shipping_to_transsipment_costs_df = pd.read_csv(r\"C:\\Users\\gabri\\Downloads\\Cost_Production_to_Transshipment.csv\")\n",
    "transsipment_to_refinement_costs_df = pd.read_csv(r\"C:\\Users\\gabri\\Downloads\\Cost_Transshipment_to_Refinement.csv\")"
   ]
  },
  {
   "cell_type": "code",
   "execution_count": 1525,
   "metadata": {},
   "outputs": [],
   "source": [
    "# Extract the \"Cost\" column\n",
    "direct_shipping_costs = direct_shipping_costs_df['Cost'].values.reshape(25, -1)\n",
    "shipping_to_transsipment_costs = shipping_to_transsipment_costs_df['Cost'].values.reshape(15, -1)\n",
    "transsipment_to_refinement_costs = transsipment_to_refinement_costs_df['Cost'].values.reshape(2, -1)"
   ]
  },
  {
   "cell_type": "code",
   "execution_count": 1526,
   "metadata": {},
   "outputs": [
    {
     "data": {
      "text/plain": [
       "array([[4.25273277, 4.56772552, 4.69648446, 2.67874096, 4.27245069],\n",
       "       [2.95047222, 2.63661931, 2.85346871, 5.48002613, 3.03749539],\n",
       "       [4.02568313, 5.40779944, 3.38094894, 5.44123713, 4.40886217],\n",
       "       [3.46114107, 5.34694389, 4.99366311, 5.96818684, 4.83600407],\n",
       "       [5.94681429, 4.74917249, 3.72614981, 3.58915858, 4.93741459],\n",
       "       [3.46939366, 2.75501443, 5.60123055, 4.49910112, 4.22405746],\n",
       "       [4.7290315 , 4.30193766, 3.67740309, 4.15881121, 4.15956806],\n",
       "       [5.74380976, 5.57158666, 5.09534814, 5.34986497, 2.62562966],\n",
       "       [4.25622982, 5.56865574, 4.13714572, 4.90410382, 3.05688139],\n",
       "       [4.29664067, 5.75680178, 4.87474585, 4.10968275, 4.66040916],\n",
       "       [4.02164417, 5.38745866, 5.4089004 , 5.18510303, 3.47259321],\n",
       "       [3.28957805, 3.58831517, 3.62182771, 4.84919596, 4.89636402],\n",
       "       [2.9072415 , 4.15142098, 4.60651418, 5.22233913, 3.76568815],\n",
       "       [5.80493436, 3.58642269, 4.32677984, 5.63769746, 3.39212168],\n",
       "       [5.87454415, 3.572913  , 3.79897077, 2.91793106, 5.43496734],\n",
       "       [2.8220575 , 4.10130751, 4.95439918, 4.19164594, 3.1454322 ],\n",
       "       [5.02789698, 4.67095384, 5.12286983, 4.09337178, 5.62927336],\n",
       "       [3.02488242, 2.71410269, 3.5826889 , 3.10998883, 2.62833688],\n",
       "       [3.34709507, 5.83444497, 5.8110041 , 2.85704775, 4.56837714],\n",
       "       [4.81217859, 4.54078328, 4.504062  , 3.60485169, 5.95739562],\n",
       "       [5.87531792, 3.7604349 , 2.55688209, 5.07318525, 2.91307076],\n",
       "       [2.8957845 , 5.60692168, 3.27463703, 2.85475969, 5.25852458],\n",
       "       [4.71173486, 2.63791887, 4.28677306, 4.10198461, 5.79644057],\n",
       "       [5.63121907, 5.17582145, 3.21758562, 5.28542907, 5.0469302 ],\n",
       "       [4.38417588, 5.94344807, 4.99921981, 4.15483307, 5.07528003]])"
      ]
     },
     "execution_count": 1526,
     "metadata": {},
     "output_type": "execute_result"
    }
   ],
   "source": [
    "direct_shipping_costs"
   ]
  },
  {
   "cell_type": "code",
   "execution_count": 1527,
   "metadata": {},
   "outputs": [
    {
     "data": {
      "text/plain": [
       "array([[2.37882586, 0.86384215],\n",
       "       [1.66698156, 2.11948817],\n",
       "       [2.17488041, 0.94818376],\n",
       "       [2.67741553, 0.5924201 ],\n",
       "       [2.82024783, 0.97232892],\n",
       "       [2.85389005, 2.6943427 ],\n",
       "       [1.40702817, 1.42832532],\n",
       "       [2.48499907, 0.95347666],\n",
       "       [1.78637201, 0.63669962],\n",
       "       [0.68852771, 2.25970328],\n",
       "       [2.40128579, 1.80010665],\n",
       "       [0.56435019, 2.12484244],\n",
       "       [1.98606958, 2.34717953],\n",
       "       [1.63996858, 1.61928103],\n",
       "       [0.64904663, 1.96881166]])"
      ]
     },
     "execution_count": 1527,
     "metadata": {},
     "output_type": "execute_result"
    }
   ],
   "source": [
    "shipping_to_transsipment_costs"
   ]
  },
  {
   "cell_type": "code",
   "execution_count": 1528,
   "metadata": {},
   "outputs": [
    {
     "data": {
      "text/plain": [
       "array([[1.57232851, 3.46547396, 2.24406225, 3.77383915, 3.2626518 ],\n",
       "       [1.90042452, 1.6131232 , 1.70723241, 2.70539568, 2.25742842]])"
      ]
     },
     "execution_count": 1528,
     "metadata": {},
     "output_type": "execute_result"
    }
   ],
   "source": [
    "transsipment_to_refinement_costs"
   ]
  },
  {
   "cell_type": "code",
   "execution_count": 1529,
   "metadata": {},
   "outputs": [],
   "source": [
    "# Create the a single class of decision variables where\n",
    "# From = {Ca,US,M,C,F} and To = {R1,R2,R3,R4,R5}.\n",
    "x = model.addVars(25, 5, lb=0, vtype=GRB.CONTINUOUS, name=\"Direct Shipping\")\n",
    "# From = {I,U,G} and To = {Italy,Greece}.\n",
    "y = model.addVars(15, 2, lb=0, vtype=GRB.CONTINUOUS, name=\"Ship to Transshipment\")\n",
    "# From = {Italy,Greece} and To = {R1,R2,R3,R4,R5}.\n",
    "z = model.addVars(2, 5, lb=0, vtype=GRB.CONTINUOUS, name=\"Transshipment to Refinement\")"
   ]
  },
  {
   "cell_type": "code",
   "execution_count": 1530,
   "metadata": {},
   "outputs": [],
   "source": [
    "# The objective function\n",
    "direct_objective = gb.quicksum(direct_shipping_costs[i][j]*x[i,j] for i in range(25) for j in range(5))\n",
    "trans_objective = gb.quicksum(shipping_to_transsipment_costs[i][j]*y[i,j] for i in range(15) for j in range(2))\n",
    "trans_to_refinement_objective = gb.quicksum(transsipment_to_refinement_costs[i][j]*z[i,j] for i in range(2) for j in range(5))\n",
    "model.setObjective(direct_objective + trans_objective + trans_to_refinement_objective, GRB.MINIMIZE)"
   ]
  },
  {
   "cell_type": "code",
   "execution_count": 1531,
   "metadata": {},
   "outputs": [],
   "source": [
    "# Read capacity and demand from CSV files\n",
    "direct_shipping_supply_capacity_df = pd.read_csv(r\"C:\\Users\\gabri\\Downloads\\Capacity_for_Direct_Production_Facilities.csv\")\n",
    "transshipment_supply_capacity_df = pd.read_csv(r\"C:\\Users\\gabri\\Downloads\\Capacity_for_Transship_Distribution_Centers.csv\")\n",
    "shipping_to_transshipment_supply_capacity_df = pd.read_csv(r\"C:\\Users\\gabri\\Downloads\\Capacity_for_Transship_Production_Facilities.csv\")\n",
    "refinement_demand_df = pd.read_csv(r\"C:\\Users\\gabri\\Downloads\\Refinement_Demand.csv\")"
   ]
  },
  {
   "cell_type": "code",
   "execution_count": 1532,
   "metadata": {},
   "outputs": [],
   "source": [
    "# Extract the \"Capacity\" and \"Demand\" column\n",
    "direct_shipping_supply_capacity = direct_shipping_supply_capacity_df['Capacity'].values.reshape(25, -1)\n",
    "transshipment_supply_capacity = transshipment_supply_capacity_df['Capacity'].values.reshape(2, -1)\n",
    "shipping_to_transshipment_supply_capacity = shipping_to_transshipment_supply_capacity_df['Capacity'].values.reshape(15, -1)\n",
    "refinement_demand = refinement_demand_df['Demand'].values.reshape(5, -1)"
   ]
  },
  {
   "cell_type": "code",
   "execution_count": 1533,
   "metadata": {},
   "outputs": [
    {
     "data": {
      "text/plain": [
       "array([[462],\n",
       "       [103],\n",
       "       [460],\n",
       "       [325],\n",
       "       [227],\n",
       "       [217],\n",
       "       [205],\n",
       "       [521],\n",
       "       [548],\n",
       "       [191],\n",
       "       [361],\n",
       "       [411],\n",
       "       [104],\n",
       "       [155],\n",
       "       [285],\n",
       "       [109],\n",
       "       [422],\n",
       "       [438],\n",
       "       [501],\n",
       "       [139],\n",
       "       [462],\n",
       "       [504],\n",
       "       [106],\n",
       "       [132],\n",
       "       [298]], dtype=int64)"
      ]
     },
     "execution_count": 1533,
     "metadata": {},
     "output_type": "execute_result"
    }
   ],
   "source": [
    "direct_shipping_supply_capacity"
   ]
  },
  {
   "cell_type": "code",
   "execution_count": 1534,
   "metadata": {},
   "outputs": [
    {
     "data": {
      "text/plain": [
       "array([[1317],\n",
       "       [1453]], dtype=int64)"
      ]
     },
     "execution_count": 1534,
     "metadata": {},
     "output_type": "execute_result"
    }
   ],
   "source": [
    "transshipment_supply_capacity"
   ]
  },
  {
   "cell_type": "code",
   "execution_count": 1535,
   "metadata": {},
   "outputs": [
    {
     "data": {
      "text/plain": [
       "array([[374],\n",
       "       [444],\n",
       "       [395],\n",
       "       [245],\n",
       "       [378],\n",
       "       [408],\n",
       "       [435],\n",
       "       [175],\n",
       "       [415],\n",
       "       [503],\n",
       "       [184],\n",
       "       [297],\n",
       "       [450],\n",
       "       [169],\n",
       "       [365]], dtype=int64)"
      ]
     },
     "execution_count": 1535,
     "metadata": {},
     "output_type": "execute_result"
    }
   ],
   "source": [
    "shipping_to_transshipment_supply_capacity"
   ]
  },
  {
   "cell_type": "code",
   "execution_count": 1536,
   "metadata": {},
   "outputs": [
    {
     "data": {
      "text/plain": [
       "array([[1537],\n",
       "       [1748],\n",
       "       [1940],\n",
       "       [1838],\n",
       "       [1665]], dtype=int64)"
      ]
     },
     "execution_count": 1536,
     "metadata": {},
     "output_type": "execute_result"
    }
   ],
   "source": [
    "refinement_demand"
   ]
  },
  {
   "cell_type": "code",
   "execution_count": 1537,
   "metadata": {},
   "outputs": [],
   "source": [
    "# Add the supply constraints from source nodes for direct shipping\n",
    "for i in range(len(direct_shipping_supply_capacity)):\n",
    "    model.addConstr(gb.quicksum(x[i, j] for j in range(5)) <= direct_shipping_supply_capacity[i], name=f\"Direct Supply Constraint {i + 1}\")"
   ]
  },
  {
   "cell_type": "code",
   "execution_count": 1538,
   "metadata": {},
   "outputs": [],
   "source": [
    "# Add the supply constraints from source nodes for transshipment shipping\n",
    "for i in range(len(shipping_to_transshipment_supply_capacity)):\n",
    "    model.addConstr(gb.quicksum(y[i, j] for j in range(2)) <= shipping_to_transshipment_supply_capacity[i], name=f\"Transshipment Supply Constraint {i + 1}\")"
   ]
  },
  {
   "cell_type": "code",
   "execution_count": 1539,
   "metadata": {},
   "outputs": [
    {
     "data": {
      "text/plain": [
       "<gurobi.Constr *Awaiting Model Update*>"
      ]
     },
     "execution_count": 1539,
     "metadata": {},
     "output_type": "execute_result"
    }
   ],
   "source": [
    "# Add the supply constraints from transshipment nodes\n",
    "model.addConstr(gb.quicksum(y[i,0] for i in range(15)) <= transshipment_supply_capacity[0], name=\"Transship Capacity 1\")\n",
    "model.addConstr(gb.quicksum(y[i,1] for i in range(15)) <= transshipment_supply_capacity[1], name=\"Transship Capacity 2\")"
   ]
  },
  {
   "cell_type": "code",
   "execution_count": 1540,
   "metadata": {},
   "outputs": [
    {
     "data": {
      "text/plain": [
       "<gurobi.Constr *Awaiting Model Update*>"
      ]
     },
     "execution_count": 1540,
     "metadata": {},
     "output_type": "execute_result"
    }
   ],
   "source": [
    "# Add the flow balance constrainits\n",
    "model.addConstr(gb.quicksum(y[i,0] for i in range(15)) == gb.quicksum(z[0,k] for k in range(5)), name=\"Flow Balance 1\")\n",
    "model.addConstr(gb.quicksum(y[i,1] for i in range(15)) == gb.quicksum(z[1,k] for k in range(5)), name=\"Flow Balance 2\")"
   ]
  },
  {
   "cell_type": "code",
   "execution_count": 1541,
   "metadata": {},
   "outputs": [],
   "source": [
    "# Add the demand constraints\n",
    "for k in range(len(refinement_demand)):  # Iterate over refinement nodes R1 to R5\n",
    "    model.addConstr(gb.quicksum(x[i, k] for i in range(25)) + gb.quicksum(z[j, k] for j in range(2)) == refinement_demand[k], name=f\"Refinement Demand Constraint {k + 1}\")"
   ]
  },
  {
   "cell_type": "code",
   "execution_count": 1542,
   "metadata": {},
   "outputs": [
    {
     "name": "stdout",
     "output_type": "stream",
     "text": [
      "Gurobi Optimizer version 11.0.0 build v11.0.0rc2 (win64 - Windows 11+.0 (22631.2))\n",
      "\n",
      "CPU model: Intel(R) Core(TM) i7-8750H CPU @ 2.20GHz, instruction set [SSE2|AVX|AVX2]\n",
      "Thread count: 6 physical cores, 12 logical processors, using up to 12 threads\n",
      "\n",
      "Optimize a model with 49 rows, 165 columns and 360 nonzeros\n",
      "Model fingerprint: 0x7f8fadb4\n",
      "Coefficient statistics:\n",
      "  Matrix range     [1e+00, 1e+00]\n",
      "  Objective range  [6e-01, 6e+00]\n",
      "  Bounds range     [0e+00, 0e+00]\n",
      "  RHS range        [1e+02, 2e+03]\n",
      "Presolve time: 0.00s\n",
      "Presolved: 49 rows, 165 columns, 360 nonzeros\n",
      "\n",
      "Iteration    Objective       Primal Inf.    Dual Inf.      Time\n",
      "       0    1.7230583e+04   8.266000e+03   0.000000e+00      0s\n",
      "      36    2.4188585e+04   0.000000e+00   0.000000e+00      0s\n",
      "\n",
      "Solved in 36 iterations and 0.01 seconds (0.00 work units)\n",
      "Optimal objective  2.418858517e+04\n"
     ]
    }
   ],
   "source": [
    "# Optimally solve the problem\n",
    "model.optimize()"
   ]
  },
  {
   "cell_type": "code",
   "execution_count": 1543,
   "metadata": {},
   "outputs": [
    {
     "name": "stdout",
     "output_type": "stream",
     "text": [
      "Model Status:  2\n"
     ]
    }
   ],
   "source": [
    "# The status of the model (Optimization Status Codes)\n",
    "print(\"Model Status: \", model.status)"
   ]
  },
  {
   "cell_type": "code",
   "execution_count": 1544,
   "metadata": {},
   "outputs": [
    {
     "name": "stdout",
     "output_type": "stream",
     "text": [
      "Number of Decision Variables:  165\n"
     ]
    }
   ],
   "source": [
    "# Number of variables in the model\n",
    "print(\"Number of Decision Variables: \", model.numVars)"
   ]
  },
  {
   "cell_type": "markdown",
   "metadata": {},
   "source": [
    "The answer to a)"
   ]
  },
  {
   "cell_type": "code",
   "execution_count": 1545,
   "metadata": {},
   "outputs": [
    {
     "name": "stdout",
     "output_type": "stream",
     "text": [
      "Total Transportation cost:  24188.59\n"
     ]
    }
   ],
   "source": [
    "# Value of the objective function\n",
    "print(\"Total Transportation cost: \", round(model.objVal, 2))"
   ]
  },
  {
   "cell_type": "code",
   "execution_count": 1546,
   "metadata": {},
   "outputs": [
    {
     "name": "stdout",
     "output_type": "stream",
     "text": [
      "\n",
      "    Variable            X \n",
      "-------------------------\n",
      "Direct Shipping[0,3]          462 \n",
      "Direct Shipping[1,1]          103 \n",
      "Direct Shipping[2,2]          460 \n",
      "Direct Shipping[4,3]           86 \n",
      "Direct Shipping[5,1]          217 \n",
      "Direct Shipping[7,4]          521 \n",
      "Direct Shipping[8,4]          548 \n",
      "Direct Shipping[10,4]          354 \n",
      "Direct Shipping[11,0]            7 \n",
      "Direct Shipping[11,2]          404 \n",
      "Direct Shipping[12,0]          104 \n",
      "Direct Shipping[13,4]          155 \n",
      "Direct Shipping[14,3]          285 \n",
      "Direct Shipping[15,0]          109 \n",
      "Direct Shipping[17,1]          351 \n",
      "Direct Shipping[17,4]           87 \n",
      "Direct Shipping[18,3]          501 \n",
      "Direct Shipping[20,2]          462 \n",
      "Direct Shipping[21,3]          504 \n",
      "Direct Shipping[22,1]          106 \n",
      "Direct Shipping[23,2]          132 \n",
      "Ship to Transshipment[0,1]          374 \n",
      "Ship to Transshipment[2,1]          395 \n",
      "Ship to Transshipment[3,1]          245 \n",
      "Ship to Transshipment[6,0]          152 \n",
      "Ship to Transshipment[7,1]           24 \n",
      "Ship to Transshipment[8,1]          415 \n",
      "Ship to Transshipment[9,0]          503 \n",
      "Ship to Transshipment[11,0]          297 \n",
      "Ship to Transshipment[14,0]          365 \n",
      "Transshipment to Refinement[0,0]         1317 \n",
      "Transshipment to Refinement[1,1]          971 \n",
      "Transshipment to Refinement[1,2]          482 \n",
      "None\n"
     ]
    }
   ],
   "source": [
    "# Print the decision variables\n",
    "print(model.printAttr('X'))"
   ]
  },
  {
   "cell_type": "code",
   "execution_count": 1547,
   "metadata": {},
   "outputs": [
    {
     "data": {
      "text/plain": [
       "{(0, 0): 0.0,\n",
       " (0, 1): 374.0,\n",
       " (1, 0): 0.0,\n",
       " (1, 1): 0.0,\n",
       " (2, 0): 0.0,\n",
       " (2, 1): 395.0,\n",
       " (3, 0): 0.0,\n",
       " (3, 1): 245.0,\n",
       " (4, 0): 0.0,\n",
       " (4, 1): 0.0,\n",
       " (5, 0): 0.0,\n",
       " (5, 1): 0.0,\n",
       " (6, 0): 152.0,\n",
       " (6, 1): 0.0,\n",
       " (7, 0): 0.0,\n",
       " (7, 1): 24.0,\n",
       " (8, 0): 0.0,\n",
       " (8, 1): 415.0,\n",
       " (9, 0): 503.0,\n",
       " (9, 1): 0.0,\n",
       " (10, 0): 0.0,\n",
       " (10, 1): 0.0,\n",
       " (11, 0): 297.0,\n",
       " (11, 1): 0.0,\n",
       " (12, 0): 0.0,\n",
       " (12, 1): 0.0,\n",
       " (13, 0): 0.0,\n",
       " (13, 1): 0.0,\n",
       " (14, 0): 365.0,\n",
       " (14, 1): 0.0}"
      ]
     },
     "execution_count": 1547,
     "metadata": {},
     "output_type": "execute_result"
    }
   ],
   "source": [
    "# Get the optimal values of decision variables\n",
    "to_transshipment_values = model.getAttr('x', y)\n",
    "to_transshipment_values"
   ]
  },
  {
   "cell_type": "code",
   "execution_count": 1548,
   "metadata": {},
   "outputs": [],
   "source": [
    "values_array = np.array(list(to_transshipment_values.values()))"
   ]
  },
  {
   "cell_type": "code",
   "execution_count": 1549,
   "metadata": {},
   "outputs": [
    {
     "data": {
      "text/plain": [
       "92.33333333333333"
      ]
     },
     "execution_count": 1549,
     "metadata": {},
     "output_type": "execute_result"
    }
   ],
   "source": [
    "# Calculate the mean\n",
    "mean_value = np.mean(values_array)\n",
    "mean_value"
   ]
  },
  {
   "cell_type": "code",
   "execution_count": 1550,
   "metadata": {},
   "outputs": [
    {
     "data": {
      "text/plain": [
       "{(0, 0): 1317.0,\n",
       " (0, 1): 0.0,\n",
       " (0, 2): 0.0,\n",
       " (0, 3): 0.0,\n",
       " (0, 4): 0.0,\n",
       " (1, 0): 0.0,\n",
       " (1, 1): 971.0,\n",
       " (1, 2): 482.0,\n",
       " (1, 3): 0.0,\n",
       " (1, 4): 0.0}"
      ]
     },
     "execution_count": 1550,
     "metadata": {},
     "output_type": "execute_result"
    }
   ],
   "source": [
    "# Get the optimal values of decision variables\n",
    "transshipment_values = model.getAttr('x', z)\n",
    "transshipment_values"
   ]
  },
  {
   "cell_type": "code",
   "execution_count": 1551,
   "metadata": {},
   "outputs": [
    {
     "data": {
      "text/plain": [
       "2770.0"
      ]
     },
     "execution_count": 1551,
     "metadata": {},
     "output_type": "execute_result"
    }
   ],
   "source": [
    "# Calculate the total amount of canola oil transshipped\n",
    "total_transshipped = sum(transshipment_values[i, j] for i in range(2) for j in range(5))\n",
    "total_transshipped"
   ]
  },
  {
   "cell_type": "code",
   "execution_count": 1552,
   "metadata": {},
   "outputs": [
    {
     "data": {
      "text/plain": [
       "{(0, 0): 0.0,\n",
       " (0, 1): 0.0,\n",
       " (0, 2): 0.0,\n",
       " (0, 3): 462.0,\n",
       " (0, 4): 0.0,\n",
       " (1, 0): 0.0,\n",
       " (1, 1): 103.0,\n",
       " (1, 2): 0.0,\n",
       " (1, 3): 0.0,\n",
       " (1, 4): 0.0,\n",
       " (2, 0): 0.0,\n",
       " (2, 1): 0.0,\n",
       " (2, 2): 460.0,\n",
       " (2, 3): 0.0,\n",
       " (2, 4): 0.0,\n",
       " (3, 0): 0.0,\n",
       " (3, 1): 0.0,\n",
       " (3, 2): 0.0,\n",
       " (3, 3): 0.0,\n",
       " (3, 4): 0.0,\n",
       " (4, 0): 0.0,\n",
       " (4, 1): 0.0,\n",
       " (4, 2): 0.0,\n",
       " (4, 3): 86.0,\n",
       " (4, 4): 0.0,\n",
       " (5, 0): 0.0,\n",
       " (5, 1): 217.0,\n",
       " (5, 2): 0.0,\n",
       " (5, 3): 0.0,\n",
       " (5, 4): 0.0,\n",
       " (6, 0): 0.0,\n",
       " (6, 1): 0.0,\n",
       " (6, 2): 0.0,\n",
       " (6, 3): 0.0,\n",
       " (6, 4): 0.0,\n",
       " (7, 0): 0.0,\n",
       " (7, 1): 0.0,\n",
       " (7, 2): 0.0,\n",
       " (7, 3): 0.0,\n",
       " (7, 4): 521.0,\n",
       " (8, 0): 0.0,\n",
       " (8, 1): 0.0,\n",
       " (8, 2): 0.0,\n",
       " (8, 3): 0.0,\n",
       " (8, 4): 548.0,\n",
       " (9, 0): 0.0,\n",
       " (9, 1): 0.0,\n",
       " (9, 2): 0.0,\n",
       " (9, 3): 0.0,\n",
       " (9, 4): 0.0,\n",
       " (10, 0): 0.0,\n",
       " (10, 1): 0.0,\n",
       " (10, 2): 0.0,\n",
       " (10, 3): 0.0,\n",
       " (10, 4): 354.0,\n",
       " (11, 0): 7.0,\n",
       " (11, 1): 0.0,\n",
       " (11, 2): 404.0,\n",
       " (11, 3): 0.0,\n",
       " (11, 4): 0.0,\n",
       " (12, 0): 104.0,\n",
       " (12, 1): 0.0,\n",
       " (12, 2): 0.0,\n",
       " (12, 3): 0.0,\n",
       " (12, 4): 0.0,\n",
       " (13, 0): 0.0,\n",
       " (13, 1): 0.0,\n",
       " (13, 2): 0.0,\n",
       " (13, 3): 0.0,\n",
       " (13, 4): 155.0,\n",
       " (14, 0): 0.0,\n",
       " (14, 1): 0.0,\n",
       " (14, 2): 0.0,\n",
       " (14, 3): 285.0,\n",
       " (14, 4): 0.0,\n",
       " (15, 0): 109.0,\n",
       " (15, 1): 0.0,\n",
       " (15, 2): 0.0,\n",
       " (15, 3): 0.0,\n",
       " (15, 4): 0.0,\n",
       " (16, 0): 0.0,\n",
       " (16, 1): 0.0,\n",
       " (16, 2): 0.0,\n",
       " (16, 3): 0.0,\n",
       " (16, 4): 0.0,\n",
       " (17, 0): 0.0,\n",
       " (17, 1): 351.0,\n",
       " (17, 2): 0.0,\n",
       " (17, 3): 0.0,\n",
       " (17, 4): 87.0,\n",
       " (18, 0): 0.0,\n",
       " (18, 1): 0.0,\n",
       " (18, 2): 0.0,\n",
       " (18, 3): 501.0,\n",
       " (18, 4): 0.0,\n",
       " (19, 0): 0.0,\n",
       " (19, 1): 0.0,\n",
       " (19, 2): 0.0,\n",
       " (19, 3): 0.0,\n",
       " (19, 4): 0.0,\n",
       " (20, 0): 0.0,\n",
       " (20, 1): 0.0,\n",
       " (20, 2): 462.0,\n",
       " (20, 3): 0.0,\n",
       " (20, 4): 0.0,\n",
       " (21, 0): 0.0,\n",
       " (21, 1): 0.0,\n",
       " (21, 2): 0.0,\n",
       " (21, 3): 504.0,\n",
       " (21, 4): 0.0,\n",
       " (22, 0): 0.0,\n",
       " (22, 1): 106.0,\n",
       " (22, 2): 0.0,\n",
       " (22, 3): 0.0,\n",
       " (22, 4): 0.0,\n",
       " (23, 0): 0.0,\n",
       " (23, 1): 0.0,\n",
       " (23, 2): 132.0,\n",
       " (23, 3): 0.0,\n",
       " (23, 4): 0.0,\n",
       " (24, 0): 0.0,\n",
       " (24, 1): 0.0,\n",
       " (24, 2): 0.0,\n",
       " (24, 3): 0.0,\n",
       " (24, 4): 0.0}"
      ]
     },
     "execution_count": 1552,
     "metadata": {},
     "output_type": "execute_result"
    }
   ],
   "source": [
    "# Get the optimal values of decision variables\n",
    "direct_shipping_values = model.getAttr('x', x)\n",
    "direct_shipping_values"
   ]
  },
  {
   "cell_type": "code",
   "execution_count": 1553,
   "metadata": {},
   "outputs": [
    {
     "data": {
      "text/plain": [
       "5958.0"
      ]
     },
     "execution_count": 1553,
     "metadata": {},
     "output_type": "execute_result"
    }
   ],
   "source": [
    "# Calculate the total amount of canola oil directly shipped\n",
    "direct_shipping = sum(direct_shipping_values[i, j] for i in range(25) for j in range(5))\n",
    "direct_shipping"
   ]
  },
  {
   "cell_type": "markdown",
   "metadata": {},
   "source": [
    "The answer to b)"
   ]
  },
  {
   "cell_type": "code",
   "execution_count": 1554,
   "metadata": {},
   "outputs": [
    {
     "data": {
      "text/plain": [
       "0.31736938588450964"
      ]
     },
     "execution_count": 1554,
     "metadata": {},
     "output_type": "execute_result"
    }
   ],
   "source": [
    "# Calculate the proportion\n",
    "total_canola_oil = direct_shipping + total_transshipped\n",
    "proportion_transshipped = total_transshipped / total_canola_oil\n",
    "proportion_transshipped"
   ]
  },
  {
   "cell_type": "code",
   "execution_count": 1555,
   "metadata": {},
   "outputs": [],
   "source": [
    "# Create the optimization model\n",
    "model_modified = gb.Model(\"Question 1: Canola Oil Objective Function Change\")"
   ]
  },
  {
   "cell_type": "code",
   "execution_count": 1556,
   "metadata": {},
   "outputs": [],
   "source": [
    "# Create the a single class of decision variables where\n",
    "# From = {Ca,US,M,C,F} and To = {R1,R2,R3,R4,R5}.\n",
    "x = model_modified.addVars(25, 5, lb=0, vtype=GRB.CONTINUOUS, name=\"Direct Shipping\")\n",
    "# From = {I,U,G} and To = {Italy,Greece}.\n",
    "y = model_modified.addVars(15, 2, lb=0, vtype=GRB.CONTINUOUS, name=\"Ship to Transshipment\")\n",
    "# From = {Italy,Greece} and To = {R1,R2,R3,R4,R5}.\n",
    "z = model_modified.addVars(2, 5, lb=0, vtype=GRB.CONTINUOUS, name=\"Transshipment to Refinement\")"
   ]
  },
  {
   "cell_type": "code",
   "execution_count": 1557,
   "metadata": {},
   "outputs": [],
   "source": [
    "# The objective function\n",
    "direct_objective = gb.quicksum(direct_shipping_costs[i][j]*x[i,j] for i in range(25) for j in range(5))\n",
    "trans_objective = gb.quicksum(shipping_to_transsipment_costs[i][j]*y[i,j] for i in range(15) for j in range(2))\n",
    "trans_to_refinement_objective = gb.quicksum(transsipment_to_refinement_costs[i][j]*z[i,j] for i in range(2) for j in range(5))\n",
    "\n",
    "y_limit = np.sqrt(92)  \n",
    "\n",
    "# Penalty term for exceeding the limit\n",
    "penalty = gb.quicksum((y[i,j] - y_limit)**2 for i in range(15) for j in range(2))\n",
    "\n",
    "# Modified trans_objective with penalty\n",
    "trans_objective_with_penalty = trans_objective + penalty\n",
    "\n",
    "# Adding the modified objective to the model\n",
    "model_modified.setObjective(direct_objective + trans_objective_with_penalty + trans_to_refinement_objective, GRB.MINIMIZE)"
   ]
  },
  {
   "cell_type": "code",
   "execution_count": 1558,
   "metadata": {},
   "outputs": [],
   "source": [
    "# Add the supply constraints from source nodes for direct shipping\n",
    "for i in range(len(direct_shipping_supply_capacity)):\n",
    "    model_modified.addConstr(gb.quicksum(x[i, j] for j in range(5)) <= direct_shipping_supply_capacity[i], name=f\"Direct Supply Constraint {i + 1}\")"
   ]
  },
  {
   "cell_type": "code",
   "execution_count": 1559,
   "metadata": {},
   "outputs": [],
   "source": [
    "# Add the supply constraints from source nodes for transshipment shipping\n",
    "for i in range(len(shipping_to_transshipment_supply_capacity)):\n",
    "    model_modified.addConstr(gb.quicksum(y[i, j] for j in range(2)) <= shipping_to_transshipment_supply_capacity[i], name=f\"Transshipment Supply Constraint {i + 1}\")"
   ]
  },
  {
   "cell_type": "code",
   "execution_count": 1560,
   "metadata": {},
   "outputs": [
    {
     "data": {
      "text/plain": [
       "<gurobi.Constr *Awaiting Model Update*>"
      ]
     },
     "execution_count": 1560,
     "metadata": {},
     "output_type": "execute_result"
    }
   ],
   "source": [
    "# Add the supply constraints from transshipment nodes\n",
    "model_modified.addConstr(gb.quicksum(y[i,0] for i in range(15)) <= transshipment_supply_capacity[0], name=\"Transship Capacity 1\")\n",
    "model_modified.addConstr(gb.quicksum(y[i,1] for i in range(15)) <= transshipment_supply_capacity[1], name=\"Transship Capacity 2\")"
   ]
  },
  {
   "cell_type": "code",
   "execution_count": 1561,
   "metadata": {},
   "outputs": [
    {
     "data": {
      "text/plain": [
       "<gurobi.Constr *Awaiting Model Update*>"
      ]
     },
     "execution_count": 1561,
     "metadata": {},
     "output_type": "execute_result"
    }
   ],
   "source": [
    "# Add the flow balance constrainits\n",
    "model_modified.addConstr(gb.quicksum(y[i,0] for i in range(15)) == gb.quicksum(z[0,k] for k in range(5)), name=\"Flow Balance 1\")\n",
    "model_modified.addConstr(gb.quicksum(y[i,1] for i in range(15)) == gb.quicksum(z[1,k] for k in range(5)), name=\"Flow Balance 2\")"
   ]
  },
  {
   "cell_type": "code",
   "execution_count": 1562,
   "metadata": {},
   "outputs": [],
   "source": [
    "# Add the demand constraints\n",
    "for k in range(len(refinement_demand)):  # Iterate over refinement nodes R1 to R5\n",
    "    model_modified.addConstr(gb.quicksum(x[i, k] for i in range(25)) + gb.quicksum(z[j, k] for j in range(2)) == refinement_demand[k], name=f\"Refinement Demand Constraint {k + 1}\")"
   ]
  },
  {
   "cell_type": "code",
   "execution_count": 1563,
   "metadata": {},
   "outputs": [
    {
     "name": "stdout",
     "output_type": "stream",
     "text": [
      "Gurobi Optimizer version 11.0.0 build v11.0.0rc2 (win64 - Windows 11+.0 (22631.2))\n",
      "\n",
      "CPU model: Intel(R) Core(TM) i7-8750H CPU @ 2.20GHz, instruction set [SSE2|AVX|AVX2]\n",
      "Thread count: 6 physical cores, 12 logical processors, using up to 12 threads\n",
      "\n",
      "Optimize a model with 49 rows, 165 columns and 360 nonzeros\n",
      "Model fingerprint: 0x6ba436d1\n",
      "Model has 30 quadratic objective terms\n",
      "Coefficient statistics:\n",
      "  Matrix range     [1e+00, 1e+00]\n",
      "  Objective range  [2e+00, 2e+01]\n",
      "  QObjective range [2e+00, 2e+00]\n",
      "  Bounds range     [0e+00, 0e+00]\n",
      "  RHS range        [1e+02, 2e+03]\n",
      "Presolve time: 0.00s\n",
      "Presolved: 49 rows, 165 columns, 360 nonzeros\n",
      "Presolved model has 30 quadratic objective terms\n",
      "Ordering time: 0.00s\n",
      "\n",
      "Barrier statistics:\n",
      " AA' NZ     : 1.970e+02\n",
      " Factor NZ  : 7.150e+02\n",
      " Factor Ops : 1.391e+04 (less than 1 second per iteration)\n",
      " Threads    : 1\n",
      "\n",
      "                  Objective                Residual\n",
      "Iter       Primal          Dual         Primal    Dual     Compl     Time\n",
      "   0   1.26989301e+08 -1.27461623e+08  2.70e+04 2.27e-13  1.05e+06     0s\n",
      "   1   2.06827854e+05 -8.46851698e+07  2.70e-02 4.55e-13  5.13e+04     0s\n",
      "   2   2.00937785e+05 -1.84143061e+06  5.86e-04 2.42e-13  1.23e+03     0s\n",
      "   3   1.17505476e+05 -4.40617298e+05  5.87e-10 7.11e-15  3.37e+02     0s\n",
      "   4   6.69089420e+04  2.07252068e+04  1.05e-11 7.11e-15  2.79e+01     0s\n",
      "   5   5.08890587e+04  3.69491231e+04  1.36e-12 3.55e-15  8.42e+00     0s\n",
      "   6   4.83931168e+04  4.58319397e+04  7.05e-12 3.55e-15  1.55e+00     0s\n",
      "   7   4.74750197e+04  4.66620696e+04  1.36e-12 3.55e-15  4.91e-01     0s\n",
      "   8   4.71063537e+04  4.69598024e+04  1.14e-12 3.55e-15  8.85e-02     0s\n",
      "   9   4.70299606e+04  4.70194381e+04  3.18e-12 3.55e-15  6.35e-03     0s\n",
      "  10   4.70249144e+04  4.70224826e+04  9.09e-13 3.55e-15  1.47e-03     0s\n",
      "  11   4.70237502e+04  4.70232963e+04  9.55e-12 3.55e-15  2.74e-04     0s\n",
      "  12   4.70234640e+04  4.70234636e+04  3.87e-12 3.55e-15  2.93e-07     0s\n",
      "  13   4.70234637e+04  4.70234637e+04  3.64e-12 3.55e-15  2.93e-10     0s\n",
      "\n",
      "Barrier solved model in 13 iterations and 0.02 seconds (0.00 work units)\n",
      "Optimal objective 4.70234637e+04\n",
      "\n"
     ]
    }
   ],
   "source": [
    "# Optimally solve the problem\n",
    "model_modified.optimize()"
   ]
  },
  {
   "cell_type": "code",
   "execution_count": 1564,
   "metadata": {},
   "outputs": [
    {
     "name": "stdout",
     "output_type": "stream",
     "text": [
      "Total Transportation cost:  47023.46\n"
     ]
    }
   ],
   "source": [
    "# Value of the objective function\n",
    "print(\"Total Transportation cost: \", round(model_modified.objVal, 2))"
   ]
  },
  {
   "cell_type": "code",
   "execution_count": 1565,
   "metadata": {},
   "outputs": [
    {
     "data": {
      "text/plain": [
       "{(0, 0): 34.325541279866485,\n",
       " (0, 1): 35.2367554139976,\n",
       " (1, 0): 34.6814634288198,\n",
       " (1, 1): 34.60893240076593,\n",
       " (2, 0): 34.42751400293915,\n",
       " (2, 1): 35.19458461008363,\n",
       " (3, 0): 34.17624644510892,\n",
       " (3, 1): 35.372466439918796,\n",
       " (4, 0): 34.10483029438945,\n",
       " (4, 1): 35.18251202854432,\n",
       " (5, 0): 34.08800918734007,\n",
       " (5, 1): 34.32150513612831,\n",
       " (6, 0): 34.81144012514729,\n",
       " (6, 1): 34.954513830189974,\n",
       " (7, 0): 34.272454675517714,\n",
       " (7, 1): 35.19193815906755,\n",
       " (8, 0): 34.62176820390596,\n",
       " (8, 1): 35.350326677223634,\n",
       " (9, 0): 35.17069035633964,\n",
       " (9, 1): 34.53882484973999,\n",
       " (10, 0): 34.314311314534756,\n",
       " (10, 1): 34.768623165001515,\n",
       " (11, 0): 35.23277911330116,\n",
       " (11, 1): 34.60625526995009,\n",
       " (12, 0): 34.52191942019273,\n",
       " (12, 1): 34.49508672363759,\n",
       " (13, 0): 34.69496992233712,\n",
       " (13, 1): 34.85903597422256,\n",
       " (14, 0): 35.19043089648857,\n",
       " (14, 1): 34.68427065646435}"
      ]
     },
     "execution_count": 1565,
     "metadata": {},
     "output_type": "execute_result"
    }
   ],
   "source": [
    "# Get the optimal values of decision variables\n",
    "transshipment_values_modified = model_modified.getAttr('x', y)\n",
    "transshipment_values_modified"
   ]
  },
  {
   "cell_type": "code",
   "execution_count": 1566,
   "metadata": {},
   "outputs": [
    {
     "data": {
      "text/plain": [
       "1042.0000000011644"
      ]
     },
     "execution_count": 1566,
     "metadata": {},
     "output_type": "execute_result"
    }
   ],
   "source": [
    "# Calculate the total amount of canola oil transshipped\n",
    "total_transshipped_modified = sum(transshipment_values_modified[i, j] for i in range(15) for j in range(2))\n",
    "total_transshipped_modified"
   ]
  },
  {
   "cell_type": "markdown",
   "metadata": {},
   "source": [
    "Part d)"
   ]
  },
  {
   "cell_type": "code",
   "execution_count": 1567,
   "metadata": {},
   "outputs": [],
   "source": [
    "# Create the optimization model\n",
    "model_constraint = gb.Model(\"Question 1: Canola Oil Constraint Change\")"
   ]
  },
  {
   "cell_type": "code",
   "execution_count": 1568,
   "metadata": {},
   "outputs": [],
   "source": [
    "# Create the a single class of decision variables where\n",
    "# From = {Ca,US,M,C,F} and To = {R1,R2,R3,R4,R5}.\n",
    "x = model_constraint.addVars(25, 5, lb=0, vtype=GRB.CONTINUOUS, name=\"Direct Shipping\")\n",
    "# From = {I,U,G} and To = {Italy,Greece}.\n",
    "y = model_constraint.addVars(15, 2, lb=0, vtype=GRB.CONTINUOUS, name=\"Ship to Transshipment\")\n",
    "# From = {Italy,Greece} and To = {R1,R2,R3,R4,R5}.\n",
    "z = model_constraint.addVars(2, 5, lb=0, vtype=GRB.CONTINUOUS, name=\"Transshipment to Refinement\")"
   ]
  },
  {
   "cell_type": "code",
   "execution_count": 1569,
   "metadata": {},
   "outputs": [],
   "source": [
    "# The objective function\n",
    "direct_objective = gb.quicksum(direct_shipping_costs[i][j]*x[i,j] for i in range(25) for j in range(5))\n",
    "trans_objective = gb.quicksum(shipping_to_transsipment_costs[i][j]*y[i,j] for i in range(15) for j in range(2))\n",
    "trans_to_refinement_objective = gb.quicksum(transsipment_to_refinement_costs[i][j]*z[i,j] for i in range(2) for j in range(5))\n",
    "model_constraint.setObjective(direct_objective + trans_objective + trans_to_refinement_objective, GRB.MINIMIZE)"
   ]
  },
  {
   "cell_type": "code",
   "execution_count": 1570,
   "metadata": {},
   "outputs": [],
   "source": [
    "# Add the supply constraints from source nodes for direct shipping\n",
    "for i in range(len(direct_shipping_supply_capacity)):\n",
    "    model_constraint.addConstr(gb.quicksum(x[i, j] for j in range(5)) <= direct_shipping_supply_capacity[i], name=f\"Direct Supply Constraint {i + 1}\")"
   ]
  },
  {
   "cell_type": "code",
   "execution_count": 1571,
   "metadata": {},
   "outputs": [],
   "source": [
    "# Add the supply constraints from source nodes for transshipment shipping\n",
    "for i in range(len(shipping_to_transshipment_supply_capacity)):\n",
    "    model_constraint.addConstr(gb.quicksum(y[i, j] for j in range(2)) <= shipping_to_transshipment_supply_capacity[i], name=f\"Transshipment Supply Constraint {i + 1}\")"
   ]
  },
  {
   "cell_type": "code",
   "execution_count": 1572,
   "metadata": {},
   "outputs": [
    {
     "data": {
      "text/plain": [
       "<gurobi.Constr *Awaiting Model Update*>"
      ]
     },
     "execution_count": 1572,
     "metadata": {},
     "output_type": "execute_result"
    }
   ],
   "source": [
    "# Add the supply constraints from transshipment nodes\n",
    "model_constraint.addConstr(gb.quicksum(y[i,0] for i in range(15)) <= transshipment_supply_capacity[0], name=\"Transship Capacity 1\")\n",
    "model_constraint.addConstr(gb.quicksum(y[i,1] for i in range(15)) <= transshipment_supply_capacity[1], name=\"Transship Capacity 2\")"
   ]
  },
  {
   "cell_type": "code",
   "execution_count": 1573,
   "metadata": {},
   "outputs": [
    {
     "data": {
      "text/plain": [
       "<gurobi.Constr *Awaiting Model Update*>"
      ]
     },
     "execution_count": 1573,
     "metadata": {},
     "output_type": "execute_result"
    }
   ],
   "source": [
    "# Add the flow balance constrainits\n",
    "model_constraint.addConstr(gb.quicksum(y[i,0] for i in range(15)) == gb.quicksum(z[0,k] for k in range(5)), name=\"Flow Balance 1\")\n",
    "model_constraint.addConstr(gb.quicksum(y[i,1] for i in range(15)) == gb.quicksum(z[1,k] for k in range(5)), name=\"Flow Balance 2\")"
   ]
  },
  {
   "cell_type": "code",
   "execution_count": 1574,
   "metadata": {},
   "outputs": [],
   "source": [
    "# Add the demand constraints\n",
    "for k in range(len(refinement_demand)):  # Iterate over refinement nodes R1 to R5\n",
    "    model_constraint.addConstr(gb.quicksum(x[i, k] for i in range(25)) + gb.quicksum(z[j, k] for j in range(2)) == refinement_demand[k], name=f\"Refinement Demand Constraint {k + 1}\")"
   ]
  },
  {
   "cell_type": "markdown",
   "metadata": {},
   "source": [
    "Added constraint"
   ]
  },
  {
   "cell_type": "code",
   "execution_count": 1575,
   "metadata": {},
   "outputs": [
    {
     "data": {
      "text/plain": [
       "<gurobi.Constr *Awaiting Model Update*>"
      ]
     },
     "execution_count": 1575,
     "metadata": {},
     "output_type": "execute_result"
    }
   ],
   "source": [
    "# Ratio constraint\n",
    "model_constraint.addConstr((0.25*(gb.quicksum(x[i,j] for i in range(25) for j in range(5)) + gb.quicksum(z[i,j] for i in range(2) for j in range(5)))) >= gb.quicksum(y[i,j] for i in range(15) for j in range(2)), name=\"Ratio constraint\")"
   ]
  },
  {
   "cell_type": "code",
   "execution_count": 1576,
   "metadata": {},
   "outputs": [
    {
     "name": "stdout",
     "output_type": "stream",
     "text": [
      "Gurobi Optimizer version 11.0.0 build v11.0.0rc2 (win64 - Windows 11+.0 (22631.2))\n",
      "\n",
      "CPU model: Intel(R) Core(TM) i7-8750H CPU @ 2.20GHz, instruction set [SSE2|AVX|AVX2]\n",
      "Thread count: 6 physical cores, 12 logical processors, using up to 12 threads\n",
      "\n",
      "Optimize a model with 50 rows, 165 columns and 525 nonzeros\n",
      "Model fingerprint: 0x5628116b\n",
      "Coefficient statistics:\n",
      "  Matrix range     [3e-01, 1e+00]\n",
      "  Objective range  [6e-01, 6e+00]\n",
      "  Bounds range     [0e+00, 0e+00]\n",
      "  RHS range        [1e+02, 2e+03]\n",
      "Presolve time: 0.00s\n",
      "Presolved: 50 rows, 165 columns, 525 nonzeros\n",
      "\n",
      "Iteration    Objective       Primal Inf.    Dual Inf.      Time\n",
      "       0    1.7230583e+04   8.266000e+03   0.000000e+00      0s\n",
      "      35    2.4720228e+04   0.000000e+00   0.000000e+00      0s\n",
      "\n",
      "Solved in 35 iterations and 0.01 seconds (0.00 work units)\n",
      "Optimal objective  2.472022754e+04\n"
     ]
    }
   ],
   "source": [
    "# Optimally solve the problem\n",
    "model_constraint.optimize()"
   ]
  },
  {
   "cell_type": "code",
   "execution_count": 1577,
   "metadata": {},
   "outputs": [
    {
     "name": "stdout",
     "output_type": "stream",
     "text": [
      "Total Transportation cost:  24720.23\n"
     ]
    }
   ],
   "source": [
    "# Value of the objective function\n",
    "print(\"Total Transportation cost: \", round(model_constraint.objVal, 2))"
   ]
  },
  {
   "cell_type": "code",
   "execution_count": 1578,
   "metadata": {},
   "outputs": [
    {
     "data": {
      "text/plain": [
       "{(0, 0): 1148.0,\n",
       " (0, 1): 0.0,\n",
       " (0, 2): 0.0,\n",
       " (0, 3): 0.0,\n",
       " (0, 4): 0.0,\n",
       " (1, 0): 0.0,\n",
       " (1, 1): 964.0,\n",
       " (1, 2): 70.0,\n",
       " (1, 3): 0.0,\n",
       " (1, 4): 0.0}"
      ]
     },
     "execution_count": 1578,
     "metadata": {},
     "output_type": "execute_result"
    }
   ],
   "source": [
    "# Get the optimal values of decision variables\n",
    "transshipment_values = model_constraint.getAttr('x', z)\n",
    "transshipment_values"
   ]
  },
  {
   "cell_type": "code",
   "execution_count": 1579,
   "metadata": {},
   "outputs": [
    {
     "data": {
      "text/plain": [
       "2182.0"
      ]
     },
     "execution_count": 1579,
     "metadata": {},
     "output_type": "execute_result"
    }
   ],
   "source": [
    "# Calculate the total amount of canola oil transshipped\n",
    "total_transshipped = sum(transshipment_values[i, j] for i in range(2) for j in range(5))\n",
    "total_transshipped"
   ]
  },
  {
   "cell_type": "code",
   "execution_count": 1580,
   "metadata": {},
   "outputs": [
    {
     "data": {
      "text/plain": [
       "{(0, 0): 0.0,\n",
       " (0, 1): 0.0,\n",
       " (0, 2): 0.0,\n",
       " (0, 3): 462.0,\n",
       " (0, 4): 0.0,\n",
       " (1, 0): 0.0,\n",
       " (1, 1): 103.0,\n",
       " (1, 2): 0.0,\n",
       " (1, 3): 0.0,\n",
       " (1, 4): 0.0,\n",
       " (2, 0): 0.0,\n",
       " (2, 1): 0.0,\n",
       " (2, 2): 460.0,\n",
       " (2, 3): 0.0,\n",
       " (2, 4): 0.0,\n",
       " (3, 0): 149.0,\n",
       " (3, 1): 0.0,\n",
       " (3, 2): 0.0,\n",
       " (3, 3): 0.0,\n",
       " (3, 4): 0.0,\n",
       " (4, 0): 0.0,\n",
       " (4, 1): 0.0,\n",
       " (4, 2): 227.0,\n",
       " (4, 3): 0.0,\n",
       " (4, 4): 0.0,\n",
       " (5, 0): 0.0,\n",
       " (5, 1): 217.0,\n",
       " (5, 2): 0.0,\n",
       " (5, 3): 0.0,\n",
       " (5, 4): 0.0,\n",
       " (6, 0): 0.0,\n",
       " (6, 1): 0.0,\n",
       " (6, 2): 205.0,\n",
       " (6, 3): 0.0,\n",
       " (6, 4): 0.0,\n",
       " (7, 0): 0.0,\n",
       " (7, 1): 0.0,\n",
       " (7, 2): 0.0,\n",
       " (7, 3): 0.0,\n",
       " (7, 4): 521.0,\n",
       " (8, 0): 0.0,\n",
       " (8, 1): 0.0,\n",
       " (8, 2): 0.0,\n",
       " (8, 3): 0.0,\n",
       " (8, 4): 548.0,\n",
       " (9, 0): 0.0,\n",
       " (9, 1): 0.0,\n",
       " (9, 2): 0.0,\n",
       " (9, 3): 0.0,\n",
       " (9, 4): 0.0,\n",
       " (10, 0): 0.0,\n",
       " (10, 1): 0.0,\n",
       " (10, 2): 0.0,\n",
       " (10, 3): 0.0,\n",
       " (10, 4): 361.0,\n",
       " (11, 0): 27.0,\n",
       " (11, 1): 0.0,\n",
       " (11, 2): 384.0,\n",
       " (11, 3): 0.0,\n",
       " (11, 4): 0.0,\n",
       " (12, 0): 104.0,\n",
       " (12, 1): 0.0,\n",
       " (12, 2): 0.0,\n",
       " (12, 3): 0.0,\n",
       " (12, 4): 0.0,\n",
       " (13, 0): 0.0,\n",
       " (13, 1): 0.0,\n",
       " (13, 2): 0.0,\n",
       " (13, 3): 0.0,\n",
       " (13, 4): 155.0,\n",
       " (14, 0): 0.0,\n",
       " (14, 1): 0.0,\n",
       " (14, 2): 0.0,\n",
       " (14, 3): 285.0,\n",
       " (14, 4): 0.0,\n",
       " (15, 0): 109.0,\n",
       " (15, 1): 0.0,\n",
       " (15, 2): 0.0,\n",
       " (15, 3): 0.0,\n",
       " (15, 4): 0.0,\n",
       " (16, 0): 0.0,\n",
       " (16, 1): 0.0,\n",
       " (16, 2): 0.0,\n",
       " (16, 3): 0.0,\n",
       " (16, 4): 0.0,\n",
       " (17, 0): 0.0,\n",
       " (17, 1): 358.0,\n",
       " (17, 2): 0.0,\n",
       " (17, 3): 0.0,\n",
       " (17, 4): 80.0,\n",
       " (18, 0): 0.0,\n",
       " (18, 1): 0.0,\n",
       " (18, 2): 0.0,\n",
       " (18, 3): 501.0,\n",
       " (18, 4): 0.0,\n",
       " (19, 0): 0.0,\n",
       " (19, 1): 0.0,\n",
       " (19, 2): 0.0,\n",
       " (19, 3): 86.0,\n",
       " (19, 4): 0.0,\n",
       " (20, 0): 0.0,\n",
       " (20, 1): 0.0,\n",
       " (20, 2): 462.0,\n",
       " (20, 3): 0.0,\n",
       " (20, 4): 0.0,\n",
       " (21, 0): 0.0,\n",
       " (21, 1): 0.0,\n",
       " (21, 2): 0.0,\n",
       " (21, 3): 504.0,\n",
       " (21, 4): 0.0,\n",
       " (22, 0): 0.0,\n",
       " (22, 1): 106.0,\n",
       " (22, 2): 0.0,\n",
       " (22, 3): 0.0,\n",
       " (22, 4): 0.0,\n",
       " (23, 0): 0.0,\n",
       " (23, 1): 0.0,\n",
       " (23, 2): 132.0,\n",
       " (23, 3): 0.0,\n",
       " (23, 4): 0.0,\n",
       " (24, 0): 0.0,\n",
       " (24, 1): 0.0,\n",
       " (24, 2): 0.0,\n",
       " (24, 3): 0.0,\n",
       " (24, 4): 0.0}"
      ]
     },
     "execution_count": 1580,
     "metadata": {},
     "output_type": "execute_result"
    }
   ],
   "source": [
    "# Get the optimal values of decision variables\n",
    "direct_shipping_values = model_constraint.getAttr('x', x)\n",
    "direct_shipping_values"
   ]
  },
  {
   "cell_type": "code",
   "execution_count": 1581,
   "metadata": {},
   "outputs": [
    {
     "data": {
      "text/plain": [
       "6546.0"
      ]
     },
     "execution_count": 1581,
     "metadata": {},
     "output_type": "execute_result"
    }
   ],
   "source": [
    "# Calculate the total amount of canola oil directly shipped\n",
    "direct_shipping = sum(direct_shipping_values[i, j] for i in range(25) for j in range(5))\n",
    "direct_shipping"
   ]
  },
  {
   "cell_type": "code",
   "execution_count": 1582,
   "metadata": {},
   "outputs": [
    {
     "data": {
      "text/plain": [
       "0.25"
      ]
     },
     "execution_count": 1582,
     "metadata": {},
     "output_type": "execute_result"
    }
   ],
   "source": [
    "# Calculate the proportion\n",
    "total_canola_oil = direct_shipping + total_transshipped\n",
    "proportion_transshipped = total_transshipped / total_canola_oil\n",
    "proportion_transshipped"
   ]
  },
  {
   "cell_type": "markdown",
   "metadata": {},
   "source": [
    "e) Choose the constraint route for obvious reasons"
   ]
  },
  {
   "cell_type": "markdown",
   "metadata": {},
   "source": [
    "# Question 2"
   ]
  },
  {
   "cell_type": "code",
   "execution_count": 1583,
   "metadata": {},
   "outputs": [],
   "source": [
    "# Create the optimization model\n",
    "question_2_model = gb.Model(\"Question 2: Sunnyshore Bay\")"
   ]
  },
  {
   "cell_type": "code",
   "execution_count": 1584,
   "metadata": {},
   "outputs": [],
   "source": [
    "# Create the three classes of decision variables where each Python\n",
    "# variable represents a different number of Gurobi decision variables\n",
    "B = question_2_model.addVars(6, lb=0, vtype=GRB.CONTINUOUS, name=\"Borrow\")\n",
    "w = question_2_model.addVars(4, lb=0, vtype=GRB.CONTINUOUS, name=\"Wealth\")"
   ]
  },
  {
   "cell_type": "code",
   "execution_count": 1585,
   "metadata": {},
   "outputs": [],
   "source": [
    "# The objective function\n",
    "question_2_model.setObjective(w[3], GRB.MAXIMIZE)"
   ]
  },
  {
   "cell_type": "code",
   "execution_count": 1586,
   "metadata": {},
   "outputs": [
    {
     "data": {
      "text/plain": [
       "<gurobi.Constr *Awaiting Model Update*>"
      ]
     },
     "execution_count": 1586,
     "metadata": {},
     "output_type": "execute_result"
    }
   ],
   "source": [
    "# Add the balance constraints\n",
    "question_2_model.addConstr(w[0] == 140000 + 180000 - 300000 + B[0] + B[1] + B[2], \"May Balance Constraint\")\n",
    "question_2_model.addConstr(w[1] == w[0] + 260000 - 400000 + B[3] + B[4] - 1.0175*B[2], \"June Balance Constraint\")\n",
    "question_2_model.addConstr(w[2] == w[1] + 420000 - 350000 + B[5] - 1.0225*B[1] - 1.0175*B[4], \"July Balance Constraint\")\n",
    "question_2_model.addConstr(w[3] == w[2] + 580000 - 200000 - 1.0275*B[0] - 1.0225*B[3] - 1.0175*B[5], \"August Balance Constraint\")"
   ]
  },
  {
   "cell_type": "code",
   "execution_count": 1587,
   "metadata": {},
   "outputs": [],
   "source": [
    "# Add the cash flow constraints\n",
    "May_Cash_Flow_Constraint = question_2_model.addConstr(w[0] >= 25000, \"May Cash Flow Constraint\")\n",
    "June_Cash_Flow_Constraint = question_2_model.addConstr(w[1] >= 20000, \"June Cash Flow Constraint\")\n",
    "July_Cash_Flow_Constraint = question_2_model.addConstr(w[2] >= 35000, \"July Cash Flow Constraint\")\n",
    "August_Cash_Flow_Constraint = question_2_model.addConstr(w[3] >= 18000, \"August Cash Flow Constraint\")"
   ]
  },
  {
   "cell_type": "code",
   "execution_count": 1588,
   "metadata": {},
   "outputs": [
    {
     "data": {
      "text/plain": [
       "<gurobi.Constr *Awaiting Model Update*>"
      ]
     },
     "execution_count": 1588,
     "metadata": {},
     "output_type": "execute_result"
    }
   ],
   "source": [
    "# Add the borrowing constraints\n",
    "question_2_model.addConstr((B[0] + B[1] + B[2]) <= 250000, \"May Borrowing Constraint\")\n",
    "question_2_model.addConstr((B[3] + B[4]) <= 150000, \"June Borrowing Constraint\")\n",
    "question_2_model.addConstr(B[5] <= 350000, \"July Borrowing Constraint\")"
   ]
  },
  {
   "cell_type": "code",
   "execution_count": 1589,
   "metadata": {},
   "outputs": [
    {
     "data": {
      "text/plain": [
       "<gurobi.Constr *Awaiting Model Update*>"
      ]
     },
     "execution_count": 1589,
     "metadata": {},
     "output_type": "execute_result"
    }
   ],
   "source": [
    "# Ratio constraint\n",
    "question_2_model.addConstr((0.65*(w[0] + w[1])) <= w[2], name=\"Ratio constraint\")"
   ]
  },
  {
   "cell_type": "code",
   "execution_count": 1590,
   "metadata": {},
   "outputs": [
    {
     "name": "stdout",
     "output_type": "stream",
     "text": [
      "Gurobi Optimizer version 11.0.0 build v11.0.0rc2 (win64 - Windows 11+.0 (22631.2))\n",
      "\n",
      "CPU model: Intel(R) Core(TM) i7-8750H CPU @ 2.20GHz, instruction set [SSE2|AVX|AVX2]\n",
      "Thread count: 6 physical cores, 12 logical processors, using up to 12 threads\n",
      "\n",
      "Optimize a model with 12 rows, 10 columns and 32 nonzeros\n",
      "Model fingerprint: 0xcc017ff0\n",
      "Coefficient statistics:\n",
      "  Matrix range     [7e-01, 1e+00]\n",
      "  Objective range  [1e+00, 1e+00]\n",
      "  Bounds range     [0e+00, 0e+00]\n",
      "  RHS range        [2e+04, 4e+05]\n",
      "Presolve removed 5 rows and 0 columns\n",
      "Presolve time: 0.00s\n",
      "Presolved: 7 rows, 10 columns, 27 nonzeros\n",
      "\n",
      "Iteration    Objective       Primal Inf.    Dual Inf.      Time\n",
      "       0    8.0000000e+30   1.000000e+30   8.000000e+00      0s\n",
      "       6    3.2709527e+05   0.000000e+00   0.000000e+00      0s\n",
      "\n",
      "Solved in 6 iterations and 0.01 seconds (0.00 work units)\n",
      "Optimal objective  3.270952703e+05\n"
     ]
    }
   ],
   "source": [
    "# Optimally solve the problem\n",
    "question_2_model.optimize()"
   ]
  },
  {
   "cell_type": "code",
   "execution_count": 1591,
   "metadata": {},
   "outputs": [
    {
     "name": "stdout",
     "output_type": "stream",
     "text": [
      "Model Status:  2\n"
     ]
    }
   ],
   "source": [
    "# The status of the model (Optimization Status Codes)\n",
    "print(\"Model Status: \", question_2_model.status)"
   ]
  },
  {
   "cell_type": "code",
   "execution_count": 1592,
   "metadata": {},
   "outputs": [
    {
     "name": "stdout",
     "output_type": "stream",
     "text": [
      "Number of Decision Variables:  10\n"
     ]
    }
   ],
   "source": [
    "# Number of variables in the model\n",
    "print(\"Number of Decision Variables: \", question_2_model.numVars)"
   ]
  },
  {
   "cell_type": "code",
   "execution_count": 1593,
   "metadata": {},
   "outputs": [
    {
     "name": "stdout",
     "output_type": "stream",
     "text": [
      "Total Amount of Money:  327095.27\n"
     ]
    }
   ],
   "source": [
    "# Value of the objective function\n",
    "print(\"Total Amount of Money: \", round(question_2_model.objVal, 2))"
   ]
  },
  {
   "cell_type": "code",
   "execution_count": 1594,
   "metadata": {},
   "outputs": [
    {
     "name": "stdout",
     "output_type": "stream",
     "text": [
      "\n",
      "    Variable            X \n",
      "-------------------------\n",
      "   Borrow[0]         5000 \n",
      "   Borrow[3]      80945.9 \n",
      "   Borrow[4]      54054.1 \n",
      "   Wealth[0]        25000 \n",
      "   Wealth[1]        20000 \n",
      "   Wealth[2]        35000 \n",
      "   Wealth[3]       327095 \n",
      "None\n"
     ]
    }
   ],
   "source": [
    "# Print the decision variables\n",
    "print(question_2_model.printAttr('X'))"
   ]
  },
  {
   "cell_type": "markdown",
   "metadata": {},
   "source": [
    "a) The answer is 6"
   ]
  },
  {
   "cell_type": "markdown",
   "metadata": {},
   "source": [
    "b) June cash balance >= $20,000"
   ]
  },
  {
   "cell_type": "markdown",
   "metadata": {},
   "source": [
    "c) The formula: w[2] / (w[0] + w[1]) <= 0.65 or 65%\n",
    "Written out, July cash balance / (May cash balance + June cash balance) <= 0.65 or 65%\n",
    "\n",
    "To make it linear: 0.65*(w[0] + w[1]) <= w[2]\n",
    "Written out, 0.65*(May cash balance + June cash balance) <= July cash balance"
   ]
  },
  {
   "cell_type": "markdown",
   "metadata": {},
   "source": [
    "d)"
   ]
  },
  {
   "cell_type": "code",
   "execution_count": 1595,
   "metadata": {},
   "outputs": [
    {
     "name": "stdout",
     "output_type": "stream",
     "text": [
      "Optimal Borrowing Values:\n",
      "Borrow[0] = 5000.0\n",
      "Borrow[1] = 0.0\n",
      "Borrow[2] = 0.0\n",
      "Borrow[3] = 80945.94594594595\n",
      "Borrow[4] = 54054.05405405405\n",
      "Borrow[5] = 0.0\n",
      "\n",
      "Total Borrowing Amount: 140000.0\n",
      "\n",
      "Total Repayment Amount: 142904.72972972973\n"
     ]
    }
   ],
   "source": [
    "# Get the optimal values of decision variables\n",
    "borrowing_money = question_2_model.getAttr('x', B)\n",
    "\n",
    "# Display the optimal values\n",
    "print(\"Optimal Borrowing Values:\")\n",
    "for i in range(len(borrowing_money)):\n",
    "    print(f\"Borrow[{i}] = {borrowing_money[i]}\")\n",
    "\n",
    "# Calculate the total amount borrowed\n",
    "total_borrowing_amount = borrowing_money[0] + borrowing_money[1] + borrowing_money[2] + borrowing_money[3] + borrowing_money[4] + borrowing_money[5]\n",
    "print(\"\\nTotal Borrowing Amount:\", total_borrowing_amount)\n",
    "total_repay_amount = 1.0275*borrowing_money[0] + 1.0225*borrowing_money[1] + 1.0175*borrowing_money[2] + 1.0225*borrowing_money[3] + 1.0175*borrowing_money[4] + 1.0175*borrowing_money[5]\n",
    "print(\"\\nTotal Repayment Amount:\", total_repay_amount)\n"
   ]
  },
  {
   "cell_type": "markdown",
   "metadata": {},
   "source": [
    "e) Looking above, the answer is $5,000"
   ]
  },
  {
   "cell_type": "markdown",
   "metadata": {},
   "source": [
    "f) $327,095.27"
   ]
  },
  {
   "cell_type": "markdown",
   "metadata": {},
   "source": [
    "g)"
   ]
  },
  {
   "cell_type": "code",
   "execution_count": 1596,
   "metadata": {},
   "outputs": [
    {
     "name": "stdout",
     "output_type": "stream",
     "text": [
      "\n",
      "Sensitivity Information for June Cash Flow Constraint -0.02:\n",
      "(LHS, RHS, Slack):  (20000.0, 20000.0, 0.0)\n",
      "Shadow Price:  -0.01758599508599512\n",
      "Range of Feasibility:  (28846.153846153844, -0.0)\n"
     ]
    }
   ],
   "source": [
    "# Print sensitivity information\n",
    "print(\"\")\n",
    "print(f\"Sensitivity Information for June Cash Flow Constraint {June_Cash_Flow_Constraint.pi:.2f}:\")\n",
    "print(\"(LHS, RHS, Slack): \", (question_2_model.getRow(June_Cash_Flow_Constraint).getValue(), June_Cash_Flow_Constraint.RHS, June_Cash_Flow_Constraint.slack))\n",
    "print(\"Shadow Price: \", June_Cash_Flow_Constraint.pi)\n",
    "print(\"Range of Feasibility: \", (June_Cash_Flow_Constraint.SARHSUp, June_Cash_Flow_Constraint.SARHSLow))\n"
   ]
  },
  {
   "cell_type": "code",
   "execution_count": 1597,
   "metadata": {},
   "outputs": [
    {
     "name": "stdout",
     "output_type": "stream",
     "text": [
      "Optimal Amount Sold:\n",
      "1 = (5000.0, 0.0, 0.0050000000000001155, -2.457002456979218e-05)\n",
      "2 = (0.0, -2.457002456979218e-05, 2.457002456979218e-05, -inf)\n",
      "3 = (0.0, -0.012893749999999926, 0.012893749999999926, -inf)\n",
      "4 = (80945.94594594595, 0.0, 2.4449877750379998e-05, -0.0050000000000001155)\n",
      "5 = (54054.05405405405, 0.0, 0.012806250000000146, -2.4449877750379998e-05)\n",
      "6 = (0.0, -0.012585995085995227, 0.012585995085995227, -inf)\n"
     ]
    }
   ],
   "source": [
    "# Check if the optimization was successful\n",
    "if question_2_model.status == gb.GRB.OPTIMAL:\n",
    "    # Print the sensitivity analysis for the amount sold\n",
    "    print(\"Optimal Amount Sold:\")\n",
    "    print(f\"{'1'} = {B[0].x, B[0].RC, B[0].SAObjUp, B[0].SAObjLow}\")\n",
    "    print(f\"{'2'} = {B[1].x, B[1].RC, B[1].SAObjUp, B[1].SAObjLow}\")\n",
    "    print(f\"{'3'} = {B[2].x, B[2].RC, B[2].SAObjUp, B[2].SAObjLow}\")\n",
    "    print(f\"{'4'} = {B[3].x, B[3].RC, B[3].SAObjUp, B[3].SAObjLow}\")\n",
    "    print(f\"{'5'} = {B[4].x, B[4].RC, B[4].SAObjUp, B[4].SAObjLow}\")\n",
    "    print(f\"{'6'} = {B[5].x, B[5].RC, B[5].SAObjUp, B[5].SAObjLow}\")\n",
    "else:\n",
    "    print(\"Optimization was not successful.\")"
   ]
  },
  {
   "cell_type": "code",
   "execution_count": 1598,
   "metadata": {},
   "outputs": [
    {
     "name": "stdout",
     "output_type": "stream",
     "text": [
      "Change in Objective Function Value: -131.8949631449634\n",
      "Additional Money Needed to be Borrowed: 131.8949631449634\n"
     ]
    }
   ],
   "source": [
    "# Change in Objective Function Value\n",
    "change_in_ofv = June_Cash_Flow_Constraint.pi * (27500 - June_Cash_Flow_Constraint.RHS)\n",
    "\n",
    "# Additional money needed to be borrowed\n",
    "additional_borrowing = -change_in_ofv  # Note: Multiply by -1 to make it positive\n",
    "\n",
    "print(\"Change in Objective Function Value:\", change_in_ofv)\n",
    "print(\"Additional Money Needed to be Borrowed:\", additional_borrowing)"
   ]
  },
  {
   "cell_type": "code",
   "execution_count": 1599,
   "metadata": {},
   "outputs": [
    {
     "name": "stdout",
     "output_type": "stream",
     "text": [
      "Gurobi Optimizer version 11.0.0 build v11.0.0rc2 (win64 - Windows 11+.0 (22631.2))\n",
      "\n",
      "CPU model: Intel(R) Core(TM) i7-8750H CPU @ 2.20GHz, instruction set [SSE2|AVX|AVX2]\n",
      "Thread count: 6 physical cores, 12 logical processors, using up to 12 threads\n",
      "\n",
      "Optimize a model with 12 rows, 10 columns and 32 nonzeros\n",
      "Model fingerprint: 0x502c54de\n",
      "Coefficient statistics:\n",
      "  Matrix range     [7e-01, 1e+00]\n",
      "  Objective range  [1e+00, 1e+00]\n",
      "  Bounds range     [0e+00, 0e+00]\n",
      "  RHS range        [2e+04, 4e+05]\n",
      "Presolve removed 5 rows and 0 columns\n",
      "Presolve time: 0.00s\n",
      "Presolved: 7 rows, 10 columns, 27 nonzeros\n",
      "\n",
      "Iteration    Objective       Primal Inf.    Dual Inf.      Time\n",
      "       0    8.0000000e+30   1.000000e+30   8.000000e+00      0s\n",
      "       6    3.2696338e+05   0.000000e+00   0.000000e+00      0s\n",
      "\n",
      "Solved in 6 iterations and 0.01 seconds (0.00 work units)\n",
      "Optimal objective  3.269633753e+05\n",
      "Total Amount of Money:  326963.38\n"
     ]
    }
   ],
   "source": [
    "# Create the optimization model\n",
    "question_2_model2 = gb.Model(\"Question 2: Sunnyshore Bay\")\n",
    "\n",
    "# Create the three classes of decision variables where each Python\n",
    "# variable represents a different number of Gurobi decision variables\n",
    "B = question_2_model2.addVars(6, lb=0, vtype=GRB.CONTINUOUS, name=\"Borrow\")\n",
    "w = question_2_model2.addVars(4, lb=0, vtype=GRB.CONTINUOUS, name=\"Wealth\")\n",
    "\n",
    "# The objective function\n",
    "question_2_model2.setObjective(w[3], GRB.MAXIMIZE)\n",
    "\n",
    "# Add the balance constraints\n",
    "question_2_model2.addConstr(w[0] == 140000 + 180000 - 300000 + B[0] + B[1] + B[2], \"May Balance Constraint\")\n",
    "question_2_model2.addConstr(w[1] == w[0] + 260000 - 400000 + B[3] + B[4] - 1.0175*B[2], \"June Balance Constraint\")\n",
    "question_2_model2.addConstr(w[2] == w[1] + 420000 - 350000 + B[5] - 1.0225*B[1] - 1.0175*B[4], \"July Balance Constraint\")\n",
    "question_2_model2.addConstr(w[3] == w[2] + 580000 - 200000 - 1.0275*B[0] - 1.0225*B[3] - 1.0175*B[5], \"August Balance Constraint\")\n",
    "\n",
    "# Add the cash flow constraints\n",
    "May_Cash_Flow_Constraint = question_2_model2.addConstr(w[0] >= 25000, \"May Cash Flow Constraint\")\n",
    "June_Cash_Flow_Constraint = question_2_model2.addConstr(w[1] >= 27500, \"June Cash Flow Constraint\")\n",
    "July_Cash_Flow_Constraint = question_2_model2.addConstr(w[2] >= 35000, \"July Cash Flow Constraint\")\n",
    "August_Cash_Flow_Constraint = question_2_model2.addConstr(w[3] >= 18000, \"August Cash Flow Constraint\")\n",
    "\n",
    "# Add the borrowing constraints\n",
    "question_2_model2.addConstr((B[0] + B[1] + B[2]) <= 250000, \"May Borrowing Constraint\")\n",
    "question_2_model2.addConstr((B[3] + B[4]) <= 150000, \"June Borrowing Constraint\")\n",
    "question_2_model2.addConstr(B[5] <= 350000, \"July Borrowing Constraint\")\n",
    "\n",
    "# Ratio constraint\n",
    "question_2_model2.addConstr((0.65*(w[0] + w[1])) <= w[2], name=\"Ratio constraint\")\n",
    "\n",
    "# Optimally solve the problem\n",
    "question_2_model2.optimize()\n",
    "\n",
    "# Value of the objective function\n",
    "print(\"Total Amount of Money: \", round(question_2_model2.objVal, 2))\n"
   ]
  },
  {
   "cell_type": "code",
   "execution_count": 1600,
   "metadata": {},
   "outputs": [
    {
     "name": "stdout",
     "output_type": "stream",
     "text": [
      "Optimal Borrowing Values:\n",
      "Borrow[0] = 5000.0\n",
      "Borrow[1] = 0.0\n",
      "Borrow[2] = 0.0\n",
      "Borrow[3] = 81074.93857493858\n",
      "Borrow[4] = 61425.06142506142\n",
      "Borrow[5] = 0.0\n",
      "\n",
      "Total Borrowing Amount: 147500.0\n",
      "\n",
      "Total Repayment Amount: 150536.6246928747\n"
     ]
    }
   ],
   "source": [
    "# Get the optimal values of decision variables\n",
    "borrowing_money = question_2_model2.getAttr('x', B)\n",
    "\n",
    "# Display the optimal values\n",
    "print(\"Optimal Borrowing Values:\")\n",
    "for i in range(len(borrowing_money)):\n",
    "    print(f\"Borrow[{i}] = {borrowing_money[i]}\")\n",
    "\n",
    "# Calculate the total amount borrowed\n",
    "total_borrowing_amount = borrowing_money[0] + borrowing_money[1] + borrowing_money[2] + borrowing_money[3] + borrowing_money[4] + borrowing_money[5]\n",
    "print(\"\\nTotal Borrowing Amount:\", total_borrowing_amount)\n",
    "total_repay_amount = 1.0275*borrowing_money[0] + 1.0225*borrowing_money[1] + 1.0175*borrowing_money[2] + 1.0225*borrowing_money[3] + 1.0175*borrowing_money[4] + 1.0175*borrowing_money[5]\n",
    "print(\"\\nTotal Repayment Amount:\", total_repay_amount)"
   ]
  },
  {
   "cell_type": "markdown",
   "metadata": {},
   "source": [
    "h)"
   ]
  },
  {
   "cell_type": "code",
   "execution_count": null,
   "metadata": {},
   "outputs": [],
   "source": []
  }
 ],
 "metadata": {
  "kernelspec": {
   "display_name": "Python 3",
   "language": "python",
   "name": "python3"
  },
  "language_info": {
   "codemirror_mode": {
    "name": "ipython",
    "version": 3
   },
   "file_extension": ".py",
   "mimetype": "text/x-python",
   "name": "python",
   "nbconvert_exporter": "python",
   "pygments_lexer": "ipython3",
   "version": "3.11.3"
  }
 },
 "nbformat": 4,
 "nbformat_minor": 2
}
