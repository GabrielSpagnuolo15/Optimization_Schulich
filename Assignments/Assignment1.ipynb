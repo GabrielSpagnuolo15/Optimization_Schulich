{
 "cells": [
  {
   "cell_type": "markdown",
   "metadata": {},
   "source": [
    "# Question 1"
   ]
  },
  {
   "cell_type": "code",
   "execution_count": 1,
   "metadata": {},
   "outputs": [],
   "source": [
    "from gurobipy import GRB\n",
    "import gurobipy as gb\n",
    "import pandas as pd"
   ]
  },
  {
   "cell_type": "code",
   "execution_count": 2,
   "metadata": {},
   "outputs": [
    {
     "name": "stdout",
     "output_type": "stream",
     "text": [
      "Set parameter Username\n",
      "Academic license - for non-commercial use only - expires 2025-01-15\n"
     ]
    }
   ],
   "source": [
    "# Create the optimization model\n",
    "model = gb.Model(\"Question 1: Canola Oil\")"
   ]
  },
  {
   "cell_type": "code",
   "execution_count": 3,
   "metadata": {},
   "outputs": [],
   "source": [
    "# Read costs from CSV files\n",
    "direct_shipping_costs_df = pd.read_csv(r\"C:\\Users\\gabri\\Downloads\\Cost_Production_to_Refinement.csv\")\n",
    "shipping_to_transsipment_costs_df = pd.read_csv(r\"C:\\Users\\gabri\\Downloads\\Cost_Production_to_Transshipment.csv\")\n",
    "transsipment_to_refinement_costs_df = pd.read_csv(r\"C:\\Users\\gabri\\Downloads\\Cost_Transshipment_to_Refinement.csv\")"
   ]
  },
  {
   "cell_type": "code",
   "execution_count": 4,
   "metadata": {},
   "outputs": [],
   "source": [
    "# Extract the \"Cost\" column\n",
    "direct_shipping_costs = direct_shipping_costs_df['Cost'].values.reshape(25, -1)\n",
    "shipping_to_transsipment_costs = shipping_to_transsipment_costs_df['Cost'].values.reshape(15, -1)\n",
    "transsipment_to_refinement_costs = transsipment_to_refinement_costs_df['Cost'].values.reshape(2, -1)"
   ]
  },
  {
   "cell_type": "code",
   "execution_count": 5,
   "metadata": {},
   "outputs": [
    {
     "data": {
      "text/plain": [
       "array([[4.25273277, 4.56772552, 4.69648446, 2.67874096, 4.27245069],\n",
       "       [2.95047222, 2.63661931, 2.85346871, 5.48002613, 3.03749539],\n",
       "       [4.02568313, 5.40779944, 3.38094894, 5.44123713, 4.40886217],\n",
       "       [3.46114107, 5.34694389, 4.99366311, 5.96818684, 4.83600407],\n",
       "       [5.94681429, 4.74917249, 3.72614981, 3.58915858, 4.93741459],\n",
       "       [3.46939366, 2.75501443, 5.60123055, 4.49910112, 4.22405746],\n",
       "       [4.7290315 , 4.30193766, 3.67740309, 4.15881121, 4.15956806],\n",
       "       [5.74380976, 5.57158666, 5.09534814, 5.34986497, 2.62562966],\n",
       "       [4.25622982, 5.56865574, 4.13714572, 4.90410382, 3.05688139],\n",
       "       [4.29664067, 5.75680178, 4.87474585, 4.10968275, 4.66040916],\n",
       "       [4.02164417, 5.38745866, 5.4089004 , 5.18510303, 3.47259321],\n",
       "       [3.28957805, 3.58831517, 3.62182771, 4.84919596, 4.89636402],\n",
       "       [2.9072415 , 4.15142098, 4.60651418, 5.22233913, 3.76568815],\n",
       "       [5.80493436, 3.58642269, 4.32677984, 5.63769746, 3.39212168],\n",
       "       [5.87454415, 3.572913  , 3.79897077, 2.91793106, 5.43496734],\n",
       "       [2.8220575 , 4.10130751, 4.95439918, 4.19164594, 3.1454322 ],\n",
       "       [5.02789698, 4.67095384, 5.12286983, 4.09337178, 5.62927336],\n",
       "       [3.02488242, 2.71410269, 3.5826889 , 3.10998883, 2.62833688],\n",
       "       [3.34709507, 5.83444497, 5.8110041 , 2.85704775, 4.56837714],\n",
       "       [4.81217859, 4.54078328, 4.504062  , 3.60485169, 5.95739562],\n",
       "       [5.87531792, 3.7604349 , 2.55688209, 5.07318525, 2.91307076],\n",
       "       [2.8957845 , 5.60692168, 3.27463703, 2.85475969, 5.25852458],\n",
       "       [4.71173486, 2.63791887, 4.28677306, 4.10198461, 5.79644057],\n",
       "       [5.63121907, 5.17582145, 3.21758562, 5.28542907, 5.0469302 ],\n",
       "       [4.38417588, 5.94344807, 4.99921981, 4.15483307, 5.07528003]])"
      ]
     },
     "execution_count": 5,
     "metadata": {},
     "output_type": "execute_result"
    }
   ],
   "source": [
    "direct_shipping_costs"
   ]
  },
  {
   "cell_type": "code",
   "execution_count": 6,
   "metadata": {},
   "outputs": [
    {
     "data": {
      "text/plain": [
       "array([[2.37882586, 0.86384215],\n",
       "       [1.66698156, 2.11948817],\n",
       "       [2.17488041, 0.94818376],\n",
       "       [2.67741553, 0.5924201 ],\n",
       "       [2.82024783, 0.97232892],\n",
       "       [2.85389005, 2.6943427 ],\n",
       "       [1.40702817, 1.42832532],\n",
       "       [2.48499907, 0.95347666],\n",
       "       [1.78637201, 0.63669962],\n",
       "       [0.68852771, 2.25970328],\n",
       "       [2.40128579, 1.80010665],\n",
       "       [0.56435019, 2.12484244],\n",
       "       [1.98606958, 2.34717953],\n",
       "       [1.63996858, 1.61928103],\n",
       "       [0.64904663, 1.96881166]])"
      ]
     },
     "execution_count": 6,
     "metadata": {},
     "output_type": "execute_result"
    }
   ],
   "source": [
    "shipping_to_transsipment_costs"
   ]
  },
  {
   "cell_type": "code",
   "execution_count": 7,
   "metadata": {},
   "outputs": [
    {
     "data": {
      "text/plain": [
       "array([[1.57232851, 3.46547396, 2.24406225, 3.77383915, 3.2626518 ],\n",
       "       [1.90042452, 1.6131232 , 1.70723241, 2.70539568, 2.25742842]])"
      ]
     },
     "execution_count": 7,
     "metadata": {},
     "output_type": "execute_result"
    }
   ],
   "source": [
    "transsipment_to_refinement_costs"
   ]
  },
  {
   "cell_type": "code",
   "execution_count": 8,
   "metadata": {},
   "outputs": [],
   "source": [
    "# Create the a single class of decision variables where\n",
    "# From = {Ca,US,M,C,F} and To = {R1,R2,R3,R4,R5}.\n",
    "x = model.addVars(25, 5, lb=0, vtype=GRB.CONTINUOUS, name=\"Direct Shipping\")\n",
    "# From = {I,U,G} and To = {Italy,Greece}.\n",
    "y = model.addVars(15, 2, lb=0, vtype=GRB.CONTINUOUS, name=\"Ship to Transshipment\")\n",
    "# From = {Italy,Greece} and To = {R1,R2,R3,R4,R5}.\n",
    "z = model.addVars(2, 5, lb=0, vtype=GRB.CONTINUOUS, name=\"Transshipment to Refinement\")"
   ]
  },
  {
   "cell_type": "code",
   "execution_count": 9,
   "metadata": {},
   "outputs": [],
   "source": [
    "# The objective function\n",
    "direct_objective = gb.quicksum(direct_shipping_costs[i][j]*x[i,j] for i in range(25) for j in range(5))\n",
    "trans_objective = gb.quicksum(shipping_to_transsipment_costs[i][j]*y[i,j] for i in range(15) for j in range(2))\n",
    "trans_to_refinement_objective = gb.quicksum(transsipment_to_refinement_costs[i][j]*z[i,j] for i in range(2) for j in range(5))\n",
    "model.setObjective(direct_objective + trans_objective + trans_to_refinement_objective, GRB.MINIMIZE)"
   ]
  },
  {
   "cell_type": "code",
   "execution_count": 10,
   "metadata": {},
   "outputs": [],
   "source": [
    "# Read capacity and demand from CSV files\n",
    "direct_shipping_supply_capacity_df = pd.read_csv(r\"C:\\Users\\gabri\\Downloads\\Capacity_for_Direct_Production_Facilities.csv\")\n",
    "transshipment_supply_capacity_df = pd.read_csv(r\"C:\\Users\\gabri\\Downloads\\Capacity_for_Transship_Distribution_Centers.csv\")\n",
    "shipping_to_transshipment_supply_capacity_df = pd.read_csv(r\"C:\\Users\\gabri\\Downloads\\Capacity_for_Transship_Production_Facilities.csv\")\n",
    "refinement_demand_df = pd.read_csv(r\"C:\\Users\\gabri\\Downloads\\Refinement_Demand.csv\")"
   ]
  },
  {
   "cell_type": "code",
   "execution_count": 11,
   "metadata": {},
   "outputs": [],
   "source": [
    "# Extract the \"Capacity\" and \"Demand\" column\n",
    "direct_shipping_supply_capacity = direct_shipping_supply_capacity_df['Capacity'].values.reshape(25, -1)\n",
    "transshipment_supply_capacity = transshipment_supply_capacity_df['Capacity'].values.reshape(2, -1)\n",
    "shipping_to_transshipment_supply_capacity = shipping_to_transshipment_supply_capacity_df['Capacity'].values.reshape(15, -1)\n",
    "refinement_demand = refinement_demand_df['Demand'].values.reshape(5, -1)"
   ]
  },
  {
   "cell_type": "code",
   "execution_count": 12,
   "metadata": {},
   "outputs": [
    {
     "data": {
      "text/plain": [
       "array([[462],\n",
       "       [103],\n",
       "       [460],\n",
       "       [325],\n",
       "       [227],\n",
       "       [217],\n",
       "       [205],\n",
       "       [521],\n",
       "       [548],\n",
       "       [191],\n",
       "       [361],\n",
       "       [411],\n",
       "       [104],\n",
       "       [155],\n",
       "       [285],\n",
       "       [109],\n",
       "       [422],\n",
       "       [438],\n",
       "       [501],\n",
       "       [139],\n",
       "       [462],\n",
       "       [504],\n",
       "       [106],\n",
       "       [132],\n",
       "       [298]], dtype=int64)"
      ]
     },
     "execution_count": 12,
     "metadata": {},
     "output_type": "execute_result"
    }
   ],
   "source": [
    "direct_shipping_supply_capacity"
   ]
  },
  {
   "cell_type": "code",
   "execution_count": 13,
   "metadata": {},
   "outputs": [
    {
     "data": {
      "text/plain": [
       "array([[1317],\n",
       "       [1453]], dtype=int64)"
      ]
     },
     "execution_count": 13,
     "metadata": {},
     "output_type": "execute_result"
    }
   ],
   "source": [
    "transshipment_supply_capacity"
   ]
  },
  {
   "cell_type": "code",
   "execution_count": 14,
   "metadata": {},
   "outputs": [
    {
     "data": {
      "text/plain": [
       "array([[374],\n",
       "       [444],\n",
       "       [395],\n",
       "       [245],\n",
       "       [378],\n",
       "       [408],\n",
       "       [435],\n",
       "       [175],\n",
       "       [415],\n",
       "       [503],\n",
       "       [184],\n",
       "       [297],\n",
       "       [450],\n",
       "       [169],\n",
       "       [365]], dtype=int64)"
      ]
     },
     "execution_count": 14,
     "metadata": {},
     "output_type": "execute_result"
    }
   ],
   "source": [
    "shipping_to_transshipment_supply_capacity"
   ]
  },
  {
   "cell_type": "code",
   "execution_count": 15,
   "metadata": {},
   "outputs": [
    {
     "data": {
      "text/plain": [
       "array([[1537],\n",
       "       [1748],\n",
       "       [1940],\n",
       "       [1838],\n",
       "       [1665]], dtype=int64)"
      ]
     },
     "execution_count": 15,
     "metadata": {},
     "output_type": "execute_result"
    }
   ],
   "source": [
    "refinement_demand"
   ]
  },
  {
   "cell_type": "code",
   "execution_count": 16,
   "metadata": {},
   "outputs": [],
   "source": [
    "# Add the supply constraints from source nodes for direct shipping\n",
    "for i in range(len(direct_shipping_supply_capacity)):\n",
    "    model.addConstr(gb.quicksum(x[i, j] for j in range(5)) <= direct_shipping_supply_capacity[i], name=f\"Direct Supply Constraint {i + 1}\")"
   ]
  },
  {
   "cell_type": "code",
   "execution_count": 17,
   "metadata": {},
   "outputs": [],
   "source": [
    "# Add the supply constraints from source nodes for transshipment shipping\n",
    "for i in range(len(shipping_to_transshipment_supply_capacity)):\n",
    "    model.addConstr(gb.quicksum(y[i, j] for j in range(2)) <= shipping_to_transshipment_supply_capacity[i], name=f\"Transshipment Supply Constraint {i + 1}\")"
   ]
  },
  {
   "cell_type": "code",
   "execution_count": 18,
   "metadata": {},
   "outputs": [
    {
     "data": {
      "text/plain": [
       "<gurobi.Constr *Awaiting Model Update*>"
      ]
     },
     "execution_count": 18,
     "metadata": {},
     "output_type": "execute_result"
    }
   ],
   "source": [
    "# Add the supply constraints from transshipment nodes\n",
    "model.addConstr(gb.quicksum(y[i,0] for i in range(15)) <= transshipment_supply_capacity[0], name=\"Transship Capacity 1\")\n",
    "model.addConstr(gb.quicksum(y[i,1] for i in range(15)) <= transshipment_supply_capacity[1], name=\"Transship Capacity 2\")"
   ]
  },
  {
   "cell_type": "code",
   "execution_count": 19,
   "metadata": {},
   "outputs": [
    {
     "data": {
      "text/plain": [
       "<gurobi.Constr *Awaiting Model Update*>"
      ]
     },
     "execution_count": 19,
     "metadata": {},
     "output_type": "execute_result"
    }
   ],
   "source": [
    "# Add the flow balance constrainits\n",
    "model.addConstr(gb.quicksum(y[i,0] for i in range(15)) == gb.quicksum(z[0,k] for k in range(5)), name=\"Flow Balance 1\")\n",
    "model.addConstr(gb.quicksum(y[i,1] for i in range(15)) == gb.quicksum(z[1,k] for k in range(5)), name=\"Flow Balance 2\")"
   ]
  },
  {
   "cell_type": "code",
   "execution_count": 20,
   "metadata": {},
   "outputs": [],
   "source": [
    "# Add the demand constraints\n",
    "for k in range(len(refinement_demand)):  # Iterate over refinement nodes R1 to R5\n",
    "    model.addConstr(gb.quicksum(x[i, k] for i in range(25)) + gb.quicksum(z[j, k] for j in range(2)) == refinement_demand[k], name=f\"Refinement Demand Constraint {k + 1}\")\n"
   ]
  },
  {
   "cell_type": "code",
   "execution_count": 21,
   "metadata": {},
   "outputs": [
    {
     "name": "stdout",
     "output_type": "stream",
     "text": [
      "Gurobi Optimizer version 11.0.0 build v11.0.0rc2 (win64 - Windows 11+.0 (22631.2))\n",
      "\n",
      "CPU model: Intel(R) Core(TM) i7-8750H CPU @ 2.20GHz, instruction set [SSE2|AVX|AVX2]\n",
      "Thread count: 6 physical cores, 12 logical processors, using up to 12 threads\n",
      "\n",
      "Optimize a model with 49 rows, 165 columns and 360 nonzeros\n",
      "Model fingerprint: 0x7f8fadb4\n",
      "Coefficient statistics:\n",
      "  Matrix range     [1e+00, 1e+00]\n",
      "  Objective range  [6e-01, 6e+00]\n",
      "  Bounds range     [0e+00, 0e+00]\n",
      "  RHS range        [1e+02, 2e+03]\n",
      "Presolve time: 0.01s\n",
      "Presolved: 49 rows, 165 columns, 360 nonzeros\n",
      "\n",
      "Iteration    Objective       Primal Inf.    Dual Inf.      Time\n",
      "       0    1.7230583e+04   8.266000e+03   0.000000e+00      0s\n",
      "      36    2.4188585e+04   0.000000e+00   0.000000e+00      0s\n",
      "\n",
      "Solved in 36 iterations and 0.03 seconds (0.00 work units)\n",
      "Optimal objective  2.418858517e+04\n"
     ]
    }
   ],
   "source": [
    "# Optimally solve the problem\n",
    "model.optimize()"
   ]
  },
  {
   "cell_type": "code",
   "execution_count": 22,
   "metadata": {},
   "outputs": [
    {
     "name": "stdout",
     "output_type": "stream",
     "text": [
      "Model Status:  2\n"
     ]
    }
   ],
   "source": [
    "# The status of the model (Optimization Status Codes)\n",
    "print(\"Model Status: \", model.status)"
   ]
  },
  {
   "cell_type": "code",
   "execution_count": 23,
   "metadata": {},
   "outputs": [
    {
     "name": "stdout",
     "output_type": "stream",
     "text": [
      "Number of Decision Variables:  165\n"
     ]
    }
   ],
   "source": [
    "# Number of variables in the model\n",
    "print(\"Number of Decision Variables: \", model.numVars)"
   ]
  },
  {
   "cell_type": "code",
   "execution_count": 24,
   "metadata": {},
   "outputs": [
    {
     "name": "stdout",
     "output_type": "stream",
     "text": [
      "Total Transportation cost:  24188.59\n"
     ]
    }
   ],
   "source": [
    "# Value of the objective function\n",
    "print(\"Total Transportation cost: \", round(model.objVal, 2))"
   ]
  },
  {
   "cell_type": "code",
   "execution_count": 25,
   "metadata": {},
   "outputs": [
    {
     "name": "stdout",
     "output_type": "stream",
     "text": [
      "\n",
      "    Variable            X \n",
      "-------------------------\n",
      "Direct Shipping[0,3]          462 \n",
      "Direct Shipping[1,1]          103 \n",
      "Direct Shipping[2,2]          460 \n",
      "Direct Shipping[4,3]           86 \n",
      "Direct Shipping[5,1]          217 \n",
      "Direct Shipping[7,4]          521 \n",
      "Direct Shipping[8,4]          548 \n",
      "Direct Shipping[10,4]          354 \n",
      "Direct Shipping[11,0]            7 \n",
      "Direct Shipping[11,2]          404 \n",
      "Direct Shipping[12,0]          104 \n",
      "Direct Shipping[13,4]          155 \n",
      "Direct Shipping[14,3]          285 \n",
      "Direct Shipping[15,0]          109 \n",
      "Direct Shipping[17,1]          351 \n",
      "Direct Shipping[17,4]           87 \n",
      "Direct Shipping[18,3]          501 \n",
      "Direct Shipping[20,2]          462 \n",
      "Direct Shipping[21,3]          504 \n",
      "Direct Shipping[22,1]          106 \n",
      "Direct Shipping[23,2]          132 \n",
      "Ship to Transshipment[0,1]          374 \n",
      "Ship to Transshipment[2,1]          395 \n",
      "Ship to Transshipment[3,1]          245 \n",
      "Ship to Transshipment[6,0]          152 \n",
      "Ship to Transshipment[7,1]           24 \n",
      "Ship to Transshipment[8,1]          415 \n",
      "Ship to Transshipment[9,0]          503 \n",
      "Ship to Transshipment[11,0]          297 \n",
      "Ship to Transshipment[14,0]          365 \n",
      "Transshipment to Refinement[0,0]         1317 \n",
      "Transshipment to Refinement[1,1]          971 \n",
      "Transshipment to Refinement[1,2]          482 \n",
      "None\n"
     ]
    }
   ],
   "source": [
    "# Print the decision variables\n",
    "print(model.printAttr('X'))"
   ]
  },
  {
   "cell_type": "markdown",
   "metadata": {},
   "source": [
    "# Question 2"
   ]
  },
  {
   "cell_type": "code",
   "execution_count": 26,
   "metadata": {},
   "outputs": [],
   "source": [
    "# Create the optimization model\n",
    "question_2_model = gb.Model(\"Question 2: Sunnyshore Bay\")"
   ]
  },
  {
   "cell_type": "code",
   "execution_count": 27,
   "metadata": {},
   "outputs": [],
   "source": [
    "# Create the three classes of decision variables where each Python\n",
    "# variable represents a different number of Gurobi decision variables\n",
    "B = question_2_model.addVars(6, lb=0, vtype=GRB.CONTINUOUS, name=\"Borrow\")\n",
    "w = question_2_model.addVars(4, lb=0, vtype=GRB.CONTINUOUS, name=\"Wealth\")"
   ]
  },
  {
   "cell_type": "code",
   "execution_count": 28,
   "metadata": {},
   "outputs": [],
   "source": [
    "# The objective function\n",
    "question_2_model.setObjective(w[3], GRB.MAXIMIZE)"
   ]
  },
  {
   "cell_type": "code",
   "execution_count": 29,
   "metadata": {},
   "outputs": [
    {
     "data": {
      "text/plain": [
       "<gurobi.Constr *Awaiting Model Update*>"
      ]
     },
     "execution_count": 29,
     "metadata": {},
     "output_type": "execute_result"
    }
   ],
   "source": [
    "# Add the balance constraints\n",
    "question_2_model.addConstr(w[0] == 140000 + 180000 - 300000 + B[0] + B[1] + B[2], \"May Balance Constraint\")\n",
    "question_2_model.addConstr(w[1] == w[0] + 260000 - 400000 + B[3] + B[4] - 1.0175*B[2], \"June Balance Constraint\")\n",
    "question_2_model.addConstr(w[2] == w[1] + 420000 - 350000 + B[5] - 1.0225*B[1] - 1.0175*B[4], \"July Balance Constraint\")\n",
    "question_2_model.addConstr(w[3] == w[2] + 580000 - 200000 - 1.0275*B[0] - 1.0225*B[3] - 1.0175*B[5], \"August Balance Constraint\")"
   ]
  },
  {
   "cell_type": "code",
   "execution_count": 30,
   "metadata": {},
   "outputs": [
    {
     "data": {
      "text/plain": [
       "<gurobi.Constr *Awaiting Model Update*>"
      ]
     },
     "execution_count": 30,
     "metadata": {},
     "output_type": "execute_result"
    }
   ],
   "source": [
    "# Add the cash flow constraints\n",
    "question_2_model.addConstr(w[0] >= 25000, \"May Cash Flow Constraint\")\n",
    "question_2_model.addConstr(w[1] >= 20000, \"June Cash Flow Constraint\")\n",
    "question_2_model.addConstr(w[2] >= 35000, \"July Cash Flow Constraint\")\n",
    "question_2_model.addConstr(w[3] >= 18000, \"August Cash Flow Constraint\")"
   ]
  },
  {
   "cell_type": "code",
   "execution_count": 31,
   "metadata": {},
   "outputs": [
    {
     "data": {
      "text/plain": [
       "<gurobi.Constr *Awaiting Model Update*>"
      ]
     },
     "execution_count": 31,
     "metadata": {},
     "output_type": "execute_result"
    }
   ],
   "source": [
    "# Add the borrowing constraints\n",
    "question_2_model.addConstr((B[0] + B[1] + B[2]) <= 250000, \"May Borrowing Constraint\")\n",
    "question_2_model.addConstr((B[3] + B[4]) <= 150000, \"June Borrowing Constraint\")\n",
    "question_2_model.addConstr(B[5] <= 350000, \"July Borrowing Constraint\")"
   ]
  },
  {
   "cell_type": "code",
   "execution_count": 32,
   "metadata": {},
   "outputs": [
    {
     "data": {
      "text/plain": [
       "<gurobi.Constr *Awaiting Model Update*>"
      ]
     },
     "execution_count": 32,
     "metadata": {},
     "output_type": "execute_result"
    }
   ],
   "source": [
    "# Ratio constraint\n",
    "question_2_model.addConstr((0.65*(w[0] + w[1])) <= w[2], name=\"Ratio constraint\")"
   ]
  },
  {
   "cell_type": "code",
   "execution_count": 33,
   "metadata": {},
   "outputs": [
    {
     "name": "stdout",
     "output_type": "stream",
     "text": [
      "Gurobi Optimizer version 11.0.0 build v11.0.0rc2 (win64 - Windows 11+.0 (22631.2))\n",
      "\n",
      "CPU model: Intel(R) Core(TM) i7-8750H CPU @ 2.20GHz, instruction set [SSE2|AVX|AVX2]\n",
      "Thread count: 6 physical cores, 12 logical processors, using up to 12 threads\n",
      "\n",
      "Optimize a model with 12 rows, 10 columns and 32 nonzeros\n",
      "Model fingerprint: 0xcc017ff0\n",
      "Coefficient statistics:\n",
      "  Matrix range     [7e-01, 1e+00]\n",
      "  Objective range  [1e+00, 1e+00]\n",
      "  Bounds range     [0e+00, 0e+00]\n",
      "  RHS range        [2e+04, 4e+05]\n",
      "Presolve removed 5 rows and 0 columns\n",
      "Presolve time: 0.01s\n",
      "Presolved: 7 rows, 10 columns, 27 nonzeros\n",
      "\n",
      "Iteration    Objective       Primal Inf.    Dual Inf.      Time\n",
      "       0    8.0000000e+30   1.000000e+30   8.000000e+00      0s\n",
      "       6    3.2709527e+05   0.000000e+00   0.000000e+00      0s\n",
      "\n",
      "Solved in 6 iterations and 0.01 seconds (0.00 work units)\n",
      "Optimal objective  3.270952703e+05\n"
     ]
    }
   ],
   "source": [
    "# Optimally solve the problem\n",
    "question_2_model.optimize()"
   ]
  },
  {
   "cell_type": "code",
   "execution_count": 34,
   "metadata": {},
   "outputs": [
    {
     "name": "stdout",
     "output_type": "stream",
     "text": [
      "Model Status:  2\n"
     ]
    }
   ],
   "source": [
    "# The status of the model (Optimization Status Codes)\n",
    "print(\"Model Status: \", question_2_model.status)"
   ]
  },
  {
   "cell_type": "code",
   "execution_count": 35,
   "metadata": {},
   "outputs": [
    {
     "name": "stdout",
     "output_type": "stream",
     "text": [
      "Number of Decision Variables:  10\n"
     ]
    }
   ],
   "source": [
    "# Number of variables in the model\n",
    "print(\"Number of Decision Variables: \", question_2_model.numVars)"
   ]
  },
  {
   "cell_type": "code",
   "execution_count": 36,
   "metadata": {},
   "outputs": [
    {
     "name": "stdout",
     "output_type": "stream",
     "text": [
      "Total Amount of Money:  327095.27\n"
     ]
    }
   ],
   "source": [
    "# Value of the objective function\n",
    "print(\"Total Amount of Money: \", round(question_2_model.objVal, 2))"
   ]
  },
  {
   "cell_type": "code",
   "execution_count": 37,
   "metadata": {},
   "outputs": [
    {
     "name": "stdout",
     "output_type": "stream",
     "text": [
      "\n",
      "    Variable            X \n",
      "-------------------------\n",
      "   Borrow[0]         5000 \n",
      "   Borrow[3]      80945.9 \n",
      "   Borrow[4]      54054.1 \n",
      "   Wealth[0]        25000 \n",
      "   Wealth[1]        20000 \n",
      "   Wealth[2]        35000 \n",
      "   Wealth[3]       327095 \n",
      "None\n"
     ]
    }
   ],
   "source": [
    "# Print the decision variables\n",
    "print(question_2_model.printAttr('X'))"
   ]
  },
  {
   "cell_type": "code",
   "execution_count": null,
   "metadata": {},
   "outputs": [],
   "source": []
  }
 ],
 "metadata": {
  "kernelspec": {
   "display_name": "Python 3",
   "language": "python",
   "name": "python3"
  },
  "language_info": {
   "codemirror_mode": {
    "name": "ipython",
    "version": 3
   },
   "file_extension": ".py",
   "mimetype": "text/x-python",
   "name": "python",
   "nbconvert_exporter": "python",
   "pygments_lexer": "ipython3",
   "version": "3.11.3"
  }
 },
 "nbformat": 4,
 "nbformat_minor": 2
}
