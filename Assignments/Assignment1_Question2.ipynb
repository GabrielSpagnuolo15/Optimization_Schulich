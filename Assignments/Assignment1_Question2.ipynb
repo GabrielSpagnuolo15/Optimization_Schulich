{
 "cells": [
  {
   "cell_type": "code",
   "execution_count": 19,
   "metadata": {},
   "outputs": [],
   "source": [
    "from gurobipy import GRB\n",
    "import gurobipy as gb\n",
    "import pandas as pd\n",
    "import numpy as np"
   ]
  },
  {
   "cell_type": "code",
   "execution_count": 20,
   "metadata": {},
   "outputs": [],
   "source": [
    "# Create the optimization model\n",
    "question_2_model = gb.Model(\"Question 2: Sunnyshore Bay\")"
   ]
  },
  {
   "cell_type": "code",
   "execution_count": 21,
   "metadata": {},
   "outputs": [],
   "source": [
    "# Create the three classes of decision variables where each Python\n",
    "# variable represents a different number of Gurobi decision variables\n",
    "B = question_2_model.addVars(6, lb=0, vtype=GRB.CONTINUOUS, name=\"Borrow\")\n",
    "w = question_2_model.addVars(4, lb=0, vtype=GRB.CONTINUOUS, name=\"Wealth\")"
   ]
  },
  {
   "cell_type": "code",
   "execution_count": 22,
   "metadata": {},
   "outputs": [],
   "source": [
    "# The objective function\n",
    "question_2_model.setObjective(1.0275*B[0]+1.0225*B[1]+1.0175*B[2]+1.0225*B[3]+1.0175*B[4]+1.0175*B[5], GRB.MINIMIZE)"
   ]
  },
  {
   "cell_type": "code",
   "execution_count": 23,
   "metadata": {},
   "outputs": [
    {
     "data": {
      "text/plain": [
       "<gurobi.Constr *Awaiting Model Update*>"
      ]
     },
     "execution_count": 23,
     "metadata": {},
     "output_type": "execute_result"
    }
   ],
   "source": [
    "# Add the balance constraints\n",
    "question_2_model.addConstr(w[0] == 140000 + 180000 - 300000 + B[0] + B[1] + B[2], \"May Balance Constraint\")\n",
    "question_2_model.addConstr(w[1] == w[0] + 260000 - 400000 + B[3] + B[4] - 1.0175*B[2], \"June Balance Constraint\")\n",
    "question_2_model.addConstr(w[2] == w[1] + 420000 - 350000 + B[5] - 1.0225*B[1] - 1.0175*B[4], \"July Balance Constraint\")\n",
    "question_2_model.addConstr(w[3] == w[2] + 580000 - 200000 - 1.0275*B[0] - 1.0225*B[3] - 1.0175*B[5], \"August Balance Constraint\")"
   ]
  },
  {
   "cell_type": "code",
   "execution_count": 24,
   "metadata": {},
   "outputs": [],
   "source": [
    "# Add the cash flow constraints\n",
    "May_Cash_Flow_Constraint = question_2_model.addConstr(w[0] >= 25000, \"May Cash Flow Constraint\")\n",
    "June_Cash_Flow_Constraint = question_2_model.addConstr(w[1] >= 20000, \"June Cash Flow Constraint\")\n",
    "July_Cash_Flow_Constraint = question_2_model.addConstr(w[2] >= 35000, \"July Cash Flow Constraint\")\n",
    "August_Cash_Flow_Constraint = question_2_model.addConstr(w[3] >= 18000, \"August Cash Flow Constraint\")"
   ]
  },
  {
   "cell_type": "code",
   "execution_count": 25,
   "metadata": {},
   "outputs": [
    {
     "data": {
      "text/plain": [
       "<gurobi.Constr *Awaiting Model Update*>"
      ]
     },
     "execution_count": 25,
     "metadata": {},
     "output_type": "execute_result"
    }
   ],
   "source": [
    "# Add the borrowing constraints\n",
    "question_2_model.addConstr((B[0] + B[1] + B[2]) <= 250000, \"May Borrowing Constraint\")\n",
    "question_2_model.addConstr((B[3] + B[4]) <= 150000, \"June Borrowing Constraint\")\n",
    "question_2_model.addConstr(B[5] <= 350000, \"July Borrowing Constraint\")"
   ]
  },
  {
   "cell_type": "code",
   "execution_count": 26,
   "metadata": {},
   "outputs": [
    {
     "data": {
      "text/plain": [
       "<gurobi.Constr *Awaiting Model Update*>"
      ]
     },
     "execution_count": 26,
     "metadata": {},
     "output_type": "execute_result"
    }
   ],
   "source": [
    "# Ratio constraint\n",
    "question_2_model.addConstr((0.65*(w[0] + w[1])) <= w[2], name=\"Ratio constraint\")"
   ]
  },
  {
   "cell_type": "code",
   "execution_count": 27,
   "metadata": {},
   "outputs": [
    {
     "name": "stdout",
     "output_type": "stream",
     "text": [
      "Gurobi Optimizer version 11.0.0 build v11.0.0rc2 (win64 - Windows 11+.0 (22631.2))\n",
      "\n",
      "CPU model: Intel(R) Core(TM) i7-8750H CPU @ 2.20GHz, instruction set [SSE2|AVX|AVX2]\n",
      "Thread count: 6 physical cores, 12 logical processors, using up to 12 threads\n",
      "\n",
      "Optimize a model with 12 rows, 10 columns and 32 nonzeros\n",
      "Model fingerprint: 0xea444b4c\n",
      "Coefficient statistics:\n",
      "  Matrix range     [7e-01, 1e+00]\n",
      "  Objective range  [1e+00, 1e+00]\n",
      "  Bounds range     [0e+00, 0e+00]\n",
      "  RHS range        [2e+04, 4e+05]\n",
      "Presolve removed 5 rows and 1 columns\n",
      "Presolve time: 0.01s\n",
      "Presolved: 7 rows, 9 columns, 26 nonzeros\n",
      "\n",
      "Iteration    Objective       Primal Inf.    Dual Inf.      Time\n",
      "       0    0.0000000e+00   1.812500e+04   0.000000e+00      0s\n",
      "       6    1.4290473e+05   0.000000e+00   0.000000e+00      0s\n",
      "\n",
      "Solved in 6 iterations and 0.01 seconds (0.00 work units)\n",
      "Optimal objective  1.429047297e+05\n"
     ]
    }
   ],
   "source": [
    "# Optimally solve the problem\n",
    "question_2_model.optimize()"
   ]
  },
  {
   "cell_type": "code",
   "execution_count": 28,
   "metadata": {},
   "outputs": [
    {
     "name": "stdout",
     "output_type": "stream",
     "text": [
      "Total Amount of Money:  142904.73\n"
     ]
    }
   ],
   "source": [
    "# Value of the objective function\n",
    "print(\"Total Amount of Money: \", round(question_2_model.objVal, 2))"
   ]
  },
  {
   "cell_type": "code",
   "execution_count": 29,
   "metadata": {},
   "outputs": [
    {
     "name": "stdout",
     "output_type": "stream",
     "text": [
      "\n",
      "    Variable            X \n",
      "-------------------------\n",
      "   Borrow[0]         5000 \n",
      "   Borrow[3]      80945.9 \n",
      "   Borrow[4]      54054.1 \n",
      "   Wealth[0]        25000 \n",
      "   Wealth[1]        20000 \n",
      "   Wealth[2]        35000 \n",
      "   Wealth[3]       327095 \n",
      "None\n"
     ]
    }
   ],
   "source": [
    "# Print the decision variables\n",
    "print(question_2_model.printAttr('X'))"
   ]
  },
  {
   "cell_type": "code",
   "execution_count": null,
   "metadata": {},
   "outputs": [],
   "source": []
  }
 ],
 "metadata": {
  "kernelspec": {
   "display_name": "Python 3",
   "language": "python",
   "name": "python3"
  },
  "language_info": {
   "codemirror_mode": {
    "name": "ipython",
    "version": 3
   },
   "file_extension": ".py",
   "mimetype": "text/x-python",
   "name": "python",
   "nbconvert_exporter": "python",
   "pygments_lexer": "ipython3",
   "version": "3.11.3"
  }
 },
 "nbformat": 4,
 "nbformat_minor": 2
}
