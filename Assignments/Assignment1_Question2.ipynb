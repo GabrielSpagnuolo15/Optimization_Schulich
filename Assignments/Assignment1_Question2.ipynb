{
 "cells": [
  {
   "cell_type": "code",
   "execution_count": 92,
   "metadata": {},
   "outputs": [],
   "source": [
    "from gurobipy import GRB\n",
    "import gurobipy as gb\n",
    "import pandas as pd\n",
    "import numpy as np"
   ]
  },
  {
   "cell_type": "code",
   "execution_count": 93,
   "metadata": {},
   "outputs": [],
   "source": [
    "# Create the optimization model\n",
    "question_2_model = gb.Model(\"Question 2: Sunnyshore Bay\")"
   ]
  },
  {
   "cell_type": "code",
   "execution_count": 94,
   "metadata": {},
   "outputs": [],
   "source": [
    "# Create the three classes of decision variables where each Python\n",
    "# variable represents a different number of Gurobi decision variables\n",
    "B = question_2_model.addVars(6, lb=0, vtype=GRB.CONTINUOUS, name=\"Borrow\")\n",
    "w = question_2_model.addVars(4, lb=0, vtype=GRB.CONTINUOUS, name=\"Wealth\")"
   ]
  },
  {
   "cell_type": "code",
   "execution_count": 95,
   "metadata": {},
   "outputs": [],
   "source": [
    "# The objective function\n",
    "question_2_model.setObjective(1.0275*B[0]+1.0225*B[1]+1.0175*B[2]+1.0225*B[3]+1.0175*B[4]+1.0175*B[5], GRB.MINIMIZE)"
   ]
  },
  {
   "cell_type": "code",
   "execution_count": 96,
   "metadata": {},
   "outputs": [
    {
     "data": {
      "text/plain": [
       "<gurobi.Constr *Awaiting Model Update*>"
      ]
     },
     "execution_count": 96,
     "metadata": {},
     "output_type": "execute_result"
    }
   ],
   "source": [
    "# Add the balance constraints\n",
    "question_2_model.addConstr(w[0] == 140000 + 180000 - 300000 + B[0] + B[1] + B[2], \"May Balance Constraint\")\n",
    "question_2_model.addConstr(w[1] == w[0] + 260000 - 400000 + B[3] + B[4] - 1.0175*B[2], \"June Balance Constraint\")\n",
    "question_2_model.addConstr(w[2] == w[1] + 420000 - 350000 + B[5] - 1.0225*B[1] - 1.0175*B[4], \"July Balance Constraint\")\n",
    "question_2_model.addConstr(w[3] == w[2] + 580000 - 200000 - 1.0275*B[0] - 1.0225*B[3] - 1.0175*B[5], \"August Balance Constraint\")"
   ]
  },
  {
   "cell_type": "code",
   "execution_count": 97,
   "metadata": {},
   "outputs": [],
   "source": [
    "# Add the cash flow constraints\n",
    "May_Cash_Flow_Constraint = question_2_model.addConstr(w[0] >= 25000, \"May Cash Flow Constraint\")\n",
    "June_Cash_Flow_Constraint = question_2_model.addConstr(w[1] >= 20000, \"June Cash Flow Constraint\")\n",
    "July_Cash_Flow_Constraint = question_2_model.addConstr(w[2] >= 35000, \"July Cash Flow Constraint\")\n",
    "August_Cash_Flow_Constraint = question_2_model.addConstr(w[3] >= 18000, \"August Cash Flow Constraint\")"
   ]
  },
  {
   "cell_type": "code",
   "execution_count": 98,
   "metadata": {},
   "outputs": [
    {
     "data": {
      "text/plain": [
       "<gurobi.Constr *Awaiting Model Update*>"
      ]
     },
     "execution_count": 98,
     "metadata": {},
     "output_type": "execute_result"
    }
   ],
   "source": [
    "# Add the borrowing constraints\n",
    "question_2_model.addConstr((B[0] + B[1] + B[2]) <= 250000, \"May Borrowing Constraint\")\n",
    "question_2_model.addConstr((B[3] + B[4]) <= 150000, \"June Borrowing Constraint\")\n",
    "question_2_model.addConstr(B[5] <= 350000, \"July Borrowing Constraint\")"
   ]
  },
  {
   "cell_type": "code",
   "execution_count": 99,
   "metadata": {},
   "outputs": [
    {
     "data": {
      "text/plain": [
       "<gurobi.Constr *Awaiting Model Update*>"
      ]
     },
     "execution_count": 99,
     "metadata": {},
     "output_type": "execute_result"
    }
   ],
   "source": [
    "# Ratio constraint\n",
    "question_2_model.addConstr((0.65*(w[0] + w[1])) <= w[2], name=\"Ratio constraint\")"
   ]
  },
  {
   "cell_type": "code",
   "execution_count": 100,
   "metadata": {},
   "outputs": [
    {
     "name": "stdout",
     "output_type": "stream",
     "text": [
      "Gurobi Optimizer version 11.0.0 build v11.0.0rc2 (win64 - Windows 11+.0 (22631.2))\n",
      "\n",
      "CPU model: Intel(R) Core(TM) i7-8750H CPU @ 2.20GHz, instruction set [SSE2|AVX|AVX2]\n",
      "Thread count: 6 physical cores, 12 logical processors, using up to 12 threads\n",
      "\n",
      "Optimize a model with 12 rows, 10 columns and 32 nonzeros\n",
      "Model fingerprint: 0x6a583230\n",
      "Coefficient statistics:\n",
      "  Matrix range     [7e-01, 1e+00]\n",
      "  Objective range  [1e+00, 1e+00]\n",
      "  Bounds range     [0e+00, 0e+00]\n",
      "  RHS range        [2e+04, 4e+05]\n",
      "Presolve removed 5 rows and 1 columns\n",
      "Presolve time: 0.01s\n",
      "Presolved: 7 rows, 9 columns, 26 nonzeros\n",
      "\n",
      "Iteration    Objective       Primal Inf.    Dual Inf.      Time\n",
      "       0    0.0000000e+00   1.906250e+04   0.000000e+00      0s\n",
      "       6    1.5053662e+05   0.000000e+00   0.000000e+00      0s\n",
      "\n",
      "Solved in 6 iterations and 0.01 seconds (0.00 work units)\n",
      "Optimal objective  1.505366247e+05\n"
     ]
    }
   ],
   "source": [
    "# Optimally solve the problem\n",
    "question_2_model.optimize()"
   ]
  },
  {
   "cell_type": "code",
   "execution_count": 101,
   "metadata": {},
   "outputs": [
    {
     "name": "stdout",
     "output_type": "stream",
     "text": [
      "Total Amount of Money:  150536.62\n"
     ]
    }
   ],
   "source": [
    "# Value of the objective function\n",
    "print(\"Total Amount of Money: \", round(question_2_model.objVal, 2))"
   ]
  },
  {
   "cell_type": "code",
   "execution_count": 102,
   "metadata": {},
   "outputs": [
    {
     "name": "stdout",
     "output_type": "stream",
     "text": [
      "\n",
      "    Variable            X \n",
      "-------------------------\n",
      "   Borrow[0]         5000 \n",
      "   Borrow[3]      81074.9 \n",
      "   Borrow[4]      61425.1 \n",
      "   Wealth[0]        25000 \n",
      "   Wealth[1]        27500 \n",
      "   Wealth[2]        35000 \n",
      "   Wealth[3]       326963 \n",
      "None\n"
     ]
    }
   ],
   "source": [
    "# Print the decision variables\n",
    "print(question_2_model.printAttr('X'))"
   ]
  },
  {
   "cell_type": "code",
   "execution_count": 103,
   "metadata": {},
   "outputs": [
    {
     "name": "stdout",
     "output_type": "stream",
     "text": [
      "Wealth[3] value: 326963.3753071253\n"
     ]
    }
   ],
   "source": [
    "wealth_var = question_2_model.getVarByName('Wealth[3]')\n",
    "wealth_3_value = wealth_var.x\n",
    "print(\"Wealth[3] value:\", wealth_3_value)\n"
   ]
  },
  {
   "cell_type": "code",
   "execution_count": 104,
   "metadata": {},
   "outputs": [
    {
     "name": "stdout",
     "output_type": "stream",
     "text": [
      "\n",
      "Sensitivity Information for June Cash Flow Constraint 1.02:\n",
      "(LHS, RHS, Slack):  (27500.0, 27500.0, 0.0)\n",
      "Shadow Price:  1.0175859950859951\n",
      "Range of Feasibility:  (28846.153846153848, -0.0)\n"
     ]
    }
   ],
   "source": [
    "# Print sensitivity information\n",
    "print(\"\")\n",
    "print(f\"Sensitivity Information for June Cash Flow Constraint {June_Cash_Flow_Constraint.pi:.2f}:\")\n",
    "print(\"(LHS, RHS, Slack): \", (question_2_model.getRow(June_Cash_Flow_Constraint).getValue(), June_Cash_Flow_Constraint.RHS, June_Cash_Flow_Constraint.slack))\n",
    "print(\"Shadow Price: \", June_Cash_Flow_Constraint.pi)\n",
    "print(\"Range of Feasibility: \", (June_Cash_Flow_Constraint.SARHSUp, June_Cash_Flow_Constraint.SARHSLow))"
   ]
  },
  {
   "cell_type": "code",
   "execution_count": 105,
   "metadata": {},
   "outputs": [
    {
     "name": "stdout",
     "output_type": "stream",
     "text": [
      "Change in Objective Function Value: 0.0\n",
      "Additional Money Needed to be Borrowed: 150536.6246928747\n"
     ]
    }
   ],
   "source": [
    "# Change in Objective Function Value\n",
    "change_in_ofv = June_Cash_Flow_Constraint.pi * (27500 - June_Cash_Flow_Constraint.RHS)\n",
    "\n",
    "# Additional money needed to be borrowed\n",
    "additional_borrowing = -change_in_ofv  # Note: Multiply by -1 to make it positive\n",
    "\n",
    "print(\"Change in Objective Function Value:\", change_in_ofv)\n",
    "print(\"Additional Money Needed to be Borrowed:\", change_in_ofv + question_2_model.objVal)"
   ]
  },
  {
   "cell_type": "code",
   "execution_count": 106,
   "metadata": {},
   "outputs": [],
   "source": [
    "# Create the optimization model\n",
    "question_2_model2 = gb.Model(\"Question 2: Sunnyshore Bay Duality\")"
   ]
  },
  {
   "cell_type": "code",
   "execution_count": 107,
   "metadata": {},
   "outputs": [],
   "source": [
    "y = question_2_model2.addVars(6, lb=0, vtype=GRB.CONTINUOUS, name=\"Duality Values\")"
   ]
  },
  {
   "cell_type": "code",
   "execution_count": 108,
   "metadata": {},
   "outputs": [],
   "source": [
    "# The objective function\n",
    "question_2_model2.setObjective(250000*y[0]+150000*y[1]+350000*y[2], GRB.MAXIMIZE)"
   ]
  },
  {
   "cell_type": "code",
   "execution_count": 109,
   "metadata": {},
   "outputs": [
    {
     "data": {
      "text/plain": [
       "<gurobi.Constr *Awaiting Model Update*>"
      ]
     },
     "execution_count": 109,
     "metadata": {},
     "output_type": "execute_result"
    }
   ],
   "source": [
    "# Add the constraints\n",
    "question_2_model2.addConstr(1.0275*y[0] + 1.0225*y[1] + 1.0175*y[2] <= 1, \"1\")\n",
    "question_2_model2.addConstr(1.0275*y[0] + 1.0225*y[1] <= 1, \"2\")\n",
    "question_2_model2.addConstr(1.0275*y[0] <= 1, \"3\")\n",
    "question_2_model2.addConstr(1.0225*y[3] + 1.0225*y[4] + 1.0175*y[5] <= 1, \"4\")\n",
    "question_2_model2.addConstr(1.0175*y[3] + 1.0175*y[4] <= 1, \"5\")\n",
    "question_2_model2.addConstr(1.0175*y[5] <= 1, \"6\")"
   ]
  },
  {
   "cell_type": "code",
   "execution_count": 110,
   "metadata": {},
   "outputs": [
    {
     "name": "stdout",
     "output_type": "stream",
     "text": [
      "Gurobi Optimizer version 11.0.0 build v11.0.0rc2 (win64 - Windows 11+.0 (22631.2))\n",
      "\n",
      "CPU model: Intel(R) Core(TM) i7-8750H CPU @ 2.20GHz, instruction set [SSE2|AVX|AVX2]\n",
      "Thread count: 6 physical cores, 12 logical processors, using up to 12 threads\n",
      "\n",
      "Optimize a model with 6 rows, 6 columns and 12 nonzeros\n",
      "Model fingerprint: 0x006898f6\n",
      "Coefficient statistics:\n",
      "  Matrix range     [1e+00, 1e+00]\n",
      "  Objective range  [2e+05, 4e+05]\n",
      "  Bounds range     [0e+00, 0e+00]\n",
      "  RHS range        [1e+00, 1e+00]\n",
      "Presolve removed 6 rows and 6 columns\n",
      "Presolve time: 0.01s\n",
      "Presolve: All rows and columns removed\n",
      "Iteration    Objective       Primal Inf.    Dual Inf.      Time\n",
      "       0    3.4398034e+05   0.000000e+00   0.000000e+00      0s\n",
      "\n",
      "Solved in 0 iterations and 0.01 seconds (0.00 work units)\n",
      "Optimal objective  3.439803440e+05\n"
     ]
    }
   ],
   "source": [
    "# Optimally solve the dual problem\n",
    "question_2_model2.optimize()"
   ]
  },
  {
   "cell_type": "code",
   "execution_count": 111,
   "metadata": {},
   "outputs": [
    {
     "name": "stdout",
     "output_type": "stream",
     "text": [
      "Total Amount of Money:  343980.34\n"
     ]
    }
   ],
   "source": [
    "# Value of the objective function\n",
    "print(\"Total Amount of Money: \", round(question_2_model2.objVal, 2))"
   ]
  },
  {
   "cell_type": "code",
   "execution_count": 112,
   "metadata": {},
   "outputs": [
    {
     "name": "stdout",
     "output_type": "stream",
     "text": [
      "Gurobi Optimizer version 11.0.0 build v11.0.0rc2 (win64 - Windows 11+.0 (22631.2))\n",
      "\n",
      "CPU model: Intel(R) Core(TM) i7-8750H CPU @ 2.20GHz, instruction set [SSE2|AVX|AVX2]\n",
      "Thread count: 6 physical cores, 12 logical processors, using up to 12 threads\n",
      "\n",
      "Optimize a model with 8 rows, 7 columns and 13 nonzeros\n",
      "Model fingerprint: 0x264593d1\n",
      "Coefficient statistics:\n",
      "  Matrix range     [7e-01, 1e+00]\n",
      "  Objective range  [2e+04, 4e+05]\n",
      "  Bounds range     [0e+00, 0e+00]\n",
      "  RHS range        [0e+00, 0e+00]\n",
      "Presolve time: 0.00s\n",
      "\n",
      "Solved in 0 iterations and 0.00 seconds (0.00 work units)\n",
      "Infeasible or unbounded model\n",
      "No solution found!\n"
     ]
    }
   ],
   "source": [
    "# Create a new model\n",
    "model = gb.Model(\"dual_model\")\n",
    "\n",
    "# Create variables\n",
    "x1 = model.addVar(vtype=GRB.CONTINUOUS, name=\"x1\")\n",
    "x2 = model.addVar(vtype=GRB.CONTINUOUS, name=\"x2\")\n",
    "x3 = model.addVar(vtype=GRB.CONTINUOUS, name=\"x3\")\n",
    "x4 = model.addVar(vtype=GRB.CONTINUOUS, name=\"x4\")\n",
    "y1 = model.addVar(vtype=GRB.CONTINUOUS, name=\"y1\")\n",
    "y2 = model.addVar(vtype=GRB.CONTINUOUS, name=\"y2\")\n",
    "y3 = model.addVar(vtype=GRB.CONTINUOUS, name=\"y3\")\n",
    "\n",
    "# Set objective\n",
    "model.setObjective(25000*x1 + 20000*x2 + 35000*x3 + 18000*x4 + 250000*y1 + 150000*y2 + 350000*y3, GRB.MAXIMIZE)\n",
    "\n",
    "# Add constraints\n",
    "model.addConstr(1.0275*x1 + 0.65*y1 <= 0)\n",
    "model.addConstr(1.0225*x1 + 0.65*y1 <= 0)\n",
    "model.addConstr(1.0175*x1 + 0.65*y1 <= 0)\n",
    "model.addConstr(1.0225*x1 + 0.65*y2 <= 0)\n",
    "model.addConstr(1.0175*x1 + 0.65*y2 <= 0)\n",
    "model.addConstr(0.65*y1 <= 0)\n",
    "model.addConstr(0.65*y2 <= 0)\n",
    "model.addConstr(0.65*y3 <= 0)\n",
    "\n",
    "# Optimize model\n",
    "model.optimize()\n",
    "\n",
    "# Print solution\n",
    "if model.status == GRB.OPTIMAL:\n",
    "    print(\"Optimal solution found!\")\n",
    "    print(\"Objective value:\", model.objVal)\n",
    "    print(\"Dual variable values:\")\n",
    "    print(\"x1 =\", x1.x)\n",
    "    print(\"x2 =\", x2.x)\n",
    "    print(\"x3 =\", x3.x)\n",
    "    print(\"x4 =\", x4.x)\n",
    "    print(\"y1 =\", y1.x)\n",
    "    print(\"y2 =\", y2.x)\n",
    "    print(\"y3 =\", y3.x)\n",
    "else:\n",
    "    print(\"No solution found!\")"
   ]
  },
  {
   "cell_type": "code",
   "execution_count": 113,
   "metadata": {},
   "outputs": [
    {
     "name": "stdout",
     "output_type": "stream",
     "text": [
      "Gurobi Optimizer version 11.0.0 build v11.0.0rc2 (win64 - Windows 11+.0 (22631.2))\n",
      "\n",
      "CPU model: Intel(R) Core(TM) i7-8750H CPU @ 2.20GHz, instruction set [SSE2|AVX|AVX2]\n",
      "Thread count: 6 physical cores, 12 logical processors, using up to 12 threads\n",
      "\n",
      "Optimize a model with 6 rows, 8 columns and 14 nonzeros\n",
      "Model fingerprint: 0x3fea0da9\n",
      "Coefficient statistics:\n",
      "  Matrix range     [7e-01, 1e+00]\n",
      "  Objective range  [2e+04, 4e+05]\n",
      "  Bounds range     [0e+00, 0e+00]\n",
      "  RHS range        [1e+00, 1e+00]\n",
      "Presolve removed 2 rows and 1 columns\n",
      "Presolve time: 0.00s\n",
      "\n",
      "Solved in 0 iterations and 0.00 seconds (0.00 work units)\n",
      "Infeasible or unbounded model\n",
      "Optimal solution not found.\n"
     ]
    }
   ],
   "source": [
    "# Create a new model\n",
    "model = gb.Model(\"dual\")\n",
    "\n",
    "# Define dual variables\n",
    "x1 = model.addVar(lb=0, name=\"x1\")\n",
    "x2 = model.addVar(lb=0, name=\"x2\")\n",
    "x3 = model.addVar(lb=0, name=\"x3\")\n",
    "x4 = model.addVar(lb=0, name=\"x4\")\n",
    "x5 = model.addVar(lb=0, name=\"x5\")\n",
    "x6 = model.addVar(lb=0, name=\"x6\")\n",
    "x7 = model.addVar(lb=0, name=\"x7\")\n",
    "x8 = model.addVar(ub=0, lb=-GRB.INFINITY, name=\"x8\")\n",
    "\n",
    "# Set objective function: Maximize\n",
    "model.setObjective(25000*x1 + 20000*x2 + 35000*x3 + 18000*x4 + 250000*x5 + 150000*x6 + 350000*x7, GRB.MAXIMIZE)\n",
    "\n",
    "# Add constraints\n",
    "model.addConstr(1.0275*x1 + x5 + 0.65*x8 <= 1)\n",
    "model.addConstr(1.0225*x2 + x6 + 0.65*x8 <= 1)\n",
    "model.addConstr(1.0175*x3 + x7 <= 1)\n",
    "model.addConstr(1.0225*x4 + x7 <= 1)\n",
    "model.addConstr(1.0175*x5 + x7 <= 1)\n",
    "model.addConstr(1.0175*x6 + x7 <= 1)\n",
    "\n",
    "# Optimize the model\n",
    "model.optimize()\n",
    "\n",
    "# Print solution\n",
    "if model.status == GRB.OPTIMAL:\n",
    "    print(\"Optimal solution found!\")\n",
    "    print(f\"Objective value: {model.objVal}\")\n",
    "    print(\"Dual variables:\")\n",
    "    for v in model.getVars():\n",
    "        print(f\"{v.varName}: {v.x}\")\n",
    "else:\n",
    "    print(\"Optimal solution not found.\")"
   ]
  },
  {
   "cell_type": "code",
   "execution_count": 114,
   "metadata": {},
   "outputs": [
    {
     "name": "stdout",
     "output_type": "stream",
     "text": [
      "Gurobi Optimizer version 11.0.0 build v11.0.0rc2 (win64 - Windows 11+.0 (22631.2))\n",
      "\n",
      "CPU model: Intel(R) Core(TM) i7-8750H CPU @ 2.20GHz, instruction set [SSE2|AVX|AVX2]\n",
      "Thread count: 6 physical cores, 12 logical processors, using up to 12 threads\n",
      "\n",
      "Optimize a model with 6 rows, 12 columns and 18 nonzeros\n",
      "Model fingerprint: 0x681008d7\n",
      "Coefficient statistics:\n",
      "  Matrix range     [1e+00, 1e+00]\n",
      "  Objective range  [2e+04, 4e+05]\n",
      "  Bounds range     [0e+00, 0e+00]\n",
      "  RHS range        [1e+00, 1e+00]\n",
      "Presolve time: 0.00s\n",
      "\n",
      "Solved in 0 iterations and 0.01 seconds (0.00 work units)\n",
      "Infeasible or unbounded model\n",
      "Optimal solution not found.\n"
     ]
    }
   ],
   "source": [
    "# Create a new model\n",
    "model = gb.Model(\"dual\")\n",
    "\n",
    "# Define dual variables\n",
    "y1 = model.addVar(name=\"y1\")\n",
    "y2 = model.addVar(name=\"y2\")\n",
    "y3 = model.addVar(name=\"y3\")\n",
    "y4 = model.addVar(name=\"y4\")\n",
    "y5 = model.addVar(lb=0, name=\"y5\")\n",
    "y6 = model.addVar(lb=0, name=\"y6\")\n",
    "y7 = model.addVar(lb=0, name=\"y7\")\n",
    "y8 = model.addVar(lb=0, name=\"y8\")\n",
    "x1 = model.addVar(lb=0, name=\"x1\")\n",
    "x2 = model.addVar(lb=0, name=\"x2\")\n",
    "x3 = model.addVar(lb=0, name=\"x3\")\n",
    "x4 = model.addVar(lb=0, name=\"x4\")\n",
    "\n",
    "# Set objective function: Maximize\n",
    "model.setObjective(20000*y1-140000*y2+70000*y3+380000*y4+25000*x1+20000*x2+35000*x3+18000*x4+250000*y5+150000*y6+350000*y7+0*y8, GRB.MAXIMIZE)\n",
    "\n",
    "# Add constraints\n",
    "model.addConstr(-1*y1 + 1.0275*y4+y5 <=1.0275)\n",
    "model.addConstr(-1*y1 + 1.0225*y3+y5 <= 1.0225)\n",
    "model.addConstr(-1*y1 + 1.0175*y2+y5 <= 1.0175)\n",
    "model.addConstr(-1*y2 + 1.0225*y4 + y6 <= 1.0225)\n",
    "model.addConstr(-1*y2 + 1.0175*y3 + y6 <= 1.0175)\n",
    "model.addConstr(-1*y3 + 1.0175*y4 + y7 <= 1.0175)\n",
    "\n",
    "# Optimize the model\n",
    "model.optimize()\n",
    "\n",
    "# Print solution\n",
    "if model.status == GRB.OPTIMAL:\n",
    "    print(\"Optimal solution found!\")\n",
    "    print(f\"Objective value: {model.objVal}\")\n",
    "    print(\"Dual variables:\")\n",
    "    for v in model.getVars():\n",
    "        print(f\"{v.varName}: {v.x}\")\n",
    "else:\n",
    "    print(\"Optimal solution not found.\")"
   ]
  },
  {
   "cell_type": "code",
   "execution_count": null,
   "metadata": {},
   "outputs": [],
   "source": []
  }
 ],
 "metadata": {
  "kernelspec": {
   "display_name": "Python 3",
   "language": "python",
   "name": "python3"
  },
  "language_info": {
   "codemirror_mode": {
    "name": "ipython",
    "version": 3
   },
   "file_extension": ".py",
   "mimetype": "text/x-python",
   "name": "python",
   "nbconvert_exporter": "python",
   "pygments_lexer": "ipython3",
   "version": "3.11.3"
  }
 },
 "nbformat": 4,
 "nbformat_minor": 2
}
