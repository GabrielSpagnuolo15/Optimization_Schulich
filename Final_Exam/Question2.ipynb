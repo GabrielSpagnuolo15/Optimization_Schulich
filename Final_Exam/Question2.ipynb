{
 "cells": [
  {
   "cell_type": "code",
   "execution_count": 73,
   "metadata": {},
   "outputs": [],
   "source": [
    "from gurobipy import GRB\n",
    "import gurobipy as gb\n",
    "import pandas as pd\n",
    "import numpy as np"
   ]
  },
  {
   "cell_type": "code",
   "execution_count": 74,
   "metadata": {},
   "outputs": [],
   "source": [
    "# Create the optimization model\n",
    "question_2_model = gb.Model(\"Question 2\")"
   ]
  },
  {
   "cell_type": "code",
   "execution_count": 75,
   "metadata": {},
   "outputs": [],
   "source": [
    "p = [0.09, 0.12, 0.10, 0.05, 0.16, 0.14, 0.03, 0.08, 0.05, 0.05, 0.04, 0.03, 0.02, 0.01, 0.02, 0.01]\n",
    "gallons_used = [90, 95, 100, 105, 110, 115, 120, 125, 130, 135, 140, 145, 150, 155, 160, 165]\n",
    "prices = [120, 105, 110]\n",
    "min_reqs = [0, 70, 40]"
   ]
  },
  {
   "cell_type": "code",
   "execution_count": 76,
   "metadata": {},
   "outputs": [],
   "source": [
    "x = question_2_model.addVars(16, lb=0, vtype=GRB.CONTINUOUS, name=\"Initial\")  # Amount of coffee ordered in advance\n",
    "y = question_2_model.addVars(16, 3, name=\"amount extra\", vtype=GRB.CONTINUOUS, lb=0)  # Amount of coffee ordered from local suppliers\n",
    "z = question_2_model.addVars(16, 3, vtype=GRB.BINARY, name=\"If they are picked\")  # Binary selection of suppliers"
   ]
  },
  {
   "cell_type": "code",
   "execution_count": 77,
   "metadata": {},
   "outputs": [],
   "source": [
    "# Objective Function\n",
    "cost_advance = gb.quicksum(p[n] * (95 * x[n]) for n in range(16))\n",
    "cost_additional = gb.quicksum(p[n] * (prices[i] * y[n, i]) for n in range(16) for i in range(3))\n",
    "question_2_model.setObjective(cost_advance + cost_additional, GRB.MINIMIZE)"
   ]
  },
  {
   "cell_type": "code",
   "execution_count": 78,
   "metadata": {},
   "outputs": [],
   "source": [
    "# Constraints\n",
    "for n in range(16):\n",
    "    question_2_model.addConstr(x[n] + gb.quicksum(y[n, s] for s in range(3)) == gallons_used[n], name=f\"Demand_Satisfaction_{n}\")"
   ]
  },
  {
   "cell_type": "code",
   "execution_count": 79,
   "metadata": {},
   "outputs": [],
   "source": [
    "for s in range(3):\n",
    "    for n in range(16):\n",
    "        question_2_model.addConstr(y[n, s] >= min_reqs[s] * z[n, s], name=f\"Min_Order_{n}_{s}\")"
   ]
  },
  {
   "cell_type": "code",
   "execution_count": 80,
   "metadata": {},
   "outputs": [
    {
     "name": "stdout",
     "output_type": "stream",
     "text": [
      "Gurobi Optimizer version 11.0.0 build v11.0.0rc2 (win64 - Windows 11+.0 (22631.2))\n",
      "\n",
      "CPU model: Intel(R) Core(TM) i7-8750H CPU @ 2.20GHz, instruction set [SSE2|AVX|AVX2]\n",
      "Thread count: 6 physical cores, 12 logical processors, using up to 12 threads\n",
      "\n",
      "Optimize a model with 64 rows, 112 columns and 144 nonzeros\n",
      "Model fingerprint: 0xe581be10\n",
      "Variable types: 64 continuous, 48 integer (48 binary)\n",
      "Coefficient statistics:\n",
      "  Matrix range     [1e+00, 7e+01]\n",
      "  Objective range  [1e+00, 2e+01]\n",
      "  Bounds range     [1e+00, 1e+00]\n",
      "  RHS range        [9e+01, 2e+02]\n",
      "Found heuristic solution: objective 10891.750000\n",
      "Presolve removed 64 rows and 112 columns\n",
      "Presolve time: 0.00s\n",
      "Presolve: All rows and columns removed\n",
      "\n",
      "Explored 0 nodes (0 simplex iterations) in 0.01 seconds (0.00 work units)\n",
      "Thread count was 1 (of 12 available processors)\n",
      "\n",
      "Solution count 1: 10891.8 \n",
      "\n",
      "Optimal solution found (tolerance 1.00e-04)\n",
      "Best objective 1.089175000000e+04, best bound 1.089175000000e+04, gap 0.0000%\n"
     ]
    }
   ],
   "source": [
    "# Optimize model\n",
    "question_2_model.optimize()"
   ]
  },
  {
   "cell_type": "code",
   "execution_count": 81,
   "metadata": {},
   "outputs": [
    {
     "name": "stdout",
     "output_type": "stream",
     "text": [
      "Optimal Solution Found!\n",
      "Total Cost: $10891.75\n",
      "\n",
      "Amount of Coffee Ordered in Advance:\n",
      "Scenario 0: 90.00 gallons\n",
      "Scenario 1: 95.00 gallons\n",
      "Scenario 2: 100.00 gallons\n",
      "Scenario 3: 105.00 gallons\n",
      "Scenario 4: 110.00 gallons\n",
      "Scenario 5: 115.00 gallons\n",
      "Scenario 6: 120.00 gallons\n",
      "Scenario 7: 125.00 gallons\n",
      "Scenario 8: 130.00 gallons\n",
      "Scenario 9: 135.00 gallons\n",
      "Scenario 10: 140.00 gallons\n",
      "Scenario 11: 145.00 gallons\n",
      "Scenario 12: 150.00 gallons\n",
      "Scenario 13: 155.00 gallons\n",
      "Scenario 14: 160.00 gallons\n",
      "Scenario 15: 165.00 gallons\n"
     ]
    }
   ],
   "source": [
    "# Print results\n",
    "if question_2_model.status == GRB.OPTIMAL:\n",
    "    print(\"Optimal Solution Found!\")\n",
    "    print(f\"Total Cost: ${question_2_model.objVal:.2f}\")\n",
    "\n",
    "    # Print amount of coffee ordered in advance for each scenario\n",
    "    print(\"\\nAmount of Coffee Ordered in Advance:\")\n",
    "    for n in range(16):\n",
    "        print(f\"Scenario {n}: {x[n].x:.2f} gallons\")\n",
    "else:\n",
    "    print(\"No solution found.\")"
   ]
  },
  {
   "cell_type": "code",
   "execution_count": 82,
   "metadata": {},
   "outputs": [
    {
     "name": "stdout",
     "output_type": "stream",
     "text": [
      "\n",
      "Amount of Coffee Ordered from Each Local Supplier:\n",
      "Scenario 0, Supplier 0: 0.00 gallons\n",
      "Scenario 0, Supplier 1: 0.00 gallons\n",
      "Scenario 0, Supplier 2: 0.00 gallons\n",
      "Scenario 1, Supplier 0: 0.00 gallons\n",
      "Scenario 1, Supplier 1: 0.00 gallons\n",
      "Scenario 1, Supplier 2: 0.00 gallons\n",
      "Scenario 2, Supplier 0: 0.00 gallons\n",
      "Scenario 2, Supplier 1: 0.00 gallons\n",
      "Scenario 2, Supplier 2: 0.00 gallons\n",
      "Scenario 3, Supplier 0: 0.00 gallons\n",
      "Scenario 3, Supplier 1: 0.00 gallons\n",
      "Scenario 3, Supplier 2: 0.00 gallons\n",
      "Scenario 4, Supplier 0: 0.00 gallons\n",
      "Scenario 4, Supplier 1: 0.00 gallons\n",
      "Scenario 4, Supplier 2: 0.00 gallons\n",
      "Scenario 5, Supplier 0: 0.00 gallons\n",
      "Scenario 5, Supplier 1: 0.00 gallons\n",
      "Scenario 5, Supplier 2: 0.00 gallons\n",
      "Scenario 6, Supplier 0: 0.00 gallons\n",
      "Scenario 6, Supplier 1: 0.00 gallons\n",
      "Scenario 6, Supplier 2: 0.00 gallons\n",
      "Scenario 7, Supplier 0: 0.00 gallons\n",
      "Scenario 7, Supplier 1: 0.00 gallons\n",
      "Scenario 7, Supplier 2: 0.00 gallons\n",
      "Scenario 8, Supplier 0: 0.00 gallons\n",
      "Scenario 8, Supplier 1: 0.00 gallons\n",
      "Scenario 8, Supplier 2: 0.00 gallons\n",
      "Scenario 9, Supplier 0: 0.00 gallons\n",
      "Scenario 9, Supplier 1: 0.00 gallons\n",
      "Scenario 9, Supplier 2: 0.00 gallons\n",
      "Scenario 10, Supplier 0: 0.00 gallons\n",
      "Scenario 10, Supplier 1: 0.00 gallons\n",
      "Scenario 10, Supplier 2: 0.00 gallons\n",
      "Scenario 11, Supplier 0: 0.00 gallons\n",
      "Scenario 11, Supplier 1: 0.00 gallons\n",
      "Scenario 11, Supplier 2: 0.00 gallons\n",
      "Scenario 12, Supplier 0: 0.00 gallons\n",
      "Scenario 12, Supplier 1: 0.00 gallons\n",
      "Scenario 12, Supplier 2: 0.00 gallons\n",
      "Scenario 13, Supplier 0: 0.00 gallons\n",
      "Scenario 13, Supplier 1: 0.00 gallons\n",
      "Scenario 13, Supplier 2: 0.00 gallons\n",
      "Scenario 14, Supplier 0: 0.00 gallons\n",
      "Scenario 14, Supplier 1: 0.00 gallons\n",
      "Scenario 14, Supplier 2: 0.00 gallons\n",
      "Scenario 15, Supplier 0: 0.00 gallons\n",
      "Scenario 15, Supplier 1: 0.00 gallons\n",
      "Scenario 15, Supplier 2: 0.00 gallons\n"
     ]
    }
   ],
   "source": [
    "# Print amount of coffee ordered from each local supplier for each scenario\n",
    "print(\"\\nAmount of Coffee Ordered from Each Local Supplier:\")\n",
    "for n in range(16):\n",
    "    for s in range(3):\n",
    "        print(f\"Scenario {n}, Supplier {s}: {y[n, s].x:.2f} gallons\")"
   ]
  },
  {
   "cell_type": "code",
   "execution_count": null,
   "metadata": {},
   "outputs": [],
   "source": []
  }
 ],
 "metadata": {
  "kernelspec": {
   "display_name": "Python 3",
   "language": "python",
   "name": "python3"
  },
  "language_info": {
   "codemirror_mode": {
    "name": "ipython",
    "version": 3
   },
   "file_extension": ".py",
   "mimetype": "text/x-python",
   "name": "python",
   "nbconvert_exporter": "python",
   "pygments_lexer": "ipython3",
   "version": "3.11.3"
  }
 },
 "nbformat": 4,
 "nbformat_minor": 2
}
