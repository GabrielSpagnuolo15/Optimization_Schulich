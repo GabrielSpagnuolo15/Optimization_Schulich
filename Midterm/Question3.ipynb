{
 "cells": [
  {
   "cell_type": "code",
   "execution_count": 231,
   "metadata": {},
   "outputs": [],
   "source": [
    "from gurobipy import GRB\n",
    "import gurobipy as gb\n",
    "import pandas as pd\n",
    "import numpy as np"
   ]
  },
  {
   "cell_type": "code",
   "execution_count": 232,
   "metadata": {},
   "outputs": [],
   "source": [
    "# Create the optimization model\n",
    "model = gb.Model(\"Question 3\")"
   ]
  },
  {
   "cell_type": "code",
   "execution_count": 233,
   "metadata": {},
   "outputs": [],
   "source": [
    "nurse_df = pd.read_csv(r\"C:\\Users\\gabri\\Downloads\\nurse_shift_costs.csv\")"
   ]
  },
  {
   "cell_type": "code",
   "execution_count": 234,
   "metadata": {},
   "outputs": [
    {
     "data": {
      "text/html": [
       "<div>\n",
       "<style scoped>\n",
       "    .dataframe tbody tr th:only-of-type {\n",
       "        vertical-align: middle;\n",
       "    }\n",
       "\n",
       "    .dataframe tbody tr th {\n",
       "        vertical-align: top;\n",
       "    }\n",
       "\n",
       "    .dataframe thead th {\n",
       "        text-align: right;\n",
       "    }\n",
       "</style>\n",
       "<table border=\"1\" class=\"dataframe\">\n",
       "  <thead>\n",
       "    <tr style=\"text-align: right;\">\n",
       "      <th></th>\n",
       "      <th>Nurse_ID</th>\n",
       "      <th>Category</th>\n",
       "      <th>Cost_Weekday</th>\n",
       "      <th>Cost_Weekend</th>\n",
       "      <th>Cost_Overtime</th>\n",
       "    </tr>\n",
       "  </thead>\n",
       "  <tbody>\n",
       "    <tr>\n",
       "      <th>0</th>\n",
       "      <td>1</td>\n",
       "      <td>SRN</td>\n",
       "      <td>150</td>\n",
       "      <td>180</td>\n",
       "      <td>248</td>\n",
       "    </tr>\n",
       "    <tr>\n",
       "      <th>1</th>\n",
       "      <td>2</td>\n",
       "      <td>RN</td>\n",
       "      <td>360</td>\n",
       "      <td>432</td>\n",
       "      <td>594</td>\n",
       "    </tr>\n",
       "    <tr>\n",
       "      <th>2</th>\n",
       "      <td>3</td>\n",
       "      <td>SRN</td>\n",
       "      <td>600</td>\n",
       "      <td>720</td>\n",
       "      <td>990</td>\n",
       "    </tr>\n",
       "    <tr>\n",
       "      <th>3</th>\n",
       "      <td>4</td>\n",
       "      <td>RN</td>\n",
       "      <td>120</td>\n",
       "      <td>144</td>\n",
       "      <td>198</td>\n",
       "    </tr>\n",
       "    <tr>\n",
       "      <th>4</th>\n",
       "      <td>5</td>\n",
       "      <td>RN</td>\n",
       "      <td>240</td>\n",
       "      <td>288</td>\n",
       "      <td>396</td>\n",
       "    </tr>\n",
       "    <tr>\n",
       "      <th>5</th>\n",
       "      <td>6</td>\n",
       "      <td>NIT</td>\n",
       "      <td>320</td>\n",
       "      <td>384</td>\n",
       "      <td>528</td>\n",
       "    </tr>\n",
       "    <tr>\n",
       "      <th>6</th>\n",
       "      <td>7</td>\n",
       "      <td>SRN</td>\n",
       "      <td>600</td>\n",
       "      <td>720</td>\n",
       "      <td>990</td>\n",
       "    </tr>\n",
       "    <tr>\n",
       "      <th>7</th>\n",
       "      <td>8</td>\n",
       "      <td>NIT</td>\n",
       "      <td>320</td>\n",
       "      <td>384</td>\n",
       "      <td>528</td>\n",
       "    </tr>\n",
       "    <tr>\n",
       "      <th>8</th>\n",
       "      <td>9</td>\n",
       "      <td>SRN</td>\n",
       "      <td>150</td>\n",
       "      <td>180</td>\n",
       "      <td>248</td>\n",
       "    </tr>\n",
       "    <tr>\n",
       "      <th>9</th>\n",
       "      <td>10</td>\n",
       "      <td>SRN</td>\n",
       "      <td>300</td>\n",
       "      <td>360</td>\n",
       "      <td>495</td>\n",
       "    </tr>\n",
       "    <tr>\n",
       "      <th>10</th>\n",
       "      <td>11</td>\n",
       "      <td>SRN</td>\n",
       "      <td>300</td>\n",
       "      <td>360</td>\n",
       "      <td>495</td>\n",
       "    </tr>\n",
       "    <tr>\n",
       "      <th>11</th>\n",
       "      <td>12</td>\n",
       "      <td>NIT</td>\n",
       "      <td>160</td>\n",
       "      <td>192</td>\n",
       "      <td>264</td>\n",
       "    </tr>\n",
       "    <tr>\n",
       "      <th>12</th>\n",
       "      <td>13</td>\n",
       "      <td>RN</td>\n",
       "      <td>120</td>\n",
       "      <td>144</td>\n",
       "      <td>198</td>\n",
       "    </tr>\n",
       "    <tr>\n",
       "      <th>13</th>\n",
       "      <td>14</td>\n",
       "      <td>NIT</td>\n",
       "      <td>240</td>\n",
       "      <td>288</td>\n",
       "      <td>396</td>\n",
       "    </tr>\n",
       "    <tr>\n",
       "      <th>14</th>\n",
       "      <td>15</td>\n",
       "      <td>NIT</td>\n",
       "      <td>400</td>\n",
       "      <td>480</td>\n",
       "      <td>660</td>\n",
       "    </tr>\n",
       "    <tr>\n",
       "      <th>15</th>\n",
       "      <td>16</td>\n",
       "      <td>SRN</td>\n",
       "      <td>600</td>\n",
       "      <td>720</td>\n",
       "      <td>990</td>\n",
       "    </tr>\n",
       "    <tr>\n",
       "      <th>16</th>\n",
       "      <td>17</td>\n",
       "      <td>RN</td>\n",
       "      <td>480</td>\n",
       "      <td>576</td>\n",
       "      <td>792</td>\n",
       "    </tr>\n",
       "    <tr>\n",
       "      <th>17</th>\n",
       "      <td>18</td>\n",
       "      <td>RN</td>\n",
       "      <td>360</td>\n",
       "      <td>432</td>\n",
       "      <td>594</td>\n",
       "    </tr>\n",
       "    <tr>\n",
       "      <th>18</th>\n",
       "      <td>19</td>\n",
       "      <td>RN</td>\n",
       "      <td>600</td>\n",
       "      <td>720</td>\n",
       "      <td>990</td>\n",
       "    </tr>\n",
       "    <tr>\n",
       "      <th>19</th>\n",
       "      <td>20</td>\n",
       "      <td>RN</td>\n",
       "      <td>360</td>\n",
       "      <td>432</td>\n",
       "      <td>594</td>\n",
       "    </tr>\n",
       "    <tr>\n",
       "      <th>20</th>\n",
       "      <td>21</td>\n",
       "      <td>SRN</td>\n",
       "      <td>150</td>\n",
       "      <td>180</td>\n",
       "      <td>248</td>\n",
       "    </tr>\n",
       "    <tr>\n",
       "      <th>21</th>\n",
       "      <td>22</td>\n",
       "      <td>RN</td>\n",
       "      <td>120</td>\n",
       "      <td>144</td>\n",
       "      <td>198</td>\n",
       "    </tr>\n",
       "    <tr>\n",
       "      <th>22</th>\n",
       "      <td>23</td>\n",
       "      <td>SRN</td>\n",
       "      <td>750</td>\n",
       "      <td>900</td>\n",
       "      <td>1238</td>\n",
       "    </tr>\n",
       "    <tr>\n",
       "      <th>23</th>\n",
       "      <td>24</td>\n",
       "      <td>SRN</td>\n",
       "      <td>150</td>\n",
       "      <td>180</td>\n",
       "      <td>248</td>\n",
       "    </tr>\n",
       "    <tr>\n",
       "      <th>24</th>\n",
       "      <td>25</td>\n",
       "      <td>RN</td>\n",
       "      <td>600</td>\n",
       "      <td>720</td>\n",
       "      <td>990</td>\n",
       "    </tr>\n",
       "    <tr>\n",
       "      <th>25</th>\n",
       "      <td>26</td>\n",
       "      <td>NIT</td>\n",
       "      <td>160</td>\n",
       "      <td>192</td>\n",
       "      <td>264</td>\n",
       "    </tr>\n",
       "  </tbody>\n",
       "</table>\n",
       "</div>"
      ],
      "text/plain": [
       "    Nurse_ID Category  Cost_Weekday  Cost_Weekend  Cost_Overtime\n",
       "0          1      SRN           150           180            248\n",
       "1          2       RN           360           432            594\n",
       "2          3      SRN           600           720            990\n",
       "3          4       RN           120           144            198\n",
       "4          5       RN           240           288            396\n",
       "5          6      NIT           320           384            528\n",
       "6          7      SRN           600           720            990\n",
       "7          8      NIT           320           384            528\n",
       "8          9      SRN           150           180            248\n",
       "9         10      SRN           300           360            495\n",
       "10        11      SRN           300           360            495\n",
       "11        12      NIT           160           192            264\n",
       "12        13       RN           120           144            198\n",
       "13        14      NIT           240           288            396\n",
       "14        15      NIT           400           480            660\n",
       "15        16      SRN           600           720            990\n",
       "16        17       RN           480           576            792\n",
       "17        18       RN           360           432            594\n",
       "18        19       RN           600           720            990\n",
       "19        20       RN           360           432            594\n",
       "20        21      SRN           150           180            248\n",
       "21        22       RN           120           144            198\n",
       "22        23      SRN           750           900           1238\n",
       "23        24      SRN           150           180            248\n",
       "24        25       RN           600           720            990\n",
       "25        26      NIT           160           192            264"
      ]
     },
     "execution_count": 234,
     "metadata": {},
     "output_type": "execute_result"
    }
   ],
   "source": [
    "nurse_df"
   ]
  },
  {
   "cell_type": "code",
   "execution_count": 235,
   "metadata": {},
   "outputs": [
    {
     "data": {
      "text/plain": [
       "array([150, 360, 600, 120, 240, 320, 600, 320, 150, 300, 300, 160, 120,\n",
       "       240, 400, 600, 480, 360, 600, 360, 150, 120, 750, 150, 600, 160],\n",
       "      dtype=int64)"
      ]
     },
     "execution_count": 235,
     "metadata": {},
     "output_type": "execute_result"
    }
   ],
   "source": [
    "weekday = nurse_df['Cost_Weekday'].values\n",
    "weekday"
   ]
  },
  {
   "cell_type": "code",
   "execution_count": 236,
   "metadata": {},
   "outputs": [
    {
     "data": {
      "text/plain": [
       "array([180, 432, 720, 144, 288, 384, 720, 384, 180, 360, 360, 192, 144,\n",
       "       288, 480, 720, 576, 432, 720, 432, 180, 144, 900, 180, 720, 192],\n",
       "      dtype=int64)"
      ]
     },
     "execution_count": 236,
     "metadata": {},
     "output_type": "execute_result"
    }
   ],
   "source": [
    "weekend = nurse_df['Cost_Weekend'].values\n",
    "weekend"
   ]
  },
  {
   "cell_type": "code",
   "execution_count": 237,
   "metadata": {},
   "outputs": [
    {
     "data": {
      "text/plain": [
       "array([ 248,  594,  990,  198,  396,  528,  990,  528,  248,  495,  495,\n",
       "        264,  198,  396,  660,  990,  792,  594,  990,  594,  248,  198,\n",
       "       1238,  248,  990,  264], dtype=int64)"
      ]
     },
     "execution_count": 237,
     "metadata": {},
     "output_type": "execute_result"
    }
   ],
   "source": [
    "overtime = nurse_df['Cost_Overtime'].values\n",
    "overtime"
   ]
  },
  {
   "cell_type": "code",
   "execution_count": 238,
   "metadata": {},
   "outputs": [],
   "source": [
    "x = model.addVars(26, 10, lb=0, vtype=GRB.BINARY, name=\"Weekday\")\n",
    "y = model.addVars(26, 4, lb=0, vtype=GRB.BINARY, name=\"Weekend\")\n",
    "z = model.addVars(26, 14, lb=0, vtype=GRB.BINARY, name=\"Overtime\")"
   ]
  },
  {
   "cell_type": "code",
   "execution_count": 239,
   "metadata": {},
   "outputs": [],
   "source": [
    "weekday_objective = gb.quicksum(weekday[i]*x[i,j] for i in range(26) for j in range (10))\n",
    "weekend_objective = gb.quicksum(weekend[i]*y[i,j] for i in range(26) for j in range (4))\n",
    "overtime_objective = gb.quicksum(overtime[i]*z[i,j] for i in range(26) for j in range (14))\n",
    "model.setObjective(weekday_objective + weekend_objective + overtime_objective, GRB.MINIMIZE)"
   ]
  },
  {
   "cell_type": "code",
   "execution_count": 240,
   "metadata": {},
   "outputs": [],
   "source": [
    "for j in range (10):\n",
    "    model.addConstr(gb.quicksum(x[i,j] for i in range (26)) >= 6, \"At least 6 nurses in the week\")"
   ]
  },
  {
   "cell_type": "code",
   "execution_count": 241,
   "metadata": {},
   "outputs": [],
   "source": [
    "for j in range (4):\n",
    "    model.addConstr(gb.quicksum(y[i,j] for i in range (26)) >= 6, \"At least 6 nurses in the weekend\")"
   ]
  },
  {
   "cell_type": "code",
   "execution_count": 242,
   "metadata": {},
   "outputs": [],
   "source": [
    "for i in range(26):\n",
    "    model.addConstr(gb.quicksum(x[i,j] for j in range(10)) + gb.quicksum(y[i,j] for j in range(4)) >= 3, \"At least 36 hours\")\n",
    "\n",
    "for i in range(26):\n",
    "    model.addConstr(gb.quicksum(x[i,j] for j in range(10)) + gb.quicksum(y[i,j] for j in range(4)) <= 5, \"At most 60 hours\")"
   ]
  },
  {
   "cell_type": "code",
   "execution_count": 243,
   "metadata": {},
   "outputs": [
    {
     "data": {
      "text/plain": [
       "array(['SRN', 'RN', 'SRN', 'RN', 'RN', 'NIT', 'SRN', 'NIT', 'SRN', 'SRN',\n",
       "       'SRN', 'NIT', 'RN', 'NIT', 'NIT', 'SRN', 'RN', 'RN', 'RN', 'RN',\n",
       "       'SRN', 'RN', 'SRN', 'SRN', 'RN', 'NIT'], dtype=object)"
      ]
     },
     "execution_count": 243,
     "metadata": {},
     "output_type": "execute_result"
    }
   ],
   "source": [
    "role = nurse_df['Category'].values\n",
    "role"
   ]
  },
  {
   "cell_type": "code",
   "execution_count": 244,
   "metadata": {},
   "outputs": [
    {
     "data": {
      "text/plain": [
       "[1, 0, 1, 0, 0, 0, 1, 0, 1, 1, 1, 0, 0, 0, 0, 1, 0, 0, 0, 0, 1, 0, 1, 1, 0, 0]"
      ]
     },
     "execution_count": 244,
     "metadata": {},
     "output_type": "execute_result"
    }
   ],
   "source": [
    "SRN_indices = []\n",
    "\n",
    "for a in role:\n",
    "    if 'SRN' in a:\n",
    "        SRN_indices.append(1)\n",
    "    else:\n",
    "        SRN_indices.append(0)\n",
    "\n",
    "SRN_indices"
   ]
  },
  {
   "cell_type": "code",
   "execution_count": 245,
   "metadata": {},
   "outputs": [],
   "source": [
    "for j in range (10):\n",
    "    model.addConstr(gb.quicksum(SRN_indices[i]*x[i,j] for i in range (26)) >= 1, \"At least one SRN\")"
   ]
  },
  {
   "cell_type": "code",
   "execution_count": 246,
   "metadata": {},
   "outputs": [],
   "source": [
    "for j in range (4):\n",
    "    model.addConstr(gb.quicksum(SRN_indices[i]*y[i,j] for i in range (26)) >= 1, \"At least one SRN\")"
   ]
  },
  {
   "cell_type": "code",
   "execution_count": 247,
   "metadata": {},
   "outputs": [],
   "source": [
    "for j in range(9):\n",
    "    for i in range(26):\n",
    "        model.addConstr(x[i,j] >= 1 - x[i,j+1], f\"No back to backs ({i}, {j})\")"
   ]
  },
  {
   "cell_type": "code",
   "execution_count": 248,
   "metadata": {},
   "outputs": [],
   "source": [
    "for j in range(3):\n",
    "    for i in range(26):\n",
    "        model.addConstr(y[i,j] >= 1 - y[i,j+1], f\"No back to backs ({i}, {j})\")"
   ]
  },
  {
   "cell_type": "code",
   "execution_count": 249,
   "metadata": {},
   "outputs": [],
   "source": [
    "for j in range(13):\n",
    "    for i in range(26):\n",
    "        model.addConstr(z[i,j] >= 1 - z[i,j+1], f\"No back to backs ({i}, {j})\")"
   ]
  },
  {
   "cell_type": "code",
   "execution_count": 250,
   "metadata": {},
   "outputs": [],
   "source": [
    "for i in range(26):\n",
    "    model.addConstr(gb.quicksum(x[i,j] for j in range(10)) + gb.quicksum(y[i,j] for j in range(4)) >= 3 + 3*gb.quicksum(z[i,j] for j in range (14)))"
   ]
  },
  {
   "cell_type": "code",
   "execution_count": 251,
   "metadata": {},
   "outputs": [
    {
     "name": "stdout",
     "output_type": "stream",
     "text": [
      "Gurobi Optimizer version 11.0.0 build v11.0.0rc2 (win64 - Windows 11+.0 (22631.2))\n",
      "\n",
      "CPU model: Intel(R) Core(TM) i7-8750H CPU @ 2.20GHz, instruction set [SSE2|AVX|AVX2]\n",
      "Thread count: 6 physical cores, 12 logical processors, using up to 12 threads\n",
      "\n",
      "Optimize a model with 730 rows, 728 columns and 2532 nonzeros\n",
      "Model fingerprint: 0xbeeb7073\n",
      "Variable types: 0 continuous, 728 integer (728 binary)\n",
      "Coefficient statistics:\n",
      "  Matrix range     [1e+00, 1e+00]\n",
      "  Objective range  [1e+02, 1e+03]\n",
      "  Bounds range     [1e+00, 1e+00]\n",
      "  RHS range        [1e+00, 6e+00]\n",
      "Presolve removed 0 rows and 104 columns\n",
      "Presolve time: 0.00s\n",
      "\n",
      "Explored 0 nodes (0 simplex iterations) in 0.01 seconds (0.00 work units)\n",
      "Thread count was 1 (of 12 available processors)\n",
      "\n",
      "Solution count 0\n",
      "\n",
      "Model is infeasible\n",
      "Best objective -, best bound -, gap -\n"
     ]
    }
   ],
   "source": [
    "model.optimize()"
   ]
  },
  {
   "cell_type": "code",
   "execution_count": 253,
   "metadata": {},
   "outputs": [
    {
     "name": "stdout",
     "output_type": "stream",
     "text": [
      "Gurobi Optimizer version 11.0.0 build v11.0.0rc2 (win64 - Windows 11+.0 (22631.2))\n",
      "\n",
      "CPU model: Intel(R) Core(TM) i7-8750H CPU @ 2.20GHz, instruction set [SSE2|AVX|AVX2]\n",
      "Thread count: 6 physical cores, 12 logical processors, using up to 12 threads\n",
      "\n",
      "Optimize a model with 1472 rows, 2184 columns and 5652 nonzeros\n",
      "Model fingerprint: 0x0d04cfaa\n"
     ]
    },
    {
     "name": "stdout",
     "output_type": "stream",
     "text": [
      "Variable types: 0 continuous, 2184 integer (2184 binary)\n",
      "Coefficient statistics:\n",
      "  Matrix range     [1e+00, 3e+00]\n",
      "  Objective range  [1e+02, 1e+03]\n",
      "  Bounds range     [1e+00, 1e+00]\n",
      "  RHS range        [1e+00, 6e+00]\n",
      "Presolve removed 338 rows and 1196 columns\n",
      "Presolve time: 0.00s\n",
      "\n",
      "Explored 0 nodes (0 simplex iterations) in 0.01 seconds (0.00 work units)\n",
      "Thread count was 1 (of 12 available processors)\n",
      "\n",
      "Solution count 0\n",
      "\n",
      "Model is infeasible\n",
      "Best objective -, best bound -, gap -\n"
     ]
    }
   ],
   "source": [
    "x = model.addVars(26, 10, lb=0, vtype=GRB.BINARY, name=\"Weekday\")\n",
    "y = model.addVars(26, 4, lb=0, vtype=GRB.BINARY, name=\"Weekend\")\n",
    "z = model.addVars(26, 14, lb=0, vtype=GRB.BINARY, name=\"Overtime\")\n",
    "\n",
    "weekday_objective = gb.quicksum(weekday[i] * x[i, j] for i in range(26) for j in range(10))\n",
    "weekend_objective = gb.quicksum(weekend[i] * y[i, j] for i in range(26) for j in range(4))\n",
    "overtime_objective = gb.quicksum(overtime[i] * z[i, j] for i in range(26) for j in range(14))\n",
    "model.setObjective(weekday_objective + weekend_objective + overtime_objective, GRB.MINIMIZE)\n",
    "\n",
    "for j in range(10):\n",
    "    model.addConstr(gb.quicksum(x[i, j] for i in range(26)) >= 6, \"At least 6 nurses in the week\")\n",
    "\n",
    "for j in range(4):\n",
    "    model.addConstr(gb.quicksum(y[i, j] for i in range(26)) >= 6, \"At least 6 nurses in the weekend\")\n",
    "\n",
    "for i in range(26):\n",
    "    model.addConstr(gb.quicksum(x[i, j] for j in range(10)) + gb.quicksum(y[i, j] for j in range(4)) >= 3, \"At least 36 hours or 3 shifts\")\n",
    "\n",
    "for i in range(26):\n",
    "    model.addConstr(gb.quicksum(x[i, j] for j in range(10)) + gb.quicksum(y[i, j] for j in range(4)) <= 5, \"At most 60 hours or 5 shifts\")\n",
    "\n",
    "for j in range(9):\n",
    "    for i in range(26):\n",
    "        model.addConstr(x[i, j] >= 1 - x[i, j + 1], f\"No back to backs ({i}, {j})\")\n",
    "\n",
    "for j in range(3):\n",
    "    for i in range(26):\n",
    "        model.addConstr(y[i, j] >= 1 - y[i, j + 1], f\"No back to backs ({i}, {j})\")\n",
    "\n",
    "for j in range(13):\n",
    "    for i in range(26):\n",
    "        model.addConstr(z[i, j] >= 1 - z[i, j + 1], f\"No back to backs ({i}, {j})\")\n",
    "\n",
    "for i in range(26):\n",
    "    model.addConstr(gb.quicksum(x[i, j] for j in range(10)) + gb.quicksum(y[i, j] for j in range(4)) >= 3 + 3 * gb.quicksum(z[i, j] for j in range(14)))\n",
    "\n",
    "model.optimize()\n"
   ]
  },
  {
   "cell_type": "code",
   "execution_count": 256,
   "metadata": {},
   "outputs": [
    {
     "name": "stdout",
     "output_type": "stream",
     "text": [
      "Gurobi Optimizer version 11.0.0 build v11.0.0rc2 (win64 - Windows 11+.0 (22631.2))\n",
      "\n",
      "CPU model: Intel(R) Core(TM) i7-8750H CPU @ 2.20GHz, instruction set [SSE2|AVX|AVX2]\n",
      "Thread count: 6 physical cores, 12 logical processors, using up to 12 threads\n",
      "\n",
      "Optimize a model with 2958 rows, 2184 columns and 12900 nonzeros\n",
      "Model fingerprint: 0x585296fb\n",
      "Variable types: 0 continuous, 2184 integer (2184 binary)\n",
      "Coefficient statistics:\n",
      "  Matrix range     [1e+00, 3e+00]\n",
      "  Objective range  [1e+02, 1e+03]\n",
      "  Bounds range     [1e+00, 1e+00]\n",
      "  RHS range        [1e+00, 6e+01]\n"
     ]
    },
    {
     "name": "stdout",
     "output_type": "stream",
     "text": [
      "Presolve removed 390 rows and 1092 columns\n",
      "Presolve time: 0.00s\n",
      "\n",
      "Explored 0 nodes (0 simplex iterations) in 0.01 seconds (0.00 work units)\n",
      "Thread count was 1 (of 12 available processors)\n",
      "\n",
      "Solution count 0\n",
      "\n",
      "Model is infeasible\n",
      "Best objective -, best bound -, gap -\n"
     ]
    }
   ],
   "source": [
    "# Objective Function\n",
    "weekday_objective = gb.quicksum(weekday[i] * x[i, j] for i in range(26) for j in range(10))\n",
    "weekend_objective = gb.quicksum(weekend[i] * y[i, j] for i in range(26) for j in range(4))\n",
    "overtime_objective = gb.quicksum(overtime[i] * z[i, j] for i in range(26) for j in range(14))\n",
    "model.setObjective(weekday_objective + weekend_objective + overtime_objective, GRB.MINIMIZE)\n",
    "\n",
    "# Constraints\n",
    "# Minimum and Maximum Working Hours\n",
    "for i in range(26):\n",
    "    model.addConstr(gb.quicksum(x[i, j] for j in range(10)) + gb.quicksum(y[i, j] for j in range(4)) + gb.quicksum(z[i, j] for j in range(14)) >= 36, f\"At least 36 hours for nurse {i}\")\n",
    "    model.addConstr(gb.quicksum(x[i, j] for j in range(10)) + gb.quicksum(y[i, j] for j in range(4)) + gb.quicksum(z[i, j] for j in range(14)) <= 60, f\"At most 60 hours for nurse {i}\")\n",
    "\n",
    "# Nurse Assignment Constraints\n",
    "for j in range(10):\n",
    "    model.addConstr(gb.quicksum(x[i, j] for i in range(26)) >= 6, \"At least 6 nurses in the week\")\n",
    "\n",
    "for j in range(4):\n",
    "    model.addConstr(gb.quicksum(y[i, j] for i in range(26)) >= 6, \"At least 6 nurses in the weekend\")\n",
    "\n",
    "# Back-to-Back Shifts Constraints\n",
    "for j in range(9):\n",
    "    for i in range(26):\n",
    "        model.addConstr(x[i, j] >= 1 - x[i, j + 1], f\"No back to backs weekday ({i}, {j})\")\n",
    "\n",
    "for j in range(3):\n",
    "    for i in range(26):\n",
    "        model.addConstr(y[i, j] >= 1 - y[i, j + 1], f\"No back to backs weekend ({i}, {j})\")\n",
    "\n",
    "for j in range(13):\n",
    "    for i in range(26):\n",
    "        model.addConstr(z[i, j] >= 1 - z[i, j + 1], f\"No back to backs overtime ({i}, {j})\")\n",
    "\n",
    "# SRN Constraints\n",
    "for j in range(10):\n",
    "    model.addConstr(gb.quicksum(SRN_indices[i] * x[i, j] for i in range(26)) >= 1, \"At least one SRN in weekday\")\n",
    "\n",
    "for j in range(4):\n",
    "    model.addConstr(gb.quicksum(SRN_indices[i] * y[i, j] for i in range(26)) >= 1, \"At least one SRN in weekend\")\n",
    "\n",
    "# Overtime Constraints\n",
    "for i in range(26):\n",
    "    model.addConstr(gb.quicksum(x[i, j] for j in range(10)) + gb.quicksum(y[i, j] for j in range(4)) + gb.quicksum(z[i, j] for j in range(14)) >= 36 + 3 * gb.quicksum(z[i, j] for j in range(14)), f\"Overtime for nurse {i}\")\n",
    "\n",
    "# Optimize the model\n",
    "model.optimize()\n"
   ]
  },
  {
   "cell_type": "code",
   "execution_count": null,
   "metadata": {},
   "outputs": [],
   "source": []
  }
 ],
 "metadata": {
  "kernelspec": {
   "display_name": "Python 3",
   "language": "python",
   "name": "python3"
  },
  "language_info": {
   "codemirror_mode": {
    "name": "ipython",
    "version": 3
   },
   "file_extension": ".py",
   "mimetype": "text/x-python",
   "name": "python",
   "nbconvert_exporter": "python",
   "pygments_lexer": "ipython3",
   "version": "3.11.3"
  }
 },
 "nbformat": 4,
 "nbformat_minor": 2
}
