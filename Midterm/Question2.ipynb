{
 "cells": [
  {
   "cell_type": "code",
   "execution_count": 16,
   "metadata": {},
   "outputs": [],
   "source": [
    "from gurobipy import GRB\n",
    "import gurobipy as gb\n",
    "import pandas as pd\n",
    "import numpy as np"
   ]
  },
  {
   "cell_type": "code",
   "execution_count": 17,
   "metadata": {},
   "outputs": [],
   "source": [
    "# Create the optimization model\n",
    "model = gb.Model(\"Question 2\")"
   ]
  },
  {
   "cell_type": "code",
   "execution_count": 18,
   "metadata": {},
   "outputs": [],
   "source": [
    "non_profit_df = pd.read_csv(r\"C:\\Users\\gabri\\Downloads\\non_profits.csv\")"
   ]
  },
  {
   "cell_type": "code",
   "execution_count": 19,
   "metadata": {},
   "outputs": [
    {
     "data": {
      "text/html": [
       "<div>\n",
       "<style scoped>\n",
       "    .dataframe tbody tr th:only-of-type {\n",
       "        vertical-align: middle;\n",
       "    }\n",
       "\n",
       "    .dataframe tbody tr th {\n",
       "        vertical-align: top;\n",
       "    }\n",
       "\n",
       "    .dataframe thead th {\n",
       "        text-align: right;\n",
       "    }\n",
       "</style>\n",
       "<table border=\"1\" class=\"dataframe\">\n",
       "  <thead>\n",
       "    <tr style=\"text-align: right;\">\n",
       "      <th></th>\n",
       "      <th>alpha_i</th>\n",
       "      <th>beta_i</th>\n",
       "    </tr>\n",
       "  </thead>\n",
       "  <tbody>\n",
       "    <tr>\n",
       "      <th>0</th>\n",
       "      <td>54.881350</td>\n",
       "      <td>16.469416</td>\n",
       "    </tr>\n",
       "    <tr>\n",
       "      <th>1</th>\n",
       "      <td>71.518937</td>\n",
       "      <td>62.147840</td>\n",
       "    </tr>\n",
       "    <tr>\n",
       "      <th>2</th>\n",
       "      <td>60.276338</td>\n",
       "      <td>57.722859</td>\n",
       "    </tr>\n",
       "    <tr>\n",
       "      <th>3</th>\n",
       "      <td>54.488318</td>\n",
       "      <td>23.789282</td>\n",
       "    </tr>\n",
       "    <tr>\n",
       "      <th>4</th>\n",
       "      <td>42.365480</td>\n",
       "      <td>93.421400</td>\n",
       "    </tr>\n",
       "    <tr>\n",
       "      <th>...</th>\n",
       "      <td>...</td>\n",
       "      <td>...</td>\n",
       "    </tr>\n",
       "    <tr>\n",
       "      <th>175</th>\n",
       "      <td>22.392469</td>\n",
       "      <td>68.139251</td>\n",
       "    </tr>\n",
       "    <tr>\n",
       "      <th>176</th>\n",
       "      <td>34.535168</td>\n",
       "      <td>27.759610</td>\n",
       "    </tr>\n",
       "    <tr>\n",
       "      <th>177</th>\n",
       "      <td>92.808129</td>\n",
       "      <td>12.886057</td>\n",
       "    </tr>\n",
       "    <tr>\n",
       "      <th>178</th>\n",
       "      <td>70.441440</td>\n",
       "      <td>39.267568</td>\n",
       "    </tr>\n",
       "    <tr>\n",
       "      <th>179</th>\n",
       "      <td>3.183893</td>\n",
       "      <td>95.640572</td>\n",
       "    </tr>\n",
       "  </tbody>\n",
       "</table>\n",
       "<p>180 rows × 2 columns</p>\n",
       "</div>"
      ],
      "text/plain": [
       "       alpha_i     beta_i\n",
       "0    54.881350  16.469416\n",
       "1    71.518937  62.147840\n",
       "2    60.276338  57.722859\n",
       "3    54.488318  23.789282\n",
       "4    42.365480  93.421400\n",
       "..         ...        ...\n",
       "175  22.392469  68.139251\n",
       "176  34.535168  27.759610\n",
       "177  92.808129  12.886057\n",
       "178  70.441440  39.267568\n",
       "179   3.183893  95.640572\n",
       "\n",
       "[180 rows x 2 columns]"
      ]
     },
     "execution_count": 19,
     "metadata": {},
     "output_type": "execute_result"
    }
   ],
   "source": [
    "non_profit_df"
   ]
  },
  {
   "cell_type": "code",
   "execution_count": 20,
   "metadata": {},
   "outputs": [
    {
     "data": {
      "text/plain": [
       "array([16.46941565, 62.14784015, 57.72285886, 23.78928214, 93.42139979,\n",
       "       61.3965956 , 53.5632803 , 58.99099764, 73.01220295, 31.19449955,\n",
       "       39.82210622, 20.9843749 , 18.61930059, 94.437239  , 73.9550795 ,\n",
       "       49.04588086, 22.7414628 , 25.43564818,  5.80291603, 43.44166256,\n",
       "       31.1795882 , 69.63434888, 37.77518393, 17.96036776,  2.46787284,\n",
       "        6.72496315, 67.93927735, 45.36968446, 53.65792111, 89.6671293 ,\n",
       "       99.03389474, 21.68969844, 66.30782031, 26.33223767,  2.06509995,\n",
       "       75.83786538, 32.00171508, 38.34638942, 58.83171136, 83.10484552,\n",
       "       62.89818436, 87.26506554, 27.35420348, 79.80468339, 18.56359443,\n",
       "       95.2791657 , 68.74882764, 21.55076771, 94.73705905, 73.08558068,\n",
       "       25.39416426, 21.33119774, 51.82007139,  2.56627181, 20.74700754,\n",
       "       42.46854688, 37.41699803, 46.35754244, 27.76287063, 58.67843465,\n",
       "       86.38556059, 11.7531856 , 51.73791072, 13.20681063, 71.68596812,\n",
       "       39.60597028, 56.54213119, 18.32798362, 14.48477593, 48.80562806,\n",
       "       35.56127378, 94.04319453, 76.53252538, 74.86636199, 90.37197397,\n",
       "        8.34224354, 55.21924699, 58.4476069 , 96.19363785, 29.21475268,\n",
       "       24.08287799, 10.02939423,  1.64296296, 92.95293168, 66.99165466,\n",
       "       78.5152912 , 28.17301058, 58.64101662,  6.39552661, 48.56275959,\n",
       "       97.74951397, 87.65052453, 33.81589518, 96.15701545, 23.17016265,\n",
       "       94.93188224, 94.13777047, 79.92025874, 63.04479369, 87.42879666,\n",
       "       29.30202845, 84.89435553, 61.78766919,  1.32368578, 34.72335179,\n",
       "       14.81408609, 98.18293898, 47.8370307 , 49.73913655, 63.94725164,\n",
       "       36.85846061, 13.69002717, 82.21177332, 18.98479119, 51.13189825,\n",
       "       22.4317029 ,  9.78444845, 86.21915174, 97.2919489 , 96.08346581,\n",
       "       90.65554992, 77.40473327, 33.3145152 ,  8.110139  , 40.72411714,\n",
       "       23.22341422, 13.24876348,  5.34271818, 72.55943642,  1.14274586,\n",
       "       77.05807485, 14.69466454,  7.95220826,  8.96030342, 67.20478074,\n",
       "       24.53672099, 42.05394667, 55.73687913, 86.05511738, 72.70442627,\n",
       "       27.03279052, 13.14827993,  5.53743204, 30.15986345, 26.21181492,\n",
       "       45.61405668, 68.32813355, 69.56254456, 28.35188466, 37.99269559,\n",
       "       18.11509617, 78.85455123,  5.68480764, 69.69972417, 77.86953959,\n",
       "       77.74075618, 25.94225643, 37.38131379, 58.75996352, 27.28219024,\n",
       "       37.08527992, 19.70542802, 45.98558838,  4.46123013, 79.97958846,\n",
       "        7.6956447 , 51.88351488, 30.68100995, 57.75429488, 95.94333408,\n",
       "       64.55702445,  3.53624358, 43.04024395, 51.00168523, 53.61774947,\n",
       "       68.13925106, 27.75960977, 12.88605655, 39.26756765, 95.64057228])"
      ]
     },
     "execution_count": 20,
     "metadata": {},
     "output_type": "execute_result"
    }
   ],
   "source": [
    "alpha = non_profit_df['alpha_i'].values\n",
    "alpha\n",
    "\n",
    "beta = non_profit_df['beta_i'].values\n",
    "beta"
   ]
  },
  {
   "cell_type": "code",
   "execution_count": 29,
   "metadata": {},
   "outputs": [
    {
     "ename": "TypeError",
     "evalue": "addVar() got multiple values for keyword argument 'lb'",
     "output_type": "error",
     "traceback": [
      "\u001b[1;31m---------------------------------------------------------------------------\u001b[0m",
      "\u001b[1;31mTypeError\u001b[0m                                 Traceback (most recent call last)",
      "Cell \u001b[1;32mIn[29], line 2\u001b[0m\n\u001b[0;32m      1\u001b[0m \u001b[38;5;66;03m# Define a new decision variable x_i\u001b[39;00m\n\u001b[1;32m----> 2\u001b[0m x \u001b[38;5;241m=\u001b[39m \u001b[43mmodel\u001b[49m\u001b[38;5;241;43m.\u001b[39;49m\u001b[43maddVar\u001b[49m\u001b[43m(\u001b[49m\u001b[38;5;241;43m180\u001b[39;49m\u001b[43m,\u001b[49m\u001b[43m \u001b[49m\u001b[43mlb\u001b[49m\u001b[38;5;241;43m=\u001b[39;49m\u001b[38;5;241;43m0\u001b[39;49m\u001b[43m,\u001b[49m\u001b[43m \u001b[49m\u001b[43mvtype\u001b[49m\u001b[38;5;241;43m=\u001b[39;49m\u001b[43mGRB\u001b[49m\u001b[38;5;241;43m.\u001b[39;49m\u001b[43mCONTINUOUS\u001b[49m\u001b[43m,\u001b[49m\u001b[43m \u001b[49m\u001b[43mname\u001b[49m\u001b[38;5;241;43m=\u001b[39;49m\u001b[38;5;124;43m\"\u001b[39;49m\u001b[38;5;124;43minvestments\u001b[39;49m\u001b[38;5;124;43m\"\u001b[39;49m\u001b[43m)\u001b[49m\n\u001b[0;32m      3\u001b[0m \u001b[38;5;28;01mfor\u001b[39;00m i \u001b[38;5;129;01min\u001b[39;00m \u001b[38;5;28mrange\u001b[39m(\u001b[38;5;241m180\u001b[39m):\n\u001b[0;32m      4\u001b[0m     x\n",
      "File \u001b[1;32msrc\\\\gurobipy\\\\model.pxi:2812\u001b[0m, in \u001b[0;36mgurobipy.Model.addVar\u001b[1;34m()\u001b[0m\n",
      "\u001b[1;31mTypeError\u001b[0m: addVar() got multiple values for keyword argument 'lb'"
     ]
    }
   ],
   "source": [
    "# Define a new decision variable x_i\n",
    "x = model.addVar(180, lb=0, vtype=GRB.CONTINUOUS, name=\"investments\")\n",
    "for i in range(180):\n",
    "    x\n",
    "    term_value = 2 * np.sqrt(alpha[i] * beta[i]) ** (4 / 3)\n",
    "\n",
    "# Approximate the term (\\beta_i a_i)^{1/3} using addGenConstrPow()\n",
    "    model.addGenConstrPow(x, term_value, \"pow_approximation\", 1500)"
   ]
  },
  {
   "cell_type": "code",
   "execution_count": 28,
   "metadata": {},
   "outputs": [
    {
     "ename": "TypeError",
     "evalue": "90.52400186407512 is not a variable",
     "output_type": "error",
     "traceback": [
      "\u001b[1;31m---------------------------------------------------------------------------\u001b[0m",
      "\u001b[1;31mTypeError\u001b[0m                                 Traceback (most recent call last)",
      "Cell \u001b[1;32mIn[28], line 10\u001b[0m\n\u001b[0;32m      8\u001b[0m \u001b[38;5;66;03m# Approximate the term (\\beta_i a_i)^{1/3} using addGenConstrPow()\u001b[39;00m\n\u001b[0;32m      9\u001b[0m \u001b[38;5;28;01mfor\u001b[39;00m i \u001b[38;5;129;01min\u001b[39;00m \u001b[38;5;28mrange\u001b[39m(\u001b[38;5;241m180\u001b[39m):\n\u001b[1;32m---> 10\u001b[0m     \u001b[43mmodel\u001b[49m\u001b[38;5;241;43m.\u001b[39;49m\u001b[43maddGenConstrPow\u001b[49m\u001b[43m(\u001b[49m\u001b[43mx\u001b[49m\u001b[43m[\u001b[49m\u001b[43mi\u001b[49m\u001b[43m]\u001b[49m\u001b[43m,\u001b[49m\u001b[43m \u001b[49m\u001b[43mterm_value\u001b[49m\u001b[43m,\u001b[49m\u001b[43m \u001b[49m\u001b[38;5;124;43m\"\u001b[39;49m\u001b[38;5;124;43mpow_approximation\u001b[39;49m\u001b[38;5;124;43m\"\u001b[39;49m\u001b[43m,\u001b[49m\u001b[43m \u001b[49m\u001b[38;5;241;43m1500\u001b[39;49m\u001b[43m)\u001b[49m\n",
      "File \u001b[1;32msrc\\\\gurobipy\\\\model.pxi:5543\u001b[0m, in \u001b[0;36mgurobipy.Model.addGenConstrPow\u001b[1;34m()\u001b[0m\n",
      "File \u001b[1;32msrc\\\\gurobipy\\\\util.pxi:109\u001b[0m, in \u001b[0;36mgurobipy._extract_varlike_cindex\u001b[1;34m()\u001b[0m\n",
      "\u001b[1;31mTypeError\u001b[0m: 90.52400186407512 is not a variable"
     ]
    }
   ],
   "source": [
    "# Define a new decision variable x_i\n",
    "x = {}\n",
    "for i in range(180):\n",
    "    x[i] = model.addVar(lb=0, vtype=GRB.CONTINUOUS, name=f\"x_{i}\")\n",
    "    term_value = 2 * np.sqrt(alpha[i] * beta[i]) ** (4 / 3)\n",
    "\n",
    "\n",
    "# Approximate the term (\\beta_i a_i)^{1/3} using addGenConstrPow()\n",
    "for i in range(180):\n",
    "    model.addGenConstrPow(x[i], term_value, \"pow_approximation\", 1500)\n"
   ]
  },
  {
   "cell_type": "code",
   "execution_count": null,
   "metadata": {},
   "outputs": [],
   "source": []
  }
 ],
 "metadata": {
  "kernelspec": {
   "display_name": "Python 3",
   "language": "python",
   "name": "python3"
  },
  "language_info": {
   "codemirror_mode": {
    "name": "ipython",
    "version": 3
   },
   "file_extension": ".py",
   "mimetype": "text/x-python",
   "name": "python",
   "nbconvert_exporter": "python",
   "pygments_lexer": "ipython3",
   "version": "3.11.3"
  }
 },
 "nbformat": 4,
 "nbformat_minor": 2
}
