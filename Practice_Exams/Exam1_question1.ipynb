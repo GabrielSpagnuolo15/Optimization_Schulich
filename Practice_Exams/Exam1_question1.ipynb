{
 "cells": [
  {
   "cell_type": "code",
   "execution_count": 234,
   "metadata": {},
   "outputs": [],
   "source": [
    "from gurobipy import GRB\n",
    "import gurobipy as gb\n",
    "import pandas as pd\n",
    "import numpy as np"
   ]
  },
  {
   "cell_type": "code",
   "execution_count": 235,
   "metadata": {},
   "outputs": [],
   "source": [
    "# Create the optimization model\n",
    "model = gb.Model(\"Question 1: Vaccines\")"
   ]
  },
  {
   "cell_type": "code",
   "execution_count": 236,
   "metadata": {},
   "outputs": [],
   "source": [
    "Billy_Bishop_Toronto_City_Airport_costs = [0.05, 0.05, 0.05, 0.05, 0.05, 0.06, 0.06, 0.06, 0.06, 0.06, 0.07, 0.07, 0.07, 0.07, 0.07, 0.08, 0.08, 0.08, 0.08, 0.08, 0.09, 0.09, 0.09, 0.09, 0.09, 0.1, 0.1, 0.1, 0.1]\n",
    "Toronto_Pearson_Airport_costs = [0.08, 0.08, 0.08, 0.08, 0.08, 0.05, 0.05, 0.05, 0.05, 0.05, 0.09, 0.09, 0.09, 0.09, 0.09, 0.1, 0.1, 0.1, 0.1, 0.1, 0.07, 0.07, 0.07, 0.07, 0.07, 0.06, 0.06, 0.06, 0.06]"
   ]
  },
  {
   "cell_type": "code",
   "execution_count": 237,
   "metadata": {},
   "outputs": [],
   "source": [
    "# Create the a single class of decision variables where\n",
    "# From = {Billy} and To = {29 sites}.\n",
    "x = model.addVars(29, lb=0, vtype=GRB.CONTINUOUS, name=\"Billy Shipping\")\n",
    "# From = {Pearson} and To = {29 sites}.\n",
    "y = model.addVars(29, lb=0, vtype=GRB.CONTINUOUS, name=\"Pearson Shipping\")"
   ]
  },
  {
   "cell_type": "code",
   "execution_count": 238,
   "metadata": {},
   "outputs": [],
   "source": [
    "Billy_objective = gb.quicksum(Billy_Bishop_Toronto_City_Airport_costs[j] * x[j] for j in range(29))\n",
    "Pearson_objective = gb.quicksum(Toronto_Pearson_Airport_costs[j] * y[j] for j in range(29))\n",
    "model.setObjective(Billy_objective + Pearson_objective, GRB.MINIMIZE)"
   ]
  },
  {
   "cell_type": "code",
   "execution_count": 239,
   "metadata": {},
   "outputs": [
    {
     "data": {
      "text/plain": [
       "<gurobi.Constr *Awaiting Model Update*>"
      ]
     },
     "execution_count": 239,
     "metadata": {},
     "output_type": "execute_result"
    }
   ],
   "source": [
    "model.addConstr(gb.quicksum(x[j] for j in range(5)) - gb.quicksum(y[j] for j in range(5)) <= 4800, name=\"4800 constraint\")\n",
    "model.addConstr(gb.quicksum(y[j] for j in range(5)) - gb.quicksum(x[j] for j in range(5)) <= 4800, name=\"4800 constraint negative\")"
   ]
  },
  {
   "cell_type": "code",
   "execution_count": 240,
   "metadata": {},
   "outputs": [
    {
     "data": {
      "text/plain": [
       "<gurobi.Constr *Awaiting Model Update*>"
      ]
     },
     "execution_count": 240,
     "metadata": {},
     "output_type": "execute_result"
    }
   ],
   "source": [
    "model.addConstr(gb.quicksum(y[j] for j in range(20,25)) <= 8 * (gb.quicksum(x[j] for j in range(10,15))), name=\"Second constraint\")"
   ]
  },
  {
   "cell_type": "code",
   "execution_count": 241,
   "metadata": {},
   "outputs": [
    {
     "data": {
      "text/plain": [
       "<gurobi.Constr *Awaiting Model Update*>"
      ]
     },
     "execution_count": 241,
     "metadata": {},
     "output_type": "execute_result"
    }
   ],
   "source": [
    "model.addConstr(gb.quicksum(x[j] for j in range(25,29)) >= 0.8 * (gb.quicksum(y[j] for j in range(15,20))), name=\"Third constraint\")"
   ]
  },
  {
   "cell_type": "code",
   "execution_count": 242,
   "metadata": {},
   "outputs": [
    {
     "data": {
      "text/plain": [
       "<gurobi.Constr *Awaiting Model Update*>"
      ]
     },
     "execution_count": 242,
     "metadata": {},
     "output_type": "execute_result"
    }
   ],
   "source": [
    "model.addConstr(gb.quicksum(x[j] for j in range(29)) == 100000, \"Billy Supply Constraint\")\n",
    "model.addConstr(gb.quicksum(y[j] for j in range(29)) == 250000, \"Pearson Supply Constraint\")"
   ]
  },
  {
   "cell_type": "code",
   "execution_count": 243,
   "metadata": {},
   "outputs": [],
   "source": [
    "#Hosipital Constraint\n",
    "#model.addConstr((gb.quicksum(x[j] + y[j] for j in range(7))) == 4 * (gb.quicksum(x[j] + y[j] for j in range(7,29))), \"Hosipital Constraint\")"
   ]
  },
  {
   "cell_type": "code",
   "execution_count": 244,
   "metadata": {},
   "outputs": [],
   "source": [
    "#Hosipital Constraint\n",
    "# 50000 = 7x + 22x/4\n",
    "# x = 4000\n",
    "# 4000 per day, 7 days = 28000 per week\n",
    "for j in range(7):\n",
    "    model.addConstr(x[j] <= 28000, f\"Hospital Billy Constraint_{j}\")\n",
    "for j in range(7):\n",
    "    model.addConstr(y[j] <= 28000, f\"Hospital Pearson Constraint_{j}\")\n",
    "\n",
    "# 50000 = 4*7x + 22x\n",
    "# x = 1000\n",
    "# 1000 per day, 7 days = 7000 per week\n",
    "for j in range(7,29):\n",
    "    model.addConstr(x[j] <= 7000, f\"Non-Hospital Billy Constraint_{j}\")\n",
    "for j in range(7,29):\n",
    "    model.addConstr(y[j] <= 7000, f\"Non-Hospital Pearson Constraint_{j}\")"
   ]
  },
  {
   "cell_type": "code",
   "execution_count": 245,
   "metadata": {},
   "outputs": [
    {
     "name": "stdout",
     "output_type": "stream",
     "text": [
      "Gurobi Optimizer version 11.0.0 build v11.0.0rc2 (win64 - Windows 11+.0 (22631.2))\n",
      "\n",
      "CPU model: Intel(R) Core(TM) i7-8750H CPU @ 2.20GHz, instruction set [SSE2|AVX|AVX2]\n",
      "Thread count: 6 physical cores, 12 logical processors, using up to 12 threads\n",
      "\n",
      "Optimize a model with 64 rows, 58 columns and 155 nonzeros\n",
      "Model fingerprint: 0x330b2b8b\n",
      "Coefficient statistics:\n",
      "  Matrix range     [8e-01, 8e+00]\n",
      "  Objective range  [5e-02, 1e-01]\n",
      "  Bounds range     [0e+00, 0e+00]\n",
      "  RHS range        [5e+03, 3e+05]\n",
      "Presolve removed 61 rows and 52 columns\n",
      "Presolve time: 0.01s\n",
      "Presolved: 3 rows, 7 columns, 11 nonzeros\n",
      "\n",
      "Iteration    Objective       Primal Inf.    Dual Inf.      Time\n",
      "       0    2.1867500e+04   1.196875e+03   0.000000e+00      0s\n",
      "       1    2.1963250e+04   0.000000e+00   0.000000e+00      0s\n",
      "\n",
      "Solved in 1 iterations and 0.01 seconds (0.00 work units)\n",
      "Optimal objective  2.196325000e+04\n"
     ]
    }
   ],
   "source": [
    "# Optimally solve the problem\n",
    "model.optimize()"
   ]
  },
  {
   "cell_type": "code",
   "execution_count": 246,
   "metadata": {},
   "outputs": [
    {
     "name": "stdout",
     "output_type": "stream",
     "text": [
      "\n",
      "    Variable            X \n",
      "-------------------------\n",
      "Billy Shipping[0]        28000 \n",
      "Billy Shipping[1]        28000 \n",
      "Billy Shipping[3]        28000 \n",
      "Billy Shipping[4]        11625 \n",
      "Billy Shipping[14]         4375 \n",
      "Pearson Shipping[0]        28000 \n",
      "Pearson Shipping[2]        28000 \n",
      "Pearson Shipping[3]        28000 \n",
      "Pearson Shipping[4]        16425 \n",
      "Pearson Shipping[5]        28000 \n",
      "Pearson Shipping[6]        28000 \n",
      "Pearson Shipping[7]         7000 \n",
      "Pearson Shipping[8]         7000 \n",
      "Pearson Shipping[9]         7000 \n",
      "Pearson Shipping[13]         7000 \n",
      "Pearson Shipping[14]         2575 \n",
      "Pearson Shipping[20]         7000 \n",
      "Pearson Shipping[21]         7000 \n",
      "Pearson Shipping[22]         7000 \n",
      "Pearson Shipping[23]         7000 \n",
      "Pearson Shipping[24]         7000 \n",
      "Pearson Shipping[25]         7000 \n",
      "Pearson Shipping[26]         7000 \n",
      "Pearson Shipping[27]         7000 \n",
      "Pearson Shipping[28]         7000 \n",
      "None\n"
     ]
    }
   ],
   "source": [
    "# Print the decision variables\n",
    "print(model.printAttr('X'))"
   ]
  },
  {
   "cell_type": "code",
   "execution_count": 247,
   "metadata": {},
   "outputs": [
    {
     "name": "stdout",
     "output_type": "stream",
     "text": [
      "Total Transportation cost:  21963.25\n"
     ]
    }
   ],
   "source": [
    "# Value of the objective function\n",
    "print(\"Total Transportation cost: \", round(model.objVal, 2))"
   ]
  },
  {
   "cell_type": "code",
   "execution_count": null,
   "metadata": {},
   "outputs": [],
   "source": []
  }
 ],
 "metadata": {
  "kernelspec": {
   "display_name": "Python 3",
   "language": "python",
   "name": "python3"
  },
  "language_info": {
   "codemirror_mode": {
    "name": "ipython",
    "version": 3
   },
   "file_extension": ".py",
   "mimetype": "text/x-python",
   "name": "python",
   "nbconvert_exporter": "python",
   "pygments_lexer": "ipython3",
   "version": "3.11.3"
  }
 },
 "nbformat": 4,
 "nbformat_minor": 2
}
