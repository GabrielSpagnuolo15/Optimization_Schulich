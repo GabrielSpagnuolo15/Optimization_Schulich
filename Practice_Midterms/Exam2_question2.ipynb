{
 "cells": [
  {
   "cell_type": "code",
   "execution_count": 35,
   "metadata": {},
   "outputs": [],
   "source": [
    "from gurobipy import GRB\n",
    "import gurobipy as gb\n",
    "import pandas as pd\n",
    "import numpy as np"
   ]
  },
  {
   "cell_type": "code",
   "execution_count": 36,
   "metadata": {},
   "outputs": [],
   "source": [
    "# Create the optimization model\n",
    "model = gb.Model(\"Question 2: McKenna Logistics\")"
   ]
  },
  {
   "cell_type": "code",
   "execution_count": 37,
   "metadata": {},
   "outputs": [],
   "source": [
    "heavy = model.addVars(7, 9, lb=0, vtype=GRB.BINARY, name=\"Heavy Pallets\")\n",
    "medium = model.addVars(6, 9, lb=0, vtype=GRB.BINARY, name=\"Medium Pallets\")\n",
    "light = model.addVars(5, 9, lb=0, vtype=GRB.BINARY, name=\"Light Pallets\")\n",
    "truck = model.addVars(1, 9, lb=0, vtype=GRB.BINARY, name=\"Trucks\")"
   ]
  },
  {
   "cell_type": "code",
   "execution_count": 38,
   "metadata": {},
   "outputs": [],
   "source": [
    "heavy_truck_objective_function = gb.quicksum(5500*truck[0,i] for i in range(3))\n",
    "medium_truck_objective_function = gb.quicksum(4700*truck[0,i] for i in range(3,6))\n",
    "light_truck_objective_function = gb.quicksum(3900*truck[0,i] for i in range(6,9))\n",
    "model.setObjective(heavy_truck_objective_function + medium_truck_objective_function + light_truck_objective_function, GRB.MINIMIZE)"
   ]
  },
  {
   "cell_type": "code",
   "execution_count": 39,
   "metadata": {},
   "outputs": [
    {
     "data": {
      "text/plain": [
       "<gurobi.Constr *Awaiting Model Update*>"
      ]
     },
     "execution_count": 39,
     "metadata": {},
     "output_type": "execute_result"
    }
   ],
   "source": [
    "model.addConstr(gb.quicksum(truck[0,i] for i in range (3)) >= 1, \"Picking a Heavy Truck\")\n",
    "model.addConstr(gb.quicksum(truck[0,i] for i in range (3,6)) >= 1, \"Picking a Medium Truck\")\n",
    "model.addConstr(gb.quicksum(truck[0,i] for i in range (6,9)) >= 1, \"Picking a Light Truck\")"
   ]
  },
  {
   "cell_type": "code",
   "execution_count": 40,
   "metadata": {},
   "outputs": [],
   "source": [
    "for j in range (3):\n",
    "    model.addConstr((4*(gb.quicksum(heavy[i,j] for i in range (7)))) + (3*(gb.quicksum(medium[i,j] for i in range (6)))) + (0.5*(gb.quicksum(light[i,j] for i in range (5)))) <= 13.5*truck[0,j], \"Heavy Truck Weight Constraint\")"
   ]
  },
  {
   "cell_type": "code",
   "execution_count": 41,
   "metadata": {},
   "outputs": [],
   "source": [
    "for j in range (3,6):\n",
    "    model.addConstr((4*(gb.quicksum(heavy[i,j] for i in range (7)))) + (3*(gb.quicksum(medium[i,j] for i in range (6)))) + (0.5*(gb.quicksum(light[i,j] for i in range (5)))) <= 12*truck[0,j], \"Medium Truck Weight Constraint\")"
   ]
  },
  {
   "cell_type": "code",
   "execution_count": 42,
   "metadata": {},
   "outputs": [],
   "source": [
    "for j in range (6,9):\n",
    "    model.addConstr((4*(gb.quicksum(heavy[i,j] for i in range (7)))) + (3*(gb.quicksum(medium[i,j] for i in range (6)))) + (0.5*(gb.quicksum(light[i,j] for i in range (5)))) <= 10*truck[0,j], \"Light Truck Weight Constraint\")"
   ]
  },
  {
   "cell_type": "code",
   "execution_count": 43,
   "metadata": {},
   "outputs": [
    {
     "data": {
      "text/plain": [
       "<gurobi.Constr *Awaiting Model Update*>"
      ]
     },
     "execution_count": 43,
     "metadata": {},
     "output_type": "execute_result"
    }
   ],
   "source": [
    "model.addConstr(gb.quicksum(heavy[i,j] for i in range(7) for j in range(9)) == 7, \"Ensuring All Heavy Palets are Picked\")\n",
    "\n",
    "model.addConstr(gb.quicksum(medium[i,j] for i in range(6) for j in range(9)) == 6, \"Ensuring All Medium Palets are Picked\")\n",
    "\n",
    "model.addConstr(gb.quicksum(light[i,j] for i in range(5) for j in range(9)) == 5, \"Ensuring All Light Palets are Picked\")"
   ]
  },
  {
   "cell_type": "code",
   "execution_count": 44,
   "metadata": {},
   "outputs": [
    {
     "name": "stdout",
     "output_type": "stream",
     "text": [
      "Gurobi Optimizer version 11.0.0 build v11.0.0rc2 (win64 - Windows 11+.0 (22631.2))\n",
      "\n",
      "CPU model: Intel(R) Core(TM) i7-8750H CPU @ 2.20GHz, instruction set [SSE2|AVX|AVX2]\n",
      "Thread count: 6 physical cores, 12 logical processors, using up to 12 threads\n",
      "\n",
      "Optimize a model with 15 rows, 171 columns and 342 nonzeros\n",
      "Model fingerprint: 0xc5def884\n",
      "Variable types: 0 continuous, 171 integer (171 binary)\n",
      "Coefficient statistics:\n",
      "  Matrix range     [5e-01, 1e+01]\n",
      "  Objective range  [4e+03, 6e+03]\n",
      "  Bounds range     [1e+00, 1e+00]\n",
      "  RHS range        [1e+00, 7e+00]\n",
      "Found heuristic solution: objective 42300.000000\n",
      "Presolve removed 0 rows and 135 columns\n",
      "Presolve time: 0.00s\n",
      "Presolved: 15 rows, 36 columns, 72 nonzeros\n",
      "Variable types: 0 continuous, 36 integer (9 binary)\n",
      "Found heuristic solution: objective 33700.000000\n",
      "\n",
      "Root relaxation: objective 1.917000e+04, 19 iterations, 0.00 seconds (0.00 work units)\n",
      "\n",
      "    Nodes    |    Current Node    |     Objective Bounds      |     Work\n",
      " Expl Unexpl |  Obj  Depth IntInf | Incumbent    BestBd   Gap | It/Node Time\n",
      "\n",
      "     0     0 19170.0000    0    2 33700.0000 19170.0000  43.1%     -    0s\n",
      "H    0     0                    21900.000000 19170.0000  12.5%     -    0s\n",
      "     0     0 19175.0000    0   11 21900.0000 19175.0000  12.4%     -    0s\n",
      "     0     0 19175.0000    0    8 21900.0000 19175.0000  12.4%     -    0s\n",
      "     0     0 19600.0000    0    2 21900.0000 19600.0000  10.5%     -    0s\n",
      "H    0     0                    19600.000000 19600.0000  0.00%     -    0s\n",
      "     0     0 19600.0000    0    2 19600.0000 19600.0000  0.00%     -    0s\n",
      "\n",
      "Cutting planes:\n",
      "  Gomory: 1\n",
      "  MIR: 4\n",
      "\n",
      "Explored 1 nodes (58 simplex iterations) in 0.04 seconds (0.00 work units)\n",
      "Thread count was 12 (of 12 available processors)\n",
      "\n",
      "Solution count 4: 19600 21900 33700 42300 \n",
      "\n",
      "Optimal solution found (tolerance 1.00e-04)\n",
      "Best objective 1.960000000000e+04, best bound 1.960000000000e+04, gap 0.0000%\n"
     ]
    }
   ],
   "source": [
    "model.optimize()"
   ]
  },
  {
   "cell_type": "code",
   "execution_count": 45,
   "metadata": {},
   "outputs": [
    {
     "name": "stdout",
     "output_type": "stream",
     "text": [
      "\n",
      "    Variable            X \n",
      "-------------------------\n",
      "Heavy Pallets[1,0]            1 \n",
      "Heavy Pallets[1,6]            1 \n",
      "Heavy Pallets[3,2]            1 \n",
      "Heavy Pallets[3,3]            1 \n",
      "Heavy Pallets[4,3]            1 \n",
      "Heavy Pallets[5,0]            1 \n",
      "Heavy Pallets[6,3]            1 \n",
      "Medium Pallets[0,2]            1 \n",
      "Medium Pallets[0,6]            1 \n",
      "Medium Pallets[3,2]            1 \n",
      "Medium Pallets[4,0]            1 \n",
      "Medium Pallets[5,2]            1 \n",
      "Medium Pallets[5,6]            1 \n",
      "Light Pallets[0,0]            1 \n",
      "Light Pallets[1,0]            1 \n",
      "Light Pallets[2,0]            1 \n",
      "Light Pallets[3,0]            1 \n",
      "Light Pallets[4,0]            1 \n",
      " Trucks[0,0]            1 \n",
      " Trucks[0,2]            1 \n",
      " Trucks[0,3]            1 \n",
      " Trucks[0,6]            1 \n",
      "None\n"
     ]
    }
   ],
   "source": [
    "# Print the decision variables\n",
    "print(model.printAttr('X'))"
   ]
  },
  {
   "cell_type": "code",
   "execution_count": 46,
   "metadata": {},
   "outputs": [
    {
     "name": "stdout",
     "output_type": "stream",
     "text": [
      "Logistic Costs:  19600.0\n"
     ]
    }
   ],
   "source": [
    "# Value of the objective function\n",
    "print(\"Logistic Costs: \", round(model.objVal, 2))"
   ]
  },
  {
   "cell_type": "code",
   "execution_count": null,
   "metadata": {},
   "outputs": [],
   "source": []
  }
 ],
 "metadata": {
  "kernelspec": {
   "display_name": "Python 3",
   "language": "python",
   "name": "python3"
  },
  "language_info": {
   "codemirror_mode": {
    "name": "ipython",
    "version": 3
   },
   "file_extension": ".py",
   "mimetype": "text/x-python",
   "name": "python",
   "nbconvert_exporter": "python",
   "pygments_lexer": "ipython3",
   "version": "3.11.3"
  }
 },
 "nbformat": 4,
 "nbformat_minor": 2
}
