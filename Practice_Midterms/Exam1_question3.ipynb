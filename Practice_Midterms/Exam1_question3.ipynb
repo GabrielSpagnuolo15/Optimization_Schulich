{
 "cells": [
  {
   "cell_type": "code",
   "execution_count": 110,
   "metadata": {},
   "outputs": [],
   "source": [
    "from gurobipy import GRB\n",
    "import gurobipy as gb\n",
    "import pandas as pd\n",
    "import numpy as np"
   ]
  },
  {
   "cell_type": "code",
   "execution_count": 111,
   "metadata": {},
   "outputs": [],
   "source": [
    "# Create the optimization model\n",
    "model = gb.Model(\"Question 3: Route\")"
   ]
  },
  {
   "cell_type": "code",
   "execution_count": 112,
   "metadata": {},
   "outputs": [],
   "source": [
    "route_df = pd.read_csv(r\"C:\\Users\\gabri\\Downloads\\Routes.csv\")"
   ]
  },
  {
   "cell_type": "code",
   "execution_count": 113,
   "metadata": {},
   "outputs": [
    {
     "data": {
      "text/html": [
       "<div>\n",
       "<style scoped>\n",
       "    .dataframe tbody tr th:only-of-type {\n",
       "        vertical-align: middle;\n",
       "    }\n",
       "\n",
       "    .dataframe tbody tr th {\n",
       "        vertical-align: top;\n",
       "    }\n",
       "\n",
       "    .dataframe thead th {\n",
       "        text-align: right;\n",
       "    }\n",
       "</style>\n",
       "<table border=\"1\" class=\"dataframe\">\n",
       "  <thead>\n",
       "    <tr style=\"text-align: right;\">\n",
       "      <th></th>\n",
       "      <th>Routes</th>\n",
       "      <th>Cost</th>\n",
       "    </tr>\n",
       "  </thead>\n",
       "  <tbody>\n",
       "    <tr>\n",
       "      <th>0</th>\n",
       "      <td>[U, a, b, f, e, d, c, U]</td>\n",
       "      <td>136</td>\n",
       "    </tr>\n",
       "    <tr>\n",
       "      <th>1</th>\n",
       "      <td>[U, a, b, f, e, d, U]</td>\n",
       "      <td>110</td>\n",
       "    </tr>\n",
       "    <tr>\n",
       "      <th>2</th>\n",
       "      <td>[U, a, b, f, e, U]</td>\n",
       "      <td>90</td>\n",
       "    </tr>\n",
       "    <tr>\n",
       "      <th>3</th>\n",
       "      <td>[U, a, b, f, d, c, U]</td>\n",
       "      <td>132</td>\n",
       "    </tr>\n",
       "    <tr>\n",
       "      <th>4</th>\n",
       "      <td>[U, a, b, f, d, e, U]</td>\n",
       "      <td>118</td>\n",
       "    </tr>\n",
       "    <tr>\n",
       "      <th>5</th>\n",
       "      <td>[U, a, b, f, d, U]</td>\n",
       "      <td>106</td>\n",
       "    </tr>\n",
       "    <tr>\n",
       "      <th>6</th>\n",
       "      <td>[U, a, c, d, e, f, b, U]</td>\n",
       "      <td>136</td>\n",
       "    </tr>\n",
       "    <tr>\n",
       "      <th>7</th>\n",
       "      <td>[U, a, c, d, e, U]</td>\n",
       "      <td>92</td>\n",
       "    </tr>\n",
       "    <tr>\n",
       "      <th>8</th>\n",
       "      <td>[U, a, c, d, f, b, U]</td>\n",
       "      <td>132</td>\n",
       "    </tr>\n",
       "    <tr>\n",
       "      <th>9</th>\n",
       "      <td>[U, a, c, d, f, e, U]</td>\n",
       "      <td>112</td>\n",
       "    </tr>\n",
       "    <tr>\n",
       "      <th>10</th>\n",
       "      <td>[U, a, c, d, U]</td>\n",
       "      <td>80</td>\n",
       "    </tr>\n",
       "    <tr>\n",
       "      <th>11</th>\n",
       "      <td>[U, b, a, c, d, e, U]</td>\n",
       "      <td>114</td>\n",
       "    </tr>\n",
       "    <tr>\n",
       "      <th>12</th>\n",
       "      <td>[U, b, a, c, d, f, e, U]</td>\n",
       "      <td>134</td>\n",
       "    </tr>\n",
       "    <tr>\n",
       "      <th>13</th>\n",
       "      <td>[U, b, a, c, d, U]</td>\n",
       "      <td>102</td>\n",
       "    </tr>\n",
       "    <tr>\n",
       "      <th>14</th>\n",
       "      <td>[U, b, a, c, U]</td>\n",
       "      <td>68</td>\n",
       "    </tr>\n",
       "    <tr>\n",
       "      <th>15</th>\n",
       "      <td>[U, b, f, e, d, c, a, U]</td>\n",
       "      <td>136</td>\n",
       "    </tr>\n",
       "    <tr>\n",
       "      <th>16</th>\n",
       "      <td>[U, b, f, e, d, c, U]</td>\n",
       "      <td>118</td>\n",
       "    </tr>\n",
       "    <tr>\n",
       "      <th>17</th>\n",
       "      <td>[U, b, f, e, d, U]</td>\n",
       "      <td>92</td>\n",
       "    </tr>\n",
       "    <tr>\n",
       "      <th>18</th>\n",
       "      <td>[U, b, f, e, U]</td>\n",
       "      <td>72</td>\n",
       "    </tr>\n",
       "    <tr>\n",
       "      <th>19</th>\n",
       "      <td>[U, b, f, d, c, a, U]</td>\n",
       "      <td>132</td>\n",
       "    </tr>\n",
       "    <tr>\n",
       "      <th>20</th>\n",
       "      <td>[U, b, f, d, c, U]</td>\n",
       "      <td>114</td>\n",
       "    </tr>\n",
       "    <tr>\n",
       "      <th>21</th>\n",
       "      <td>[U, b, f, d, e, U]</td>\n",
       "      <td>100</td>\n",
       "    </tr>\n",
       "    <tr>\n",
       "      <th>22</th>\n",
       "      <td>[U, b, f, d, U]</td>\n",
       "      <td>88</td>\n",
       "    </tr>\n",
       "    <tr>\n",
       "      <th>23</th>\n",
       "      <td>[U, c, a, b, f, e, d, U]</td>\n",
       "      <td>124</td>\n",
       "    </tr>\n",
       "    <tr>\n",
       "      <th>24</th>\n",
       "      <td>[U, c, a, b, f, e, U]</td>\n",
       "      <td>104</td>\n",
       "    </tr>\n",
       "    <tr>\n",
       "      <th>25</th>\n",
       "      <td>[U, c, a, b, f, d, e, U]</td>\n",
       "      <td>132</td>\n",
       "    </tr>\n",
       "    <tr>\n",
       "      <th>26</th>\n",
       "      <td>[U, c, a, b, f, d, U]</td>\n",
       "      <td>120</td>\n",
       "    </tr>\n",
       "    <tr>\n",
       "      <th>27</th>\n",
       "      <td>[U, c, a, b, U]</td>\n",
       "      <td>68</td>\n",
       "    </tr>\n",
       "    <tr>\n",
       "      <th>28</th>\n",
       "      <td>[U, c, d, e, f, b, a, U]</td>\n",
       "      <td>136</td>\n",
       "    </tr>\n",
       "    <tr>\n",
       "      <th>29</th>\n",
       "      <td>[U, c, d, e, f, b, U]</td>\n",
       "      <td>118</td>\n",
       "    </tr>\n",
       "    <tr>\n",
       "      <th>30</th>\n",
       "      <td>[U, c, d, e, U]</td>\n",
       "      <td>74</td>\n",
       "    </tr>\n",
       "    <tr>\n",
       "      <th>31</th>\n",
       "      <td>[U, c, d, f, b, a, U]</td>\n",
       "      <td>132</td>\n",
       "    </tr>\n",
       "    <tr>\n",
       "      <th>32</th>\n",
       "      <td>[U, c, d, f, b, U]</td>\n",
       "      <td>114</td>\n",
       "    </tr>\n",
       "    <tr>\n",
       "      <th>33</th>\n",
       "      <td>[U, c, d, f, e, U]</td>\n",
       "      <td>94</td>\n",
       "    </tr>\n",
       "    <tr>\n",
       "      <th>34</th>\n",
       "      <td>[U, d, c, a, b, f, e, U]</td>\n",
       "      <td>138</td>\n",
       "    </tr>\n",
       "    <tr>\n",
       "      <th>35</th>\n",
       "      <td>[U, d, c, a, b, U]</td>\n",
       "      <td>102</td>\n",
       "    </tr>\n",
       "    <tr>\n",
       "      <th>36</th>\n",
       "      <td>[U, d, c, a, U]</td>\n",
       "      <td>80</td>\n",
       "    </tr>\n",
       "    <tr>\n",
       "      <th>37</th>\n",
       "      <td>[U, d, e, f, b, a, c, U]</td>\n",
       "      <td>124</td>\n",
       "    </tr>\n",
       "    <tr>\n",
       "      <th>38</th>\n",
       "      <td>[U, d, e, f, b, a, U]</td>\n",
       "      <td>110</td>\n",
       "    </tr>\n",
       "    <tr>\n",
       "      <th>39</th>\n",
       "      <td>[U, d, e, f, b, U]</td>\n",
       "      <td>92</td>\n",
       "    </tr>\n",
       "    <tr>\n",
       "      <th>40</th>\n",
       "      <td>[U, d, f, b, a, c, U]</td>\n",
       "      <td>120</td>\n",
       "    </tr>\n",
       "    <tr>\n",
       "      <th>41</th>\n",
       "      <td>[U, d, f, b, a, U]</td>\n",
       "      <td>106</td>\n",
       "    </tr>\n",
       "    <tr>\n",
       "      <th>42</th>\n",
       "      <td>[U, d, f, b, U]</td>\n",
       "      <td>88</td>\n",
       "    </tr>\n",
       "    <tr>\n",
       "      <th>43</th>\n",
       "      <td>[U, d, f, e, U]</td>\n",
       "      <td>68</td>\n",
       "    </tr>\n",
       "    <tr>\n",
       "      <th>44</th>\n",
       "      <td>[U, e, d, c, a, b, U]</td>\n",
       "      <td>114</td>\n",
       "    </tr>\n",
       "    <tr>\n",
       "      <th>45</th>\n",
       "      <td>[U, e, d, c, a, U]</td>\n",
       "      <td>92</td>\n",
       "    </tr>\n",
       "    <tr>\n",
       "      <th>46</th>\n",
       "      <td>[U, e, d, c, U]</td>\n",
       "      <td>74</td>\n",
       "    </tr>\n",
       "    <tr>\n",
       "      <th>47</th>\n",
       "      <td>[U, e, d, f, b, a, c, U]</td>\n",
       "      <td>132</td>\n",
       "    </tr>\n",
       "    <tr>\n",
       "      <th>48</th>\n",
       "      <td>[U, e, d, f, b, a, U]</td>\n",
       "      <td>118</td>\n",
       "    </tr>\n",
       "    <tr>\n",
       "      <th>49</th>\n",
       "      <td>[U, e, d, f, b, U]</td>\n",
       "      <td>100</td>\n",
       "    </tr>\n",
       "    <tr>\n",
       "      <th>50</th>\n",
       "      <td>[U, e, f, b, a, c, d, U]</td>\n",
       "      <td>138</td>\n",
       "    </tr>\n",
       "    <tr>\n",
       "      <th>51</th>\n",
       "      <td>[U, e, f, b, a, c, U]</td>\n",
       "      <td>104</td>\n",
       "    </tr>\n",
       "    <tr>\n",
       "      <th>52</th>\n",
       "      <td>[U, e, f, b, a, U]</td>\n",
       "      <td>90</td>\n",
       "    </tr>\n",
       "    <tr>\n",
       "      <th>53</th>\n",
       "      <td>[U, e, f, b, U]</td>\n",
       "      <td>72</td>\n",
       "    </tr>\n",
       "    <tr>\n",
       "      <th>54</th>\n",
       "      <td>[U, e, f, d, c, a, b, U]</td>\n",
       "      <td>134</td>\n",
       "    </tr>\n",
       "    <tr>\n",
       "      <th>55</th>\n",
       "      <td>[U, e, f, d, c, a, U]</td>\n",
       "      <td>112</td>\n",
       "    </tr>\n",
       "    <tr>\n",
       "      <th>56</th>\n",
       "      <td>[U, e, f, d, c, U]</td>\n",
       "      <td>94</td>\n",
       "    </tr>\n",
       "    <tr>\n",
       "      <th>57</th>\n",
       "      <td>[U, e, f, d, U]</td>\n",
       "      <td>68</td>\n",
       "    </tr>\n",
       "  </tbody>\n",
       "</table>\n",
       "</div>"
      ],
      "text/plain": [
       "                      Routes  Cost\n",
       "0   [U, a, b, f, e, d, c, U]   136\n",
       "1      [U, a, b, f, e, d, U]   110\n",
       "2         [U, a, b, f, e, U]    90\n",
       "3      [U, a, b, f, d, c, U]   132\n",
       "4      [U, a, b, f, d, e, U]   118\n",
       "5         [U, a, b, f, d, U]   106\n",
       "6   [U, a, c, d, e, f, b, U]   136\n",
       "7         [U, a, c, d, e, U]    92\n",
       "8      [U, a, c, d, f, b, U]   132\n",
       "9      [U, a, c, d, f, e, U]   112\n",
       "10           [U, a, c, d, U]    80\n",
       "11     [U, b, a, c, d, e, U]   114\n",
       "12  [U, b, a, c, d, f, e, U]   134\n",
       "13        [U, b, a, c, d, U]   102\n",
       "14           [U, b, a, c, U]    68\n",
       "15  [U, b, f, e, d, c, a, U]   136\n",
       "16     [U, b, f, e, d, c, U]   118\n",
       "17        [U, b, f, e, d, U]    92\n",
       "18           [U, b, f, e, U]    72\n",
       "19     [U, b, f, d, c, a, U]   132\n",
       "20        [U, b, f, d, c, U]   114\n",
       "21        [U, b, f, d, e, U]   100\n",
       "22           [U, b, f, d, U]    88\n",
       "23  [U, c, a, b, f, e, d, U]   124\n",
       "24     [U, c, a, b, f, e, U]   104\n",
       "25  [U, c, a, b, f, d, e, U]   132\n",
       "26     [U, c, a, b, f, d, U]   120\n",
       "27           [U, c, a, b, U]    68\n",
       "28  [U, c, d, e, f, b, a, U]   136\n",
       "29     [U, c, d, e, f, b, U]   118\n",
       "30           [U, c, d, e, U]    74\n",
       "31     [U, c, d, f, b, a, U]   132\n",
       "32        [U, c, d, f, b, U]   114\n",
       "33        [U, c, d, f, e, U]    94\n",
       "34  [U, d, c, a, b, f, e, U]   138\n",
       "35        [U, d, c, a, b, U]   102\n",
       "36           [U, d, c, a, U]    80\n",
       "37  [U, d, e, f, b, a, c, U]   124\n",
       "38     [U, d, e, f, b, a, U]   110\n",
       "39        [U, d, e, f, b, U]    92\n",
       "40     [U, d, f, b, a, c, U]   120\n",
       "41        [U, d, f, b, a, U]   106\n",
       "42           [U, d, f, b, U]    88\n",
       "43           [U, d, f, e, U]    68\n",
       "44     [U, e, d, c, a, b, U]   114\n",
       "45        [U, e, d, c, a, U]    92\n",
       "46           [U, e, d, c, U]    74\n",
       "47  [U, e, d, f, b, a, c, U]   132\n",
       "48     [U, e, d, f, b, a, U]   118\n",
       "49        [U, e, d, f, b, U]   100\n",
       "50  [U, e, f, b, a, c, d, U]   138\n",
       "51     [U, e, f, b, a, c, U]   104\n",
       "52        [U, e, f, b, a, U]    90\n",
       "53           [U, e, f, b, U]    72\n",
       "54  [U, e, f, d, c, a, b, U]   134\n",
       "55     [U, e, f, d, c, a, U]   112\n",
       "56        [U, e, f, d, c, U]    94\n",
       "57           [U, e, f, d, U]    68"
      ]
     },
     "execution_count": 113,
     "metadata": {},
     "output_type": "execute_result"
    }
   ],
   "source": [
    "route_df"
   ]
  },
  {
   "cell_type": "code",
   "execution_count": 114,
   "metadata": {},
   "outputs": [],
   "source": [
    "cost = route_df['Cost'].values"
   ]
  },
  {
   "cell_type": "code",
   "execution_count": 115,
   "metadata": {},
   "outputs": [
    {
     "data": {
      "text/plain": [
       "array([136, 110,  90, 132, 118, 106, 136,  92, 132, 112,  80, 114, 134,\n",
       "       102,  68, 136, 118,  92,  72, 132, 114, 100,  88, 124, 104, 132,\n",
       "       120,  68, 136, 118,  74, 132, 114,  94, 138, 102,  80, 124, 110,\n",
       "        92, 120, 106,  88,  68, 114,  92,  74, 132, 118, 100, 138, 104,\n",
       "        90,  72, 134, 112,  94,  68], dtype=int64)"
      ]
     },
     "execution_count": 115,
     "metadata": {},
     "output_type": "execute_result"
    }
   ],
   "source": [
    "cost"
   ]
  },
  {
   "cell_type": "code",
   "execution_count": 116,
   "metadata": {},
   "outputs": [],
   "source": [
    "x = model.addVars(58, lb=0, vtype=GRB.BINARY, name=\"Routes\")\n",
    "y = model.addVars(58, 58, lb=0, vtype=GRB.BINARY, name=\"Routes Having Glendon\")\n",
    "z = model.addVars(6, lb=0, vtype=GRB.BINARY, name=\"Visit 3 Stops\")"
   ]
  },
  {
   "cell_type": "code",
   "execution_count": 117,
   "metadata": {},
   "outputs": [],
   "source": [
    "cost_objective_function = gb.quicksum(cost[i]*x[i] for i in range(58))\n",
    "same_stop_objective_function = gb.quicksum(350*y[i,j] for i in range(58) for j in range(58))\n",
    "student_objective_function = gb.quicksum(50*z[i] for i in range(6))\n",
    "model.setObjective(cost_objective_function + same_stop_objective_function - student_objective_function, GRB.MINIMIZE)"
   ]
  },
  {
   "cell_type": "markdown",
   "metadata": {},
   "source": [
    "# Second Constraint Coding"
   ]
  },
  {
   "cell_type": "code",
   "execution_count": 118,
   "metadata": {},
   "outputs": [
    {
     "data": {
      "text/plain": [
       "array(['[U, a, b, f, e, d, c, U]', '[U, a, b, f, e, d, U]',\n",
       "       '[U, a, b, f, e, U]', '[U, a, b, f, d, c, U]',\n",
       "       '[U, a, b, f, d, e, U]', '[U, a, b, f, d, U]',\n",
       "       '[U, a, c, d, e, f, b, U]', '[U, a, c, d, e, U]',\n",
       "       '[U, a, c, d, f, b, U]', '[U, a, c, d, f, e, U]',\n",
       "       '[U, a, c, d, U]', '[U, b, a, c, d, e, U]',\n",
       "       '[U, b, a, c, d, f, e, U]', '[U, b, a, c, d, U]',\n",
       "       '[U, b, a, c, U]', '[U, b, f, e, d, c, a, U]',\n",
       "       '[U, b, f, e, d, c, U]', '[U, b, f, e, d, U]', '[U, b, f, e, U]',\n",
       "       '[U, b, f, d, c, a, U]', '[U, b, f, d, c, U]',\n",
       "       '[U, b, f, d, e, U]', '[U, b, f, d, U]',\n",
       "       '[U, c, a, b, f, e, d, U]', '[U, c, a, b, f, e, U]',\n",
       "       '[U, c, a, b, f, d, e, U]', '[U, c, a, b, f, d, U]',\n",
       "       '[U, c, a, b, U]', '[U, c, d, e, f, b, a, U]',\n",
       "       '[U, c, d, e, f, b, U]', '[U, c, d, e, U]',\n",
       "       '[U, c, d, f, b, a, U]', '[U, c, d, f, b, U]',\n",
       "       '[U, c, d, f, e, U]', '[U, d, c, a, b, f, e, U]',\n",
       "       '[U, d, c, a, b, U]', '[U, d, c, a, U]',\n",
       "       '[U, d, e, f, b, a, c, U]', '[U, d, e, f, b, a, U]',\n",
       "       '[U, d, e, f, b, U]', '[U, d, f, b, a, c, U]',\n",
       "       '[U, d, f, b, a, U]', '[U, d, f, b, U]', '[U, d, f, e, U]',\n",
       "       '[U, e, d, c, a, b, U]', '[U, e, d, c, a, U]', '[U, e, d, c, U]',\n",
       "       '[U, e, d, f, b, a, c, U]', '[U, e, d, f, b, a, U]',\n",
       "       '[U, e, d, f, b, U]', '[U, e, f, b, a, c, d, U]',\n",
       "       '[U, e, f, b, a, c, U]', '[U, e, f, b, a, U]', '[U, e, f, b, U]',\n",
       "       '[U, e, f, d, c, a, b, U]', '[U, e, f, d, c, a, U]',\n",
       "       '[U, e, f, d, c, U]', '[U, e, f, d, U]'], dtype=object)"
      ]
     },
     "execution_count": 118,
     "metadata": {},
     "output_type": "execute_result"
    }
   ],
   "source": [
    "individual_routes = route_df['Routes'].values\n",
    "individual_routes"
   ]
  },
  {
   "cell_type": "code",
   "execution_count": 119,
   "metadata": {},
   "outputs": [
    {
     "data": {
      "text/plain": [
       "[1,\n",
       " 1,\n",
       " 1,\n",
       " 1,\n",
       " 1,\n",
       " 1,\n",
       " 1,\n",
       " 1,\n",
       " 1,\n",
       " 1,\n",
       " 1,\n",
       " 1,\n",
       " 1,\n",
       " 1,\n",
       " 1,\n",
       " 1,\n",
       " 0,\n",
       " 0,\n",
       " 0,\n",
       " 1,\n",
       " 0,\n",
       " 0,\n",
       " 0,\n",
       " 1,\n",
       " 1,\n",
       " 1,\n",
       " 1,\n",
       " 1,\n",
       " 1,\n",
       " 0,\n",
       " 0,\n",
       " 1,\n",
       " 0,\n",
       " 0,\n",
       " 1,\n",
       " 1,\n",
       " 1,\n",
       " 1,\n",
       " 1,\n",
       " 0,\n",
       " 1,\n",
       " 1,\n",
       " 0,\n",
       " 0,\n",
       " 1,\n",
       " 1,\n",
       " 0,\n",
       " 1,\n",
       " 1,\n",
       " 0,\n",
       " 1,\n",
       " 1,\n",
       " 1,\n",
       " 0,\n",
       " 1,\n",
       " 1,\n",
       " 0,\n",
       " 0]"
      ]
     },
     "execution_count": 119,
     "metadata": {},
     "output_type": "execute_result"
    }
   ],
   "source": [
    "a_indices = []\n",
    "\n",
    "for a in individual_routes:\n",
    "    if 'a' in a:\n",
    "        a_indices.append(1)\n",
    "    else:\n",
    "        a_indices.append(0)\n",
    "\n",
    "a_indices"
   ]
  },
  {
   "cell_type": "code",
   "execution_count": 120,
   "metadata": {},
   "outputs": [
    {
     "data": {
      "text/plain": [
       "<gurobi.Constr *Awaiting Model Update*>"
      ]
     },
     "execution_count": 120,
     "metadata": {},
     "output_type": "execute_result"
    }
   ],
   "source": [
    "model.addConstr(gb.quicksum(a_indices[i]*x[i] for i in range (58)) >= 1 + 2*z[0], \"Visit stop A 3 times\")"
   ]
  },
  {
   "cell_type": "code",
   "execution_count": 121,
   "metadata": {},
   "outputs": [
    {
     "data": {
      "text/plain": [
       "[1,\n",
       " 1,\n",
       " 1,\n",
       " 1,\n",
       " 1,\n",
       " 1,\n",
       " 1,\n",
       " 0,\n",
       " 1,\n",
       " 0,\n",
       " 0,\n",
       " 1,\n",
       " 1,\n",
       " 1,\n",
       " 1,\n",
       " 1,\n",
       " 1,\n",
       " 1,\n",
       " 1,\n",
       " 1,\n",
       " 1,\n",
       " 1,\n",
       " 1,\n",
       " 1,\n",
       " 1,\n",
       " 1,\n",
       " 1,\n",
       " 1,\n",
       " 1,\n",
       " 1,\n",
       " 0,\n",
       " 1,\n",
       " 1,\n",
       " 0,\n",
       " 1,\n",
       " 1,\n",
       " 0,\n",
       " 1,\n",
       " 1,\n",
       " 1,\n",
       " 1,\n",
       " 1,\n",
       " 1,\n",
       " 0,\n",
       " 1,\n",
       " 0,\n",
       " 0,\n",
       " 1,\n",
       " 1,\n",
       " 1,\n",
       " 1,\n",
       " 1,\n",
       " 1,\n",
       " 1,\n",
       " 1,\n",
       " 0,\n",
       " 0,\n",
       " 0]"
      ]
     },
     "execution_count": 121,
     "metadata": {},
     "output_type": "execute_result"
    }
   ],
   "source": [
    "b_indices = []\n",
    "\n",
    "for b in individual_routes:\n",
    "    if 'b' in b:\n",
    "        b_indices.append(1)\n",
    "    else:\n",
    "        b_indices.append(0)\n",
    "\n",
    "b_indices"
   ]
  },
  {
   "cell_type": "code",
   "execution_count": 122,
   "metadata": {},
   "outputs": [
    {
     "data": {
      "text/plain": [
       "<gurobi.Constr *Awaiting Model Update*>"
      ]
     },
     "execution_count": 122,
     "metadata": {},
     "output_type": "execute_result"
    }
   ],
   "source": [
    "model.addConstr(gb.quicksum(b_indices[i]*x[i] for i in range (58)) >= 1 + 2*z[1], \"Visit stop B 3 times\")"
   ]
  },
  {
   "cell_type": "code",
   "execution_count": 123,
   "metadata": {},
   "outputs": [
    {
     "data": {
      "text/plain": [
       "<gurobi.Constr *Awaiting Model Update*>"
      ]
     },
     "execution_count": 123,
     "metadata": {},
     "output_type": "execute_result"
    }
   ],
   "source": [
    "c_indices = []\n",
    "\n",
    "for c in individual_routes:\n",
    "    if 'c' in c:\n",
    "        c_indices.append(1)\n",
    "    else:\n",
    "        c_indices.append(0)\n",
    "\n",
    "model.addConstr(gb.quicksum(c_indices[i]*x[i] for i in range (58)) >= 1 + 2*z[2], \"Visit stop C 3 times\")"
   ]
  },
  {
   "cell_type": "code",
   "execution_count": 124,
   "metadata": {},
   "outputs": [
    {
     "data": {
      "text/plain": [
       "<gurobi.Constr *Awaiting Model Update*>"
      ]
     },
     "execution_count": 124,
     "metadata": {},
     "output_type": "execute_result"
    }
   ],
   "source": [
    "d_indices = []\n",
    "\n",
    "for d in individual_routes:\n",
    "    if 'd' in d:\n",
    "        d_indices.append(1)\n",
    "    else:\n",
    "        d_indices.append(0)\n",
    "\n",
    "model.addConstr(gb.quicksum(d_indices[i]*x[i] for i in range (58)) >= 1 + 2*z[3], \"Visit stop D 3 times\")"
   ]
  },
  {
   "cell_type": "code",
   "execution_count": 125,
   "metadata": {},
   "outputs": [
    {
     "data": {
      "text/plain": [
       "<gurobi.Constr *Awaiting Model Update*>"
      ]
     },
     "execution_count": 125,
     "metadata": {},
     "output_type": "execute_result"
    }
   ],
   "source": [
    "e_indices = []\n",
    "\n",
    "for e in individual_routes:\n",
    "    if 'e' in e:\n",
    "        e_indices.append(1)\n",
    "    else:\n",
    "        e_indices.append(0)\n",
    "\n",
    "model.addConstr(gb.quicksum(e_indices[i]*x[i] for i in range (58)) >= 1 + 2*z[4], \"Visit stop E 3 times\")"
   ]
  },
  {
   "cell_type": "code",
   "execution_count": 126,
   "metadata": {},
   "outputs": [
    {
     "data": {
      "text/plain": [
       "<gurobi.Constr *Awaiting Model Update*>"
      ]
     },
     "execution_count": 126,
     "metadata": {},
     "output_type": "execute_result"
    }
   ],
   "source": [
    "f_indices = []\n",
    "\n",
    "for f in individual_routes:\n",
    "    if 'f' in f:\n",
    "        f_indices.append(1)\n",
    "    else:\n",
    "        f_indices.append(0)\n",
    "\n",
    "model.addConstr(gb.quicksum(f_indices[i]*x[i] for i in range (58)) >= 1 + 2*z[5], \"Visit stop F 3 times\")"
   ]
  },
  {
   "cell_type": "markdown",
   "metadata": {},
   "source": [
    "# Second Constraint Coding"
   ]
  },
  {
   "cell_type": "code",
   "execution_count": 127,
   "metadata": {},
   "outputs": [],
   "source": [
    "for i in range(58):\n",
    "    for j in range(58):\n",
    "        if i > j:\n",
    "            model.addConstr(a_indices[i] * y[i, j] <= a_indices[i] * x[i], f\"constraint_y_x_{i}_{j}\")"
   ]
  },
  {
   "cell_type": "code",
   "execution_count": 128,
   "metadata": {},
   "outputs": [],
   "source": [
    "for j in range(58):\n",
    "    for i in range(58):\n",
    "        if i > j:\n",
    "            model.addConstr(a_indices[j] * y[i, j] <= a_indices[j] * x[j], f\"constraint_y_x_{i}_{j}\")"
   ]
  },
  {
   "cell_type": "code",
   "execution_count": 129,
   "metadata": {},
   "outputs": [],
   "source": [
    "for i in range(58):\n",
    "    for j in range(58):\n",
    "        if i > j:\n",
    "            model.addConstr(a_indices[i] * y[i, j] <= a_indices[i] * (x[i] + x[j] - 1), f\"constraint_y_x_{i}_{j}\")"
   ]
  },
  {
   "cell_type": "code",
   "execution_count": 130,
   "metadata": {},
   "outputs": [],
   "source": [
    "for i in range(58):\n",
    "    for j in range(58):\n",
    "        if i <= j:\n",
    "            model.addConstr(a_indices[i] * y[i, j] == 0, f\"constraint_y_x_{i}_{j}\")"
   ]
  },
  {
   "cell_type": "code",
   "execution_count": 131,
   "metadata": {},
   "outputs": [
    {
     "name": "stdout",
     "output_type": "stream",
     "text": [
      "Gurobi Optimizer version 11.0.0 build v11.0.0rc2 (win64 - Windows 11+.0 (22631.2))\n",
      "\n",
      "CPU model: Intel(R) Core(TM) i7-8750H CPU @ 2.20GHz, instruction set [SSE2|AVX|AVX2]\n",
      "Thread count: 6 physical cores, 12 logical processors, using up to 12 threads\n",
      "\n",
      "Optimize a model with 6676 rows, 3428 columns and 9208 nonzeros\n",
      "Model fingerprint: 0xc84c7b6b\n",
      "Variable types: 0 continuous, 3428 integer (3428 binary)\n",
      "Coefficient statistics:\n",
      "  Matrix range     [1e+00, 2e+00]\n",
      "  Objective range  [5e+01, 4e+02]\n",
      "  Bounds range     [1e+00, 1e+00]\n",
      "  RHS range        [1e+00, 1e+00]\n",
      "Found heuristic solution: objective 4124.0000000\n",
      "Presolve removed 6676 rows and 3428 columns\n",
      "Presolve time: 0.00s\n",
      "Presolve: All rows and columns removed\n",
      "\n",
      "Explored 0 nodes (0 simplex iterations) in 0.01 seconds (0.00 work units)\n",
      "Thread count was 1 (of 12 available processors)\n",
      "\n",
      "Solution count 1: 4124 \n",
      "\n",
      "Optimal solution found (tolerance 1.00e-04)\n",
      "Best objective 4.124000000000e+03, best bound 4.124000000000e+03, gap 0.0000%\n"
     ]
    }
   ],
   "source": [
    "model.optimize()"
   ]
  },
  {
   "cell_type": "code",
   "execution_count": 132,
   "metadata": {},
   "outputs": [
    {
     "name": "stdout",
     "output_type": "stream",
     "text": [
      "\n",
      "    Variable            X \n",
      "-------------------------\n",
      "   Routes[1]            1 \n",
      "   Routes[2]            1 \n",
      "   Routes[3]            1 \n",
      "   Routes[4]            1 \n",
      "   Routes[5]            1 \n",
      "   Routes[6]            1 \n",
      "   Routes[7]            1 \n",
      "   Routes[8]            1 \n",
      "   Routes[9]            1 \n",
      "  Routes[10]            1 \n",
      "  Routes[11]            1 \n",
      "  Routes[12]            1 \n",
      "  Routes[13]            1 \n",
      "  Routes[14]            1 \n",
      "  Routes[15]            1 \n",
      "  Routes[19]            1 \n",
      "  Routes[23]            1 \n",
      "  Routes[24]            1 \n",
      "  Routes[25]            1 \n",
      "  Routes[26]            1 \n",
      "  Routes[27]            1 \n",
      "  Routes[28]            1 \n",
      "  Routes[31]            1 \n",
      "  Routes[34]            1 \n",
      "  Routes[35]            1 \n",
      "  Routes[36]            1 \n",
      "  Routes[37]            1 \n",
      "  Routes[38]            1 \n",
      "  Routes[40]            1 \n",
      "  Routes[41]            1 \n",
      "  Routes[44]            1 \n",
      "  Routes[45]            1 \n",
      "  Routes[47]            1 \n",
      "  Routes[48]            1 \n",
      "  Routes[50]            1 \n",
      "  Routes[51]            1 \n",
      "  Routes[52]            1 \n",
      "  Routes[54]            1 \n",
      "  Routes[55]            1 \n",
      "Visit 3 Stops[0]            1 \n",
      "Visit 3 Stops[1]            1 \n",
      "Visit 3 Stops[2]            1 \n",
      "Visit 3 Stops[3]            1 \n",
      "Visit 3 Stops[4]            1 \n",
      "Visit 3 Stops[5]            1 \n",
      "None\n"
     ]
    }
   ],
   "source": [
    "# Print the decision variables\n",
    "print(model.printAttr('X'))"
   ]
  },
  {
   "cell_type": "code",
   "execution_count": 133,
   "metadata": {},
   "outputs": [
    {
     "name": "stdout",
     "output_type": "stream",
     "text": [
      "Cost of the Routes:  4124.0\n"
     ]
    }
   ],
   "source": [
    "# Value of the objective function\n",
    "print(\"Cost of the Routes: \", round(model.objVal, 2))"
   ]
  },
  {
   "cell_type": "code",
   "execution_count": null,
   "metadata": {},
   "outputs": [],
   "source": []
  }
 ],
 "metadata": {
  "kernelspec": {
   "display_name": "Python 3",
   "language": "python",
   "name": "python3"
  },
  "language_info": {
   "codemirror_mode": {
    "name": "ipython",
    "version": 3
   },
   "file_extension": ".py",
   "mimetype": "text/x-python",
   "name": "python",
   "nbconvert_exporter": "python",
   "pygments_lexer": "ipython3",
   "version": "3.11.3"
  }
 },
 "nbformat": 4,
 "nbformat_minor": 2
}
